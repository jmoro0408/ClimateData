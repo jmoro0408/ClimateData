{
 "cells": [
  {
   "cell_type": "code",
   "execution_count": 78,
   "metadata": {},
   "outputs": [],
   "source": [
    "import pandas as pd\n",
    "from pathlib import Path"
   ]
  },
  {
   "cell_type": "code",
   "execution_count": 2,
   "metadata": {},
   "outputs": [],
   "source": [
    "ROOT_DIR = r\"/Users/jamesmoro/Documents/Python/ClimateData/data/interim/\"\n",
    "DF_NAMES = (\n",
    "    \"CH4_df\",\n",
    "    \"CO2_df\",\n",
    "    \"HFC_df\",\n",
    "    \"NF3_df\",\n",
    "    \"PFC_df\",\n",
    "    \"SF6_df\",\n",
    "    \"N20_df\",\n",
    ")\n",
    "\n",
    "CH4_df = pd.read_pickle(ROOT_DIR + DF_NAMES[0] + \".pkl\")\n",
    "CO2_df = pd.read_pickle(ROOT_DIR + DF_NAMES[1] + \".pkl\")\n",
    "HFC_df = pd.read_pickle(ROOT_DIR + DF_NAMES[2] + \".pkl\")\n",
    "NF3_df = pd.read_pickle(ROOT_DIR + DF_NAMES[3] + \".pkl\")\n",
    "PFC_df = pd.read_pickle(ROOT_DIR + DF_NAMES[4] + \".pkl\")\n",
    "SF6_df = pd.read_pickle(ROOT_DIR + DF_NAMES[5] + \".pkl\")\n",
    "N20_df = pd.read_pickle(ROOT_DIR + DF_NAMES[6] + \".pkl\")"
   ]
  },
  {
   "cell_type": "code",
   "execution_count": 12,
   "metadata": {},
   "outputs": [],
   "source": [
    "list_of_dfs = [CH4_df,\n",
    "CO2_df,\n",
    "HFC_df,\n",
    "NF3_df,\n",
    "PFC_df,\n",
    "SF6_df,\n",
    "N20_df]"
   ]
  },
  {
   "cell_type": "code",
   "execution_count": 39,
   "metadata": {},
   "outputs": [
    {
     "data": {
      "text/plain": [
       "'CH4'"
      ]
     },
     "execution_count": 39,
     "metadata": {},
     "output_type": "execute_result"
    }
   ],
   "source": [
    "DF_NAMES[0][:3]"
   ]
  },
  {
   "cell_type": "code",
   "execution_count": 32,
   "metadata": {},
   "outputs": [],
   "source": [
    "test_df = pd.merge(N20_df, CO2_df, on = \"Country or Area\")"
   ]
  },
  {
   "cell_type": "code",
   "execution_count": 34,
   "metadata": {},
   "outputs": [
    {
     "data": {
      "text/html": [
       "<div>\n",
       "<style scoped>\n",
       "    .dataframe tbody tr th:only-of-type {\n",
       "        vertical-align: middle;\n",
       "    }\n",
       "\n",
       "    .dataframe tbody tr th {\n",
       "        vertical-align: top;\n",
       "    }\n",
       "\n",
       "    .dataframe thead th {\n",
       "        text-align: right;\n",
       "    }\n",
       "</style>\n",
       "<table border=\"1\" class=\"dataframe\">\n",
       "  <thead>\n",
       "    <tr style=\"text-align: right;\">\n",
       "      <th></th>\n",
       "      <th>Country or Area</th>\n",
       "      <th>Year</th>\n",
       "      <th>Value</th>\n",
       "    </tr>\n",
       "  </thead>\n",
       "  <tbody>\n",
       "    <tr>\n",
       "      <th>0</th>\n",
       "      <td>Australia</td>\n",
       "      <td>2018</td>\n",
       "      <td>415953.95</td>\n",
       "    </tr>\n",
       "    <tr>\n",
       "      <th>1</th>\n",
       "      <td>Australia</td>\n",
       "      <td>2017</td>\n",
       "      <td>415097.43</td>\n",
       "    </tr>\n",
       "    <tr>\n",
       "      <th>2</th>\n",
       "      <td>Australia</td>\n",
       "      <td>2016</td>\n",
       "      <td>411031.53</td>\n",
       "    </tr>\n",
       "    <tr>\n",
       "      <th>3</th>\n",
       "      <td>Australia</td>\n",
       "      <td>2015</td>\n",
       "      <td>401554.76</td>\n",
       "    </tr>\n",
       "    <tr>\n",
       "      <th>4</th>\n",
       "      <td>Australia</td>\n",
       "      <td>2014</td>\n",
       "      <td>394116.89</td>\n",
       "    </tr>\n",
       "  </tbody>\n",
       "</table>\n",
       "</div>"
      ],
      "text/plain": [
       "  Country or Area  Year      Value\n",
       "0       Australia  2018  415953.95\n",
       "1       Australia  2017  415097.43\n",
       "2       Australia  2016  411031.53\n",
       "3       Australia  2015  401554.76\n",
       "4       Australia  2014  394116.89"
      ]
     },
     "execution_count": 34,
     "metadata": {},
     "output_type": "execute_result"
    }
   ],
   "source": [
    "CO2_df.head()"
   ]
  },
  {
   "cell_type": "code",
   "execution_count": 36,
   "metadata": {},
   "outputs": [],
   "source": [
    "CO2_df.rename({\"Country or Area\":\"Country\", \"Year\":\"Year\", \"Value\":\"CO2 Emissions\"}, axis = 1, inplace = True)"
   ]
  },
  {
   "cell_type": "code",
   "execution_count": 40,
   "metadata": {},
   "outputs": [],
   "source": [
    "for df, name in zip(list_of_dfs, DF_NAMES):\n",
    "    df.rename({\"Country or Area\":\"Country\", \"Year\":\"Year\", \"Value\":f\"{name[:3]} Emissions\"}, axis = 1, inplace = True)"
   ]
  },
  {
   "cell_type": "code",
   "execution_count": 76,
   "metadata": {},
   "outputs": [],
   "source": [
    "combined_df = pd.merge(CO2_df, NF3_df, how=\"outer\")\n",
    "combined_df = pd.merge(combined_df, CH4_df, how=\"outer\")\n",
    "combined_df = pd.merge(combined_df, HFC_df, how=\"outer\")\n",
    "combined_df = pd.merge(combined_df, PFC_df, how=\"outer\")\n",
    "combined_df = pd.merge(combined_df, SF6_df, how=\"outer\")\n",
    "combined_df = pd.merge(combined_df, N20_df, how=\"outer\")\n"
   ]
  },
  {
   "cell_type": "code",
   "execution_count": 77,
   "metadata": {},
   "outputs": [
    {
     "data": {
      "text/html": [
       "<div>\n",
       "<style scoped>\n",
       "    .dataframe tbody tr th:only-of-type {\n",
       "        vertical-align: middle;\n",
       "    }\n",
       "\n",
       "    .dataframe tbody tr th {\n",
       "        vertical-align: top;\n",
       "    }\n",
       "\n",
       "    .dataframe thead th {\n",
       "        text-align: right;\n",
       "    }\n",
       "</style>\n",
       "<table border=\"1\" class=\"dataframe\">\n",
       "  <thead>\n",
       "    <tr style=\"text-align: right;\">\n",
       "      <th></th>\n",
       "      <th>Country</th>\n",
       "      <th>Year</th>\n",
       "      <th>CO2 Emissions</th>\n",
       "      <th>NF3 Emissions</th>\n",
       "      <th>CH4 Emissions</th>\n",
       "      <th>HFC Emissions</th>\n",
       "      <th>PFC Emissions</th>\n",
       "      <th>SF6 Emissions</th>\n",
       "      <th>N20 Emissions</th>\n",
       "    </tr>\n",
       "  </thead>\n",
       "  <tbody>\n",
       "    <tr>\n",
       "      <th>0</th>\n",
       "      <td>Australia</td>\n",
       "      <td>2018</td>\n",
       "      <td>415953.95</td>\n",
       "      <td>NaN</td>\n",
       "      <td>109532.21</td>\n",
       "      <td>11982.08</td>\n",
       "      <td>236.00</td>\n",
       "      <td>228.53</td>\n",
       "      <td>20114.44</td>\n",
       "    </tr>\n",
       "    <tr>\n",
       "      <th>1</th>\n",
       "      <td>Australia</td>\n",
       "      <td>2017</td>\n",
       "      <td>415097.43</td>\n",
       "      <td>NaN</td>\n",
       "      <td>108170.70</td>\n",
       "      <td>11685.94</td>\n",
       "      <td>202.63</td>\n",
       "      <td>189.99</td>\n",
       "      <td>21265.59</td>\n",
       "    </tr>\n",
       "    <tr>\n",
       "      <th>2</th>\n",
       "      <td>Australia</td>\n",
       "      <td>2016</td>\n",
       "      <td>411031.53</td>\n",
       "      <td>NaN</td>\n",
       "      <td>105873.93</td>\n",
       "      <td>11979.46</td>\n",
       "      <td>224.92</td>\n",
       "      <td>186.31</td>\n",
       "      <td>19566.39</td>\n",
       "    </tr>\n",
       "    <tr>\n",
       "      <th>3</th>\n",
       "      <td>Australia</td>\n",
       "      <td>2015</td>\n",
       "      <td>401554.76</td>\n",
       "      <td>NaN</td>\n",
       "      <td>105368.80</td>\n",
       "      <td>11795.32</td>\n",
       "      <td>171.32</td>\n",
       "      <td>170.94</td>\n",
       "      <td>19557.63</td>\n",
       "    </tr>\n",
       "    <tr>\n",
       "      <th>4</th>\n",
       "      <td>Australia</td>\n",
       "      <td>2014</td>\n",
       "      <td>394116.89</td>\n",
       "      <td>NaN</td>\n",
       "      <td>105070.91</td>\n",
       "      <td>10778.85</td>\n",
       "      <td>192.54</td>\n",
       "      <td>155.17</td>\n",
       "      <td>20096.66</td>\n",
       "    </tr>\n",
       "  </tbody>\n",
       "</table>\n",
       "</div>"
      ],
      "text/plain": [
       "     Country  Year  CO2 Emissions  NF3 Emissions  CH4 Emissions  \\\n",
       "0  Australia  2018      415953.95            NaN      109532.21   \n",
       "1  Australia  2017      415097.43            NaN      108170.70   \n",
       "2  Australia  2016      411031.53            NaN      105873.93   \n",
       "3  Australia  2015      401554.76            NaN      105368.80   \n",
       "4  Australia  2014      394116.89            NaN      105070.91   \n",
       "\n",
       "   HFC Emissions  PFC Emissions  SF6 Emissions  N20 Emissions  \n",
       "0       11982.08         236.00         228.53       20114.44  \n",
       "1       11685.94         202.63         189.99       21265.59  \n",
       "2       11979.46         224.92         186.31       19566.39  \n",
       "3       11795.32         171.32         170.94       19557.63  \n",
       "4       10778.85         192.54         155.17       20096.66  "
      ]
     },
     "execution_count": 77,
     "metadata": {},
     "output_type": "execute_result"
    }
   ],
   "source": [
    "combined_df.head()"
   ]
  },
  {
   "cell_type": "code",
   "execution_count": 79,
   "metadata": {},
   "outputs": [],
   "source": [
    "SAVE_DIR = r\"/Users/jamesmoro/Documents/Python/ClimateData/data/interim\"\n",
    "file_path = Path(SAVE_DIR, \"Combined_ghg_dataframe.pkl\")\n",
    "\n",
    "pd.to_pickle(combined_df, file_path)"
   ]
  },
  {
   "cell_type": "code",
   "execution_count": 80,
   "metadata": {},
   "outputs": [
    {
     "data": {
      "text/html": [
       "<div>\n",
       "<style scoped>\n",
       "    .dataframe tbody tr th:only-of-type {\n",
       "        vertical-align: middle;\n",
       "    }\n",
       "\n",
       "    .dataframe tbody tr th {\n",
       "        vertical-align: top;\n",
       "    }\n",
       "\n",
       "    .dataframe thead th {\n",
       "        text-align: right;\n",
       "    }\n",
       "</style>\n",
       "<table border=\"1\" class=\"dataframe\">\n",
       "  <thead>\n",
       "    <tr style=\"text-align: right;\">\n",
       "      <th></th>\n",
       "      <th>Country</th>\n",
       "      <th>Year</th>\n",
       "      <th>CO2 Emissions</th>\n",
       "      <th>NF3 Emissions</th>\n",
       "      <th>CH4 Emissions</th>\n",
       "      <th>HFC Emissions</th>\n",
       "      <th>PFC Emissions</th>\n",
       "      <th>SF6 Emissions</th>\n",
       "      <th>N20 Emissions</th>\n",
       "    </tr>\n",
       "  </thead>\n",
       "  <tbody>\n",
       "    <tr>\n",
       "      <th>0</th>\n",
       "      <td>Australia</td>\n",
       "      <td>2018</td>\n",
       "      <td>415953.95</td>\n",
       "      <td>NaN</td>\n",
       "      <td>109532.21</td>\n",
       "      <td>11982.08</td>\n",
       "      <td>236.00</td>\n",
       "      <td>228.53</td>\n",
       "      <td>20114.44</td>\n",
       "    </tr>\n",
       "    <tr>\n",
       "      <th>29</th>\n",
       "      <td>Austria</td>\n",
       "      <td>2018</td>\n",
       "      <td>66719.68</td>\n",
       "      <td>16.51</td>\n",
       "      <td>6438.63</td>\n",
       "      <td>1834.76</td>\n",
       "      <td>32.52</td>\n",
       "      <td>382.15</td>\n",
       "      <td>3526.08</td>\n",
       "    </tr>\n",
       "    <tr>\n",
       "      <th>58</th>\n",
       "      <td>Belarus</td>\n",
       "      <td>2018</td>\n",
       "      <td>61871.68</td>\n",
       "      <td>NaN</td>\n",
       "      <td>16097.62</td>\n",
       "      <td>NaN</td>\n",
       "      <td>NaN</td>\n",
       "      <td>3.46</td>\n",
       "      <td>14019.84</td>\n",
       "    </tr>\n",
       "    <tr>\n",
       "      <th>87</th>\n",
       "      <td>Belgium</td>\n",
       "      <td>2018</td>\n",
       "      <td>100207.84</td>\n",
       "      <td>0.65</td>\n",
       "      <td>7848.74</td>\n",
       "      <td>4469.84</td>\n",
       "      <td>131.32</td>\n",
       "      <td>95.08</td>\n",
       "      <td>5702.29</td>\n",
       "    </tr>\n",
       "    <tr>\n",
       "      <th>116</th>\n",
       "      <td>Bulgaria</td>\n",
       "      <td>2018</td>\n",
       "      <td>43551.60</td>\n",
       "      <td>NaN</td>\n",
       "      <td>6753.67</td>\n",
       "      <td>2252.53</td>\n",
       "      <td>0.01</td>\n",
       "      <td>17.99</td>\n",
       "      <td>5239.79</td>\n",
       "    </tr>\n",
       "  </tbody>\n",
       "</table>\n",
       "</div>"
      ],
      "text/plain": [
       "       Country  Year  CO2 Emissions  NF3 Emissions  CH4 Emissions  \\\n",
       "0    Australia  2018      415953.95            NaN      109532.21   \n",
       "29     Austria  2018       66719.68          16.51        6438.63   \n",
       "58     Belarus  2018       61871.68            NaN       16097.62   \n",
       "87     Belgium  2018      100207.84           0.65        7848.74   \n",
       "116   Bulgaria  2018       43551.60            NaN        6753.67   \n",
       "\n",
       "     HFC Emissions  PFC Emissions  SF6 Emissions  N20 Emissions  \n",
       "0         11982.08         236.00         228.53       20114.44  \n",
       "29         1834.76          32.52         382.15        3526.08  \n",
       "58             NaN            NaN           3.46       14019.84  \n",
       "87         4469.84         131.32          95.08        5702.29  \n",
       "116        2252.53           0.01          17.99        5239.79  "
      ]
     },
     "execution_count": 80,
     "metadata": {},
     "output_type": "execute_result"
    }
   ],
   "source": [
    "ghg_2018  = combined_df[combined_df[\"Year\"]==2018]\n",
    "ghg_2018.head()"
   ]
  },
  {
   "cell_type": "code",
   "execution_count": 81,
   "metadata": {},
   "outputs": [],
   "source": [
    "SAVE_DIR = r\"/Users/jamesmoro/Documents/Python/ClimateData/data/interim\"\n",
    "file_path = Path(SAVE_DIR, \"ghg_2018_dataframe.pkl\")\n",
    "\n",
    "pd.to_pickle(ghg_2018, file_path)"
   ]
  },
  {
   "cell_type": "code",
   "execution_count": null,
   "metadata": {},
   "outputs": [],
   "source": []
  }
 ],
 "metadata": {
  "interpreter": {
   "hash": "aee8b7b246df8f9039afb4144a1f6fd8d2ca17a180786b69acc140d282b71a49"
  },
  "kernelspec": {
   "display_name": "Python 3.9.7 64-bit",
   "language": "python",
   "name": "python3"
  },
  "language_info": {
   "codemirror_mode": {
    "name": "ipython",
    "version": 3
   },
   "file_extension": ".py",
   "mimetype": "text/x-python",
   "name": "python",
   "nbconvert_exporter": "python",
   "pygments_lexer": "ipython3",
   "version": "3.9.7"
  },
  "orig_nbformat": 4
 },
 "nbformat": 4,
 "nbformat_minor": 2
}
