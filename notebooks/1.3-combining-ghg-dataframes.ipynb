{
 "cells": [
  {
   "cell_type": "code",
   "execution_count": 1,
   "metadata": {},
   "outputs": [],
   "source": [
    "import pandas as pd\n",
    "from pathlib import Path\n",
    "import numpy as np"
   ]
  },
  {
   "cell_type": "code",
   "execution_count": 2,
   "metadata": {},
   "outputs": [],
   "source": [
    "ROOT_DIR = r\"/Users/jamesmoro/Documents/Python/ClimateData/data/interim/\"\n",
    "DF_NAMES = (\n",
    "    \"CH4_df\",\n",
    "    \"CO2_df\",\n",
    "    \"HFC_df\",\n",
    "    \"NF3_df\",\n",
    "    \"PFC_df\",\n",
    "    \"SF6_df\",\n",
    "    \"N20_df\",\n",
    ")\n",
    "\n",
    "CH4_df = pd.read_pickle(ROOT_DIR + DF_NAMES[0] + \".pkl\")\n",
    "CO2_df = pd.read_pickle(ROOT_DIR + DF_NAMES[1] + \".pkl\")\n",
    "HFC_df = pd.read_pickle(ROOT_DIR + DF_NAMES[2] + \".pkl\")\n",
    "NF3_df = pd.read_pickle(ROOT_DIR + DF_NAMES[3] + \".pkl\")\n",
    "PFC_df = pd.read_pickle(ROOT_DIR + DF_NAMES[4] + \".pkl\")\n",
    "SF6_df = pd.read_pickle(ROOT_DIR + DF_NAMES[5] + \".pkl\")\n",
    "N20_df = pd.read_pickle(ROOT_DIR + DF_NAMES[6] + \".pkl\")"
   ]
  },
  {
   "cell_type": "code",
   "execution_count": 3,
   "metadata": {},
   "outputs": [],
   "source": [
    "list_of_dfs = [CH4_df,\n",
    "CO2_df,\n",
    "HFC_df,\n",
    "NF3_df,\n",
    "PFC_df,\n",
    "SF6_df,\n",
    "N20_df]"
   ]
  },
  {
   "cell_type": "code",
   "execution_count": 4,
   "metadata": {},
   "outputs": [],
   "source": [
    "CO2_df.rename({\"Country or Area\":\"Country\", \"Year\":\"Year\", \"Value\":\"CO2 Emissions\"}, axis = 1, inplace = True)"
   ]
  },
  {
   "cell_type": "code",
   "execution_count": 5,
   "metadata": {},
   "outputs": [],
   "source": [
    "for df, name in zip(list_of_dfs, DF_NAMES):\n",
    "    df.rename({\"Country or Area\":\"Country\", \"Year\":\"Year\", \"Value\":f\"{name[:3]} Emissions\"}, axis = 1, inplace = True)"
   ]
  },
  {
   "cell_type": "code",
   "execution_count": 6,
   "metadata": {},
   "outputs": [],
   "source": [
    "combined_df = pd.merge(CO2_df, NF3_df, how=\"outer\")\n",
    "combined_df = pd.merge(combined_df, CH4_df, how=\"outer\")\n",
    "combined_df = pd.merge(combined_df, HFC_df, how=\"outer\")\n",
    "combined_df = pd.merge(combined_df, PFC_df, how=\"outer\")\n",
    "combined_df = pd.merge(combined_df, SF6_df, how=\"outer\")\n",
    "combined_df = pd.merge(combined_df, N20_df, how=\"outer\")\n"
   ]
  },
  {
   "cell_type": "markdown",
   "metadata": {},
   "source": [
    "# Adding a \"World\" country"
   ]
  },
  {
   "cell_type": "code",
   "execution_count": 7,
   "metadata": {},
   "outputs": [],
   "source": [
    "years = pd.Series(list(set(combined_df[\"Year\"])), dtype = \"int\")"
   ]
  },
  {
   "cell_type": "code",
   "execution_count": 8,
   "metadata": {},
   "outputs": [],
   "source": [
    "for year in years:\n",
    "    _CO2 = combined_df[combined_df[\"Year\"] == year][\"CO2 Emissions\"]\n",
    "    _NF3 = combined_df[combined_df[\"Year\"] == year][\"NF3 Emissions\"]\n",
    "    _CH4 = combined_df[combined_df[\"Year\"] == year][\"CH4 Emissions\"]\n",
    "    _HFC = combined_df[combined_df[\"Year\"] == year][\"HFC Emissions\"]\n",
    "    _PFC = combined_df[combined_df[\"Year\"] == year][\"PFC Emissions\"]\n",
    "    _SF6 = combined_df[combined_df[\"Year\"] == year][\"SF6 Emissions\"]\n",
    "    _N20 = combined_df[combined_df[\"Year\"] == year][\"N20 Emissions\"]\n",
    "    for row, column in combined_df.iteritems():\n",
    "        combined_dictionary = {\"Country\": \"World\", \"Year\": year, \n",
    "        \"CO2 Emissions\":np.nansum(_CO2),\n",
    "          \"NF3 Emissions\":np.nansum(_NF3),\n",
    "          \"CH4 Emissions\":np.nansum(_CH4),\n",
    "          \"HFC Emissions\":np.nansum(_HFC),\n",
    "          \"PFC Emissions\":np.nansum(_PFC),\n",
    "          \"SF6 Emissions\":np.nansum(_SF6),\n",
    "          \"N20 Emissions\":np.nansum(_N20),\n",
    "          }\n",
    "    combined_df = combined_df.append(combined_dictionary, ignore_index = True)\n",
    "\n",
    "del _CO2,_NF3,_CH4,_HFC,_PFC,_SF6,_N20,combined_dictionary\n",
    "\n"
   ]
  },
  {
   "cell_type": "code",
   "execution_count": 9,
   "metadata": {},
   "outputs": [],
   "source": [
    "combined_df[\"Total\"] = combined_df.iloc[:,2:].sum(axis=1)"
   ]
  },
  {
   "cell_type": "code",
   "execution_count": 10,
   "metadata": {},
   "outputs": [
    {
     "data": {
      "text/html": [
       "<div>\n",
       "<style scoped>\n",
       "    .dataframe tbody tr th:only-of-type {\n",
       "        vertical-align: middle;\n",
       "    }\n",
       "\n",
       "    .dataframe tbody tr th {\n",
       "        vertical-align: top;\n",
       "    }\n",
       "\n",
       "    .dataframe thead th {\n",
       "        text-align: right;\n",
       "    }\n",
       "</style>\n",
       "<table border=\"1\" class=\"dataframe\">\n",
       "  <thead>\n",
       "    <tr style=\"text-align: right;\">\n",
       "      <th></th>\n",
       "      <th>Country</th>\n",
       "      <th>Year</th>\n",
       "      <th>CO2 Emissions</th>\n",
       "      <th>NF3 Emissions</th>\n",
       "      <th>CH4 Emissions</th>\n",
       "      <th>HFC Emissions</th>\n",
       "      <th>PFC Emissions</th>\n",
       "      <th>SF6 Emissions</th>\n",
       "      <th>N20 Emissions</th>\n",
       "      <th>Total</th>\n",
       "    </tr>\n",
       "  </thead>\n",
       "  <tbody>\n",
       "    <tr>\n",
       "      <th>0</th>\n",
       "      <td>Australia</td>\n",
       "      <td>2018</td>\n",
       "      <td>415953.95</td>\n",
       "      <td>NaN</td>\n",
       "      <td>109532.21</td>\n",
       "      <td>11982.08</td>\n",
       "      <td>236.00</td>\n",
       "      <td>228.53</td>\n",
       "      <td>20114.44</td>\n",
       "      <td>558047.21</td>\n",
       "    </tr>\n",
       "    <tr>\n",
       "      <th>1</th>\n",
       "      <td>Australia</td>\n",
       "      <td>2017</td>\n",
       "      <td>415097.43</td>\n",
       "      <td>NaN</td>\n",
       "      <td>108170.70</td>\n",
       "      <td>11685.94</td>\n",
       "      <td>202.63</td>\n",
       "      <td>189.99</td>\n",
       "      <td>21265.59</td>\n",
       "      <td>556612.28</td>\n",
       "    </tr>\n",
       "    <tr>\n",
       "      <th>2</th>\n",
       "      <td>Australia</td>\n",
       "      <td>2016</td>\n",
       "      <td>411031.53</td>\n",
       "      <td>NaN</td>\n",
       "      <td>105873.93</td>\n",
       "      <td>11979.46</td>\n",
       "      <td>224.92</td>\n",
       "      <td>186.31</td>\n",
       "      <td>19566.39</td>\n",
       "      <td>548862.54</td>\n",
       "    </tr>\n",
       "    <tr>\n",
       "      <th>3</th>\n",
       "      <td>Australia</td>\n",
       "      <td>2015</td>\n",
       "      <td>401554.76</td>\n",
       "      <td>NaN</td>\n",
       "      <td>105368.80</td>\n",
       "      <td>11795.32</td>\n",
       "      <td>171.32</td>\n",
       "      <td>170.94</td>\n",
       "      <td>19557.63</td>\n",
       "      <td>538618.77</td>\n",
       "    </tr>\n",
       "    <tr>\n",
       "      <th>4</th>\n",
       "      <td>Australia</td>\n",
       "      <td>2014</td>\n",
       "      <td>394116.89</td>\n",
       "      <td>NaN</td>\n",
       "      <td>105070.91</td>\n",
       "      <td>10778.85</td>\n",
       "      <td>192.54</td>\n",
       "      <td>155.17</td>\n",
       "      <td>20096.66</td>\n",
       "      <td>530411.02</td>\n",
       "    </tr>\n",
       "  </tbody>\n",
       "</table>\n",
       "</div>"
      ],
      "text/plain": [
       "     Country  Year  CO2 Emissions  NF3 Emissions  CH4 Emissions  \\\n",
       "0  Australia  2018      415953.95            NaN      109532.21   \n",
       "1  Australia  2017      415097.43            NaN      108170.70   \n",
       "2  Australia  2016      411031.53            NaN      105873.93   \n",
       "3  Australia  2015      401554.76            NaN      105368.80   \n",
       "4  Australia  2014      394116.89            NaN      105070.91   \n",
       "\n",
       "   HFC Emissions  PFC Emissions  SF6 Emissions  N20 Emissions      Total  \n",
       "0       11982.08         236.00         228.53       20114.44  558047.21  \n",
       "1       11685.94         202.63         189.99       21265.59  556612.28  \n",
       "2       11979.46         224.92         186.31       19566.39  548862.54  \n",
       "3       11795.32         171.32         170.94       19557.63  538618.77  \n",
       "4       10778.85         192.54         155.17       20096.66  530411.02  "
      ]
     },
     "execution_count": 10,
     "metadata": {},
     "output_type": "execute_result"
    }
   ],
   "source": [
    "combined_df.head()"
   ]
  },
  {
   "cell_type": "code",
   "execution_count": 11,
   "metadata": {},
   "outputs": [
    {
     "data": {
      "text/plain": [
       "0         415953.95\n",
       "1         415097.43\n",
       "2         411031.53\n",
       "3         401554.76\n",
       "4         394116.89\n",
       "           ...     \n",
       "1271    17195134.41\n",
       "1272    17070961.20\n",
       "1273    16916947.71\n",
       "1274    16943513.25\n",
       "1275    16962390.04\n",
       "Name: CO2 Emissions, Length: 1276, dtype: float64"
      ]
     },
     "execution_count": 11,
     "metadata": {},
     "output_type": "execute_result"
    }
   ],
   "source": [
    "combined_df[\"CO2 Emissions\"]"
   ]
  },
  {
   "cell_type": "code",
   "execution_count": 103,
   "metadata": {},
   "outputs": [
    {
     "data": {
      "text/html": [
       "<div>\n",
       "<style scoped>\n",
       "    .dataframe tbody tr th:only-of-type {\n",
       "        vertical-align: middle;\n",
       "    }\n",
       "\n",
       "    .dataframe tbody tr th {\n",
       "        vertical-align: top;\n",
       "    }\n",
       "\n",
       "    .dataframe thead th {\n",
       "        text-align: right;\n",
       "    }\n",
       "</style>\n",
       "<table border=\"1\" class=\"dataframe\">\n",
       "  <thead>\n",
       "    <tr style=\"text-align: right;\">\n",
       "      <th></th>\n",
       "      <th>Country</th>\n",
       "      <th>Year</th>\n",
       "      <th>CO2 Emissions</th>\n",
       "      <th>NF3 Emissions</th>\n",
       "      <th>CH4 Emissions</th>\n",
       "      <th>HFC Emissions</th>\n",
       "      <th>PFC Emissions</th>\n",
       "      <th>SF6 Emissions</th>\n",
       "      <th>N20 Emissions</th>\n",
       "      <th>Total</th>\n",
       "    </tr>\n",
       "  </thead>\n",
       "  <tbody>\n",
       "    <tr>\n",
       "      <th>1271</th>\n",
       "      <td>World</td>\n",
       "      <td>2014</td>\n",
       "      <td>17195134.41</td>\n",
       "      <td>1780.35</td>\n",
       "      <td>2344635.43</td>\n",
       "      <td>474587.91</td>\n",
       "      <td>20613.78</td>\n",
       "      <td>22278.91</td>\n",
       "      <td>1174996.17</td>\n",
       "      <td>21234026.96</td>\n",
       "    </tr>\n",
       "    <tr>\n",
       "      <th>1272</th>\n",
       "      <td>World</td>\n",
       "      <td>2015</td>\n",
       "      <td>17070961.20</td>\n",
       "      <td>1281.42</td>\n",
       "      <td>2326847.30</td>\n",
       "      <td>471722.86</td>\n",
       "      <td>20374.57</td>\n",
       "      <td>21950.43</td>\n",
       "      <td>1170386.96</td>\n",
       "      <td>21083524.74</td>\n",
       "    </tr>\n",
       "    <tr>\n",
       "      <th>1273</th>\n",
       "      <td>World</td>\n",
       "      <td>2016</td>\n",
       "      <td>16916947.71</td>\n",
       "      <td>1351.54</td>\n",
       "      <td>2308602.32</td>\n",
       "      <td>471929.33</td>\n",
       "      <td>20525.42</td>\n",
       "      <td>22911.40</td>\n",
       "      <td>1160364.95</td>\n",
       "      <td>20902632.67</td>\n",
       "    </tr>\n",
       "    <tr>\n",
       "      <th>1274</th>\n",
       "      <td>World</td>\n",
       "      <td>2017</td>\n",
       "      <td>16943513.25</td>\n",
       "      <td>1179.40</td>\n",
       "      <td>2329363.28</td>\n",
       "      <td>481829.55</td>\n",
       "      <td>18984.39</td>\n",
       "      <td>23508.44</td>\n",
       "      <td>1168049.93</td>\n",
       "      <td>20966428.24</td>\n",
       "    </tr>\n",
       "    <tr>\n",
       "      <th>1275</th>\n",
       "      <td>World</td>\n",
       "      <td>2018</td>\n",
       "      <td>16962390.04</td>\n",
       "      <td>1048.65</td>\n",
       "      <td>2339998.69</td>\n",
       "      <td>478210.23</td>\n",
       "      <td>19371.03</td>\n",
       "      <td>23656.73</td>\n",
       "      <td>1174345.82</td>\n",
       "      <td>20999021.19</td>\n",
       "    </tr>\n",
       "  </tbody>\n",
       "</table>\n",
       "</div>"
      ],
      "text/plain": [
       "     Country  Year  CO2 Emissions  NF3 Emissions  CH4 Emissions  \\\n",
       "1271   World  2014    17195134.41        1780.35     2344635.43   \n",
       "1272   World  2015    17070961.20        1281.42     2326847.30   \n",
       "1273   World  2016    16916947.71        1351.54     2308602.32   \n",
       "1274   World  2017    16943513.25        1179.40     2329363.28   \n",
       "1275   World  2018    16962390.04        1048.65     2339998.69   \n",
       "\n",
       "      HFC Emissions  PFC Emissions  SF6 Emissions  N20 Emissions        Total  \n",
       "1271      474587.91       20613.78       22278.91     1174996.17  21234026.96  \n",
       "1272      471722.86       20374.57       21950.43     1170386.96  21083524.74  \n",
       "1273      471929.33       20525.42       22911.40     1160364.95  20902632.67  \n",
       "1274      481829.55       18984.39       23508.44     1168049.93  20966428.24  \n",
       "1275      478210.23       19371.03       23656.73     1174345.82  20999021.19  "
      ]
     },
     "execution_count": 103,
     "metadata": {},
     "output_type": "execute_result"
    }
   ],
   "source": [
    "combined_df.tail()"
   ]
  },
  {
   "cell_type": "code",
   "execution_count": 104,
   "metadata": {},
   "outputs": [],
   "source": [
    "SAVE_DIR = r\"/Users/jamesmoro/Documents/Python/ClimateData/data/interim\"\n",
    "file_path = Path(SAVE_DIR, \"Combined_ghg_dataframe.pkl\")\n",
    "\n",
    "pd.to_pickle(combined_df, file_path)"
   ]
  }
 ],
 "metadata": {
  "interpreter": {
   "hash": "aee8b7b246df8f9039afb4144a1f6fd8d2ca17a180786b69acc140d282b71a49"
  },
  "kernelspec": {
   "display_name": "Python 3.9.7 64-bit",
   "language": "python",
   "name": "python3"
  },
  "language_info": {
   "codemirror_mode": {
    "name": "ipython",
    "version": 3
   },
   "file_extension": ".py",
   "mimetype": "text/x-python",
   "name": "python",
   "nbconvert_exporter": "python",
   "pygments_lexer": "ipython3",
   "version": "3.9.7"
  },
  "orig_nbformat": 4
 },
 "nbformat": 4,
 "nbformat_minor": 2
}
