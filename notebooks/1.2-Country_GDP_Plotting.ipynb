{
 "cells": [
  {
   "cell_type": "code",
   "execution_count": null,
   "metadata": {},
   "outputs": [],
   "source": [
    "import pandas as pd\n",
    "import plotly.graph_objects as go\n",
    "import plotly.express as px\n",
    "from pathlib import Path"
   ]
  },
  {
   "cell_type": "code",
   "execution_count": null,
   "metadata": {},
   "outputs": [],
   "source": [
    "GDP_FILE_DIR = r\"/Users/jamesmoro/Documents/Python/ClimateData/data/interim/Country_GDP_data.pkl\"\n",
    "GHG_2018_DF_FILE_DIR = r\"/Users/jamesmoro/Documents/Python/ClimateData/data/interim/ghg_2018_dataframe.pkl\""
   ]
  },
  {
   "cell_type": "code",
   "execution_count": null,
   "metadata": {},
   "outputs": [],
   "source": [
    "def save_file(df_name):\n",
    "    SAVE_DIR = r\"/Users/jamesmoro/Documents/Python/ClimateData/data/interim\"\n",
    "    file_path = Path(SAVE_DIR, \"GHG_GDP_scatter_data.pkl\")\n",
    "    pd.to_pickle(df_name, file_path)"
   ]
  },
  {
   "cell_type": "code",
   "execution_count": null,
   "metadata": {},
   "outputs": [],
   "source": [
    "gdp_df = pd.read_pickle(GDP_FILE_DIR)\n",
    "ghg_2018_df = pd.read_pickle(GHG_2018_DF_FILE_DIR)"
   ]
  },
  {
   "cell_type": "code",
   "execution_count": null,
   "metadata": {},
   "outputs": [],
   "source": [
    "gdp_df.head()"
   ]
  },
  {
   "cell_type": "code",
   "execution_count": null,
   "metadata": {},
   "outputs": [],
   "source": [
    "gdp_df.rename(columns = {\"Country Name\":\"Country\", 2018.0:\"GDP\"}, inplace = True)"
   ]
  },
  {
   "cell_type": "code",
   "execution_count": null,
   "metadata": {},
   "outputs": [],
   "source": [
    "gdp_df.head()"
   ]
  },
  {
   "cell_type": "code",
   "execution_count": null,
   "metadata": {},
   "outputs": [],
   "source": [
    "ghg_2018_df.head()"
   ]
  },
  {
   "cell_type": "code",
   "execution_count": null,
   "metadata": {},
   "outputs": [],
   "source": [
    "combined_df = pd.merge(ghg_2018_df, gdp_df, how = \"outer\", on = \"Country\")"
   ]
  },
  {
   "cell_type": "code",
   "execution_count": null,
   "metadata": {},
   "outputs": [],
   "source": [
    "combined_df.head()"
   ]
  },
  {
   "cell_type": "code",
   "execution_count": null,
   "metadata": {},
   "outputs": [],
   "source": [
    "combined_df[\"GDP\"].isna().sum()"
   ]
  },
  {
   "cell_type": "code",
   "execution_count": null,
   "metadata": {},
   "outputs": [],
   "source": [
    "combined_df.loc[42, \"GDP\"] = combined_df.loc[254, \"GDP\"] #Combining GDP from \"United States\" with GHG values from \"United states of America\""
   ]
  },
  {
   "cell_type": "code",
   "execution_count": null,
   "metadata": {},
   "outputs": [],
   "source": [
    "combined_df.drop(254, axis = 0, inplace = True) #Dropping superfluous \"United States\" row"
   ]
  },
  {
   "cell_type": "code",
   "execution_count": null,
   "metadata": {},
   "outputs": [],
   "source": [
    "combined_df[combined_df[\"Country\"].isin([\"United States\", \"United States of America\", \"US\", \"USA\"])]"
   ]
  },
  {
   "cell_type": "code",
   "execution_count": null,
   "metadata": {},
   "outputs": [],
   "source": [
    "save_file(df_name = combined_df)"
   ]
  },
  {
   "cell_type": "markdown",
   "metadata": {},
   "source": [
    "# Plotting"
   ]
  },
  {
   "cell_type": "code",
   "execution_count": null,
   "metadata": {},
   "outputs": [],
   "source": [
    "fig = px.scatter(combined_df, \n",
    "x = \"GDP\", \n",
    "y = \"Total\", \n",
    "trendline = \"ols\", \n",
    "marginal_x=\"rug\", \n",
    "marginal_y=\"rug\",\n",
    "trendline_color_override=\"red\", \n",
    "hover_data = [\"Country\"])\n",
    "\n",
    "fig.update_layout(title='GBP vs Total Greenhouse Gas Emissions', \n",
    "        xaxis_title = \"GDP\", \n",
    "        yaxis_title = \"Total Emissions\")\n",
    "\n",
    "\n",
    "fig.show()\n",
    "\n"
   ]
  },
  {
   "cell_type": "markdown",
   "metadata": {},
   "source": []
  }
 ],
 "metadata": {
  "interpreter": {
   "hash": "aee8b7b246df8f9039afb4144a1f6fd8d2ca17a180786b69acc140d282b71a49"
  },
  "kernelspec": {
   "display_name": "Python 3.9.7 64-bit",
   "language": "python",
   "name": "python3"
  },
  "language_info": {
   "codemirror_mode": {
    "name": "ipython",
    "version": 3
   },
   "file_extension": ".py",
   "mimetype": "text/x-python",
   "name": "python",
   "nbconvert_exporter": "python",
   "pygments_lexer": "ipython3",
   "version": "3.9.7"
  },
  "orig_nbformat": 4
 },
 "nbformat": 4,
 "nbformat_minor": 2
}
