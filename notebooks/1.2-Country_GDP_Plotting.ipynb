{
 "cells": [
  {
   "cell_type": "code",
   "execution_count": 64,
   "metadata": {},
   "outputs": [],
   "source": [
    "import pandas as pd\n",
    "import plotly.graph_objects as go\n",
    "import plotly.express as px\n",
    "from pathlib import Path"
   ]
  },
  {
   "cell_type": "code",
   "execution_count": 8,
   "metadata": {},
   "outputs": [],
   "source": [
    "GDP_FILE_DIR = r\"/Users/jamesmoro/Documents/Python/ClimateData/data/interim/Country_GDP_data.pkl\"\n",
    "GHG_2018_DF_FILE_DIR = r\"/Users/jamesmoro/Documents/Python/ClimateData/data/interim/ghg_2018_dataframe.pkl\""
   ]
  },
  {
   "cell_type": "code",
   "execution_count": 9,
   "metadata": {},
   "outputs": [],
   "source": [
    "gdp_df = pd.read_pickle(GDP_FILE_DIR)\n",
    "ghg_2018_df = pd.read_pickle(GHG_2018_DF_FILE_DIR)"
   ]
  },
  {
   "cell_type": "code",
   "execution_count": 10,
   "metadata": {},
   "outputs": [
    {
     "data": {
      "text/html": [
       "<div>\n",
       "<style scoped>\n",
       "    .dataframe tbody tr th:only-of-type {\n",
       "        vertical-align: middle;\n",
       "    }\n",
       "\n",
       "    .dataframe tbody tr th {\n",
       "        vertical-align: top;\n",
       "    }\n",
       "\n",
       "    .dataframe thead th {\n",
       "        text-align: right;\n",
       "    }\n",
       "</style>\n",
       "<table border=\"1\" class=\"dataframe\">\n",
       "  <thead>\n",
       "    <tr style=\"text-align: right;\">\n",
       "      <th>2</th>\n",
       "      <th>Country Name</th>\n",
       "      <th>2018.0</th>\n",
       "    </tr>\n",
       "  </thead>\n",
       "  <tbody>\n",
       "    <tr>\n",
       "      <th>3</th>\n",
       "      <td>Aruba</td>\n",
       "      <td>3.202189e+09</td>\n",
       "    </tr>\n",
       "    <tr>\n",
       "      <th>4</th>\n",
       "      <td>Africa Eastern and Southern</td>\n",
       "      <td>9.866107e+11</td>\n",
       "    </tr>\n",
       "    <tr>\n",
       "      <th>5</th>\n",
       "      <td>Afghanistan</td>\n",
       "      <td>1.835388e+10</td>\n",
       "    </tr>\n",
       "    <tr>\n",
       "      <th>6</th>\n",
       "      <td>Africa Western and Central</td>\n",
       "      <td>7.381313e+11</td>\n",
       "    </tr>\n",
       "    <tr>\n",
       "      <th>7</th>\n",
       "      <td>Angola</td>\n",
       "      <td>1.013532e+11</td>\n",
       "    </tr>\n",
       "  </tbody>\n",
       "</table>\n",
       "</div>"
      ],
      "text/plain": [
       "2                 Country Name        2018.0\n",
       "3                        Aruba  3.202189e+09\n",
       "4  Africa Eastern and Southern  9.866107e+11\n",
       "5                  Afghanistan  1.835388e+10\n",
       "6   Africa Western and Central  7.381313e+11\n",
       "7                       Angola  1.013532e+11"
      ]
     },
     "execution_count": 10,
     "metadata": {},
     "output_type": "execute_result"
    }
   ],
   "source": [
    "gdp_df.head()"
   ]
  },
  {
   "cell_type": "code",
   "execution_count": 18,
   "metadata": {},
   "outputs": [],
   "source": [
    "gdp_df.rename(columns = {\"Country Name\":\"Country\", 2018.0:\"GDP\"}, inplace = True)"
   ]
  },
  {
   "cell_type": "code",
   "execution_count": 19,
   "metadata": {},
   "outputs": [
    {
     "data": {
      "text/html": [
       "<div>\n",
       "<style scoped>\n",
       "    .dataframe tbody tr th:only-of-type {\n",
       "        vertical-align: middle;\n",
       "    }\n",
       "\n",
       "    .dataframe tbody tr th {\n",
       "        vertical-align: top;\n",
       "    }\n",
       "\n",
       "    .dataframe thead th {\n",
       "        text-align: right;\n",
       "    }\n",
       "</style>\n",
       "<table border=\"1\" class=\"dataframe\">\n",
       "  <thead>\n",
       "    <tr style=\"text-align: right;\">\n",
       "      <th>2</th>\n",
       "      <th>Country</th>\n",
       "      <th>GDP</th>\n",
       "    </tr>\n",
       "  </thead>\n",
       "  <tbody>\n",
       "    <tr>\n",
       "      <th>3</th>\n",
       "      <td>Aruba</td>\n",
       "      <td>3.202189e+09</td>\n",
       "    </tr>\n",
       "    <tr>\n",
       "      <th>4</th>\n",
       "      <td>Africa Eastern and Southern</td>\n",
       "      <td>9.866107e+11</td>\n",
       "    </tr>\n",
       "    <tr>\n",
       "      <th>5</th>\n",
       "      <td>Afghanistan</td>\n",
       "      <td>1.835388e+10</td>\n",
       "    </tr>\n",
       "    <tr>\n",
       "      <th>6</th>\n",
       "      <td>Africa Western and Central</td>\n",
       "      <td>7.381313e+11</td>\n",
       "    </tr>\n",
       "    <tr>\n",
       "      <th>7</th>\n",
       "      <td>Angola</td>\n",
       "      <td>1.013532e+11</td>\n",
       "    </tr>\n",
       "  </tbody>\n",
       "</table>\n",
       "</div>"
      ],
      "text/plain": [
       "2                      Country           GDP\n",
       "3                        Aruba  3.202189e+09\n",
       "4  Africa Eastern and Southern  9.866107e+11\n",
       "5                  Afghanistan  1.835388e+10\n",
       "6   Africa Western and Central  7.381313e+11\n",
       "7                       Angola  1.013532e+11"
      ]
     },
     "execution_count": 19,
     "metadata": {},
     "output_type": "execute_result"
    }
   ],
   "source": [
    "gdp_df.head()"
   ]
  },
  {
   "cell_type": "code",
   "execution_count": 11,
   "metadata": {},
   "outputs": [
    {
     "data": {
      "text/html": [
       "<div>\n",
       "<style scoped>\n",
       "    .dataframe tbody tr th:only-of-type {\n",
       "        vertical-align: middle;\n",
       "    }\n",
       "\n",
       "    .dataframe tbody tr th {\n",
       "        vertical-align: top;\n",
       "    }\n",
       "\n",
       "    .dataframe thead th {\n",
       "        text-align: right;\n",
       "    }\n",
       "</style>\n",
       "<table border=\"1\" class=\"dataframe\">\n",
       "  <thead>\n",
       "    <tr style=\"text-align: right;\">\n",
       "      <th></th>\n",
       "      <th>Country</th>\n",
       "      <th>Year</th>\n",
       "      <th>CO2 Emissions</th>\n",
       "      <th>NF3 Emissions</th>\n",
       "      <th>CH4 Emissions</th>\n",
       "      <th>HFC Emissions</th>\n",
       "      <th>PFC Emissions</th>\n",
       "      <th>SF6 Emissions</th>\n",
       "      <th>N20 Emissions</th>\n",
       "      <th>Total</th>\n",
       "    </tr>\n",
       "  </thead>\n",
       "  <tbody>\n",
       "    <tr>\n",
       "      <th>0</th>\n",
       "      <td>Australia</td>\n",
       "      <td>2018</td>\n",
       "      <td>415953.95</td>\n",
       "      <td>NaN</td>\n",
       "      <td>109532.21</td>\n",
       "      <td>11982.08</td>\n",
       "      <td>236.00</td>\n",
       "      <td>228.53</td>\n",
       "      <td>20114.44</td>\n",
       "      <td>558047.21</td>\n",
       "    </tr>\n",
       "    <tr>\n",
       "      <th>29</th>\n",
       "      <td>Austria</td>\n",
       "      <td>2018</td>\n",
       "      <td>66719.68</td>\n",
       "      <td>16.51</td>\n",
       "      <td>6438.63</td>\n",
       "      <td>1834.76</td>\n",
       "      <td>32.52</td>\n",
       "      <td>382.15</td>\n",
       "      <td>3526.08</td>\n",
       "      <td>78950.33</td>\n",
       "    </tr>\n",
       "    <tr>\n",
       "      <th>58</th>\n",
       "      <td>Belarus</td>\n",
       "      <td>2018</td>\n",
       "      <td>61871.68</td>\n",
       "      <td>NaN</td>\n",
       "      <td>16097.62</td>\n",
       "      <td>NaN</td>\n",
       "      <td>NaN</td>\n",
       "      <td>3.46</td>\n",
       "      <td>14019.84</td>\n",
       "      <td>91992.60</td>\n",
       "    </tr>\n",
       "    <tr>\n",
       "      <th>87</th>\n",
       "      <td>Belgium</td>\n",
       "      <td>2018</td>\n",
       "      <td>100207.84</td>\n",
       "      <td>0.65</td>\n",
       "      <td>7848.74</td>\n",
       "      <td>4469.84</td>\n",
       "      <td>131.32</td>\n",
       "      <td>95.08</td>\n",
       "      <td>5702.29</td>\n",
       "      <td>118455.76</td>\n",
       "    </tr>\n",
       "    <tr>\n",
       "      <th>116</th>\n",
       "      <td>Bulgaria</td>\n",
       "      <td>2018</td>\n",
       "      <td>43551.60</td>\n",
       "      <td>NaN</td>\n",
       "      <td>6753.67</td>\n",
       "      <td>2252.53</td>\n",
       "      <td>0.01</td>\n",
       "      <td>17.99</td>\n",
       "      <td>5239.79</td>\n",
       "      <td>57815.59</td>\n",
       "    </tr>\n",
       "  </tbody>\n",
       "</table>\n",
       "</div>"
      ],
      "text/plain": [
       "       Country  Year  CO2 Emissions  NF3 Emissions  CH4 Emissions  \\\n",
       "0    Australia  2018      415953.95            NaN      109532.21   \n",
       "29     Austria  2018       66719.68          16.51        6438.63   \n",
       "58     Belarus  2018       61871.68            NaN       16097.62   \n",
       "87     Belgium  2018      100207.84           0.65        7848.74   \n",
       "116   Bulgaria  2018       43551.60            NaN        6753.67   \n",
       "\n",
       "     HFC Emissions  PFC Emissions  SF6 Emissions  N20 Emissions      Total  \n",
       "0         11982.08         236.00         228.53       20114.44  558047.21  \n",
       "29         1834.76          32.52         382.15        3526.08   78950.33  \n",
       "58             NaN            NaN           3.46       14019.84   91992.60  \n",
       "87         4469.84         131.32          95.08        5702.29  118455.76  \n",
       "116        2252.53           0.01          17.99        5239.79   57815.59  "
      ]
     },
     "execution_count": 11,
     "metadata": {},
     "output_type": "execute_result"
    }
   ],
   "source": [
    "ghg_2018_df.head()"
   ]
  },
  {
   "cell_type": "code",
   "execution_count": 21,
   "metadata": {},
   "outputs": [],
   "source": [
    "combined_df = pd.merge(ghg_2018_df, gdp_df, how = \"outer\", on = \"Country\")"
   ]
  },
  {
   "cell_type": "code",
   "execution_count": 22,
   "metadata": {},
   "outputs": [
    {
     "data": {
      "text/html": [
       "<div>\n",
       "<style scoped>\n",
       "    .dataframe tbody tr th:only-of-type {\n",
       "        vertical-align: middle;\n",
       "    }\n",
       "\n",
       "    .dataframe tbody tr th {\n",
       "        vertical-align: top;\n",
       "    }\n",
       "\n",
       "    .dataframe thead th {\n",
       "        text-align: right;\n",
       "    }\n",
       "</style>\n",
       "<table border=\"1\" class=\"dataframe\">\n",
       "  <thead>\n",
       "    <tr style=\"text-align: right;\">\n",
       "      <th></th>\n",
       "      <th>Country</th>\n",
       "      <th>Year</th>\n",
       "      <th>CO2 Emissions</th>\n",
       "      <th>NF3 Emissions</th>\n",
       "      <th>CH4 Emissions</th>\n",
       "      <th>HFC Emissions</th>\n",
       "      <th>PFC Emissions</th>\n",
       "      <th>SF6 Emissions</th>\n",
       "      <th>N20 Emissions</th>\n",
       "      <th>Total</th>\n",
       "      <th>GDP</th>\n",
       "    </tr>\n",
       "  </thead>\n",
       "  <tbody>\n",
       "    <tr>\n",
       "      <th>0</th>\n",
       "      <td>Australia</td>\n",
       "      <td>2018.0</td>\n",
       "      <td>415953.95</td>\n",
       "      <td>NaN</td>\n",
       "      <td>109532.21</td>\n",
       "      <td>11982.08</td>\n",
       "      <td>236.00</td>\n",
       "      <td>228.53</td>\n",
       "      <td>20114.44</td>\n",
       "      <td>558047.21</td>\n",
       "      <td>1.432881e+12</td>\n",
       "    </tr>\n",
       "    <tr>\n",
       "      <th>1</th>\n",
       "      <td>Austria</td>\n",
       "      <td>2018.0</td>\n",
       "      <td>66719.68</td>\n",
       "      <td>16.51</td>\n",
       "      <td>6438.63</td>\n",
       "      <td>1834.76</td>\n",
       "      <td>32.52</td>\n",
       "      <td>382.15</td>\n",
       "      <td>3526.08</td>\n",
       "      <td>78950.33</td>\n",
       "      <td>4.548726e+11</td>\n",
       "    </tr>\n",
       "    <tr>\n",
       "      <th>2</th>\n",
       "      <td>Belarus</td>\n",
       "      <td>2018.0</td>\n",
       "      <td>61871.68</td>\n",
       "      <td>NaN</td>\n",
       "      <td>16097.62</td>\n",
       "      <td>NaN</td>\n",
       "      <td>NaN</td>\n",
       "      <td>3.46</td>\n",
       "      <td>14019.84</td>\n",
       "      <td>91992.60</td>\n",
       "      <td>6.003126e+10</td>\n",
       "    </tr>\n",
       "    <tr>\n",
       "      <th>3</th>\n",
       "      <td>Belgium</td>\n",
       "      <td>2018.0</td>\n",
       "      <td>100207.84</td>\n",
       "      <td>0.65</td>\n",
       "      <td>7848.74</td>\n",
       "      <td>4469.84</td>\n",
       "      <td>131.32</td>\n",
       "      <td>95.08</td>\n",
       "      <td>5702.29</td>\n",
       "      <td>118455.76</td>\n",
       "      <td>5.434107e+11</td>\n",
       "    </tr>\n",
       "    <tr>\n",
       "      <th>4</th>\n",
       "      <td>Bulgaria</td>\n",
       "      <td>2018.0</td>\n",
       "      <td>43551.60</td>\n",
       "      <td>NaN</td>\n",
       "      <td>6753.67</td>\n",
       "      <td>2252.53</td>\n",
       "      <td>0.01</td>\n",
       "      <td>17.99</td>\n",
       "      <td>5239.79</td>\n",
       "      <td>57815.59</td>\n",
       "      <td>6.623016e+10</td>\n",
       "    </tr>\n",
       "  </tbody>\n",
       "</table>\n",
       "</div>"
      ],
      "text/plain": [
       "     Country    Year  CO2 Emissions  NF3 Emissions  CH4 Emissions  \\\n",
       "0  Australia  2018.0      415953.95            NaN      109532.21   \n",
       "1    Austria  2018.0       66719.68          16.51        6438.63   \n",
       "2    Belarus  2018.0       61871.68            NaN       16097.62   \n",
       "3    Belgium  2018.0      100207.84           0.65        7848.74   \n",
       "4   Bulgaria  2018.0       43551.60            NaN        6753.67   \n",
       "\n",
       "   HFC Emissions  PFC Emissions  SF6 Emissions  N20 Emissions      Total  \\\n",
       "0       11982.08         236.00         228.53       20114.44  558047.21   \n",
       "1        1834.76          32.52         382.15        3526.08   78950.33   \n",
       "2            NaN            NaN           3.46       14019.84   91992.60   \n",
       "3        4469.84         131.32          95.08        5702.29  118455.76   \n",
       "4        2252.53           0.01          17.99        5239.79   57815.59   \n",
       "\n",
       "            GDP  \n",
       "0  1.432881e+12  \n",
       "1  4.548726e+11  \n",
       "2  6.003126e+10  \n",
       "3  5.434107e+11  \n",
       "4  6.623016e+10  "
      ]
     },
     "execution_count": 22,
     "metadata": {},
     "output_type": "execute_result"
    }
   ],
   "source": [
    "combined_df.head()"
   ]
  },
  {
   "cell_type": "code",
   "execution_count": 23,
   "metadata": {},
   "outputs": [
    {
     "data": {
      "text/plain": [
       "15"
      ]
     },
     "execution_count": 23,
     "metadata": {},
     "output_type": "execute_result"
    }
   ],
   "source": [
    "combined_df[\"GDP\"].isna().sum()"
   ]
  },
  {
   "cell_type": "code",
   "execution_count": 25,
   "metadata": {},
   "outputs": [],
   "source": [
    "\n",
    "SAVE_DIR = r\"/Users/jamesmoro/Documents/Python/ClimateData/data/interim\"\n",
    "file_path = Path(SAVE_DIR, \"GHG_GDP_scatter_data.pkl\")\n",
    "\n",
    "pd.to_pickle(combined_df, file_path)"
   ]
  },
  {
   "cell_type": "code",
   "execution_count": 43,
   "metadata": {},
   "outputs": [
    {
     "data": {
      "text/plain": [
       "254    2.061186e+13\n",
       "Name: GDP, dtype: float64"
      ]
     },
     "execution_count": 43,
     "metadata": {},
     "output_type": "execute_result"
    }
   ],
   "source": [
    "US_GDP = combined_df[combined_df[\"Country\"] == \"United States\"][\"GDP\"]\n",
    "US_GDP"
   ]
  },
  {
   "cell_type": "markdown",
   "metadata": {},
   "source": [
    "# Plotting"
   ]
  },
  {
   "cell_type": "code",
   "execution_count": 79,
   "metadata": {},
   "outputs": [
    {
     "data": {
      "application/vnd.plotly.v1+json": {
       "config": {
        "plotlyServerURL": "https://plot.ly"
       },
       "data": [
        {
         "marker": {
          "color": [
           1432881172002.1704,
           454872626780.0053,
           60031262269.33648,
           543410654016.6017,
           66230155099.577545,
           1721853332869.631,
           61375222347.0256,
           25309818138.875767,
           null,
           356841216410.0677,
           30474612057.44839,
           15970405599565.46,
           275580448365.2348,
           2789593979064.5806,
           3975347237442.9883,
           212146107548.99612,
           160431092908.6455,
           26267063757.54953,
           384853685231.01764,
           2091117091124.097,
           5036891740656.35,
           34399206589.8596,
           6839145106.861642,
           53696648755.434715,
           70885325883.09409,
           14864712990.163084,
           7194024563.060935,
           913597086062.5995,
           212225726657.86444,
           436999692591.45404,
           587408980271.7101,
           242194788533.53748,
           241457403085.0416,
           1657328865709.9863,
           null,
           54137142149.47989,
           1420300232663.5942,
           555455371487.0894,
           735539301552.6736,
           778377023568.884,
           130901858421.72018,
           2857316524862.6064,
           null,
           3202188606.928933,
           986610722363.1016,
           18353881129.52457,
           738131279381.9727,
           101353230784.59373,
           15147020535.386873,
           3218316013.2262635,
           2688052317702.15,
           422215043594.28186,
           517626700412.8849,
           12457941907.033281,
           641000000,
           1605351851.8518517,
           47112941176.47059,
           3036937141.2706223,
           14250987026.053297,
           16059910870.623903,
           274038973437.27548,
           37652500000,
           13022100000,
           20183510561.25528,
           1915899786.96407,
           7224329000,
           40287647930.53545,
           1916947014067.5461,
           5086500000,
           13567351175.031507,
           2446866404.9305816,
           18663265549.019608,
           2220979144.5201836,
           1644035217822.9148,
           null,
           297571693064.2119,
           13894817549380.291,
           58011466450.8643,
           38694156862.9922,
           46831342212.54731,
           13642740884.135555,
           334198214706.20874,
           1178530633.815469,
           1966983316.3259299,
           62335931464.49788,
           75432216540.92183,
           100050000000,
           3127908044.6927376,
           5522625585.0234,
           248950103352.13702,
           3012820409.6331306,
           551074074.074074,
           85555378042.81964,
           175414987760.92725,
           16576160620809.49,
           11151451759954.545,
           26423494968648.645,
           3421588877159.185,
           23170422524927.055,
           107562008000,
           249712999437.2538,
           13692256054604.164,
           null,
           84269348327.34543,
           1550300718748.6294,
           5581393120.628532,
           3051341335.951604,
           401932300,
           16862282413.877844,
           17599700090.762005,
           65315955122.80766,
           null,
           11857030336.527449,
           1670670668.593905,
           1504630120.992751,
           13097012189.399487,
           1168696296.2962961,
           3051626389.636715,
           73208583758.91052,
           6051000000,
           4787635821.461159,
           54499762753285.6,
           361691522612.7448,
           24067778953.842033,
           766785759715.4464,
           15965670198.454798,
           30417172243361.973,
           32552463823820.863,
           2134903713222.718,
           959604463467.898,
           1042271531011.9897,
           1177415280139.467,
           7491969312.87525,
           2701111782774.5703,
           null,
           294356680624.6583,
           212271807144.36694,
           370455651179.95795,
           15730793852.791348,
           42932112676.05634,
           179339994859.38443,
           87778582964.13878,
           8271106196.042646,
           24571753583.50398,
           196737895.9952182,
           1010822222.2222222,
           1724845615629.2595,
           138182400493.58508,
           4897955761446.678,
           17953786416.143097,
           54961275741.558876,
           3264000000,
           52607888717.948715,
           2065875074.074074,
           5696061473289.079,
           1077968208153.3297,
           421205946504.99475,
           87954272082.10678,
           7336705281131.427,
           31342532960990.33,
           2514146887.9166384,
           22518480079503.008,
           55302446577.88789,
           null,
           118096227400.09161,
           11456728401.306902,
           13614412550.87222,
           5299773143.696234,
           3320223155751.0093,
           1222348807283.1956,
           221588900,
           30917603112934.926,
           12679934731.389103,
           17070866299.094511,
           68697759361.23097,
           1286768905152.7869,
           5506767831.837506,
           13108769495.747211,
           1302000000,
           14845870050.70925,
           7050987978.120627,
           14181930162.41607,
           9712994564.915964,
           358715057123.7392,
           22340938595869.637,
           13681065175.486061,
           null,
           12846952856.845798,
           397190484464.3077,
           13025208219.768518,
           33111525182.713257,
           124021393.6904116,
           53423136713751.28,
           79788768968.94902,
           442936639671.29144,
           314567541558.33887,
           64928300000,
           222574697255.52243,
           346842094174.51306,
           280435700,
           24109509852.740246,
           1334002792864.716,
           100925000000,
           null,
           40225448340.632164,
           16276600000,
           10648756157.993595,
           50442275275247.65,
           null,
           183334953813.20877,
           9640280084.195723,
           3436884615713.156,
           786521831573.3334,
           34522586970.00181,
           23116699808.172344,
           375981539145.9075,
           1574599182.6469665,
           4085114794.2232366,
           26020850000,
           1655300872.5342703,
           4720727283.20485,
           50640650221.46222,
           1722308773900.8591,
           null,
           1723896188075.2742,
           529017612370.2067,
           412253809.728799,
           3996247906.1976547,
           105474651206.55484,
           4665424249.061563,
           1185474860.3351955,
           1586008999.7484095,
           null,
           1113178000,
           11239167048.49162,
           16555121218015.41,
           4070373079777.92,
           7112200725.002317,
           506611070188.3615,
           7765014424.337792,
           40765428571.42857,
           5453955606483.928,
           1559894900,
           1270484927113.282,
           489235527.39538705,
           3436884615713.156,
           1723896188075.2744,
           23679919654.98907,
           39770478673.16483,
           42588164.97310221,
           57003713748.231606,
           32912338571.34034,
           23580897831803.5,
           64515038268.13733,
           20611860934000,
           50392607758.23237,
           811300000,
           null,
           null,
           3984000000,
           245213686369.1568,
           914727908.1377933,
           86139293063112.2,
           821496064.5261846,
           7942961738.308928,
           23486269598.9858,
           368288939768.32227,
           26311637646.653854,
           19523622341.613316
          ]
         },
         "mode": "markers",
         "text": [
          "Australia",
          "Austria",
          "Belarus",
          "Belgium",
          "Bulgaria",
          "Canada",
          "Croatia",
          "Cyprus",
          "Czechia",
          "Denmark",
          "Estonia",
          "European Union",
          "Finland",
          "France",
          "Germany",
          "Greece",
          "Hungary",
          "Iceland",
          "Ireland",
          "Italy",
          "Japan",
          "Latvia",
          "Liechtenstein",
          "Lithuania",
          "Luxembourg",
          "Malta",
          "Monaco",
          "Netherlands",
          "New Zealand",
          "Norway",
          "Poland",
          "Portugal",
          "Romania",
          "Russian Federation",
          "Slovakia",
          "Slovenia",
          "Spain",
          "Sweden",
          "Switzerland",
          "Turkey",
          "Ukraine",
          "United Kingdom",
          "United States of America",
          "Aruba",
          "Africa Eastern and Southern",
          "Afghanistan",
          "Africa Western and Central",
          "Angola",
          "Albania",
          "Andorra",
          "Arab World",
          "United Arab Emirates",
          "Argentina",
          "Armenia",
          "American Samoa",
          "Antigua and Barbuda",
          "Azerbaijan",
          "Burundi",
          "Benin",
          "Burkina Faso",
          "Bangladesh",
          "Bahrain",
          "Bahamas, The",
          "Bosnia and Herzegovina",
          "Belize",
          "Bermuda",
          "Bolivia",
          "Brazil",
          "Barbados",
          "Brunei Darussalam",
          "Bhutan",
          "Botswana",
          "Central African Republic",
          "Central Europe and the Baltics",
          "Channel Islands",
          "Chile",
          "China",
          "Cote d'Ivoire",
          "Cameroon",
          "Congo, Dem. Rep.",
          "Congo, Rep.",
          "Colombia",
          "Comoros",
          "Cabo Verde",
          "Costa Rica",
          "Caribbean small states",
          "Cuba",
          "Curacao",
          "Cayman Islands",
          "Czech Republic",
          "Djibouti",
          "Dominica",
          "Dominican Republic",
          "Algeria",
          "East Asia & Pacific (excluding high income)",
          "Early-demographic dividend",
          "East Asia & Pacific",
          "Europe & Central Asia (excluding high income)",
          "Europe & Central Asia",
          "Ecuador",
          "Egypt, Arab Rep.",
          "Euro area",
          "Eritrea",
          "Ethiopia",
          "Fragile and conflict affected situations",
          "Fiji",
          "Faroe Islands",
          "Micronesia, Fed. Sts.",
          "Gabon",
          "Georgia",
          "Ghana",
          "Gibraltar",
          "Guinea",
          "Gambia, The",
          "Guinea-Bissau",
          "Equatorial Guinea",
          "Grenada",
          "Greenland",
          "Guatemala",
          "Guam",
          "Guyana",
          "High income",
          "Hong Kong SAR, China",
          "Honduras",
          "Heavily indebted poor countries (HIPC)",
          "Haiti",
          "IBRD only",
          "IDA & IBRD total",
          "IDA total",
          "IDA blend",
          "Indonesia",
          "IDA only",
          "Isle of Man",
          "India",
          "Not classified",
          "Iran, Islamic Rep.",
          "Iraq",
          "Israel",
          "Jamaica",
          "Jordan",
          "Kazakhstan",
          "Kenya",
          "Kyrgyz Republic",
          "Cambodia",
          "Kiribati",
          "St. Kitts and Nevis",
          "Korea, Rep.",
          "Kuwait",
          "Latin America & Caribbean (excluding high income)",
          "Lao PDR",
          "Lebanon",
          "Liberia",
          "Libya",
          "St. Lucia",
          "Latin America & Caribbean",
          "Least developed countries: UN classification",
          "Low income",
          "Sri Lanka",
          "Lower middle income",
          "Low & middle income",
          "Lesotho",
          "Late-demographic dividend",
          "Macao SAR, China",
          "St. Martin (French part)",
          "Morocco",
          "Moldova",
          "Madagascar",
          "Maldives",
          "Middle East & North Africa",
          "Mexico",
          "Marshall Islands",
          "Middle income",
          "North Macedonia",
          "Mali",
          "Myanmar",
          "Middle East & North Africa (excluding high income)",
          "Montenegro",
          "Mongolia",
          "Northern Mariana Islands",
          "Mozambique",
          "Mauritania",
          "Mauritius",
          "Malawi",
          "Malaysia",
          "North America",
          "Namibia",
          "New Caledonia",
          "Niger",
          "Nigeria",
          "Nicaragua",
          "Nepal",
          "Nauru",
          "OECD members",
          "Oman",
          "Other small states",
          "Pakistan",
          "Panama",
          "Peru",
          "Philippines",
          "Palau",
          "Papua New Guinea",
          "Pre-demographic dividend",
          "Puerto Rico",
          "Korea, Dem. People's Rep.",
          "Paraguay",
          "West Bank and Gaza",
          "Pacific island small states",
          "Post-demographic dividend",
          "French Polynesia",
          "Qatar",
          "Rwanda",
          "South Asia",
          "Saudi Arabia",
          "Sudan",
          "Senegal",
          "Singapore",
          "Solomon Islands",
          "Sierra Leone",
          "El Salvador",
          "San Marino",
          "Somalia",
          "Serbia",
          "Sub-Saharan Africa (excluding high income)",
          "South Sudan",
          "Sub-Saharan Africa",
          "Small states",
          "Sao Tome and Principe",
          "Suriname",
          "Slovak Republic",
          "Eswatini",
          "Sint Maarten (Dutch part)",
          "Seychelles",
          "Syrian Arab Republic",
          "Turks and Caicos Islands",
          "Chad",
          "East Asia & Pacific (IDA & IBRD countries)",
          "Europe & Central Asia (IDA & IBRD countries)",
          "Togo",
          "Thailand",
          "Tajikistan",
          "Turkmenistan",
          "Latin America & the Caribbean (IDA & IBRD countries)",
          "Timor-Leste",
          "Middle East & North Africa (IDA & IBRD countries)",
          "Tonga",
          "South Asia (IDA & IBRD)",
          "Sub-Saharan Africa (IDA & IBRD countries)",
          "Trinidad and Tobago",
          "Tunisia",
          "Tuvalu",
          "Tanzania",
          "Uganda",
          "Upper middle income",
          "Uruguay",
          "United States",
          "Uzbekistan",
          "St. Vincent and the Grenadines",
          "Venezuela, RB",
          "British Virgin Islands",
          "Virgin Islands (U.S.)",
          "Vietnam",
          "Vanuatu",
          "World",
          "Samoa",
          "Kosovo",
          "Yemen, Rep.",
          "South Africa",
          "Zambia",
          "Zimbabwe"
         ],
         "type": "scatter",
         "x": [
          1432881172002.1704,
          454872626780.0053,
          60031262269.33648,
          543410654016.6017,
          66230155099.577545,
          1721853332869.631,
          61375222347.0256,
          25309818138.875767,
          null,
          356841216410.0677,
          30474612057.44839,
          15970405599565.46,
          275580448365.2348,
          2789593979064.5806,
          3975347237442.9883,
          212146107548.99612,
          160431092908.6455,
          26267063757.54953,
          384853685231.01764,
          2091117091124.097,
          5036891740656.35,
          34399206589.8596,
          6839145106.861642,
          53696648755.434715,
          70885325883.09409,
          14864712990.163084,
          7194024563.060935,
          913597086062.5995,
          212225726657.86444,
          436999692591.45404,
          587408980271.7101,
          242194788533.53748,
          241457403085.0416,
          1657328865709.9863,
          null,
          54137142149.47989,
          1420300232663.5942,
          555455371487.0894,
          735539301552.6736,
          778377023568.884,
          130901858421.72018,
          2857316524862.6064,
          null,
          3202188606.928933,
          986610722363.1016,
          18353881129.52457,
          738131279381.9727,
          101353230784.59373,
          15147020535.386873,
          3218316013.2262635,
          2688052317702.15,
          422215043594.28186,
          517626700412.8849,
          12457941907.033281,
          641000000,
          1605351851.8518517,
          47112941176.47059,
          3036937141.2706223,
          14250987026.053297,
          16059910870.623903,
          274038973437.27548,
          37652500000,
          13022100000,
          20183510561.25528,
          1915899786.96407,
          7224329000,
          40287647930.53545,
          1916947014067.5461,
          5086500000,
          13567351175.031507,
          2446866404.9305816,
          18663265549.019608,
          2220979144.5201836,
          1644035217822.9148,
          null,
          297571693064.2119,
          13894817549380.291,
          58011466450.8643,
          38694156862.9922,
          46831342212.54731,
          13642740884.135555,
          334198214706.20874,
          1178530633.815469,
          1966983316.3259299,
          62335931464.49788,
          75432216540.92183,
          100050000000,
          3127908044.6927376,
          5522625585.0234,
          248950103352.13702,
          3012820409.6331306,
          551074074.074074,
          85555378042.81964,
          175414987760.92725,
          16576160620809.49,
          11151451759954.545,
          26423494968648.645,
          3421588877159.185,
          23170422524927.055,
          107562008000,
          249712999437.2538,
          13692256054604.164,
          null,
          84269348327.34543,
          1550300718748.6294,
          5581393120.628532,
          3051341335.951604,
          401932300,
          16862282413.877844,
          17599700090.762005,
          65315955122.80766,
          null,
          11857030336.527449,
          1670670668.593905,
          1504630120.992751,
          13097012189.399487,
          1168696296.2962961,
          3051626389.636715,
          73208583758.91052,
          6051000000,
          4787635821.461159,
          54499762753285.6,
          361691522612.7448,
          24067778953.842033,
          766785759715.4464,
          15965670198.454798,
          30417172243361.973,
          32552463823820.863,
          2134903713222.718,
          959604463467.898,
          1042271531011.9897,
          1177415280139.467,
          7491969312.87525,
          2701111782774.5703,
          null,
          294356680624.6583,
          212271807144.36694,
          370455651179.95795,
          15730793852.791348,
          42932112676.05634,
          179339994859.38443,
          87778582964.13878,
          8271106196.042646,
          24571753583.50398,
          196737895.9952182,
          1010822222.2222222,
          1724845615629.2595,
          138182400493.58508,
          4897955761446.678,
          17953786416.143097,
          54961275741.558876,
          3264000000,
          52607888717.948715,
          2065875074.074074,
          5696061473289.079,
          1077968208153.3297,
          421205946504.99475,
          87954272082.10678,
          7336705281131.427,
          31342532960990.33,
          2514146887.9166384,
          22518480079503.008,
          55302446577.88789,
          null,
          118096227400.09161,
          11456728401.306902,
          13614412550.87222,
          5299773143.696234,
          3320223155751.0093,
          1222348807283.1956,
          221588900,
          30917603112934.926,
          12679934731.389103,
          17070866299.094511,
          68697759361.23097,
          1286768905152.7869,
          5506767831.837506,
          13108769495.747211,
          1302000000,
          14845870050.70925,
          7050987978.120627,
          14181930162.41607,
          9712994564.915964,
          358715057123.7392,
          22340938595869.637,
          13681065175.486061,
          null,
          12846952856.845798,
          397190484464.3077,
          13025208219.768518,
          33111525182.713257,
          124021393.6904116,
          53423136713751.28,
          79788768968.94902,
          442936639671.29144,
          314567541558.33887,
          64928300000,
          222574697255.52243,
          346842094174.51306,
          280435700,
          24109509852.740246,
          1334002792864.716,
          100925000000,
          null,
          40225448340.632164,
          16276600000,
          10648756157.993595,
          50442275275247.65,
          null,
          183334953813.20877,
          9640280084.195723,
          3436884615713.156,
          786521831573.3334,
          34522586970.00181,
          23116699808.172344,
          375981539145.9075,
          1574599182.6469665,
          4085114794.2232366,
          26020850000,
          1655300872.5342703,
          4720727283.20485,
          50640650221.46222,
          1722308773900.8591,
          null,
          1723896188075.2742,
          529017612370.2067,
          412253809.728799,
          3996247906.1976547,
          105474651206.55484,
          4665424249.061563,
          1185474860.3351955,
          1586008999.7484095,
          null,
          1113178000,
          11239167048.49162,
          16555121218015.41,
          4070373079777.92,
          7112200725.002317,
          506611070188.3615,
          7765014424.337792,
          40765428571.42857,
          5453955606483.928,
          1559894900,
          1270484927113.282,
          489235527.39538705,
          3436884615713.156,
          1723896188075.2744,
          23679919654.98907,
          39770478673.16483,
          42588164.97310221,
          57003713748.231606,
          32912338571.34034,
          23580897831803.5,
          64515038268.13733,
          20611860934000,
          50392607758.23237,
          811300000,
          null,
          null,
          3984000000,
          245213686369.1568,
          914727908.1377933,
          86139293063112.2,
          821496064.5261846,
          7942961738.308928,
          23486269598.9858,
          368288939768.32227,
          26311637646.653854,
          19523622341.613316
         ],
         "y": [
          558047.21,
          78950.32999999999,
          91992.6,
          118455.76,
          57815.590000000004,
          729349.26,
          23792.800000000003,
          8811.62,
          127449.6,
          49694.48999999999,
          19974.14,
          4222600.430000001,
          56359.06999999999,
          452209.67999999993,
          858181.8099999999,
          92221.65,
          63219.56,
          4856.950000000001,
          60934.53,
          427508.10000000003,
          1238342.72,
          11745.259999999998,
          181.08,
          20266.829999999998,
          10547.15,
          2186.11,
          86.92,
          187756.4,
          78862.28,
          52022.420000000006,
          412856.37,
          67280.27,
          116115.12000000001,
          2220122.9699999997,
          43348.35,
          17502.13,
          332705.13,
          51779.240000000005,
          46332.51,
          520941.59,
          339244.27999999997,
          465931.88,
          6660438.999999999,
          null,
          null,
          null,
          null,
          null,
          null,
          null,
          null,
          null,
          null,
          null,
          null,
          null,
          null,
          null,
          null,
          null,
          null,
          null,
          null,
          null,
          null,
          null,
          null,
          null,
          null,
          null,
          null,
          null,
          null,
          null,
          null,
          null,
          null,
          null,
          null,
          null,
          null,
          null,
          null,
          null,
          null,
          null,
          null,
          null,
          null,
          null,
          null,
          null,
          null,
          null,
          null,
          null,
          null,
          null,
          null,
          null,
          null,
          null,
          null,
          null,
          null,
          null,
          null,
          null,
          null,
          null,
          null,
          null,
          null,
          null,
          null,
          null,
          null,
          null,
          null,
          null,
          null,
          null,
          null,
          null,
          null,
          null,
          null,
          null,
          null,
          null,
          null,
          null,
          null,
          null,
          null,
          null,
          null,
          null,
          null,
          null,
          null,
          null,
          null,
          null,
          null,
          null,
          null,
          null,
          null,
          null,
          null,
          null,
          null,
          null,
          null,
          null,
          null,
          null,
          null,
          null,
          null,
          null,
          null,
          null,
          null,
          null,
          null,
          null,
          null,
          null,
          null,
          null,
          null,
          null,
          null,
          null,
          null,
          null,
          null,
          null,
          null,
          null,
          null,
          null,
          null,
          null,
          null,
          null,
          null,
          null,
          null,
          null,
          null,
          null,
          null,
          null,
          null,
          null,
          null,
          null,
          null,
          null,
          null,
          null,
          null,
          null,
          null,
          null,
          null,
          null,
          null,
          null,
          null,
          null,
          null,
          null,
          null,
          null,
          null,
          null,
          null,
          null,
          null,
          null,
          null,
          null,
          null,
          null,
          null,
          null,
          null,
          null,
          null,
          null,
          null,
          null,
          null,
          null,
          null,
          null,
          null,
          null,
          null,
          null,
          null,
          null,
          null,
          null,
          null,
          null,
          null,
          null,
          null,
          null,
          null,
          null,
          null,
          null,
          null,
          null,
          null,
          null,
          null,
          null,
          null,
          null,
          null,
          null,
          null
         ]
        },
        {
         "hovertemplate": "<b>OLS trendline</b><br>Total = 2.59093e-07 * GDP + 51787.6<br>R<sup>2</sup>=0.832098<br><br>GDP=%{x}<br>Total=%{y} <b>(trend)</b><extra></extra>",
         "legendgroup": "",
         "line": {
          "color": "red"
         },
         "marker": {
          "color": "#636efa",
          "symbol": "circle"
         },
         "mode": "lines",
         "name": "",
         "showlegend": false,
         "type": "scatter",
         "x": [
          6839145106.861642,
          7194024563.060935,
          14864712990.163084,
          25309818138.875767,
          26267063757.54953,
          30474612057.44839,
          34399206589.8596,
          53696648755.434715,
          54137142149.47989,
          60031262269.33648,
          61375222347.0256,
          66230155099.577545,
          70885325883.09409,
          130901858421.72018,
          160431092908.6455,
          212146107548.99612,
          212225726657.86444,
          241457403085.0416,
          242194788533.53748,
          275580448365.2348,
          356841216410.0677,
          384853685231.01764,
          436999692591.45404,
          454872626780.0053,
          543410654016.6017,
          555455371487.0894,
          587408980271.7101,
          735539301552.6736,
          778377023568.884,
          913597086062.5995,
          1420300232663.5942,
          1432881172002.1704,
          1657328865709.9863,
          1721853332869.631,
          2091117091124.097,
          2789593979064.5806,
          2857316524862.6064,
          3975347237442.9883,
          5036891740656.35,
          15970405599565.46
         ],
         "xaxis": "x",
         "y": [
          53559.548077563195,
          53651.49484379655,
          55638.91615921805,
          58345.16929564127,
          58593.18488964251,
          59683.331003169835,
          60700.165789542116,
          65699.99706380839,
          65814.12579800839,
          67341.2507846614,
          67689.46136978145,
          68947.34023281395,
          70153.46217741017,
          85703.32281619185,
          93354.13937654666,
          106753.13522943863,
          106773.76397946329,
          114347.48534345612,
          114538.53671673892,
          123188.5259073432,
          144242.61825571867,
          151500.4515208052,
          165011.11455022637,
          169641.86584628336,
          192581.44476773578,
          195702.146184117,
          203981.10104021803,
          242360.62339623697,
          253459.5752893046,
          288494.14057331823,
          419777.35507436714,
          423036.98779796576,
          481189.803534301,
          497907.63826556236,
          593581.2757939253,
          774551.7152289969,
          792098.1495983112,
          1081772.0283635287,
          1356810.7283452183,
          4189607.119719626
         ],
         "yaxis": "y"
        }
       ],
       "layout": {
        "template": {
         "data": {
          "bar": [
           {
            "error_x": {
             "color": "#2a3f5f"
            },
            "error_y": {
             "color": "#2a3f5f"
            },
            "marker": {
             "line": {
              "color": "#E5ECF6",
              "width": 0.5
             },
             "pattern": {
              "fillmode": "overlay",
              "size": 10,
              "solidity": 0.2
             }
            },
            "type": "bar"
           }
          ],
          "barpolar": [
           {
            "marker": {
             "line": {
              "color": "#E5ECF6",
              "width": 0.5
             },
             "pattern": {
              "fillmode": "overlay",
              "size": 10,
              "solidity": 0.2
             }
            },
            "type": "barpolar"
           }
          ],
          "carpet": [
           {
            "aaxis": {
             "endlinecolor": "#2a3f5f",
             "gridcolor": "white",
             "linecolor": "white",
             "minorgridcolor": "white",
             "startlinecolor": "#2a3f5f"
            },
            "baxis": {
             "endlinecolor": "#2a3f5f",
             "gridcolor": "white",
             "linecolor": "white",
             "minorgridcolor": "white",
             "startlinecolor": "#2a3f5f"
            },
            "type": "carpet"
           }
          ],
          "choropleth": [
           {
            "colorbar": {
             "outlinewidth": 0,
             "ticks": ""
            },
            "type": "choropleth"
           }
          ],
          "contour": [
           {
            "colorbar": {
             "outlinewidth": 0,
             "ticks": ""
            },
            "colorscale": [
             [
              0,
              "#0d0887"
             ],
             [
              0.1111111111111111,
              "#46039f"
             ],
             [
              0.2222222222222222,
              "#7201a8"
             ],
             [
              0.3333333333333333,
              "#9c179e"
             ],
             [
              0.4444444444444444,
              "#bd3786"
             ],
             [
              0.5555555555555556,
              "#d8576b"
             ],
             [
              0.6666666666666666,
              "#ed7953"
             ],
             [
              0.7777777777777778,
              "#fb9f3a"
             ],
             [
              0.8888888888888888,
              "#fdca26"
             ],
             [
              1,
              "#f0f921"
             ]
            ],
            "type": "contour"
           }
          ],
          "contourcarpet": [
           {
            "colorbar": {
             "outlinewidth": 0,
             "ticks": ""
            },
            "type": "contourcarpet"
           }
          ],
          "heatmap": [
           {
            "colorbar": {
             "outlinewidth": 0,
             "ticks": ""
            },
            "colorscale": [
             [
              0,
              "#0d0887"
             ],
             [
              0.1111111111111111,
              "#46039f"
             ],
             [
              0.2222222222222222,
              "#7201a8"
             ],
             [
              0.3333333333333333,
              "#9c179e"
             ],
             [
              0.4444444444444444,
              "#bd3786"
             ],
             [
              0.5555555555555556,
              "#d8576b"
             ],
             [
              0.6666666666666666,
              "#ed7953"
             ],
             [
              0.7777777777777778,
              "#fb9f3a"
             ],
             [
              0.8888888888888888,
              "#fdca26"
             ],
             [
              1,
              "#f0f921"
             ]
            ],
            "type": "heatmap"
           }
          ],
          "heatmapgl": [
           {
            "colorbar": {
             "outlinewidth": 0,
             "ticks": ""
            },
            "colorscale": [
             [
              0,
              "#0d0887"
             ],
             [
              0.1111111111111111,
              "#46039f"
             ],
             [
              0.2222222222222222,
              "#7201a8"
             ],
             [
              0.3333333333333333,
              "#9c179e"
             ],
             [
              0.4444444444444444,
              "#bd3786"
             ],
             [
              0.5555555555555556,
              "#d8576b"
             ],
             [
              0.6666666666666666,
              "#ed7953"
             ],
             [
              0.7777777777777778,
              "#fb9f3a"
             ],
             [
              0.8888888888888888,
              "#fdca26"
             ],
             [
              1,
              "#f0f921"
             ]
            ],
            "type": "heatmapgl"
           }
          ],
          "histogram": [
           {
            "marker": {
             "pattern": {
              "fillmode": "overlay",
              "size": 10,
              "solidity": 0.2
             }
            },
            "type": "histogram"
           }
          ],
          "histogram2d": [
           {
            "colorbar": {
             "outlinewidth": 0,
             "ticks": ""
            },
            "colorscale": [
             [
              0,
              "#0d0887"
             ],
             [
              0.1111111111111111,
              "#46039f"
             ],
             [
              0.2222222222222222,
              "#7201a8"
             ],
             [
              0.3333333333333333,
              "#9c179e"
             ],
             [
              0.4444444444444444,
              "#bd3786"
             ],
             [
              0.5555555555555556,
              "#d8576b"
             ],
             [
              0.6666666666666666,
              "#ed7953"
             ],
             [
              0.7777777777777778,
              "#fb9f3a"
             ],
             [
              0.8888888888888888,
              "#fdca26"
             ],
             [
              1,
              "#f0f921"
             ]
            ],
            "type": "histogram2d"
           }
          ],
          "histogram2dcontour": [
           {
            "colorbar": {
             "outlinewidth": 0,
             "ticks": ""
            },
            "colorscale": [
             [
              0,
              "#0d0887"
             ],
             [
              0.1111111111111111,
              "#46039f"
             ],
             [
              0.2222222222222222,
              "#7201a8"
             ],
             [
              0.3333333333333333,
              "#9c179e"
             ],
             [
              0.4444444444444444,
              "#bd3786"
             ],
             [
              0.5555555555555556,
              "#d8576b"
             ],
             [
              0.6666666666666666,
              "#ed7953"
             ],
             [
              0.7777777777777778,
              "#fb9f3a"
             ],
             [
              0.8888888888888888,
              "#fdca26"
             ],
             [
              1,
              "#f0f921"
             ]
            ],
            "type": "histogram2dcontour"
           }
          ],
          "mesh3d": [
           {
            "colorbar": {
             "outlinewidth": 0,
             "ticks": ""
            },
            "type": "mesh3d"
           }
          ],
          "parcoords": [
           {
            "line": {
             "colorbar": {
              "outlinewidth": 0,
              "ticks": ""
             }
            },
            "type": "parcoords"
           }
          ],
          "pie": [
           {
            "automargin": true,
            "type": "pie"
           }
          ],
          "scatter": [
           {
            "marker": {
             "colorbar": {
              "outlinewidth": 0,
              "ticks": ""
             }
            },
            "type": "scatter"
           }
          ],
          "scatter3d": [
           {
            "line": {
             "colorbar": {
              "outlinewidth": 0,
              "ticks": ""
             }
            },
            "marker": {
             "colorbar": {
              "outlinewidth": 0,
              "ticks": ""
             }
            },
            "type": "scatter3d"
           }
          ],
          "scattercarpet": [
           {
            "marker": {
             "colorbar": {
              "outlinewidth": 0,
              "ticks": ""
             }
            },
            "type": "scattercarpet"
           }
          ],
          "scattergeo": [
           {
            "marker": {
             "colorbar": {
              "outlinewidth": 0,
              "ticks": ""
             }
            },
            "type": "scattergeo"
           }
          ],
          "scattergl": [
           {
            "marker": {
             "colorbar": {
              "outlinewidth": 0,
              "ticks": ""
             }
            },
            "type": "scattergl"
           }
          ],
          "scattermapbox": [
           {
            "marker": {
             "colorbar": {
              "outlinewidth": 0,
              "ticks": ""
             }
            },
            "type": "scattermapbox"
           }
          ],
          "scatterpolar": [
           {
            "marker": {
             "colorbar": {
              "outlinewidth": 0,
              "ticks": ""
             }
            },
            "type": "scatterpolar"
           }
          ],
          "scatterpolargl": [
           {
            "marker": {
             "colorbar": {
              "outlinewidth": 0,
              "ticks": ""
             }
            },
            "type": "scatterpolargl"
           }
          ],
          "scatterternary": [
           {
            "marker": {
             "colorbar": {
              "outlinewidth": 0,
              "ticks": ""
             }
            },
            "type": "scatterternary"
           }
          ],
          "surface": [
           {
            "colorbar": {
             "outlinewidth": 0,
             "ticks": ""
            },
            "colorscale": [
             [
              0,
              "#0d0887"
             ],
             [
              0.1111111111111111,
              "#46039f"
             ],
             [
              0.2222222222222222,
              "#7201a8"
             ],
             [
              0.3333333333333333,
              "#9c179e"
             ],
             [
              0.4444444444444444,
              "#bd3786"
             ],
             [
              0.5555555555555556,
              "#d8576b"
             ],
             [
              0.6666666666666666,
              "#ed7953"
             ],
             [
              0.7777777777777778,
              "#fb9f3a"
             ],
             [
              0.8888888888888888,
              "#fdca26"
             ],
             [
              1,
              "#f0f921"
             ]
            ],
            "type": "surface"
           }
          ],
          "table": [
           {
            "cells": {
             "fill": {
              "color": "#EBF0F8"
             },
             "line": {
              "color": "white"
             }
            },
            "header": {
             "fill": {
              "color": "#C8D4E3"
             },
             "line": {
              "color": "white"
             }
            },
            "type": "table"
           }
          ]
         },
         "layout": {
          "annotationdefaults": {
           "arrowcolor": "#2a3f5f",
           "arrowhead": 0,
           "arrowwidth": 1
          },
          "autotypenumbers": "strict",
          "coloraxis": {
           "colorbar": {
            "outlinewidth": 0,
            "ticks": ""
           }
          },
          "colorscale": {
           "diverging": [
            [
             0,
             "#8e0152"
            ],
            [
             0.1,
             "#c51b7d"
            ],
            [
             0.2,
             "#de77ae"
            ],
            [
             0.3,
             "#f1b6da"
            ],
            [
             0.4,
             "#fde0ef"
            ],
            [
             0.5,
             "#f7f7f7"
            ],
            [
             0.6,
             "#e6f5d0"
            ],
            [
             0.7,
             "#b8e186"
            ],
            [
             0.8,
             "#7fbc41"
            ],
            [
             0.9,
             "#4d9221"
            ],
            [
             1,
             "#276419"
            ]
           ],
           "sequential": [
            [
             0,
             "#0d0887"
            ],
            [
             0.1111111111111111,
             "#46039f"
            ],
            [
             0.2222222222222222,
             "#7201a8"
            ],
            [
             0.3333333333333333,
             "#9c179e"
            ],
            [
             0.4444444444444444,
             "#bd3786"
            ],
            [
             0.5555555555555556,
             "#d8576b"
            ],
            [
             0.6666666666666666,
             "#ed7953"
            ],
            [
             0.7777777777777778,
             "#fb9f3a"
            ],
            [
             0.8888888888888888,
             "#fdca26"
            ],
            [
             1,
             "#f0f921"
            ]
           ],
           "sequentialminus": [
            [
             0,
             "#0d0887"
            ],
            [
             0.1111111111111111,
             "#46039f"
            ],
            [
             0.2222222222222222,
             "#7201a8"
            ],
            [
             0.3333333333333333,
             "#9c179e"
            ],
            [
             0.4444444444444444,
             "#bd3786"
            ],
            [
             0.5555555555555556,
             "#d8576b"
            ],
            [
             0.6666666666666666,
             "#ed7953"
            ],
            [
             0.7777777777777778,
             "#fb9f3a"
            ],
            [
             0.8888888888888888,
             "#fdca26"
            ],
            [
             1,
             "#f0f921"
            ]
           ]
          },
          "colorway": [
           "#636efa",
           "#EF553B",
           "#00cc96",
           "#ab63fa",
           "#FFA15A",
           "#19d3f3",
           "#FF6692",
           "#B6E880",
           "#FF97FF",
           "#FECB52"
          ],
          "font": {
           "color": "#2a3f5f"
          },
          "geo": {
           "bgcolor": "white",
           "lakecolor": "white",
           "landcolor": "#E5ECF6",
           "showlakes": true,
           "showland": true,
           "subunitcolor": "white"
          },
          "hoverlabel": {
           "align": "left"
          },
          "hovermode": "closest",
          "mapbox": {
           "style": "light"
          },
          "paper_bgcolor": "white",
          "plot_bgcolor": "#E5ECF6",
          "polar": {
           "angularaxis": {
            "gridcolor": "white",
            "linecolor": "white",
            "ticks": ""
           },
           "bgcolor": "#E5ECF6",
           "radialaxis": {
            "gridcolor": "white",
            "linecolor": "white",
            "ticks": ""
           }
          },
          "scene": {
           "xaxis": {
            "backgroundcolor": "#E5ECF6",
            "gridcolor": "white",
            "gridwidth": 2,
            "linecolor": "white",
            "showbackground": true,
            "ticks": "",
            "zerolinecolor": "white"
           },
           "yaxis": {
            "backgroundcolor": "#E5ECF6",
            "gridcolor": "white",
            "gridwidth": 2,
            "linecolor": "white",
            "showbackground": true,
            "ticks": "",
            "zerolinecolor": "white"
           },
           "zaxis": {
            "backgroundcolor": "#E5ECF6",
            "gridcolor": "white",
            "gridwidth": 2,
            "linecolor": "white",
            "showbackground": true,
            "ticks": "",
            "zerolinecolor": "white"
           }
          },
          "shapedefaults": {
           "line": {
            "color": "#2a3f5f"
           }
          },
          "ternary": {
           "aaxis": {
            "gridcolor": "white",
            "linecolor": "white",
            "ticks": ""
           },
           "baxis": {
            "gridcolor": "white",
            "linecolor": "white",
            "ticks": ""
           },
           "bgcolor": "#E5ECF6",
           "caxis": {
            "gridcolor": "white",
            "linecolor": "white",
            "ticks": ""
           }
          },
          "title": {
           "x": 0.05
          },
          "xaxis": {
           "automargin": true,
           "gridcolor": "white",
           "linecolor": "white",
           "ticks": "",
           "title": {
            "standoff": 15
           },
           "zerolinecolor": "white",
           "zerolinewidth": 2
          },
          "yaxis": {
           "automargin": true,
           "gridcolor": "white",
           "linecolor": "white",
           "ticks": "",
           "title": {
            "standoff": 15
           },
           "zerolinecolor": "white",
           "zerolinewidth": 2
          }
         }
        },
        "title": {
         "text": "GBP vs Total Greenhouse Gas Emissions"
        },
        "xaxis": {
         "range": [
          0,
          25000000000000
         ],
         "title": {
          "text": "GDP"
         }
        },
        "yaxis": {
         "title": {
          "text": "Total Emissions"
         }
        }
       }
      }
     },
     "metadata": {},
     "output_type": "display_data"
    }
   ],
   "source": [
    "\n",
    "fig = go.Figure(data=go.Scatter(x = combined_df[\"GDP\"], \n",
    "y = combined_df[\"Total\"], \n",
    "text = combined_df[\"Country\"],\n",
    "mode='markers',\n",
    "marker_color=combined_df['GDP']))\n",
    "\n",
    "fig.update_layout(title='GBP vs Total Greenhouse Gas Emissions', \n",
    "        xaxis_title = \"GDP\", \n",
    "        yaxis_title = \"Total Emissions\")\n",
    "fig.update_xaxes(range = [0, 2.5e13])\n",
    "\n",
    "trendline = px.scatter(combined_df, x = \"GDP\", y = \"Total\", trendline = \"ols\")\n",
    "trendline = trendline.data[1]\n",
    "\n",
    "fig.add_trace(go.Scatter(trendline,mode='lines', line=dict(color=\"red\")))\n",
    "\n",
    "fig.show()"
   ]
  },
  {
   "cell_type": "code",
   "execution_count": null,
   "metadata": {},
   "outputs": [],
   "source": []
  },
  {
   "cell_type": "markdown",
   "metadata": {},
   "source": []
  }
 ],
 "metadata": {
  "interpreter": {
   "hash": "aee8b7b246df8f9039afb4144a1f6fd8d2ca17a180786b69acc140d282b71a49"
  },
  "kernelspec": {
   "display_name": "Python 3.9.7 64-bit",
   "language": "python",
   "name": "python3"
  },
  "language_info": {
   "codemirror_mode": {
    "name": "ipython",
    "version": 3
   },
   "file_extension": ".py",
   "mimetype": "text/x-python",
   "name": "python",
   "nbconvert_exporter": "python",
   "pygments_lexer": "ipython3",
   "version": "3.9.7"
  },
  "orig_nbformat": 4
 },
 "nbformat": 4,
 "nbformat_minor": 2
}
