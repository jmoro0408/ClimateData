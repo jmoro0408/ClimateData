{
 "cells": [
  {
   "cell_type": "markdown",
   "id": "9fc459c8-d337-4abd-920d-4d5b97674ee2",
   "metadata": {},
   "source": [
    "# Imports and spark setup"
   ]
  },
  {
   "cell_type": "code",
   "execution_count": 173,
   "id": "66dbe330-50b0-4ee3-af4a-e6a9587a6413",
   "metadata": {},
   "outputs": [],
   "source": [
    "import sys, os\n",
    "sys.path.insert(0, os.path.abspath('..'))\n",
    "import findspark\n",
    "findspark.init()\n",
    "import pyspark\n",
    "import random\n",
    "from pyspark.sql import SparkSession\n",
    "from pathlib import Path\n",
    "from src.utils import DisplayablePath\n",
    "from pyspark.sql import SQLContext\n",
    "import pyspark.sql.functions as F\n",
    "import plotly.graph_objects as go\n",
    "import plotly.express as px\n",
    "import pandas as pd\n",
    "import matplotlib.pyplot as plt\n",
    "import numpy as np\n",
    "import ipywidgets as widgets"
   ]
  },
  {
   "cell_type": "code",
   "execution_count": 2,
   "id": "821b63b0-ba00-4f48-8cc2-bb4e99009a75",
   "metadata": {},
   "outputs": [],
   "source": [
    "def count_missings(spark_df,sort=True):\n",
    "    \"\"\"\n",
    "    Counts number of nulls and nans in each column\n",
    "    \"\"\"\n",
    "    df = spark_df.select([F.count(F.when(F.isnan(c) | F.isnull(c), c)).alias(c) for (c,c_type) in spark_df.dtypes if c_type not in ('timestamp', 'string', 'date')]).toPandas()\n",
    "\n",
    "    if len(df) == 0:\n",
    "        print(\"There are no any missing values!\")\n",
    "        return None\n",
    "\n",
    "    if sort:\n",
    "        return df.rename(index={0: 'count'}).T.sort_values(\"count\",ascending=False)\n",
    "\n",
    "    return df"
   ]
  },
  {
   "cell_type": "code",
   "execution_count": 3,
   "id": "cb8025ca-4722-4e94-a1b4-36d5c76660a1",
   "metadata": {},
   "outputs": [],
   "source": [
    "def spark_read_csv(filepath):\n",
    "    df = spark.read.load(filepath,format=\"csv\", inferSchema=\"true\", header=\"true\")\n",
    "    return df"
   ]
  },
  {
   "cell_type": "code",
   "execution_count": 4,
   "id": "62199f4f-9977-46e4-8bb8-af175c646e7b",
   "metadata": {},
   "outputs": [],
   "source": [
    "def dataframe_summary(df):\n",
    "    print(\"----------------------\")\n",
    "    #print(df.head(2))\n",
    "    print(df.printSchema())\n",
    "    print(f\"There are {df.count()} rows\")\n",
    "    "
   ]
  },
  {
   "cell_type": "code",
   "execution_count": 5,
   "id": "4618a0ec-215d-4d78-ac5e-54d35771f35b",
   "metadata": {},
   "outputs": [],
   "source": [
    "def stop_spark():\n",
    "    return sc.stop()"
   ]
  },
  {
   "cell_type": "code",
   "execution_count": 6,
   "id": "797707ec-a18d-4ff8-a6f7-64fa0cbe9e40",
   "metadata": {},
   "outputs": [],
   "source": [
    "APPNAME=\"ClimateChange\""
   ]
  },
  {
   "cell_type": "code",
   "execution_count": 7,
   "id": "2862cc1f-11ad-4ca9-a637-cf7fc7dbea21",
   "metadata": {},
   "outputs": [
    {
     "name": "stderr",
     "output_type": "stream",
     "text": [
      "21/11/13 11:38:19 WARN NativeCodeLoader: Unable to load native-hadoop library for your platform... using builtin-java classes where applicable\n",
      "/Users/jamesmoro/server/spark-3.2.0-bin-hadoop3.2/python/pyspark/sql/context.py:77: FutureWarning: Deprecated in 3.0.0. Use SparkSession.builder.getOrCreate() instead.\n",
      "  warnings.warn(\n"
     ]
    }
   ],
   "source": [
    "spark = SparkSession.builder.appName(APPNAME).getOrCreate()\n",
    "sc = spark.sparkContext\n",
    "sqlContext = SQLContext(spark)"
   ]
  },
  {
   "cell_type": "code",
   "execution_count": 7,
   "id": "ddc1bad5-525d-4c6c-a63a-c77d60c33eea",
   "metadata": {},
   "outputs": [],
   "source": [
    "stop_spark()"
   ]
  },
  {
   "cell_type": "markdown",
   "id": "7b3e607f-4d09-4b56-bce5-742646380242",
   "metadata": {},
   "source": [
    "# Data Imports"
   ]
  },
  {
   "cell_type": "code",
   "execution_count": 8,
   "id": "d86e60e6-1f43-4203-a94d-1263c1e71b68",
   "metadata": {},
   "outputs": [
    {
     "name": "stdout",
     "output_type": "stream",
     "text": [
      "raw/\n",
      "├── .DS_Store\n",
      "├── .gitkeep\n",
      "├── climate_change_download_0.xls\n",
      "├── GlobalTemperatures/\n",
      "│   ├── GlobalLandTemperaturesByCity.csv\n",
      "│   ├── GlobalLandTemperaturesByCountry.csv\n",
      "│   ├── GlobalLandTemperaturesByMajorCity.csv\n",
      "│   ├── GlobalLandTemperaturesByState.csv\n",
      "│   ├── GlobalTemperatures.csv\n",
      "│   └── metadata.txt\n",
      "└── UNGreenhouseGasInventoryData/\n",
      "    ├── .DS_Store\n",
      "    ├── Co2.csv\n",
      "    ├── Hydrofluorocarbons.csv\n",
      "    ├── metadata.txt\n",
      "    ├── Methane.csv\n",
      "    ├── Nitrogen_trifluoride.csv\n",
      "    ├── Nitrous_oxide.csv\n",
      "    ├── Perfluorocarbons.csv\n",
      "    └── Sulphur_hexafluoride.csv\n"
     ]
    }
   ],
   "source": [
    "DATA_DIR = r\"/Users/jamesmoro/Documents/Python/ClimateData/data/raw\"\n",
    "paths = DisplayablePath.make_tree(Path(DATA_DIR))\n",
    "for path in paths:\n",
    "    print(path.displayable())"
   ]
  },
  {
   "cell_type": "code",
   "execution_count": 9,
   "id": "0429763f-3717-49e7-98d7-e6ab5a008c1c",
   "metadata": {},
   "outputs": [],
   "source": [
    "GLOBALTEMP_DIR = Path(r\"/Users/jamesmoro/Documents/Python/ClimateData/data/raw\", \"GlobalTemperatures/\")\n",
    "GLOBALTEMPS_FILES = [\n",
    "    \"GlobalLandTemperaturesByCity\",\n",
    "    \"GlobalLandTemperaturesByCountry\",\n",
    "    \"GlobalLandTemperaturesByMajorCity\",\n",
    "    \"GlobalLandTemperaturesByState\",\n",
    "    \"GlobalTemperatures\"\n",
    "]"
   ]
  },
  {
   "cell_type": "code",
   "execution_count": 10,
   "id": "2c1897cd-b2c8-4420-9cfb-57ba13c652cc",
   "metadata": {},
   "outputs": [],
   "source": [
    "globaltemps_paths = [str(Path(GLOBALTEMP_DIR,file+\".csv\")) for file in GLOBALTEMPS_FILES] #have to convert back to str to read in spark"
   ]
  },
  {
   "cell_type": "code",
   "execution_count": 11,
   "id": "3059f0be-5b91-4ede-9dc9-6cd36f198152",
   "metadata": {},
   "outputs": [],
   "source": [
    "GREENHOUSEGAS_DIR = Path(r\"/Users/jamesmoro/Documents/Python/ClimateData/data/raw\", \"UNGreenhouseGasInventoryData/\")\n",
    "\n",
    "GREENHOUSEGAS_FILES = [\n",
    "    \"Co2\", \n",
    "    \"Hydrofluorocarbons\",\n",
    "    \"Methane\", \n",
    "    \"Nitrogen_trifluoride\", \n",
    "    \"Nitrous_oxide\",\n",
    "    \"Perfluorocarbons\",\n",
    "    \"Sulphur_hexafluoride\",\n",
    "]"
   ]
  },
  {
   "cell_type": "markdown",
   "id": "690aede9-12ba-4634-9c57-7db2184392f8",
   "metadata": {},
   "source": [
    "### Greenhouse Gas Files"
   ]
  },
  {
   "cell_type": "code",
   "execution_count": 12,
   "id": "60128f6c-60ac-4321-825c-c1dbac281059",
   "metadata": {},
   "outputs": [],
   "source": [
    "greenhousegas_paths = [str(Path(GREENHOUSEGAS_DIR,file+\".csv\")) for file in GREENHOUSEGAS_FILES]"
   ]
  },
  {
   "cell_type": "code",
   "execution_count": 13,
   "id": "3db7b3c8-5a1e-42a6-bf0b-8f5368099468",
   "metadata": {},
   "outputs": [
    {
     "name": "stderr",
     "output_type": "stream",
     "text": [
      "                                                                                \r"
     ]
    },
    {
     "name": "stdout",
     "output_type": "stream",
     "text": [
      "+---------------+----+----------------+\n",
      "|Country or Area|Year|           Value|\n",
      "+---------------+----+----------------+\n",
      "|      Australia|2018|415953.946668257|\n",
      "|      Australia|2017| 415097.42766819|\n",
      "+---------------+----+----------------+\n",
      "only showing top 2 rows\n",
      "\n"
     ]
    }
   ],
   "source": [
    "spark_read_csv(greenhousegas_paths[0]).show(2)"
   ]
  },
  {
   "cell_type": "code",
   "execution_count": 14,
   "id": "f9358e32-eec8-4cc9-9c95-43af101d30e2",
   "metadata": {},
   "outputs": [
    {
     "data": {
      "text/plain": [
       "{'Co2': 1247,\n",
       " 'Hydrofluorocarbons': 1149,\n",
       " 'Methane': 1247,\n",
       " 'Nitrogen_trifluoride': 316,\n",
       " 'Nitrous_oxide': 1247,\n",
       " 'Perfluorocarbons': 978,\n",
       " 'Sulphur_hexafluoride': 1207}"
      ]
     },
     "execution_count": 14,
     "metadata": {},
     "output_type": "execute_result"
    }
   ],
   "source": [
    "greenhousegas_count = {Path(file).stem:(spark_read_csv(file)).count() for file in greenhousegas_paths}\n",
    "greenhousegas_count"
   ]
  },
  {
   "cell_type": "code",
   "execution_count": 32,
   "id": "257e1cdb-f670-48a9-86df-54f209d09292",
   "metadata": {},
   "outputs": [],
   "source": [
    "CO2 = spark_read_csv(greenhousegas_paths[0])\n",
    "HFC = spark_read_csv(greenhousegas_paths[1])\n",
    "CH4 = spark_read_csv(greenhousegas_paths[2])\n",
    "NF3 = spark_read_csv(greenhousegas_paths[3])\n",
    "N20 = spark_read_csv(greenhousegas_paths[4])\n",
    "PFC = spark_read_csv(greenhousegas_paths[5])\n",
    "SF6 = spark_read_csv(greenhousegas_paths[6])\n"
   ]
  },
  {
   "cell_type": "code",
   "execution_count": 30,
   "id": "0ea90814-2252-4687-9ab0-2e13de5a82ef",
   "metadata": {},
   "outputs": [
    {
     "name": "stdout",
     "output_type": "stream",
     "text": [
      "root\n",
      " |-- Country or Area: string (nullable = true)\n",
      " |-- Year: integer (nullable = true)\n",
      " |-- Value: double (nullable = true)\n",
      "\n",
      "+---------------+----+----------------+\n",
      "|Country or Area|Year|           Value|\n",
      "+---------------+----+----------------+\n",
      "|      Australia|2018|415953.946668257|\n",
      "|      Australia|2017| 415097.42766819|\n",
      "|      Australia|2016|411031.531117043|\n",
      "|      Australia|2015|401554.757230168|\n",
      "|      Australia|2014|394116.891505507|\n",
      "+---------------+----+----------------+\n",
      "only showing top 5 rows\n",
      "\n"
     ]
    }
   ],
   "source": [
    "CO2.printSchema()\n",
    "CO2.show(5)"
   ]
  },
  {
   "cell_type": "code",
   "execution_count": 48,
   "id": "b183c994-343b-48fe-9841-d9c6cfb82941",
   "metadata": {},
   "outputs": [
    {
     "name": "stdout",
     "output_type": "stream",
     "text": [
      "+-------------------------------+\n",
      "|count(DISTINCT Country or Area)|\n",
      "+-------------------------------+\n",
      "|                             43|\n",
      "+-------------------------------+\n",
      "\n"
     ]
    }
   ],
   "source": [
    "CO2.select(F.countDistinct(\"Country or Area\")).show()"
   ]
  },
  {
   "cell_type": "markdown",
   "id": "cb4f162a-e38c-4fad-a63e-75edb7be8a9c",
   "metadata": {},
   "source": [
    "43 different countries"
   ]
  },
  {
   "cell_type": "code",
   "execution_count": 58,
   "id": "b3c7cbf9-d3eb-4e38-837a-ae8dca1d2f8f",
   "metadata": {},
   "outputs": [
    {
     "name": "stdout",
     "output_type": "stream",
     "text": [
      "+---------+\n",
      "|min(Year)|\n",
      "+---------+\n",
      "|     1990|\n",
      "+---------+\n",
      "\n",
      "+---------+\n",
      "|max(Year)|\n",
      "+---------+\n",
      "|     2018|\n",
      "+---------+\n",
      "\n"
     ]
    }
   ],
   "source": [
    "CO2.agg({\"Year\":\"min\"}).show()\n",
    "CO2.agg({\"Year\":\"max\"}).show()"
   ]
  },
  {
   "cell_type": "markdown",
   "id": "1c811773-db18-49f4-b159-e16377c7b4e6",
   "metadata": {},
   "source": [
    "# Plotting Emissions"
   ]
  },
  {
   "cell_type": "code",
   "execution_count": 139,
   "id": "e8d9e72f-1c20-47e6-99ff-701562fdc1ae",
   "metadata": {},
   "outputs": [],
   "source": [
    "CO2_df = CO2.select(\"*\").toPandas()\n",
    "HFC_df = HFC.select(\"*\").toPandas()\n",
    "CH4_df = CH4.select(\"*\").toPandas()\n",
    "NF3_df = NF3.select(\"*\").toPandas()\n",
    "N20_df = N20.select(\"*\").toPandas()\n",
    "PFC_df = PFC.select(\"*\").toPandas()\n",
    "SF6_df = SF6.select(\"*\").toPandas()\n",
    "greenhouse_gas_dfs = [CO2_df,\n",
    "HFC_df,\n",
    "CH4_df,\n",
    "NF3_df,\n",
    "N20_df,\n",
    "PFC_df,\n",
    "SF6_df,\n",
    "]"
   ]
  },
  {
   "cell_type": "code",
   "execution_count": 149,
   "id": "b257d51e-a751-4aca-a0aa-9ec20ca31385",
   "metadata": {},
   "outputs": [],
   "source": [
    "countries = CO2_df.sort_values(by=\"Value\", ascending = False)[\"Country or Area\"].unique()"
   ]
  },
  {
   "cell_type": "code",
   "execution_count": 152,
   "id": "17cd0351-c848-4823-90f5-42efade7cde1",
   "metadata": {},
   "outputs": [
    {
     "data": {
      "text/plain": [
       "<matplotlib.legend.Legend at 0x12c08eb20>"
      ]
     },
     "execution_count": 152,
     "metadata": {},
     "output_type": "execute_result"
    },
    {
     "data": {
      "image/png": "[encoded data removed]",
      "text/plain": [
       "<Figure size 1440x1440 with 7 Axes>"
      ]
     },
     "metadata": {
      "needs_background": "light"
     },
     "output_type": "display_data"
    }
   ],
   "source": [
    "number_of_plots = len(countries)\n",
    "\n",
    "fig, axs = plt.subplots(nrows = 7, ncols =1, sharex = True, figsize = (20,20))\n",
    "colormap = plt.cm.nipy_spectral\n",
    "colors = [colormap(i) for i in np.linspace(0, 1,number_of_plots)]\n",
    "\n",
    "for ax in axs.flat:\n",
    "    ax.set_prop_cycle('color', colors)\n",
    "\n",
    "for graph_index,df in enumerate(greenhouse_gas_dfs):\n",
    "    for country in countries:\n",
    "        df_plot = df[df[\"Country or Area\"] == country] \n",
    "        axs[graph_index].plot(df_plot[\"Year\"], df_plot[\"Value\"], label = country)\n",
    "\n",
    "axs[0].set(title=\"Carbon Dioxide\")\n",
    "axs[1].set(title=\"Hydrofluorocarbons\")\n",
    "axs[2].set(title=\"Methane\")\n",
    "axs[3].set(title=\"Nitrogen trifluoride\")\n",
    "axs[4].set(title=\"Nitrous Oxide\")\n",
    "axs[5].set(title=\"Perfluorocarbons\")\n",
    "axs[6].set(title=\"Sulphur hexafluoride\", xlabel=\"Year\")\n",
    "for ax in axs.flat:\n",
    "    ax.set(ylabel=\"Tonnes\")\n",
    "    \n",
    "axs[0].legend(bbox_to_anchor=(1.01, 1.0))\n"
   ]
  },
  {
   "cell_type": "code",
   "execution_count": 194,
   "id": "3bd52b62-6750-478d-9b2b-845f6e259df1",
   "metadata": {},
   "outputs": [],
   "source": [
    "choropleth_name_df_dict={\n",
    "    \"Carbon Dioxide\": CO2_df,\n",
    "\"Hydrofluorocarbons\":HFC_df,\n",
    "\"Methane\":CH4_df,\n",
    "\"Nitrogen trifluoride\":NF3_df,\n",
    "\"Nitrous Oxide\":N20_df,\n",
    "\"Perfluorocarbons\":PFC_df,\n",
    "\"Sulphur hexafluoride\":SF6_df,\n",
    "}"
   ]
  },
  {
   "cell_type": "code",
   "execution_count": 195,
   "id": "78f214ed-d150-42f1-92bc-6994881ef9a9",
   "metadata": {},
   "outputs": [
    {
     "data": {
      "application/vnd.jupyter.widget-view+json": {
       "model_id": "645ea3ef1947415fb2b3bf236f0a176d",
       "version_major": 2,
       "version_minor": 0
      },
      "text/plain": [
       "Select(description='GHG', options=('Carbon Dioxide', 'Hydrofluorocarbons', 'Methane', 'Nitrogen trifluoride', …"
      ]
     },
     "metadata": {},
     "output_type": "display_data"
    }
   ],
   "source": [
    "choropleth_choice=widgets.Select(\n",
    "    options=[\"Carbon Dioxide\",\n",
    "\"Hydrofluorocarbons\",\n",
    "\"Methane\",\n",
    "\"Nitrogen trifluoride\",\n",
    "\"Nitrous Oxide\",\n",
    "\"Perfluorocarbons\",\n",
    "\"Sulphur hexafluoride\",\n",
    "],\n",
    "    value='Carbon Dioxide',\n",
    "    # rows=10,\n",
    "    description='GHG',\n",
    "    disabled=False\n",
    ")\n",
    "display(choropleth_choice)"
   ]
  },
  {
   "cell_type": "code",
   "execution_count": 209,
   "id": "9fe9f5c7-6448-45b2-859e-92a23b47f7d7",
   "metadata": {},
   "outputs": [
    {
     "data": {
      "application/vnd.plotly.v1+json": {
       "config": {
        "plotlyServerURL": "https://plot.ly"
       },
       "data": [
        {
         "coloraxis": "coloraxis",
         "customdata": [
          [
           6128429.64048722
          ],
          [
           82.7684235598408
          ],
          [
           336368.497828037
          ],
          [
           594220.570759443
          ],
          [
           368432.698383462
          ],
          [
           1604323.81361381
          ],
          [
           66760.3029952172
          ],
          [
           409033.413473519
          ],
          [
           58688.6259516226
          ],
          [
           336364.013523953
          ],
          [
           114592.335161648
          ],
          [
           63569.9283051038
          ],
          [
           15797.7873514163
          ],
          [
           17281.0017099016
          ],
          [
           52940.9044464416
          ],
          [
           487693.305512201
          ],
          [
           56102.0354321429
          ],
          [
           172587.180339288
          ],
          [
           41095.1064916103
          ],
          [
           200.767422348734
          ],
          [
           1302524.28495402
          ],
          [
           399842.460646105
          ],
          [
           120496.161555536
          ],
          [
           74262.5877706597
          ],
          [
           312736.708478018
          ],
          [
           851383.304869504
          ],
          [
           4272760.08079702
          ],
          [
           47665.1296631784
          ],
          [
           8631.98906677741
          ],
          [
           560205.595545064
          ],
          [
           36559.8842863292
          ],
          [
           62280.4229719127
          ],
          [
           2735.72320641265
          ],
          [
           11333.5839357874
          ],
          [
           24843.8124351008
          ],
          [
           43368.3664038924
          ],
          [
           128264.329658795
          ],
          [
           46231.2860161085
          ],
          [
           8538.9183257027
          ],
          [
           108440.49325638
          ],
          [
           55740.8447678207
          ],
          [
           3512.09802280345
          ],
          [
           19838.5633966356
          ]
         ],
         "geo": "geo",
         "hovertemplate": "<b>%{hovertext}</b><br><br>Year=2007<br>Country or Area=%{location}<br>Value=%{z}<extra></extra>",
         "hovertext": [
          "United States of America",
          "Monaco",
          "Poland",
          "Canada",
          "Spain",
          "Russian Federation",
          "Finland",
          "France",
          "Hungary",
          "Ukraine",
          "Greece",
          "Belarus",
          "Lithuania",
          "Slovenia",
          "Sweden",
          "Italy",
          "Denmark",
          "Netherlands",
          "Slovakia",
          "Liechtenstein",
          "Japan",
          "Australia",
          "Belgium",
          "Austria",
          "Turkey",
          "Germany",
          "European Union",
          "Ireland",
          "Latvia",
          "United Kingdom",
          "New Zealand",
          "Portugal",
          "Malta",
          "Luxembourg",
          "Croatia",
          "Switzerland",
          "Czechia",
          "Norway",
          "Cyprus",
          "Romania",
          "Bulgaria",
          "Iceland",
          "Estonia"
         ],
         "locationmode": "country names",
         "locations": [
          "United States of America",
          "Monaco",
          "Poland",
          "Canada",
          "Spain",
          "Russian Federation",
          "Finland",
          "France",
          "Hungary",
          "Ukraine",
          "Greece",
          "Belarus",
          "Lithuania",
          "Slovenia",
          "Sweden",
          "Italy",
          "Denmark",
          "Netherlands",
          "Slovakia",
          "Liechtenstein",
          "Japan",
          "Australia",
          "Belgium",
          "Austria",
          "Turkey",
          "Germany",
          "European Union",
          "Ireland",
          "Latvia",
          "United Kingdom",
          "New Zealand",
          "Portugal",
          "Malta",
          "Luxembourg",
          "Croatia",
          "Switzerland",
          "Czechia",
          "Norway",
          "Cyprus",
          "Romania",
          "Bulgaria",
          "Iceland",
          "Estonia"
         ],
         "name": "",
         "type": "choropleth",
         "z": [
          6128429.64048722,
          82.7684235598408,
          336368.497828037,
          594220.570759443,
          368432.698383462,
          1604323.81361381,
          66760.3029952172,
          409033.413473519,
          58688.6259516226,
          336364.013523953,
          114592.335161648,
          63569.9283051038,
          15797.7873514163,
          17281.0017099016,
          52940.9044464416,
          487693.305512201,
          56102.0354321429,
          172587.180339288,
          41095.1064916103,
          200.767422348734,
          1302524.28495402,
          399842.460646105,
          120496.161555536,
          74262.5877706597,
          312736.708478018,
          851383.304869504,
          4272760.08079702,
          47665.1296631784,
          8631.98906677741,
          560205.595545064,
          36559.8842863292,
          62280.4229719127,
          2735.72320641265,
          11333.5839357874,
          24843.8124351008,
          43368.3664038924,
          128264.329658795,
          46231.2860161085,
          8538.9183257027,
          108440.49325638,
          55740.8447678207,
          3512.09802280345,
          19838.5633966356
         ]
        }
       ],
       "frames": [
        {
         "data": [
          {
           "coloraxis": "coloraxis",
           "customdata": [
            [
             5128300.6168513
            ],
            [
             403307.236177174
            ],
            [
             25446.2878554093
            ],
            [
             56971.874271446
            ],
            [
             35321.326080573
            ],
            [
             103689.711004985
            ],
            [
             376546.517951405
            ],
            [
             705829.991803785
            ],
            [
             36907.2375398999
            ],
            [
             45082.9718484685
            ],
            [
             54845.6744775156
            ],
            [
             169285.872691812
            ],
            [
             164204.205712975
            ],
            [
             2525293.78247628
            ],
            [
             62124.7007131878
            ],
            [
             4656.89357909686
            ],
            [
             61633.4625976502
            ],
            [
             23329.2494340722
            ],
            [
             15093.8383654949
            ],
            [
             462117.351149139
            ],
            [
             231213.556131095
            ],
            [
             76698.9750767925
            ],
            [
             151508.467579803
            ],
            [
             57348.8248895493
            ],
            [
             120309.34284971
            ],
            [
             44154.4209480848
            ],
            [
             162385.109422551
            ],
            [
             278424.660375653
            ],
            [
             4466227.83368469
            ],
            [
             73464.8538219331
            ],
            [
             438008.802199713
            ],
            [
             35771.8157080354
            ],
            [
             198.967925612674
            ],
            [
             2408.46332514049
            ],
            [
             2247.80292086045
            ],
            [
             19504.1309234086
            ],
            [
             11847.635442146
            ],
            [
             601187.186814322
            ],
            [
             1158391.31118915
            ],
            [
             1052348.54443457
            ],
            [
             98.227705387591
            ],
            [
             32944.3277756795
            ],
            [
             83425.5481500187
            ]
           ],
           "geo": "geo",
           "hovertemplate": "<b>%{hovertext}</b><br><br>Year=1990<br>Country or Area=%{location}<br>Value=%{z}<extra></extra>",
           "hovertext": [
            "United States of America",
            "France",
            "New Zealand",
            "Finland",
            "Norway",
            "Belarus",
            "Poland",
            "Ukraine",
            "Estonia",
            "Portugal",
            "Denmark",
            "Romania",
            "Czechia",
            "Russian Federation",
            "Austria",
            "Cyprus",
            "Slovakia",
            "Croatia",
            "Slovenia",
            "Canada",
            "Spain",
            "Bulgaria",
            "Turkey",
            "Sweden",
            "Belgium",
            "Switzerland",
            "Netherlands",
            "Australia",
            "European Union",
            "Hungary",
            "Italy",
            "Lithuania",
            "Liechtenstein",
            "Malta",
            "Iceland",
            "Latvia",
            "Luxembourg",
            "United Kingdom",
            "Japan",
            "Germany",
            "Monaco",
            "Ireland",
            "Greece"
           ],
           "locationmode": "country names",
           "locations": [
            "United States of America",
            "France",
            "New Zealand",
            "Finland",
            "Norway",
            "Belarus",
            "Poland",
            "Ukraine",
            "Estonia",
            "Portugal",
            "Denmark",
            "Romania",
            "Czechia",
            "Russian Federation",
            "Austria",
            "Cyprus",
            "Slovakia",
            "Croatia",
            "Slovenia",
            "Canada",
            "Spain",
            "Bulgaria",
            "Turkey",
            "Sweden",
            "Belgium",
            "Switzerland",
            "Netherlands",
            "Australia",
            "European Union",
            "Hungary",
            "Italy",
            "Lithuania",
            "Liechtenstein",
            "Malta",
            "Iceland",
            "Latvia",
            "Luxembourg",
            "United Kingdom",
            "Japan",
            "Germany",
            "Monaco",
            "Ireland",
            "Greece"
           ],
           "name": "",
           "type": "choropleth",
           "z": [
            5128300.6168513,
            403307.236177174,
            25446.2878554093,
            56971.874271446,
            35321.326080573,
            103689.711004985,
            376546.517951405,
            705829.991803785,
            36907.2375398999,
            45082.9718484685,
            54845.6744775156,
            169285.872691812,
            164204.205712975,
            2525293.78247628,
            62124.7007131878,
            4656.89357909686,
            61633.4625976502,
            23329.2494340722,
            15093.8383654949,
            462117.351149139,
            231213.556131095,
            76698.9750767925,
            151508.467579803,
            57348.8248895493,
            120309.34284971,
            44154.4209480848,
            162385.109422551,
            278424.660375653,
            4466227.83368469,
            73464.8538219331,
            438008.802199713,
            35771.8157080354,
            198.967925612674,
            2408.46332514049,
            2247.80292086045,
            19504.1309234086,
            11847.635442146,
            601187.186814322,
            1158391.31118915,
            1052348.54443457,
            98.227705387591,
            32944.3277756795,
            83425.5481500187
           ]
          }
         ],
         "name": "1990"
        },
        {
         "data": [
          {
           "coloraxis": "coloraxis",
           "customdata": [
            [
             240953.020775618
            ],
            [
             17182.3020573119
            ],
            [
             14001.2386768891
            ],
            [
             37851.5885217633
            ],
            [
             1014199.71521822
            ],
            [
             452494.723086163
            ],
            [
             57707.2230393214
            ],
            [
             206.326470539648
            ],
            [
             61232.5967315523
            ],
            [
             1170065.7288122
            ],
            [
             46133.821039985
            ],
            [
             123382.082307765
            ],
            [
             17783.1202562515
            ],
            [
             157982.004627358
            ],
            [
             437538.596512975
            ],
            [
             5146.60855540231
            ],
            [
             148894.127444014
            ],
            [
             53437.9015504419
            ],
            [
             170796.382524118
            ],
            [
             26110.3840307702
            ],
            [
             428927.106679341
            ],
            [
             83401.1206733625
            ],
            [
             33816.4572582708
            ],
            [
             55230.4040849182
            ],
            [
             98.9081435670137
            ],
            [
             373793.320540164
            ],
            [
             33674.0092451123
            ],
            [
             4413593.52793634
            ],
            [
             46960.2573109118
            ],
            [
             2255.38870041539
            ],
            [
             33901.774830474
            ],
            [
             139370.253165321
            ],
            [
             2128.40965980434
            ],
            [
             65428.3455260962
            ],
            [
             2395977.95961775
            ],
            [
             12465.7877967775
            ],
            [
             69784.5192033522
            ],
            [
             96647.1252823627
            ],
            [
             5078889.57588522
            ],
            [
             279872.660257341
            ],
            [
             609266.002027072
            ],
            [
             65725.5331115649
            ],
            [
             632536.626065897
            ]
           ],
           "geo": "geo",
           "hovertemplate": "<b>%{hovertext}</b><br><br>Year=1991<br>Country or Area=%{location}<br>Value=%{z}<extra></extra>",
           "hovertext": [
            "Spain",
            "Croatia",
            "Slovenia",
            "Lithuania",
            "Germany",
            "Canada",
            "Sweden",
            "Liechtenstein",
            "Bulgaria",
            "Japan",
            "Switzerland",
            "Belgium",
            "Latvia",
            "Turkey",
            "Italy",
            "Cyprus",
            "Czechia",
            "Slovakia",
            "Netherlands",
            "New Zealand",
            "France",
            "Greece",
            "Norway",
            "Finland",
            "Monaco",
            "Poland",
            "Ireland",
            "European Union",
            "Portugal",
            "Malta",
            "Estonia",
            "Romania",
            "Iceland",
            "Denmark",
            "Russian Federation",
            "Luxembourg",
            "Hungary",
            "Belarus",
            "United States of America",
            "Australia",
            "United Kingdom",
            "Austria",
            "Ukraine"
           ],
           "locationmode": "country names",
           "locations": [
            "Spain",
            "Croatia",
            "Slovenia",
            "Lithuania",
            "Germany",
            "Canada",
            "Sweden",
            "Liechtenstein",
            "Bulgaria",
            "Japan",
            "Switzerland",
            "Belgium",
            "Latvia",
            "Turkey",
            "Italy",
            "Cyprus",
            "Czechia",
            "Slovakia",
            "Netherlands",
            "New Zealand",
            "France",
            "Greece",
            "Norway",
            "Finland",
            "Monaco",
            "Poland",
            "Ireland",
            "European Union",
            "Portugal",
            "Malta",
            "Estonia",
            "Romania",
            "Iceland",
            "Denmark",
            "Russian Federation",
            "Luxembourg",
            "Hungary",
            "Belarus",
            "United States of America",
            "Australia",
            "United Kingdom",
            "Austria",
            "Ukraine"
           ],
           "name": "",
           "type": "choropleth",
           "z": [
            240953.020775618,
            17182.3020573119,
            14001.2386768891,
            37851.5885217633,
            1014199.71521822,
            452494.723086163,
            57707.2230393214,
            206.326470539648,
            61232.5967315523,
            1170065.7288122,
            46133.821039985,
            123382.082307765,
            17783.1202562515,
            157982.004627358,
            437538.596512975,
            5146.60855540231,
            148894.127444014,
            53437.9015504419,
            170796.382524118,
            26110.3840307702,
            428927.106679341,
            83401.1206733625,
            33816.4572582708,
            55230.4040849182,
            98.9081435670137,
            373793.320540164,
            33674.0092451123,
            4413593.52793634,
            46960.2573109118,
            2255.38870041539,
            33901.774830474,
            139370.253165321,
            2128.40965980434,
            65428.3455260962,
            2395977.95961775,
            12465.7877967775,
            69784.5192033522,
            96647.1252823627,
            5078889.57588522,
            279872.660257341,
            609266.002027072,
            65725.5331115649,
            632536.626065897
           ]
          }
         ],
         "name": "1991"
        },
        {
         "data": [
          {
           "coloraxis": "coloraxis",
           "customdata": [
            [
             60204.0685273764
            ],
            [
             21200.577166719
            ],
            [
             33494.9281671375
            ],
            [
             84982.7106282307
            ],
            [
             46009.7044340782
            ],
            [
             4271808.70308717
            ],
            [
             364677.869650621
            ],
            [
             54285.5264761443
            ],
            [
             12232.160311753
            ],
            [
             2274.26706705902
            ],
            [
             34734.7476284046
            ],
            [
             418231.023879481
            ],
            [
             62415.941917704
            ],
            [
             2314.9023423236
            ],
            [
             122507.842211766
            ],
            [
             28105.0746158788
            ],
            [
             467037.420143524
            ],
            [
             593745.973865002
            ],
            [
             965889.812792495
            ],
            [
             57010.4320427525
            ],
            [
             104.510329341545
            ],
            [
             57451.4900177651
            ],
            [
             284912.437867139
            ],
            [
             170630.241424131
            ],
            [
             249813.194397124
            ],
            [
             14006.7490772864
            ],
            [
             16506.0770001773
            ],
            [
             206.948071672218
            ],
            [
             5522.90561895422
            ],
            [
             5182706.71965945
            ],
            [
             14079.8294200053
            ],
            [
             49029.1359385678
            ],
            [
             59595.5885790738
            ],
            [
             131072.276566846
            ],
            [
             589060.250850739
            ],
            [
             163922.249650552
            ],
            [
             1179740.09775167
            ],
            [
             437829.803945848
            ],
            [
             144619.022012991
            ],
            [
             88662.012949414
            ],
            [
             24370.4619672399
            ],
            [
             50889.1687666769
            ],
            [
             1957658.89440788
            ]
           ],
           "geo": "geo",
           "hovertemplate": "<b>%{hovertext}</b><br><br>Year=1992<br>Country or Area=%{location}<br>Value=%{z}<extra></extra>",
           "hovertext": [
            "Austria",
            "Lithuania",
            "Ireland",
            "Greece",
            "Switzerland",
            "European Union",
            "Poland",
            "Finland",
            "Luxembourg",
            "Iceland",
            "Norway",
            "France",
            "Hungary",
            "Malta",
            "Belgium",
            "New Zealand",
            "Canada",
            "United Kingdom",
            "Germany",
            "Bulgaria",
            "Monaco",
            "Sweden",
            "Australia",
            "Netherlands",
            "Spain",
            "Slovenia",
            "Croatia",
            "Liechtenstein",
            "Cyprus",
            "United States of America",
            "Latvia",
            "Slovakia",
            "Denmark",
            "Romania",
            "Ukraine",
            "Turkey",
            "Japan",
            "Italy",
            "Czechia",
            "Belarus",
            "Estonia",
            "Portugal",
            "Russian Federation"
           ],
           "locationmode": "country names",
           "locations": [
            "Austria",
            "Lithuania",
            "Ireland",
            "Greece",
            "Switzerland",
            "European Union",
            "Poland",
            "Finland",
            "Luxembourg",
            "Iceland",
            "Norway",
            "France",
            "Hungary",
            "Malta",
            "Belgium",
            "New Zealand",
            "Canada",
            "United Kingdom",
            "Germany",
            "Bulgaria",
            "Monaco",
            "Sweden",
            "Australia",
            "Netherlands",
            "Spain",
            "Slovenia",
            "Croatia",
            "Liechtenstein",
            "Cyprus",
            "United States of America",
            "Latvia",
            "Slovakia",
            "Denmark",
            "Romania",
            "Ukraine",
            "Turkey",
            "Japan",
            "Italy",
            "Czechia",
            "Belarus",
            "Estonia",
            "Portugal",
            "Russian Federation"
           ],
           "name": "",
           "type": "choropleth",
           "z": [
            60204.0685273764,
            21200.577166719,
            33494.9281671375,
            84982.7106282307,
            46009.7044340782,
            4271808.70308717,
            364677.869650621,
            54285.5264761443,
            12232.160311753,
            2274.26706705902,
            34734.7476284046,
            418231.023879481,
            62415.941917704,
            2314.9023423236,
            122507.842211766,
            28105.0746158788,
            467037.420143524,
            593745.973865002,
            965889.812792495,
            57010.4320427525,
            104.510329341545,
            57451.4900177651,
            284912.437867139,
            170630.241424131,
            249813.194397124,
            14006.7490772864,
            16506.0770001773,
            206.948071672218,
            5522.90561895422,
            5182706.71965945,
            14079.8294200053,
            49029.1359385678,
            59595.5885790738,
            131072.276566846,
            589060.250850739,
            163922.249650552,
            1179740.09775167,
            437829.803945848,
            144619.022012991,
            88662.012949414,
            24370.4619672399,
            50889.1687666769,
            1957658.89440788
           ]
          }
         ],
         "name": "1992"
        },
        {
         "data": [
          {
           "coloraxis": "coloraxis",
           "customdata": [
            [
             60635.4191406704
            ],
            [
             46484.2249088796
            ],
            [
             138637.287763167
            ],
            [
             170817.552396797
            ],
            [
             467406.41099046
            ],
            [
             27699.4614049738
            ],
            [
             49391.8956024179
            ],
            [
             5766.97401461705
            ],
            [
             14303.4745932911
            ],
            [
             241195.182873171
            ],
            [
             1859459.63110814
            ],
            [
             397655.363749159
            ],
            [
             36224.2008777946
            ],
            [
             61682.5960905652
            ],
            [
             56352.5530721308
            ],
            [
             365370.695658555
            ],
            [
             122832.305091186
            ],
            [
             4187802.39149633
            ],
            [
             16959.7805739569
            ],
            [
             510199.537255087
            ],
            [
             18910.3613835422
            ],
            [
             579506.686402148
            ],
            [
             289235.186168999
            ],
            [
             956233.107652013
            ],
            [
             63632.7619824292
            ],
            [
             430179.958454536
            ],
            [
             215.03232796014
            ],
            [
             2891.12550751473
            ],
            [
             16348.048682982
            ],
            [
             121444.204570843
            ],
            [
             2432.16201626737
            ],
            [
             1172647.30939245
            ],
            [
             12372.806055811
            ],
            [
             171011.162802133
            ],
            [
             5283437.59511593
            ],
            [
             57675.6371886381
            ],
            [
             103.599056843384
            ],
            [
             11818.6406113667
            ],
            [
             57493.4493373778
            ],
            [
             33716.1790147297
            ],
            [
             43601.0231205789
            ],
            [
             76380.0498572845
            ],
            [
             84296.3663014509
            ]
           ],
           "geo": "geo",
           "hovertemplate": "<b>%{hovertext}</b><br><br>Year=1993<br>Country or Area=%{location}<br>Value=%{z}<extra></extra>",
           "hovertext": [
            "Austria",
            "Slovakia",
            "Czechia",
            "Netherlands",
            "Canada",
            "New Zealand",
            "Portugal",
            "Cyprus",
            "Slovenia",
            "Spain",
            "Russian Federation",
            "France",
            "Norway",
            "Denmark",
            "Finland",
            "Poland",
            "Romania",
            "European Union",
            "Croatia",
            "Ukraine",
            "Estonia",
            "United Kingdom",
            "Australia",
            "Germany",
            "Hungary",
            "Italy",
            "Liechtenstein",
            "Malta",
            "Lithuania",
            "Belgium",
            "Iceland",
            "Japan",
            "Luxembourg",
            "Turkey",
            "United States of America",
            "Bulgaria",
            "Monaco",
            "Latvia",
            "Sweden",
            "Ireland",
            "Switzerland",
            "Belarus",
            "Greece"
           ],
           "locationmode": "country names",
           "locations": [
            "Austria",
            "Slovakia",
            "Czechia",
            "Netherlands",
            "Canada",
            "New Zealand",
            "Portugal",
            "Cyprus",
            "Slovenia",
            "Spain",
            "Russian Federation",
            "France",
            "Norway",
            "Denmark",
            "Finland",
            "Poland",
            "Romania",
            "European Union",
            "Croatia",
            "Ukraine",
            "Estonia",
            "United Kingdom",
            "Australia",
            "Germany",
            "Hungary",
            "Italy",
            "Liechtenstein",
            "Malta",
            "Lithuania",
            "Belgium",
            "Iceland",
            "Japan",
            "Luxembourg",
            "Turkey",
            "United States of America",
            "Bulgaria",
            "Monaco",
            "Latvia",
            "Sweden",
            "Ireland",
            "Switzerland",
            "Belarus",
            "Greece"
           ],
           "name": "",
           "type": "choropleth",
           "z": [
            60635.4191406704,
            46484.2249088796,
            138637.287763167,
            170817.552396797,
            467406.41099046,
            27699.4614049738,
            49391.8956024179,
            5766.97401461705,
            14303.4745932911,
            241195.182873171,
            1859459.63110814,
            397655.363749159,
            36224.2008777946,
            61682.5960905652,
            56352.5530721308,
            365370.695658555,
            122832.305091186,
            4187802.39149633,
            16959.7805739569,
            510199.537255087,
            18910.3613835422,
            579506.686402148,
            289235.186168999,
            956233.107652013,
            63632.7619824292,
            430179.958454536,
            215.03232796014,
            2891.12550751473,
            16348.048682982,
            121444.204570843,
            2432.16201626737,
            1172647.30939245,
            12372.806055811,
            171011.162802133,
            5283437.59511593,
            57675.6371886381,
            103.599056843384,
            11818.6406113667,
            57493.4493373778,
            33716.1790147297,
            43601.0231205789,
            76380.0498572845,
            84296.3663014509
           ]
          }
         ],
         "name": "1993"
        },
        {
         "data": [
          {
           "coloraxis": "coloraxis",
           "customdata": [
            [
             419266.300739463
            ],
            [
             15788.2662671884
            ],
            [
             124816.904357336
            ],
            [
             14642.6729766768
            ],
            [
             50246.4480488306
            ],
            [
             86442.1768338889
            ],
            [
             4169946.81164452
            ],
            [
             19734.0494457627
            ],
            [
             16214.2221866827
            ],
            [
             424581.72076242
            ],
            [
             42675.8941129142
            ],
            [
             201.109449948782
            ],
            [
             65699.5656561103
            ],
            [
             1641399.16026528
            ],
            [
             6011.11322836987
            ],
            [
             1227566.84007559
            ],
            [
             5377032.70818647
            ],
            [
             167433.1132747
            ],
            [
             43878.7208525806
            ],
            [
             61002.4393644111
            ],
            [
             10296.752129648
            ],
            [
             132376.136876739
            ],
            [
             121961.461882256
            ],
            [
             34838.1523119764
            ],
            [
             62367.8855186097
            ],
            [
             61973.5116749879
            ],
            [
             575774.599576308
            ],
            [
             939630.279254017
            ],
            [
             253661.393598356
            ],
            [
             2669.72235318447
            ],
            [
             393368.863483863
            ],
            [
             482436.578674902
            ],
            [
             59953.8090383714
            ],
            [
             56083.5266147436
            ],
            [
             294014.960792545
            ],
            [
             2373.29666538653
            ],
            [
             11563.9282121999
            ],
            [
             61716.2022160394
            ],
            [
             171401.365047735
            ],
            [
             104.410591895158
            ],
            [
             360416.807932456
            ],
            [
             38088.9915720635
            ],
            [
             27880.329427551
            ]
           ],
           "geo": "geo",
           "hovertemplate": "<b>%{hovertext}</b><br><br>Year=1994<br>Country or Area=%{location}<br>Value=%{z}<extra></extra>",
           "hovertext": [
            "Ukraine",
            "Lithuania",
            "Belgium",
            "Slovenia",
            "Portugal",
            "Greece",
            "European Union",
            "Estonia",
            "Croatia",
            "Italy",
            "Switzerland",
            "Liechtenstein",
            "Denmark",
            "Russian Federation",
            "Cyprus",
            "Japan",
            "United States of America",
            "Turkey",
            "Slovakia",
            "Austria",
            "Latvia",
            "Czechia",
            "Romania",
            "Ireland",
            "Belarus",
            "Hungary",
            "United Kingdom",
            "Germany",
            "Spain",
            "Malta",
            "France",
            "Canada",
            "Sweden",
            "Bulgaria",
            "Australia",
            "Iceland",
            "Luxembourg",
            "Finland",
            "Netherlands",
            "Monaco",
            "Poland",
            "Norway",
            "New Zealand"
           ],
           "locationmode": "country names",
           "locations": [
            "Ukraine",
            "Lithuania",
            "Belgium",
            "Slovenia",
            "Portugal",
            "Greece",
            "European Union",
            "Estonia",
            "Croatia",
            "Italy",
            "Switzerland",
            "Liechtenstein",
            "Denmark",
            "Russian Federation",
            "Cyprus",
            "Japan",
            "United States of America",
            "Turkey",
            "Slovakia",
            "Austria",
            "Latvia",
            "Czechia",
            "Romania",
            "Ireland",
            "Belarus",
            "Hungary",
            "United Kingdom",
            "Germany",
            "Spain",
            "Malta",
            "France",
            "Canada",
            "Sweden",
            "Bulgaria",
            "Australia",
            "Iceland",
            "Luxembourg",
            "Finland",
            "Netherlands",
            "Monaco",
            "Poland",
            "Norway",
            "New Zealand"
           ],
           "name": "",
           "type": "choropleth",
           "z": [
            419266.300739463,
            15788.2662671884,
            124816.904357336,
            14642.6729766768,
            50246.4480488306,
            86442.1768338889,
            4169946.81164452,
            19734.0494457627,
            16214.2221866827,
            424581.72076242,
            42675.8941129142,
            201.109449948782,
            65699.5656561103,
            1641399.16026528,
            6011.11322836987,
            1227566.84007559,
            5377032.70818647,
            167433.1132747,
            43878.7208525806,
            61002.4393644111,
            10296.752129648,
            132376.136876739,
            121961.461882256,
            34838.1523119764,
            62367.8855186097,
            61973.5116749879,
            575774.599576308,
            939630.279254017,
            253661.393598356,
            2669.72235318447,
            393368.863483863,
            482436.578674902,
            59953.8090383714,
            56083.5266147436,
            294014.960792545,
            2373.29666538653,
            11563.9282121999,
            61716.2022160394,
            171401.365047735,
            104.410591895158,
            360416.807932456,
            38088.9915720635,
            27880.329427551
           ]
          }
         ],
         "name": "1994"
        },
        {
         "data": [
          {
           "coloraxis": "coloraxis",
           "customdata": [
            [
             1239928.15849454
            ],
            [
             305410.166604956
            ],
            [
             939176.703608385
            ],
            [
             131608.25952709
            ],
            [
             5438905.70357259
            ],
            [
             64065.25981886
            ],
            [
             9090.3076346425
            ],
            [
             172966.168650756
            ],
            [
             28001.8053423998
            ],
            [
             101.196287565613
            ],
            [
             9170.29950974537
            ],
            [
             62655.7725719069
            ],
            [
             57375.4507154768
            ],
            [
             58145.4431090716
            ],
            [
             4212988.59700069
            ],
            [
             38707.5026816384
            ],
            [
             54450.7657191168
            ],
            [
             400239.115442511
            ],
            [
             2476.69997815258
            ],
            [
             1612928.31983429
            ],
            [
             15084.4804331329
            ],
            [
             2460.2689108789
            ],
            [
             18048.8299926425
            ],
            [
             127032.855585614
            ],
            [
             567507.648076862
            ],
            [
             35852.6671194269
            ],
            [
             204.19997612085
            ],
            [
             61690.7738764767
            ],
            [
             448332.906183622
            ],
            [
             86979.0976940621
            ],
            [
             362761.266834645
            ],
            [
             59366.2066097918
            ],
            [
             389864.61480804
            ],
            [
             57716.3659311274
            ],
            [
             5882.26612282574
            ],
            [
             267416.718324656
            ],
            [
             125956.472619374
            ],
            [
             43412.8303104671
            ],
            [
             44322.4136601684
            ],
            [
             494920.254788246
            ],
            [
             16926.3357695294
            ],
            [
             15254.2521104167
            ],
            [
             180903.047419235
            ]
           ],
           "geo": "geo",
           "hovertemplate": "<b>%{hovertext}</b><br><br>Year=1995<br>Country or Area=%{location}<br>Value=%{z}<extra></extra>",
           "hovertext": [
            "Japan",
            "Australia",
            "Germany",
            "Czechia",
            "United States of America",
            "Austria",
            "Latvia",
            "Netherlands",
            "New Zealand",
            "Monaco",
            "Luxembourg",
            "Denmark",
            "Belarus",
            "Finland",
            "European Union",
            "Norway",
            "Portugal",
            "France",
            "Iceland",
            "Russian Federation",
            "Lithuania",
            "Malta",
            "Estonia",
            "Romania",
            "United Kingdom",
            "Ireland",
            "Liechtenstein",
            "Hungary",
            "Italy",
            "Greece",
            "Poland",
            "Sweden",
            "Ukraine",
            "Bulgaria",
            "Cyprus",
            "Spain",
            "Belgium",
            "Switzerland",
            "Slovakia",
            "Canada",
            "Croatia",
            "Slovenia",
            "Turkey"
           ],
           "locationmode": "country names",
           "locations": [
            "Japan",
            "Australia",
            "Germany",
            "Czechia",
            "United States of America",
            "Austria",
            "Latvia",
            "Netherlands",
            "New Zealand",
            "Monaco",
            "Luxembourg",
            "Denmark",
            "Belarus",
            "Finland",
            "European Union",
            "Norway",
            "Portugal",
            "France",
            "Iceland",
            "Russian Federation",
            "Lithuania",
            "Malta",
            "Estonia",
            "Romania",
            "United Kingdom",
            "Ireland",
            "Liechtenstein",
            "Hungary",
            "Italy",
            "Greece",
            "Poland",
            "Sweden",
            "Ukraine",
            "Bulgaria",
            "Cyprus",
            "Spain",
            "Belgium",
            "Switzerland",
            "Slovakia",
            "Canada",
            "Croatia",
            "Slovenia",
            "Turkey"
           ],
           "name": "",
           "type": "choropleth",
           "z": [
            1239928.15849454,
            305410.166604956,
            939176.703608385,
            131608.25952709,
            5438905.70357259,
            64065.25981886,
            9090.3076346425,
            172966.168650756,
            28001.8053423998,
            101.196287565613,
            9170.29950974537,
            62655.7725719069,
            57375.4507154768,
            58145.4431090716,
            4212988.59700069,
            38707.5026816384,
            54450.7657191168,
            400239.115442511,
            2476.69997815258,
            1612928.31983429,
            15084.4804331329,
            2460.2689108789,
            18048.8299926425,
            127032.855585614,
            567507.648076862,
            35852.6671194269,
            204.19997612085,
            61690.7738764767,
            448332.906183622,
            86979.0976940621,
            362761.266834645,
            59366.2066097918,
            389864.61480804,
            57716.3659311274,
            5882.26612282574,
            267416.718324656,
            125956.472619374,
            43412.8303104671,
            44322.4136601684,
            494920.254788246,
            16926.3357695294,
            15254.2521104167,
            180903.047419235
           ]
          }
         ],
         "name": "1995"
        },
        {
         "data": [
          {
           "coloraxis": "coloraxis",
           "customdata": [
            [
             4317840.9943919
            ],
            [
             254795.329322826
            ],
            [
             63302.7784000065
            ],
            [
             205.958796841394
            ],
            [
             75987.0122095032
            ],
            [
             312361.585574263
            ],
            [
             89132.0077404819
            ],
            [
             64062.4092860885
            ],
            [
             130095.925323886
            ],
            [
             959124.130272961
            ],
            [
             9170.26786427484
            ],
            [
             58108.019719584
            ],
            [
             18759.5249872163
            ],
            [
             29295.0777261975
            ],
            [
             510736.656417936
            ],
            [
             58214.7994067877
            ],
            [
             41830.308078359
            ],
            [
             415941.019848892
            ],
            [
             182148.288127849
            ],
            [
             104.707975903776
            ],
            [
             1251867.56918393
            ],
            [
             5626911.90108624
            ],
            [
             15757.6305015578
            ],
            [
             351408.752806537
            ],
            [
             129496.580209897
            ],
            [
             44098.8196665512
            ],
            [
             134962.545911559
            ],
            [
             37469.1487566848
            ],
            [
             17515.2663497201
            ],
            [
             9219.90764062443
            ],
            [
             51703.2201850128
            ],
            [
             44186.1243917306
            ],
            [
             6233.22977494178
            ],
            [
             1580160.84390587
            ],
            [
             442277.406090101
            ],
            [
             2532.04240702608
            ],
            [
             15916.6062270029
            ],
            [
             2578.44638570939
            ],
            [
             377407.835673029
            ],
            [
             63257.5198319678
            ],
            [
             199521.938861493
            ],
            [
             67421.5890947817
            ],
            [
             589137.824656407
            ]
           ],
           "geo": "geo",
           "hovertemplate": "<b>%{hovertext}</b><br><br>Year=1996<br>Country or Area=%{location}<br>Value=%{z}<extra></extra>",
           "hovertext": [
            "European Union",
            "Spain",
            "Sweden",
            "Liechtenstein",
            "Denmark",
            "Australia",
            "Greece",
            "Finland",
            "Romania",
            "Germany",
            "Latvia",
            "Bulgaria",
            "Estonia",
            "New Zealand",
            "Canada",
            "Belarus",
            "Norway",
            "France",
            "Netherlands",
            "Monaco",
            "Japan",
            "United States of America",
            "Lithuania",
            "Ukraine",
            "Belgium",
            "Switzerland",
            "Czechia",
            "Ireland",
            "Croatia",
            "Luxembourg",
            "Portugal",
            "Slovakia",
            "Cyprus",
            "Russian Federation",
            "Italy",
            "Iceland",
            "Slovenia",
            "Malta",
            "Poland",
            "Hungary",
            "Turkey",
            "Austria",
            "United Kingdom"
           ],
           "locationmode": "country names",
           "locations": [
            "European Union",
            "Spain",
            "Sweden",
            "Liechtenstein",
            "Denmark",
            "Australia",
            "Greece",
            "Finland",
            "Romania",
            "Germany",
            "Latvia",
            "Bulgaria",
            "Estonia",
            "New Zealand",
            "Canada",
            "Belarus",
            "Norway",
            "France",
            "Netherlands",
            "Monaco",
            "Japan",
            "United States of America",
            "Lithuania",
            "Ukraine",
            "Belgium",
            "Switzerland",
            "Czechia",
            "Ireland",
            "Croatia",
            "Luxembourg",
            "Portugal",
            "Slovakia",
            "Cyprus",
            "Russian Federation",
            "Italy",
            "Iceland",
            "Slovenia",
            "Malta",
            "Poland",
            "Hungary",
            "Turkey",
            "Austria",
            "United Kingdom"
           ],
           "name": "",
           "type": "choropleth",
           "z": [
            4317840.9943919,
            254795.329322826,
            63302.7784000065,
            205.958796841394,
            75987.0122095032,
            312361.585574263,
            89132.0077404819,
            64062.4092860885,
            130095.925323886,
            959124.130272961,
            9170.26786427484,
            58108.019719584,
            18759.5249872163,
            29295.0777261975,
            510736.656417936,
            58214.7994067877,
            41830.308078359,
            415941.019848892,
            182148.288127849,
            104.707975903776,
            1251867.56918393,
            5626911.90108624,
            15757.6305015578,
            351408.752806537,
            129496.580209897,
            44098.8196665512,
            134962.545911559,
            37469.1487566848,
            17515.2663497201,
            9219.90764062443,
            51703.2201850128,
            44186.1243917306,
            6233.22977494178,
            1580160.84390587,
            442277.406090101,
            2532.04240702608,
            15916.6062270029,
            2578.44638570939,
            377407.835673029,
            63257.5198319678,
            199521.938861493,
            67421.5890947817,
            589137.824656407
           ]
          }
         ],
         "name": "1996"
        },
        {
         "data": [
          {
           "coloraxis": "coloraxis",
           "customdata": [
            [
             1245112.03393073
            ],
            [
             18575.8786814894
            ],
            [
             563241.836123903
            ],
            [
             62722.9924220393
            ],
            [
             367385.323158231
            ],
            [
             41969.9754613374
            ],
            [
             340242.686212178
            ],
            [
             93820.9323821188
            ],
            [
             267306.439161992
            ],
            [
             15182.2078409743
            ],
            [
             124001.76432726
            ],
            [
             38805.2391127187
            ],
            [
             8573.10645266367
            ],
            [
             43037.2666609755
            ],
            [
             448044.941141219
            ],
            [
             2627.51359856503
            ],
            [
             2586.18766734247
            ],
            [
             55861.2693878692
            ],
            [
             61813.1391979355
            ],
            [
             5703706.96803283
            ],
            [
             320795.086167167
            ],
            [
             103.193469033821
            ],
            [
             58212.5521332682
            ],
            [
             218.371012550569
            ],
            [
             175019.626330112
            ],
            [
             931230.07006033
            ],
            [
             524789.166836941
            ],
            [
             31289.3378910193
            ],
            [
             408989.958998911
            ],
            [
             4227943.48286304
            ],
            [
             18317.2753937448
            ],
            [
             121074.67434503
            ],
            [
             67232.7787574344
            ],
            [
             212005.568093463
            ],
            [
             16244.9214511387
            ],
            [
             8645.95219191048
            ],
            [
             54597.5878919909
            ],
            [
             1475157.17201866
            ],
            [
             6321.03013472391
            ],
            [
             44313.6803359096
            ],
            [
             66603.0750402039
            ],
            [
             58720.5917777519
            ],
            [
             130733.0672073
            ]
           ],
           "geo": "geo",
           "hovertemplate": "<b>%{hovertext}</b><br><br>Year=1997<br>Country or Area=%{location}<br>Value=%{z}<extra></extra>",
           "hovertext": [
            "Japan",
            "Croatia",
            "United Kingdom",
            "Finland",
            "Poland",
            "Norway",
            "Ukraine",
            "Greece",
            "Spain",
            "Lithuania",
            "Belgium",
            "Ireland",
            "Luxembourg",
            "Switzerland",
            "Italy",
            "Iceland",
            "Malta",
            "Bulgaria",
            "Hungary",
            "United States of America",
            "Australia",
            "Monaco",
            "Sweden",
            "Liechtenstein",
            "Netherlands",
            "Germany",
            "Canada",
            "New Zealand",
            "France",
            "European Union",
            "Estonia",
            "Romania",
            "Austria",
            "Turkey",
            "Slovenia",
            "Latvia",
            "Portugal",
            "Russian Federation",
            "Cyprus",
            "Slovakia",
            "Denmark",
            "Belarus",
            "Czechia"
           ],
           "locationmode": "country names",
           "locations": [
            "Japan",
            "Croatia",
            "United Kingdom",
            "Finland",
            "Poland",
            "Norway",
            "Ukraine",
            "Greece",
            "Spain",
            "Lithuania",
            "Belgium",
            "Ireland",
            "Luxembourg",
            "Switzerland",
            "Italy",
            "Iceland",
            "Malta",
            "Bulgaria",
            "Hungary",
            "United States of America",
            "Australia",
            "Monaco",
            "Sweden",
            "Liechtenstein",
            "Netherlands",
            "Germany",
            "Canada",
            "New Zealand",
            "France",
            "European Union",
            "Estonia",
            "Romania",
            "Austria",
            "Turkey",
            "Slovenia",
            "Latvia",
            "Portugal",
            "Russian Federation",
            "Cyprus",
            "Slovakia",
            "Denmark",
            "Belarus",
            "Czechia"
           ],
           "name": "",
           "type": "choropleth",
           "z": [
            1245112.03393073,
            18575.8786814894,
            563241.836123903,
            62722.9924220393,
            367385.323158231,
            41969.9754613374,
            340242.686212178,
            93820.9323821188,
            267306.439161992,
            15182.2078409743,
            124001.76432726,
            38805.2391127187,
            8573.10645266367,
            43037.2666609755,
            448044.941141219,
            2627.51359856503,
            2586.18766734247,
            55861.2693878692,
            61813.1391979355,
            5703706.96803283,
            320795.086167167,
            103.193469033821,
            58212.5521332682,
            218.371012550569,
            175019.626330112,
            931230.07006033,
            524789.166836941,
            31289.3378910193,
            408989.958998911,
            4227943.48286304,
            18317.2753937448,
            121074.67434503,
            67232.7787574344,
            212005.568093463,
            16244.9214511387,
            8645.95219191048,
            54597.5878919909,
            1475157.17201866,
            6321.03013472391,
            44313.6803359096,
            66603.0750402039,
            58720.5917777519,
            130733.0672073
           ]
          }
         ],
         "name": "1997"
        },
        {
         "data": [
          {
           "coloraxis": "coloraxis",
           "customdata": [
            [
             107561.544307475
            ],
            [
             29882.7802676386
            ],
            [
             58696.6659510502
            ],
            [
             328578.93752301
            ],
            [
             533639.792821814
            ],
            [
             8280.68815337427
            ],
            [
             176136.866137469
            ],
            [
             276021.58237108
            ],
            [
             66875.1468247755
            ],
            [
             98641.499372073
            ],
            [
             57372.4677788785
            ],
            [
             923275.908728203
            ],
            [
             212040.281738168
            ],
            [
             102.068595333327
            ],
            [
             62395.8923553863
            ],
            [
             16039.6999792489
            ],
            [
             125317.669241827
            ],
            [
             40708.8498524021
            ],
            [
             7695.0730252987
            ],
            [
             44073.1449668058
            ],
            [
             44614.821367456
            ],
            [
             460049.199121092
            ],
            [
             6614.64910415714
            ],
            [
             1458157.13465934
            ],
            [
             130227.109709565
            ],
            [
             2545.13408682323
            ],
            [
             5751051.97995198
            ],
            [
             334684.517907243
            ],
            [
             53275.2170483312
            ],
            [
             61415.0010858142
            ],
            [
             428344.355226331
            ],
            [
             2647.85612699632
            ],
            [
             42220.2291470528
            ],
            [
             229.232619043615
            ],
            [
             1205416.31928698
            ],
            [
             59373.2560931243
            ],
            [
             19278.9034772627
            ],
            [
             16817.2473364229
            ],
            [
             568512.201977305
            ],
            [
             339132.886483521
            ],
            [
             4224534.8662296
            ],
            [
             15961.1282703806
            ],
            [
             59138.4343823723
            ]
           ],
           "geo": "geo",
           "hovertemplate": "<b>%{hovertext}</b><br><br>Year=1998<br>Country or Area=%{location}<br>Value=%{z}<extra></extra>",
           "hovertext": [
            "Romania",
            "New Zealand",
            "Sweden",
            "Ukraine",
            "Canada",
            "Latvia",
            "Netherlands",
            "Spain",
            "Austria",
            "Greece",
            "Belarus",
            "Germany",
            "Turkey",
            "Monaco",
            "Denmark",
            "Lithuania",
            "Czechia",
            "Ireland",
            "Luxembourg",
            "Slovakia",
            "Switzerland",
            "Italy",
            "Cyprus",
            "Russian Federation",
            "Belgium",
            "Malta",
            "United States of America",
            "Australia",
            "Bulgaria",
            "Hungary",
            "France",
            "Iceland",
            "Norway",
            "Liechtenstein",
            "Japan",
            "Finland",
            "Croatia",
            "Estonia",
            "United Kingdom",
            "Poland",
            "European Union",
            "Slovenia",
            "Portugal"
           ],
           "locationmode": "country names",
           "locations": [
            "Romania",
            "New Zealand",
            "Sweden",
            "Ukraine",
            "Canada",
            "Latvia",
            "Netherlands",
            "Spain",
            "Austria",
            "Greece",
            "Belarus",
            "Germany",
            "Turkey",
            "Monaco",
            "Denmark",
            "Lithuania",
            "Czechia",
            "Ireland",
            "Luxembourg",
            "Slovakia",
            "Switzerland",
            "Italy",
            "Cyprus",
            "Russian Federation",
            "Belgium",
            "Malta",
            "United States of America",
            "Australia",
            "Bulgaria",
            "Hungary",
            "France",
            "Iceland",
            "Norway",
            "Liechtenstein",
            "Japan",
            "Finland",
            "Croatia",
            "Estonia",
            "United Kingdom",
            "Poland",
            "European Union",
            "Slovenia",
            "Portugal"
           ],
           "name": "",
           "type": "choropleth",
           "z": [
            107561.544307475,
            29882.7802676386,
            58696.6659510502,
            328578.93752301,
            533639.792821814,
            8280.68815337427,
            176136.866137469,
            276021.58237108,
            66875.1468247755,
            98641.499372073,
            57372.4677788785,
            923275.908728203,
            212040.281738168,
            102.068595333327,
            62395.8923553863,
            16039.6999792489,
            125317.669241827,
            40708.8498524021,
            7695.0730252987,
            44073.1449668058,
            44614.821367456,
            460049.199121092,
            6614.64910415714,
            1458157.13465934,
            130227.109709565,
            2545.13408682323,
            5751051.97995198,
            334684.517907243,
            53275.2170483312,
            61415.0010858142,
            428344.355226331,
            2647.85612699632,
            42220.2291470528,
            229.232619043615,
            1205416.31928698,
            59373.2560931243,
            19278.9034772627,
            16817.2473364229,
            568512.201977305,
            339132.886483521,
            4224534.8662296,
            15961.1282703806,
            59138.4343823723
           ]
          }
         ],
         "name": "1998"
        },
        {
         "data": [
          {
           "coloraxis": "coloraxis",
           "customdata": [
            [
             7695.96860030688
            ],
            [
             102.771498101701
            ],
            [
             59842.6191053397
            ],
            [
             54984.4971599379
            ],
            [
             1242015.30712131
            ],
            [
             55820.1569175791
            ],
            [
             97958.3784914008
            ],
            [
             65562.7217746465
            ],
            [
             170727.34959651
            ],
            [
             15337.2394964804
            ],
            [
             226.560381588969
            ],
            [
             549553.212013035
            ],
            [
             58894.769950879
            ],
            [
             329167.331918592
            ],
            [
             6882.46970730666
            ],
            [
             46369.9838000907
            ],
            [
             20115.455439737
            ],
            [
             13476.9603730767
            ],
            [
             207804.162731911
            ],
            [
             116623.428290961
            ],
            [
             42440.0759845439
            ],
            [
             8147.98398291498
            ],
            [
             43200.6080717694
            ],
            [
             4158896.76715251
            ],
            [
             44445.8409485479
            ],
            [
             464548.481049407
            ],
            [
             66763.1930486435
            ],
            [
             2853.95492474529
            ],
            [
             124718.898266857
            ],
            [
             2627.59417415594
            ],
            [
             1486090.03432773
            ],
            [
             344063.765859686
            ],
            [
             61911.6021323732
            ],
            [
             895642.93095689
            ],
            [
             5830297.63604476
            ],
            [
             561651.093852178
            ],
            [
             299498.671563048
            ],
            [
             298203.960313902
            ],
            [
             42974.0245253799
            ],
            [
             90778.1784473023
            ],
            [
             31472.2734918801
            ],
            [
             15653.3480978407
            ],
            [
             424600.505776661
            ]
           ],
           "geo": "geo",
           "hovertemplate": "<b>%{hovertext}</b><br><br>Year=1999<br>Country or Area=%{location}<br>Value=%{z}<extra></extra>",
           "hovertext": [
            "Latvia",
            "Monaco",
            "Denmark",
            "Belarus",
            "Japan",
            "Sweden",
            "Greece",
            "Austria",
            "Netherlands",
            "Slovenia",
            "Liechtenstein",
            "Canada",
            "Finland",
            "Poland",
            "Cyprus",
            "Bulgaria",
            "Croatia",
            "Lithuania",
            "Turkey",
            "Czechia",
            "Ireland",
            "Luxembourg",
            "Slovakia",
            "European Union",
            "Switzerland",
            "Italy",
            "Portugal",
            "Iceland",
            "Belgium",
            "Malta",
            "Russian Federation",
            "Australia",
            "Hungary",
            "Germany",
            "United States of America",
            "United Kingdom",
            "Spain",
            "Ukraine",
            "Norway",
            "Romania",
            "New Zealand",
            "Estonia",
            "France"
           ],
           "locationmode": "country names",
           "locations": [
            "Latvia",
            "Monaco",
            "Denmark",
            "Belarus",
            "Japan",
            "Sweden",
            "Greece",
            "Austria",
            "Netherlands",
            "Slovenia",
            "Liechtenstein",
            "Canada",
            "Finland",
            "Poland",
            "Cyprus",
            "Bulgaria",
            "Croatia",
            "Lithuania",
            "Turkey",
            "Czechia",
            "Ireland",
            "Luxembourg",
            "Slovakia",
            "European Union",
            "Switzerland",
            "Italy",
            "Portugal",
            "Iceland",
            "Belgium",
            "Malta",
            "Russian Federation",
            "Australia",
            "Hungary",
            "Germany",
            "United States of America",
            "United Kingdom",
            "Spain",
            "Ukraine",
            "Norway",
            "Romania",
            "New Zealand",
            "Estonia",
            "France"
           ],
           "name": "",
           "type": "choropleth",
           "z": [
            7695.96860030688,
            102.771498101701,
            59842.6191053397,
            54984.4971599379,
            1242015.30712131,
            55820.1569175791,
            97958.3784914008,
            65562.7217746465,
            170727.34959651,
            15337.2394964804,
            226.560381588969,
            549553.212013035,
            58894.769950879,
            329167.331918592,
            6882.46970730666,
            46369.9838000907,
            20115.455439737,
            13476.9603730767,
            207804.162731911,
            116623.428290961,
            42440.0759845439,
            8147.98398291498,
            43200.6080717694,
            4158896.76715251,
            44445.8409485479,
            464548.481049407,
            66763.1930486435,
            2853.95492474529,
            124718.898266857,
            2627.59417415594,
            1486090.03432773,
            344063.765859686,
            61911.6021323732,
            895642.93095689,
            5830297.63604476,
            561651.093852178,
            299498.671563048,
            298203.960313902,
            42974.0245253799,
            90778.1784473023,
            31472.2734918801,
            15653.3480978407,
            424600.505776661
           ]
          }
         ],
         "name": "1999"
        },
        {
         "data": [
          {
           "coloraxis": "coloraxis",
           "customdata": [
            [
             127066.453950034
            ],
            [
             41289.1304339426
            ],
            [
             350195.023826897
            ],
            [
             15444.8987925728
            ],
            [
             7145.88033313555
            ],
            [
             42518.5514490745
            ],
            [
             43617.5914255673
            ],
            [
             285337.201300114
            ],
            [
             899780.198208709
            ],
            [
             55609.6855353788
            ],
            [
             65526.5882790747
            ],
            [
             4177734.74063454
            ],
            [
             100.305373333011
            ],
            [
             66162.8879058016
            ],
            [
             7064.71592682912
            ],
            [
             126735.296267877
            ],
            [
             58608.2748691238
            ],
            [
             311267.046543212
            ],
            [
             2545.52171918158
            ],
            [
             19694.4482097339
            ],
            [
             419232.282969929
            ],
            [
             45305.031895079
            ],
            [
             1471052.23087571
            ],
            [
             2946.46686361023
            ],
            [
             15244.1880749353
            ],
            [
             317338.034159054
            ],
            [
             102999.025886454
            ],
            [
             572162.102863972
            ],
            [
             54877.3582978
            ],
            [
             5998070.43377472
            ],
            [
             216.854032789675
            ],
            [
             229790.601259649
            ],
            [
             11873.9186455427
            ],
            [
             32281.3522511698
            ],
            [
             1264844.26063492
            ],
            [
             171887.440050803
            ],
            [
             45248.9951753897
            ],
            [
             57038.2471515761
            ],
            [
             95455.7605459872
            ],
            [
             8731.56638378884
            ],
            [
             568220.055467351
            ],
            [
             468442.086348554
            ],
            [
             54684.4283163901
            ]
           ],
           "geo": "geo",
           "hovertemplate": "<b>%{hovertext}</b><br><br>Year=2000<br>Country or Area=%{location}<br>Value=%{z}<extra></extra>",
           "hovertext": [
            "Czechia",
            "Slovakia",
            "Australia",
            "Slovenia",
            "Cyprus",
            "Norway",
            "Switzerland",
            "Ukraine",
            "Germany",
            "Denmark",
            "Portugal",
            "European Union",
            "Monaco",
            "Austria",
            "Latvia",
            "Belgium",
            "Hungary",
            "Spain",
            "Malta",
            "Croatia",
            "France",
            "Bulgaria",
            "Russian Federation",
            "Iceland",
            "Estonia",
            "Poland",
            "Greece",
            "Canada",
            "Belarus",
            "United States of America",
            "Liechtenstein",
            "Turkey",
            "Lithuania",
            "New Zealand",
            "Japan",
            "Netherlands",
            "Ireland",
            "Finland",
            "Romania",
            "Luxembourg",
            "United Kingdom",
            "Italy",
            "Sweden"
           ],
           "locationmode": "country names",
           "locations": [
            "Czechia",
            "Slovakia",
            "Australia",
            "Slovenia",
            "Cyprus",
            "Norway",
            "Switzerland",
            "Ukraine",
            "Germany",
            "Denmark",
            "Portugal",
            "European Union",
            "Monaco",
            "Austria",
            "Latvia",
            "Belgium",
            "Hungary",
            "Spain",
            "Malta",
            "Croatia",
            "France",
            "Bulgaria",
            "Russian Federation",
            "Iceland",
            "Estonia",
            "Poland",
            "Greece",
            "Canada",
            "Belarus",
            "United States of America",
            "Liechtenstein",
            "Turkey",
            "Lithuania",
            "New Zealand",
            "Japan",
            "Netherlands",
            "Ireland",
            "Finland",
            "Romania",
            "Luxembourg",
            "United Kingdom",
            "Italy",
            "Sweden"
           ],
           "name": "",
           "type": "choropleth",
           "z": [
            127066.453950034,
            41289.1304339426,
            350195.023826897,
            15444.8987925728,
            7145.88033313555,
            42518.5514490745,
            43617.5914255673,
            285337.201300114,
            899780.198208709,
            55609.6855353788,
            65526.5882790747,
            4177734.74063454,
            100.305373333011,
            66162.8879058016,
            7064.71592682912,
            126735.296267877,
            58608.2748691238,
            311267.046543212,
            2545.52171918158,
            19694.4482097339,
            419232.282969929,
            45305.031895079,
            1471052.23087571,
            2946.46686361023,
            15244.1880749353,
            317338.034159054,
            102999.025886454,
            572162.102863972,
            54877.3582978,
            5998070.43377472,
            216.854032789675,
            229790.601259649,
            11873.9186455427,
            32281.3522511698,
            1264844.26063492,
            171887.440050803,
            45248.9951753897,
            57038.2471515761,
            95455.7605459872,
            8731.56638378884,
            568220.055467351,
            468442.086348554,
            54684.4283163901
           ]
          }
         ],
         "name": "2000"
        },
        {
         "data": [
          {
           "coloraxis": "coloraxis",
           "customdata": [
            [
             126084.684409971
            ],
            [
             313119.841102688
            ],
            [
             9226.36684569111
            ],
            [
             576926.994554245
            ],
            [
             424005.850536512
            ],
            [
             5900436.59624085
            ],
            [
             12621.3656534034
            ],
            [
             54967.8713049379
            ],
            [
             45082.4459882986
            ],
            [
             468642.862531697
            ],
            [
             43378.2953275639
            ],
            [
             4243023.9420195
            ],
            [
             357669.182881018
            ],
            [
             2875.24223493072
            ],
            [
             126957.555363238
            ],
            [
             213486.093927579
            ],
            [
             43866.4144836801
            ],
            [
             15576.7339780734
            ],
            [
             65149.3048901802
            ],
            [
             47607.4165209804
            ],
            [
             1250211.04624365
            ],
            [
             2665.17144778351
            ],
            [
             57322.6787148713
            ],
            [
             49014.1362462771
            ],
            [
             70102.5999732436
            ],
            [
             7021.41200950456
            ],
            [
             313647.662006214
            ],
            [
             100357.071280565
            ],
            [
             16378.3388964937
            ],
            [
             176798.513076368
            ],
            [
             20806.7359711193
            ],
            [
             55617.0558462997
            ],
            [
             34457.4419655282
            ],
            [
             303559.229465307
            ],
            [
             214.664580488927
            ],
            [
             100.010594528044
            ],
            [
             564946.398072384
            ],
            [
             916366.135188787
            ],
            [
             1507500.88045298
            ],
            [
             7474.38995771827
            ],
            [
             60238.800926392
            ],
            [
             62536.2059866187
            ],
            [
             105385.700419808
            ]
           ],
           "geo": "geo",
           "hovertemplate": "<b>%{hovertext}</b><br><br>Year=2001<br>Country or Area=%{location}<br>Value=%{z}<extra></extra>",
           "hovertext": [
            "Belgium",
            "Spain",
            "Luxembourg",
            "United Kingdom",
            "France",
            "United States of America",
            "Lithuania",
            "Belarus",
            "Switzerland",
            "Italy",
            "Slovakia",
            "European Union",
            "Australia",
            "Iceland",
            "Czechia",
            "Turkey",
            "Norway",
            "Estonia",
            "Portugal",
            "Ireland",
            "Japan",
            "Malta",
            "Denmark",
            "Bulgaria",
            "Austria",
            "Cyprus",
            "Poland",
            "Romania",
            "Slovenia",
            "Netherlands",
            "Croatia",
            "Sweden",
            "New Zealand",
            "Ukraine",
            "Liechtenstein",
            "Monaco",
            "Canada",
            "Germany",
            "Russian Federation",
            "Latvia",
            "Hungary",
            "Finland",
            "Greece"
           ],
           "locationmode": "country names",
           "locations": [
            "Belgium",
            "Spain",
            "Luxembourg",
            "United Kingdom",
            "France",
            "United States of America",
            "Lithuania",
            "Belarus",
            "Switzerland",
            "Italy",
            "Slovakia",
            "European Union",
            "Australia",
            "Iceland",
            "Czechia",
            "Turkey",
            "Norway",
            "Estonia",
            "Portugal",
            "Ireland",
            "Japan",
            "Malta",
            "Denmark",
            "Bulgaria",
            "Austria",
            "Cyprus",
            "Poland",
            "Romania",
            "Slovenia",
            "Netherlands",
            "Croatia",
            "Sweden",
            "New Zealand",
            "Ukraine",
            "Liechtenstein",
            "Monaco",
            "Canada",
            "Germany",
            "Russian Federation",
            "Latvia",
            "Hungary",
            "Finland",
            "Greece"
           ],
           "name": "",
           "type": "choropleth",
           "z": [
            126084.684409971,
            313119.841102688,
            9226.36684569111,
            576926.994554245,
            424005.850536512,
            5900436.59624085,
            12621.3656534034,
            54967.8713049379,
            45082.4459882986,
            468642.862531697,
            43378.2953275639,
            4243023.9420195,
            357669.182881018,
            2875.24223493072,
            126957.555363238,
            213486.093927579,
            43866.4144836801,
            15576.7339780734,
            65149.3048901802,
            47607.4165209804,
            1250211.04624365,
            2665.17144778351,
            57322.6787148713,
            49014.1362462771,
            70102.5999732436,
            7021.41200950456,
            313647.662006214,
            100357.071280565,
            16378.3388964937,
            176798.513076368,
            20806.7359711193,
            55617.0558462997,
            34457.4419655282,
            303559.229465307,
            214.664580488927,
            100.010594528044,
            564946.398072384,
            916366.135188787,
            1507500.88045298,
            7474.38995771827,
            60238.800926392,
            62536.2059866187,
            105385.700419808
           ]
          }
         ],
         "name": "2001"
        },
        {
         "data": [
          {
           "coloraxis": "coloraxis",
           "customdata": [
            [
             42112.4050537535
            ],
            [
             56572.5197216035
            ],
            [
             65059.791570341
            ],
            [
             10003.0487452456
            ],
            [
             570844.777611729
            ],
            [
             55077.6972533529
            ],
            [
             176113.046481303
            ],
            [
             46081.9841328883
            ],
            [
             476251.235956733
            ],
            [
             123895.622125869
            ],
            [
             34638.1013895817
            ],
            [
             7502.60817133935
            ],
            [
             333379.515503135
            ],
            [
             5942652.33460665
            ],
            [
             4228876.17516888
            ],
            [
             7210.77866207421
            ],
            [
             306403.332889554
            ],
            [
             220977.701101122
            ],
            [
             220.012063927523
            ],
            [
             15090.487218908
            ],
            [
             16525.2705401741
            ],
            [
             1495483.57832283
            ],
            [
             2707.48091404929
            ],
            [
             59197.0046477252
            ],
            [
             419347.504788213
            ],
            [
             56895.5388693198
            ],
            [
             561047.845137749
            ],
            [
             3000.52232232672
            ],
            [
             126878.582126558
            ],
            [
             105020.956638142
            ],
            [
             99.7398656493156
            ],
            [
             101735.332431986
            ],
            [
             46258.5728538918
            ],
            [
             295673.490491261
            ],
            [
             42985.6641244404
            ],
            [
             12690.0057602331
            ],
            [
             69556.0826965554
            ],
            [
             899821.052898805
            ],
            [
             43467.596162515
            ],
            [
             21912.7368743211
            ],
            [
             71918.7621509873
            ],
            [
             1279452.9647103
            ],
            [
             362209.546033934
            ]
           ],
           "geo": "geo",
           "hovertemplate": "<b>%{hovertext}</b><br><br>Year=2002<br>Country or Area=%{location}<br>Value=%{z}<extra></extra>",
           "hovertext": [
            "Slovakia",
            "Sweden",
            "Finland",
            "Luxembourg",
            "Canada",
            "Belarus",
            "Netherlands",
            "Ireland",
            "Italy",
            "Czechia",
            "New Zealand",
            "Latvia",
            "Spain",
            "United States of America",
            "European Union",
            "Cyprus",
            "Poland",
            "Turkey",
            "Liechtenstein",
            "Estonia",
            "Slovenia",
            "Russian Federation",
            "Malta",
            "Hungary",
            "France",
            "Denmark",
            "United Kingdom",
            "Iceland",
            "Belgium",
            "Greece",
            "Monaco",
            "Romania",
            "Bulgaria",
            "Ukraine",
            "Norway",
            "Lithuania",
            "Portugal",
            "Germany",
            "Switzerland",
            "Croatia",
            "Austria",
            "Japan",
            "Australia"
           ],
           "locationmode": "country names",
           "locations": [
            "Slovakia",
            "Sweden",
            "Finland",
            "Luxembourg",
            "Canada",
            "Belarus",
            "Netherlands",
            "Ireland",
            "Italy",
            "Czechia",
            "New Zealand",
            "Latvia",
            "Spain",
            "United States of America",
            "European Union",
            "Cyprus",
            "Poland",
            "Turkey",
            "Liechtenstein",
            "Estonia",
            "Slovenia",
            "Russian Federation",
            "Malta",
            "Hungary",
            "France",
            "Denmark",
            "United Kingdom",
            "Iceland",
            "Belgium",
            "Greece",
            "Monaco",
            "Romania",
            "Bulgaria",
            "Ukraine",
            "Norway",
            "Lithuania",
            "Portugal",
            "Germany",
            "Switzerland",
            "Croatia",
            "Austria",
            "Japan",
            "Australia"
           ],
           "name": "",
           "type": "choropleth",
           "z": [
            42112.4050537535,
            56572.5197216035,
            65059.791570341,
            10003.0487452456,
            570844.777611729,
            55077.6972533529,
            176113.046481303,
            46081.9841328883,
            476251.235956733,
            123895.622125869,
            34638.1013895817,
            7502.60817133935,
            333379.515503135,
            5942652.33460665,
            4228876.17516888,
            7210.77866207421,
            306403.332889554,
            220977.701101122,
            220.012063927523,
            15090.487218908,
            16525.2705401741,
            1495483.57832283,
            2707.48091404929,
            59197.0046477252,
            419347.504788213,
            56895.5388693198,
            561047.845137749,
            3000.52232232672,
            126878.582126558,
            105020.956638142,
            99.7398656493156,
            101735.332431986,
            46258.5728538918,
            295673.490491261,
            42985.6641244404,
            12690.0057602331,
            69556.0826965554,
            899821.052898805,
            43467.596162515,
            21912.7368743211,
            71918.7621509873,
            1279452.9647103,
            362209.546033934
           ]
          }
         ],
         "name": "2002"
        },
        {
         "data": [
          {
           "coloraxis": "coloraxis",
           "customdata": [
            [
             128275.264734252
            ],
            [
             494183.286884902
            ],
            [
             236483.892910668
            ],
            [
             229.346078636479
            ],
            [
             1287642.18171146
            ],
            [
             42438.0837476412
            ],
            [
             12679.8670936187
            ],
            [
             36351.9040365648
            ],
            [
             426145.699954993
            ],
            [
             44305.6803192546
            ],
            [
             337588.926976581
            ],
            [
             23268.2098760778
            ],
            [
             72657.82079628
            ],
            [
             319406.051155379
            ],
            [
             572532.251080021
            ],
            [
             4324440.21597734
            ],
            [
             64419.3147445385
            ],
            [
             77554.2519648355
            ],
            [
             7722.59047462213
            ],
            [
             16937.2313518201
            ],
            [
             105295.172237085
            ],
            [
             16289.0297264259
            ],
            [
             7605.5506262951
            ],
            [
             62055.93279593
            ],
            [
             1525389.95129702
            ],
            [
             127382.803367257
            ],
            [
             900866.405408944
            ],
            [
             57160.5666051887
            ],
            [
             587178.148867368
            ],
            [
             2979.28095586039
            ],
            [
             179564.998097276
            ],
            [
             56484.9540140683
            ],
            [
             50509.6689174236
            ],
            [
             44651.9069911309
            ],
            [
             61981.4713723319
            ],
            [
             369726.018066042
            ],
            [
             97.0507077511893
            ],
            [
             2994.55250332333
            ],
            [
             307017.471704689
            ],
            [
             10476.0186989438
            ],
            [
             109089.753810943
            ],
            [
             5991959.63332312
            ],
            [
             45683.9694440575
            ]
           ],
           "geo": "geo",
           "hovertemplate": "<b>%{hovertext}</b><br><br>Year=2003<br>Country or Area=%{location}<br>Value=%{z}<extra></extra>",
           "hovertext": [
            "Belgium",
            "Italy",
            "Turkey",
            "Liechtenstein",
            "Japan",
            "Slovakia",
            "Lithuania",
            "New Zealand",
            "France",
            "Norway",
            "Spain",
            "Croatia",
            "Finland",
            "Poland",
            "United Kingdom",
            "European Union",
            "Portugal",
            "Austria",
            "Latvia",
            "Estonia",
            "Romania",
            "Slovenia",
            "Cyprus",
            "Denmark",
            "Russian Federation",
            "Czechia",
            "Germany",
            "Sweden",
            "Canada",
            "Malta",
            "Netherlands",
            "Belarus",
            "Bulgaria",
            "Switzerland",
            "Hungary",
            "Australia",
            "Monaco",
            "Iceland",
            "Ukraine",
            "Luxembourg",
            "Greece",
            "United States of America",
            "Ireland"
           ],
           "locationmode": "country names",
           "locations": [
            "Belgium",
            "Italy",
            "Turkey",
            "Liechtenstein",
            "Japan",
            "Slovakia",
            "Lithuania",
            "New Zealand",
            "France",
            "Norway",
            "Spain",
            "Croatia",
            "Finland",
            "Poland",
            "United Kingdom",
            "European Union",
            "Portugal",
            "Austria",
            "Latvia",
            "Estonia",
            "Romania",
            "Slovenia",
            "Cyprus",
            "Denmark",
            "Russian Federation",
            "Czechia",
            "Germany",
            "Sweden",
            "Canada",
            "Malta",
            "Netherlands",
            "Belarus",
            "Bulgaria",
            "Switzerland",
            "Hungary",
            "Australia",
            "Monaco",
            "Iceland",
            "Ukraine",
            "Luxembourg",
            "Greece",
            "United States of America",
            "Ireland"
           ],
           "name": "",
           "type": "choropleth",
           "z": [
            128275.264734252,
            494183.286884902,
            236483.892910668,
            229.346078636479,
            1287642.18171146,
            42438.0837476412,
            12679.8670936187,
            36351.9040365648,
            426145.699954993,
            44305.6803192546,
            337588.926976581,
            23268.2098760778,
            72657.82079628,
            319406.051155379,
            572532.251080021,
            4324440.21597734,
            64419.3147445385,
            77554.2519648355,
            7722.59047462213,
            16937.2313518201,
            105295.172237085,
            16289.0297264259,
            7605.5506262951,
            62055.93279593,
            1525389.95129702,
            127382.803367257,
            900866.405408944,
            57160.5666051887,
            587178.148867368,
            2979.28095586039,
            179564.998097276,
            56484.9540140683,
            50509.6689174236,
            44651.9069911309,
            61981.4713723319,
            369726.018066042,
            97.0507077511893,
            2994.55250332333,
            307017.471704689,
            10476.0186989438,
            109089.753810943,
            5991959.63332312,
            45683.9694440575
           ]
          }
         ],
         "name": "2003"
        },
        {
         "data": [
          {
           "coloraxis": "coloraxis",
           "customdata": [
            [
             45236.3994268724
            ],
            [
             104269.756728272
            ],
            [
             11844.3064615053
            ],
            [
             1530473.62452885
            ],
            [
             16651.0302807818
            ],
            [
             6107618.2463268
            ],
            [
             181381.76585373
            ],
            [
             67255.3254038397
            ],
            [
             573994.49080935
            ],
            [
             324146.20983936
            ],
            [
             91.8793252541643
            ],
            [
             354485.57724037
            ],
            [
             310362.748297374
            ],
            [
             44622.5799282537
            ],
            [
             244464.112462258
            ],
            [
             13272.3428701303
            ],
            [
             35940.1111401226
            ],
            [
             42924.7490709343
            ],
            [
             56475.9190057769
            ],
            [
             2846.41052992359
            ],
            [
             229.380487768075
            ],
            [
             7727.75569807799
            ],
            [
             17201.0127796417
            ],
            [
             77674.3906380596
            ],
            [
             22916.8279594735
            ],
            [
             886965.973669802
            ],
            [
             7840.93899649826
            ],
            [
             427117.576492321
            ],
            [
             585703.097963365
            ],
            [
             109546.749153552
            ],
            [
             128113.811132993
            ],
            [
             68960.7548572691
            ],
            [
             383205.122284339
            ],
            [
             46166.92555071
            ],
            [
             49570.7306344279
            ],
            [
             60076.4685262107
            ],
            [
             499619.392973289
            ],
            [
             60489.9170971114
            ],
            [
             3116.88701942054
            ],
            [
             128805.292345769
            ],
            [
             56499.8132024679
            ],
            [
             4336433.66053044
            ],
            [
             1282872.08285675
            ]
           ],
           "geo": "geo",
           "hovertemplate": "<b>%{hovertext}</b><br><br>Year=2004<br>Country or Area=%{location}<br>Value=%{z}<extra></extra>",
           "hovertext": [
            "Switzerland",
            "Romania",
            "Luxembourg",
            "Russian Federation",
            "Slovenia",
            "United States of America",
            "Netherlands",
            "Portugal",
            "United Kingdom",
            "Poland",
            "Monaco",
            "Spain",
            "Ukraine",
            "Norway",
            "Turkey",
            "Lithuania",
            "New Zealand",
            "Slovakia",
            "Sweden",
            "Malta",
            "Liechtenstein",
            "Latvia",
            "Estonia",
            "Austria",
            "Croatia",
            "Germany",
            "Cyprus",
            "France",
            "Canada",
            "Greece",
            "Czechia",
            "Finland",
            "Australia",
            "Ireland",
            "Bulgaria",
            "Belarus",
            "Italy",
            "Hungary",
            "Iceland",
            "Belgium",
            "Denmark",
            "European Union",
            "Japan"
           ],
           "locationmode": "country names",
           "locations": [
            "Switzerland",
            "Romania",
            "Luxembourg",
            "Russian Federation",
            "Slovenia",
            "United States of America",
            "Netherlands",
            "Portugal",
            "United Kingdom",
            "Poland",
            "Monaco",
            "Spain",
            "Ukraine",
            "Norway",
            "Turkey",
            "Lithuania",
            "New Zealand",
            "Slovakia",
            "Sweden",
            "Malta",
            "Liechtenstein",
            "Latvia",
            "Estonia",
            "Austria",
            "Croatia",
            "Germany",
            "Cyprus",
            "France",
            "Canada",
            "Greece",
            "Czechia",
            "Finland",
            "Australia",
            "Ireland",
            "Bulgaria",
            "Belarus",
            "Italy",
            "Hungary",
            "Iceland",
            "Belgium",
            "Denmark",
            "European Union",
            "Japan"
           ],
           "name": "",
           "type": "choropleth",
           "z": [
            45236.3994268724,
            104269.756728272,
            11844.3064615053,
            1530473.62452885,
            16651.0302807818,
            6107618.2463268,
            181381.76585373,
            67255.3254038397,
            573994.49080935,
            324146.20983936,
            91.8793252541643,
            354485.57724037,
            310362.748297374,
            44622.5799282537,
            244464.112462258,
            13272.3428701303,
            35940.1111401226,
            42924.7490709343,
            56475.9190057769,
            2846.41052992359,
            229.380487768075,
            7727.75569807799,
            17201.0127796417,
            77674.3906380596,
            22916.8279594735,
            886965.973669802,
            7840.93899649826,
            427117.576492321,
            585703.097963365,
            109546.749153552,
            128113.811132993,
            68960.7548572691,
            383205.122284339,
            46166.92555071,
            49570.7306344279,
            60076.4685262107,
            499619.392973289,
            60489.9170971114,
            3116.88701942054,
            128805.292345769,
            56499.8132024679,
            4336433.66053044,
            1282872.08285675
           ]
          }
         ],
         "name": "2004"
        },
        {
         "data": [
          {
           "coloraxis": "coloraxis",
           "customdata": [
            [
             125661.687650787
            ],
            [
             264200.797153874
            ],
            [
             48155.535141546
            ],
            [
             12105.4480609916
            ],
            [
             369492.124730855
            ],
            [
             23330.0985764962
            ],
            [
             113930.966895994
            ],
            [
             14091.0759457025
            ],
            [
             500005.676339257
            ],
            [
             2654.25577102174
            ],
            [
             2985.96875812217
            ],
            [
             53852.8566780823
            ],
            [
             576434.463847342
            ],
            [
             50656.426636575
            ],
            [
             61367.0987934247
            ],
            [
             37571.039140135
            ],
            [
             7806.67626497519
            ],
            [
             45788.2349636509
            ],
            [
             60606.5273317791
            ],
            [
             90.3112283324114
            ],
            [
             177459.005110619
            ],
            [
             313118.087899896
            ],
            [
             8031.30067352799
            ],
            [
             52932.0006859352
            ],
            [
             6131892.97635233
            ],
            [
             1547375.78114651
            ],
            [
             866388.548679081
            ],
            [
             386513.45429618
            ],
            [
             228.96964276856
            ],
            [
             1290056.276701
            ],
            [
             16921.6202521054
            ],
            [
             102694.473334226
            ],
            [
             57042.8982041203
            ],
            [
             43923.1568517922
            ],
            [
             430528.27758708
            ],
            [
             323161.266880344
            ],
            [
             125671.941770852
            ],
            [
             69483.98230618
            ],
            [
             4313650.0929451
            ],
            [
             16948.1214005397
            ],
            [
             570724.265175529
            ],
            [
             42910.8509025192
            ],
            [
             79192.4319215329
            ]
           ],
           "geo": "geo",
           "hovertemplate": "<b>%{hovertext}</b><br><br>Year=2005<br>Country or Area=%{location}<br>Value=%{z}<extra></extra>",
           "hovertext": [
            "Belgium",
            "Turkey",
            "Ireland",
            "Luxembourg",
            "Spain",
            "Croatia",
            "Greece",
            "Lithuania",
            "Italy",
            "Malta",
            "Iceland",
            "Sweden",
            "Canada",
            "Bulgaria",
            "Belarus",
            "New Zealand",
            "Latvia",
            "Switzerland",
            "Hungary",
            "Monaco",
            "Netherlands",
            "Ukraine",
            "Cyprus",
            "Denmark",
            "United States of America",
            "Russian Federation",
            "Germany",
            "Australia",
            "Liechtenstein",
            "Japan",
            "Estonia",
            "Romania",
            "Finland",
            "Norway",
            "France",
            "Poland",
            "Czechia",
            "Portugal",
            "European Union",
            "Slovenia",
            "United Kingdom",
            "Slovakia",
            "Austria"
           ],
           "locationmode": "country names",
           "locations": [
            "Belgium",
            "Turkey",
            "Ireland",
            "Luxembourg",
            "Spain",
            "Croatia",
            "Greece",
            "Lithuania",
            "Italy",
            "Malta",
            "Iceland",
            "Sweden",
            "Canada",
            "Bulgaria",
            "Belarus",
            "New Zealand",
            "Latvia",
            "Switzerland",
            "Hungary",
            "Monaco",
            "Netherlands",
            "Ukraine",
            "Cyprus",
            "Denmark",
            "United States of America",
            "Russian Federation",
            "Germany",
            "Australia",
            "Liechtenstein",
            "Japan",
            "Estonia",
            "Romania",
            "Finland",
            "Norway",
            "France",
            "Poland",
            "Czechia",
            "Portugal",
            "European Union",
            "Slovenia",
            "United Kingdom",
            "Slovakia",
            "Austria"
           ],
           "name": "",
           "type": "choropleth",
           "z": [
            125661.687650787,
            264200.797153874,
            48155.535141546,
            12105.4480609916,
            369492.124730855,
            23330.0985764962,
            113930.966895994,
            14091.0759457025,
            500005.676339257,
            2654.25577102174,
            2985.96875812217,
            53852.8566780823,
            576434.463847342,
            50656.426636575,
            61367.0987934247,
            37571.039140135,
            7806.67626497519,
            45788.2349636509,
            60606.5273317791,
            90.3112283324114,
            177459.005110619,
            313118.087899896,
            8031.30067352799,
            52932.0006859352,
            6131892.97635233,
            1547375.78114651,
            866388.548679081,
            386513.45429618,
            228.96964276856,
            1290056.276701,
            16921.6202521054,
            102694.473334226,
            57042.8982041203,
            43923.1568517922,
            430528.27758708,
            323161.266880344,
            125671.941770852,
            69483.98230618,
            4313650.0929451,
            16948.1214005397,
            570724.265175529,
            42910.8509025192,
            79192.4319215329
           ]
          }
         ],
         "name": "2005"
        },
        {
         "data": [
          {
           "coloraxis": "coloraxis",
           "customdata": [
            [
             68384.4227742571
            ],
            [
             4319665.13862076
            ],
            [
             281649.184924484
            ],
            [
             105082.793031832
            ],
            [
             16208.805417015
            ],
            [
             3164.40279141499
            ],
            [
             2665.94446943937
            ],
            [
             64767.6548374252
            ],
            [
             45373.6830770009
            ],
            [
             51895.2191096203
            ],
            [
             877997.390977238
            ],
            [
             337037.511518509
            ],
            [
             37466.3290203584
            ],
            [
             8223.17449176942
            ],
            [
             17142.5257529594
            ],
            [
             360578.604188534
            ],
            [
             126449.454548873
            ],
            [
             112472.437506665
            ],
            [
             44484.7805500628
            ],
            [
             84.0080085970913
            ],
            [
             172686.523341534
            ],
            [
             53674.2651981627
            ],
            [
             419737.020157107
            ],
            [
             42687.2904164088
            ],
            [
             570950.380878791
            ],
            [
             60858.6853489123
            ],
            [
             59915.3810922813
            ],
            [
             1606313.35529807
            ],
            [
             23529.4537376032
            ],
            [
             123905.757273144
            ],
            [
             8305.734197949
            ],
            [
             11936.2842632925
            ],
            [
             1266828.60601604
            ],
            [
             76898.3285249658
            ],
            [
             231.098671603226
            ],
            [
             392680.646328911
            ],
            [
             495124.198432933
            ],
            [
             568390.054550416
            ],
            [
             14408.0108486811
            ],
            [
             47603.9378150257
            ],
            [
             332670.337203369
            ],
            [
             6051051.02176828
            ],
            [
             64157.1581431005
            ]
           ],
           "geo": "geo",
           "hovertemplate": "<b>%{hovertext}</b><br><br>Year=2006<br>Country or Area=%{location}<br>Value=%{z}<extra></extra>",
           "hovertext": [
            "Finland",
            "European Union",
            "Turkey",
            "Romania",
            "Estonia",
            "Iceland",
            "Malta",
            "Portugal",
            "Switzerland",
            "Bulgaria",
            "Germany",
            "Poland",
            "New Zealand",
            "Cyprus",
            "Slovenia",
            "Spain",
            "Czechia",
            "Greece",
            "Norway",
            "Monaco",
            "Netherlands",
            "Sweden",
            "France",
            "Slovakia",
            "Canada",
            "Denmark",
            "Hungary",
            "Russian Federation",
            "Croatia",
            "Belgium",
            "Latvia",
            "Luxembourg",
            "Japan",
            "Austria",
            "Liechtenstein",
            "Australia",
            "Italy",
            "United Kingdom",
            "Lithuania",
            "Ireland",
            "Ukraine",
            "United States of America",
            "Belarus"
           ],
           "locationmode": "country names",
           "locations": [
            "Finland",
            "European Union",
            "Turkey",
            "Romania",
            "Estonia",
            "Iceland",
            "Malta",
            "Portugal",
            "Switzerland",
            "Bulgaria",
            "Germany",
            "Poland",
            "New Zealand",
            "Cyprus",
            "Slovenia",
            "Spain",
            "Czechia",
            "Greece",
            "Norway",
            "Monaco",
            "Netherlands",
            "Sweden",
            "France",
            "Slovakia",
            "Canada",
            "Denmark",
            "Hungary",
            "Russian Federation",
            "Croatia",
            "Belgium",
            "Latvia",
            "Luxembourg",
            "Japan",
            "Austria",
            "Liechtenstein",
            "Australia",
            "Italy",
            "United Kingdom",
            "Lithuania",
            "Ireland",
            "Ukraine",
            "United States of America",
            "Belarus"
           ],
           "name": "",
           "type": "choropleth",
           "z": [
            68384.4227742571,
            4319665.13862076,
            281649.184924484,
            105082.793031832,
            16208.805417015,
            3164.40279141499,
            2665.94446943937,
            64767.6548374252,
            45373.6830770009,
            51895.2191096203,
            877997.390977238,
            337037.511518509,
            37466.3290203584,
            8223.17449176942,
            17142.5257529594,
            360578.604188534,
            126449.454548873,
            112472.437506665,
            44484.7805500628,
            84.0080085970913,
            172686.523341534,
            53674.2651981627,
            419737.020157107,
            42687.2904164088,
            570950.380878791,
            60858.6853489123,
            59915.3810922813,
            1606313.35529807,
            23529.4537376032,
            123905.757273144,
            8305.734197949,
            11936.2842632925,
            1266828.60601604,
            76898.3285249658,
            231.098671603226,
            392680.646328911,
            495124.198432933,
            568390.054550416,
            14408.0108486811,
            47603.9378150257,
            332670.337203369,
            6051051.02176828,
            64157.1581431005
           ]
          }
         ],
         "name": "2006"
        },
        {
         "data": [
          {
           "coloraxis": "coloraxis",
           "customdata": [
            [
             6128429.64048722
            ],
            [
             82.7684235598408
            ],
            [
             336368.497828037
            ],
            [
             594220.570759443
            ],
            [
             368432.698383462
            ],
            [
             1604323.81361381
            ],
            [
             66760.3029952172
            ],
            [
             409033.413473519
            ],
            [
             58688.6259516226
            ],
            [
             336364.013523953
            ],
            [
             114592.335161648
            ],
            [
             63569.9283051038
            ],
            [
             15797.7873514163
            ],
            [
             17281.0017099016
            ],
            [
             52940.9044464416
            ],
            [
             487693.305512201
            ],
            [
             56102.0354321429
            ],
            [
             172587.180339288
            ],
            [
             41095.1064916103
            ],
            [
             200.767422348734
            ],
            [
             1302524.28495402
            ],
            [
             399842.460646105
            ],
            [
             120496.161555536
            ],
            [
             74262.5877706597
            ],
            [
             312736.708478018
            ],
            [
             851383.304869504
            ],
            [
             4272760.08079702
            ],
            [
             47665.1296631784
            ],
            [
             8631.98906677741
            ],
            [
             560205.595545064
            ],
            [
             36559.8842863292
            ],
            [
             62280.4229719127
            ],
            [
             2735.72320641265
            ],
            [
             11333.5839357874
            ],
            [
             24843.8124351008
            ],
            [
             43368.3664038924
            ],
            [
             128264.329658795
            ],
            [
             46231.2860161085
            ],
            [
             8538.9183257027
            ],
            [
             108440.49325638
            ],
            [
             55740.8447678207
            ],
            [
             3512.09802280345
            ],
            [
             19838.5633966356
            ]
           ],
           "geo": "geo",
           "hovertemplate": "<b>%{hovertext}</b><br><br>Year=2007<br>Country or Area=%{location}<br>Value=%{z}<extra></extra>",
           "hovertext": [
            "United States of America",
            "Monaco",
            "Poland",
            "Canada",
            "Spain",
            "Russian Federation",
            "Finland",
            "France",
            "Hungary",
            "Ukraine",
            "Greece",
            "Belarus",
            "Lithuania",
            "Slovenia",
            "Sweden",
            "Italy",
            "Denmark",
            "Netherlands",
            "Slovakia",
            "Liechtenstein",
            "Japan",
            "Australia",
            "Belgium",
            "Austria",
            "Turkey",
            "Germany",
            "European Union",
            "Ireland",
            "Latvia",
            "United Kingdom",
            "New Zealand",
            "Portugal",
            "Malta",
            "Luxembourg",
            "Croatia",
            "Switzerland",
            "Czechia",
            "Norway",
            "Cyprus",
            "Romania",
            "Bulgaria",
            "Iceland",
            "Estonia"
           ],
           "locationmode": "country names",
           "locations": [
            "United States of America",
            "Monaco",
            "Poland",
            "Canada",
            "Spain",
            "Russian Federation",
            "Finland",
            "France",
            "Hungary",
            "Ukraine",
            "Greece",
            "Belarus",
            "Lithuania",
            "Slovenia",
            "Sweden",
            "Italy",
            "Denmark",
            "Netherlands",
            "Slovakia",
            "Liechtenstein",
            "Japan",
            "Australia",
            "Belgium",
            "Austria",
            "Turkey",
            "Germany",
            "European Union",
            "Ireland",
            "Latvia",
            "United Kingdom",
            "New Zealand",
            "Portugal",
            "Malta",
            "Luxembourg",
            "Croatia",
            "Switzerland",
            "Czechia",
            "Norway",
            "Cyprus",
            "Romania",
            "Bulgaria",
            "Iceland",
            "Estonia"
           ],
           "name": "",
           "type": "choropleth",
           "z": [
            6128429.64048722,
            82.7684235598408,
            336368.497828037,
            594220.570759443,
            368432.698383462,
            1604323.81361381,
            66760.3029952172,
            409033.413473519,
            58688.6259516226,
            336364.013523953,
            114592.335161648,
            63569.9283051038,
            15797.7873514163,
            17281.0017099016,
            52940.9044464416,
            487693.305512201,
            56102.0354321429,
            172587.180339288,
            41095.1064916103,
            200.767422348734,
            1302524.28495402,
            399842.460646105,
            120496.161555536,
            74262.5877706597,
            312736.708478018,
            851383.304869504,
            4272760.08079702,
            47665.1296631784,
            8631.98906677741,
            560205.595545064,
            36559.8842863292,
            62280.4229719127,
            2735.72320641265,
            11333.5839357874,
            24843.8124351008,
            43368.3664038924,
            128264.329658795,
            46231.2860161085,
            8538.9183257027,
            108440.49325638,
            55740.8447678207,
            3512.09802280345,
            19838.5633966356
           ]
          }
         ],
         "name": "2007"
        },
        {
         "data": [
          {
           "coloraxis": "coloraxis",
           "customdata": [
            [
             122941.37326182
            ],
            [
             41503.1743561107
            ],
            [
             175481.511022412
            ],
            [
             73588.4048158102
            ],
            [
             854706.334353909
            ],
            [
             8707.2531713148
            ],
            [
             336624.210123802
            ],
            [
             545682.4676761
            ],
            [
             37592.3169852392
            ],
            [
             111125.241614693
            ],
            [
             1231909.52457059
            ],
            [
             401422.869864192
            ],
            [
             15179.1617992972
            ],
            [
             45377.6950297943
            ],
            [
             476229.970792145
            ],
            [
             120202.862272037
            ],
            [
             17668.1172407568
            ],
            [
             105534.579496887
            ],
            [
             309321.194915912
            ],
            [
             47366.2460993392
            ],
            [
             4172947.61323661
            ],
            [
             8192.81853495034
            ],
            [
             54079.5574525907
            ],
            [
             59973.0625301686
            ],
            [
             2747.13215957136
            ],
            [
             11195.2463438773
            ],
            [
             3824.94058092331
            ],
            [
             404417.407486178
            ],
            [
             23628.577726183
            ],
            [
             44714.3099715288
            ],
            [
             1636694.37485371
            ],
            [
             58609.6185514801
            ],
            [
             18220.0144547338
            ],
            [
             65694.8182536516
            ],
            [
             575586.90796111
            ],
            [
             57530.8150412234
            ],
            [
             52640.3662936756
            ],
            [
             50855.9955834723
            ],
            [
             325532.712918485
            ],
            [
             330144.998656562
            ],
            [
             5930539.64334029
            ],
            [
             219.507244021122
            ],
            [
             82.3529546105126
            ]
           ],
           "geo": "geo",
           "hovertemplate": "<b>%{hovertext}</b><br><br>Year=2008<br>Country or Area=%{location}<br>Value=%{z}<extra></extra>",
           "hovertext": [
            "Czechia",
            "Slovakia",
            "Netherlands",
            "Austria",
            "Germany",
            "Cyprus",
            "Spain",
            "United Kingdom",
            "New Zealand",
            "Greece",
            "Japan",
            "France",
            "Lithuania",
            "Norway",
            "Italy",
            "Belgium",
            "Estonia",
            "Romania",
            "Turkey",
            "Ireland",
            "European Union",
            "Latvia",
            "Bulgaria",
            "Portugal",
            "Malta",
            "Luxembourg",
            "Iceland",
            "Australia",
            "Croatia",
            "Switzerland",
            "Russian Federation",
            "Finland",
            "Slovenia",
            "Belarus",
            "Canada",
            "Hungary",
            "Denmark",
            "Sweden",
            "Ukraine",
            "Poland",
            "United States of America",
            "Liechtenstein",
            "Monaco"
           ],
           "locationmode": "country names",
           "locations": [
            "Czechia",
            "Slovakia",
            "Netherlands",
            "Austria",
            "Germany",
            "Cyprus",
            "Spain",
            "United Kingdom",
            "New Zealand",
            "Greece",
            "Japan",
            "France",
            "Lithuania",
            "Norway",
            "Italy",
            "Belgium",
            "Estonia",
            "Romania",
            "Turkey",
            "Ireland",
            "European Union",
            "Latvia",
            "Bulgaria",
            "Portugal",
            "Malta",
            "Luxembourg",
            "Iceland",
            "Australia",
            "Croatia",
            "Switzerland",
            "Russian Federation",
            "Finland",
            "Slovenia",
            "Belarus",
            "Canada",
            "Hungary",
            "Denmark",
            "Sweden",
            "Ukraine",
            "Poland",
            "United States of America",
            "Liechtenstein",
            "Monaco"
           ],
           "name": "",
           "type": "choropleth",
           "z": [
            122941.37326182,
            41503.1743561107,
            175481.511022412,
            73588.4048158102,
            854706.334353909,
            8707.2531713148,
            336624.210123802,
            545682.4676761,
            37592.3169852392,
            111125.241614693,
            1231909.52457059,
            401422.869864192,
            15179.1617992972,
            45377.6950297943,
            476229.970792145,
            120202.862272037,
            17668.1172407568,
            105534.579496887,
            309321.194915912,
            47366.2460993392,
            4172947.61323661,
            8192.81853495034,
            54079.5574525907,
            59973.0625301686,
            2747.13215957136,
            11195.2463438773,
            3824.94058092331,
            404417.407486178,
            23628.577726183,
            44714.3099715288,
            1636694.37485371,
            58609.6185514801,
            18220.0144547338,
            65694.8182536516,
            575586.90796111,
            57530.8150412234,
            52640.3662936756,
            50855.9955834723,
            325532.712918485,
            330144.998656562,
            5930539.64334029,
            219.507244021122,
            82.3529546105126
           ]
          }
         ],
         "name": "2008"
        },
        {
         "data": [
          {
           "coloraxis": "coloraxis",
           "customdata": [
            [
             205.354339812109
            ],
            [
             3832105.82022217
            ],
            [
             86024.1362338914
            ],
            [
             316607.700640106
            ],
            [
             7451.91760415792
            ],
            [
             16329.7820175681
            ],
            [
             50184.6891968054
            ],
            [
             55924.3651900131
            ],
            [
             115193.743442035
            ],
            [
             5491035.72699449
            ],
            [
             57200.2556616906
            ],
            [
             407463.327962593
            ],
            [
             1162647.86628282
            ],
            [
             43890.0273509531
            ],
            [
             385421.583706487
            ],
            [
             14339.0093729183
            ],
            [
             1528764.918185
            ],
            [
             67493.9480784093
            ],
            [
             37755.0655849329
            ],
            [
             34762.4347486468
            ],
            [
             47231.1168383802
            ],
            [
             51774.9657203118
            ],
            [
             277293.500642892
            ],
            [
             79.1637583192536
            ],
            [
             542549.599765392
            ],
            [
             422624.187307513
            ],
            [
             43534.7155398996
            ],
            [
             21837.8014359227
            ],
            [
             170167.74143354
            ],
            [
             104354.752916408
            ],
            [
             107743.366678221
            ],
            [
             61402.6986828271
            ],
            [
             10647.821340394
            ],
            [
             297241.175040069
            ],
            [
             3740.1796060044
            ],
            [
             13022.7679520861
            ],
            [
             790195.717336015
            ],
            [
             495119.485922879
            ],
            [
             8453.79757023243
            ],
            [
             45773.7710199153
            ],
            [
             42179.5383695398
            ],
            [
             315359.637575316
            ],
            [
             2532.56842377362
            ]
           ],
           "geo": "geo",
           "hovertemplate": "<b>%{hovertext}</b><br><br>Year=2009<br>Country or Area=%{location}<br>Value=%{z}<extra></extra>",
           "hovertext": [
            "Liechtenstein",
            "European Union",
            "Romania",
            "Poland",
            "Latvia",
            "Slovenia",
            "Denmark",
            "Finland",
            "Czechia",
            "United States of America",
            "Portugal",
            "Australia",
            "Japan",
            "Norway",
            "France",
            "Estonia",
            "Russian Federation",
            "Austria",
            "Slovakia",
            "New Zealand",
            "Sweden",
            "Hungary",
            "Ukraine",
            "Monaco",
            "Canada",
            "Italy",
            "Switzerland",
            "Croatia",
            "Netherlands",
            "Greece",
            "Belgium",
            "Belarus",
            "Luxembourg",
            "Spain",
            "Iceland",
            "Lithuania",
            "Germany",
            "United Kingdom",
            "Cyprus",
            "Bulgaria",
            "Ireland",
            "Turkey",
            "Malta"
           ],
           "locationmode": "country names",
           "locations": [
            "Liechtenstein",
            "European Union",
            "Romania",
            "Poland",
            "Latvia",
            "Slovenia",
            "Denmark",
            "Finland",
            "Czechia",
            "United States of America",
            "Portugal",
            "Australia",
            "Japan",
            "Norway",
            "France",
            "Estonia",
            "Russian Federation",
            "Austria",
            "Slovakia",
            "New Zealand",
            "Sweden",
            "Hungary",
            "Ukraine",
            "Monaco",
            "Canada",
            "Italy",
            "Switzerland",
            "Croatia",
            "Netherlands",
            "Greece",
            "Belgium",
            "Belarus",
            "Luxembourg",
            "Spain",
            "Iceland",
            "Lithuania",
            "Germany",
            "United Kingdom",
            "Cyprus",
            "Bulgaria",
            "Ireland",
            "Turkey",
            "Malta"
           ],
           "name": "",
           "type": "choropleth",
           "z": [
            205.354339812109,
            3832105.82022217,
            86024.1362338914,
            316607.700640106,
            7451.91760415792,
            16329.7820175681,
            50184.6891968054,
            55924.3651900131,
            115193.743442035,
            5491035.72699449,
            57200.2556616906,
            407463.327962593,
            1162647.86628282,
            43890.0273509531,
            385421.583706487,
            14339.0093729183,
            1528764.918185,
            67493.9480784093,
            37755.0655849329,
            34762.4347486468,
            47231.1168383802,
            51774.9657203118,
            277293.500642892,
            79.1637583192536,
            542549.599765392,
            422624.187307513,
            43534.7155398996,
            21837.8014359227,
            170167.74143354,
            104354.752916408,
            107743.366678221,
            61402.6986828271,
            10647.821340394,
            297241.175040069,
            3740.1796060044,
            13022.7679520861,
            790195.717336015,
            495119.485922879,
            8453.79757023243,
            45773.7710199153,
            42179.5383695398,
            315359.637575316,
            2532.56842377362
           ]
          }
         ],
         "name": "2009"
        },
        {
         "data": [
          {
           "coloraxis": "coloraxis",
           "customdata": [
            [
             52989.3772455978
            ],
            [
             84289.7215619474
            ],
            [
             294078.322497151
            ],
            [
             77.6919933828818
            ],
            [
             41747.9285976408
            ],
            [
             555549.849476423
            ],
            [
             64099.4513237666
            ],
            [
             1612884.81391211
            ],
            [
             18784.9606173505
            ],
            [
             3951411.91431182
            ],
            [
             114561.03017821
            ],
            [
             314380.032550352
            ],
            [
             47862.9303891247
            ],
            [
             11219.2942964271
            ],
            [
             8548.87875930203
            ],
            [
             2581.75885927079
            ],
            [
             405502.798857304
            ],
            [
             3660.12466719635
            ],
            [
             45049.5515778933
            ],
            [
             832669.735135068
            ],
            [
             16376.443508706
            ],
            [
             334606.783962775
            ],
            [
             117500.711769433
            ],
            [
             34957.7838441033
            ],
            [
             512864.791680109
            ],
            [
             72011.8408789925
            ],
            [
             1214068.55631317
            ],
            [
             46231.6541241374
            ],
            [
             8089.01126735049
            ],
            [
             63156.3918517196
            ],
            [
             283724.993585763
            ],
            [
             13926.7388560843
            ],
            [
             53042.2233607854
            ],
            [
             393717.818529277
            ],
            [
             182117.938134422
            ],
            [
             38523.2172874425
            ],
            [
             97361.5039773485
            ],
            [
             50678.3061902569
            ],
            [
             5698055.77931316
            ],
            [
             190.808156025799
            ],
            [
             433688.023903586
            ],
            [
             52123.6780411305
            ],
            [
             21050.859675384
            ]
           ],
           "geo": "geo",
           "hovertemplate": "<b>%{hovertext}</b><br><br>Year=2010<br>Country or Area=%{location}<br>Value=%{z}<extra></extra>",
           "hovertext": [
            "Portugal",
            "Romania",
            "Ukraine",
            "Monaco",
            "Ireland",
            "Canada",
            "Finland",
            "Russian Federation",
            "Estonia",
            "European Union",
            "Belgium",
            "Turkey",
            "Bulgaria",
            "Luxembourg",
            "Latvia",
            "Malta",
            "Australia",
            "Iceland",
            "Switzerland",
            "Germany",
            "Slovenia",
            "Poland",
            "Czechia",
            "New Zealand",
            "United Kingdom",
            "Austria",
            "Japan",
            "Norway",
            "Cyprus",
            "Belarus",
            "Spain",
            "Lithuania",
            "Sweden",
            "France",
            "Netherlands",
            "Slovakia",
            "Greece",
            "Denmark",
            "United States of America",
            "Liechtenstein",
            "Italy",
            "Hungary",
            "Croatia"
           ],
           "locationmode": "country names",
           "locations": [
            "Portugal",
            "Romania",
            "Ukraine",
            "Monaco",
            "Ireland",
            "Canada",
            "Finland",
            "Russian Federation",
            "Estonia",
            "European Union",
            "Belgium",
            "Turkey",
            "Bulgaria",
            "Luxembourg",
            "Latvia",
            "Malta",
            "Australia",
            "Iceland",
            "Switzerland",
            "Germany",
            "Slovenia",
            "Poland",
            "Czechia",
            "New Zealand",
            "United Kingdom",
            "Austria",
            "Japan",
            "Norway",
            "Cyprus",
            "Belarus",
            "Spain",
            "Lithuania",
            "Sweden",
            "France",
            "Netherlands",
            "Slovakia",
            "Greece",
            "Denmark",
            "United States of America",
            "Liechtenstein",
            "Italy",
            "Hungary",
            "Croatia"
           ],
           "name": "",
           "type": "choropleth",
           "z": [
            52989.3772455978,
            84289.7215619474,
            294078.322497151,
            77.6919933828818,
            41747.9285976408,
            555549.849476423,
            64099.4513237666,
            1612884.81391211,
            18784.9606173505,
            3951411.91431182,
            114561.03017821,
            314380.032550352,
            47862.9303891247,
            11219.2942964271,
            8548.87875930203,
            2581.75885927079,
            405502.798857304,
            3660.12466719635,
            45049.5515778933,
            832669.735135068,
            16376.443508706,
            334606.783962775,
            117500.711769433,
            34957.7838441033,
            512864.791680109,
            72011.8408789925,
            1214068.55631317,
            46231.6541241374,
            8089.01126735049,
            63156.3918517196,
            283724.993585763,
            13926.7388560843,
            53042.2233607854,
            393717.818529277,
            182117.938134422,
            38523.2172874425,
            97361.5039773485,
            50678.3061902569,
            5698055.77931316,
            190.808156025799,
            433688.023903586,
            52123.6780411305,
            21050.859675384
           ]
          }
         ],
         "name": "2010"
        },
        {
         "data": [
          {
           "coloraxis": "coloraxis",
           "customdata": [
            [
             40985.5235473301
            ],
            [
             16360.3010909769
            ],
            [
             115060.25937587
            ],
            [
             105046.057789402
            ],
            [
             5565294.40112266
            ],
            [
             69898.2413042763
            ],
            [
             470608.131015341
            ],
            [
             339482.25210975
            ],
            [
             53178.0436090909
            ],
            [
             1664953.14694512
            ],
            [
             49166.9005986578
            ],
            [
             18855.1246877163
            ],
            [
             7759.46771834195
            ],
            [
             62106.7449034948
            ],
            [
             20682.4392444931
            ],
            [
             284543.848339933
            ],
            [
             404172.757021574
            ],
            [
             566740.990959863
            ],
            [
             307952.84142234
            ],
            [
             45652.2788281635
            ],
            [
             38111.9530412724
            ],
            [
             89518.2458428664
            ],
            [
             50322.1456635078
            ],
            [
             333952.034783092
            ],
            [
             11114.5548217397
            ],
            [
             38052.2225963057
            ],
            [
             14271.0769800848
            ],
            [
             367051.083058466
            ],
            [
             45513.3598052323
            ],
            [
             56665.6520503144
            ],
            [
             169065.734256756
            ],
            [
             809426.949833717
            ],
            [
             34249.5711852552
            ],
            [
             2578.07234188238
            ],
            [
             3510.63875461921
            ],
            [
             1264155.1270142
            ],
            [
             176.776956798351
            ],
            [
             94549.5772908435
            ],
            [
             7805.39954672233
            ],
            [
             422039.47517146
            ],
            [
             3803658.28965926
            ],
            [
             75.0107829107585
            ],
            [
             51792.6538325347
            ]
           ],
           "geo": "geo",
           "hovertemplate": "<b>%{hovertext}</b><br><br>Year=2011<br>Country or Area=%{location}<br>Value=%{z}<extra></extra>",
           "hovertext": [
            "Switzerland",
            "Slovenia",
            "Czechia",
            "Belgium",
            "United States of America",
            "Austria",
            "United Kingdom",
            "Turkey",
            "Bulgaria",
            "Russian Federation",
            "Sweden",
            "Estonia",
            "Cyprus",
            "Belarus",
            "Croatia",
            "Spain",
            "Australia",
            "Canada",
            "Ukraine",
            "Denmark",
            "Slovakia",
            "Romania",
            "Hungary",
            "Poland",
            "Luxembourg",
            "Ireland",
            "Lithuania",
            "France",
            "Norway",
            "Finland",
            "Netherlands",
            "Germany",
            "New Zealand",
            "Malta",
            "Iceland",
            "Japan",
            "Liechtenstein",
            "Greece",
            "Latvia",
            "Italy",
            "European Union",
            "Monaco",
            "Portugal"
           ],
           "locationmode": "country names",
           "locations": [
            "Switzerland",
            "Slovenia",
            "Czechia",
            "Belgium",
            "United States of America",
            "Austria",
            "United Kingdom",
            "Turkey",
            "Bulgaria",
            "Russian Federation",
            "Sweden",
            "Estonia",
            "Cyprus",
            "Belarus",
            "Croatia",
            "Spain",
            "Australia",
            "Canada",
            "Ukraine",
            "Denmark",
            "Slovakia",
            "Romania",
            "Hungary",
            "Poland",
            "Luxembourg",
            "Ireland",
            "Lithuania",
            "France",
            "Norway",
            "Finland",
            "Netherlands",
            "Germany",
            "New Zealand",
            "Malta",
            "Iceland",
            "Japan",
            "Liechtenstein",
            "Greece",
            "Latvia",
            "Italy",
            "European Union",
            "Monaco",
            "Portugal"
           ],
           "name": "",
           "type": "choropleth",
           "z": [
            40985.5235473301,
            16360.3010909769,
            115060.25937587,
            105046.057789402,
            5565294.40112266,
            69898.2413042763,
            470608.131015341,
            339482.25210975,
            53178.0436090909,
            1664953.14694512,
            49166.9005986578,
            18855.1246877163,
            7759.46771834195,
            62106.7449034948,
            20682.4392444931,
            284543.848339933,
            404172.757021574,
            566740.990959863,
            307952.84142234,
            45652.2788281635,
            38111.9530412724,
            89518.2458428664,
            50322.1456635078,
            333952.034783092,
            11114.5548217397,
            38052.2225963057,
            14271.0769800848,
            367051.083058466,
            45513.3598052323,
            56665.6520503144,
            169065.734256756,
            809426.949833717,
            34249.5711852552,
            2578.07234188238,
            3510.63875461921,
            1264155.1270142,
            176.776956798351,
            94549.5772908435,
            7805.39954672233,
            422039.47517146,
            3803658.28965926,
            75.0107829107585,
            51792.6538325347
           ]
          }
         ],
         "name": "2011"
        },
        {
         "data": [
          {
           "coloraxis": "coloraxis",
           "customdata": [
            [
             10851.3991139457
            ],
            [
             91430.0996005176
            ],
            [
             3745971.32736509
            ],
            [
             38209.5911496161
            ],
            [
             41218.2356733
            ],
            [
             15821.7559761859
            ],
            [
             19114.7790291044
            ],
            [
             278850.691074916
            ],
            [
             67209.0963816178
            ],
            [
             48349.0085369352
            ],
            [
             110955.164604466
            ],
            [
             45038.3126012353
            ],
            [
             5367568.55523549
            ],
            [
             14330.8289402948
            ],
            [
             63008.3458582166
            ],
            [
             185.31481906203
            ],
            [
             46692.0074308832
            ],
            [
             353666.209099794
            ],
            [
             42254.722400681
            ],
            [
             165827.027252846
            ],
            [
             368311.772581799
            ],
            [
             86255.6930244359
            ],
            [
             2762.07470760125
            ],
            [
             1305432.85047807
            ],
            [
             36021.1815156659
            ],
            [
             49962.6235880616
            ],
            [
             569737.013024553
            ],
            [
             406506.241774818
            ],
            [
             303952.606071527
            ],
            [
             17684.9753949903
            ],
            [
             7234.89236961658
            ],
            [
             3502.88574774364
            ],
            [
             401554.708582207
            ],
            [
             326348.211523784
            ],
            [
             488503.548419289
            ],
            [
             102428.754733721
            ],
            [
             7515.2108803138
            ],
            [
             813893.12080289
            ],
            [
             51222.1466565397
            ],
            [
             36000.4334392606
            ],
            [
             1679866.1956823
            ],
            [
             78.0476897695046
            ],
            [
             46776.6781403574
            ]
           ],
           "geo": "geo",
           "hovertemplate": "<b>%{hovertext}</b><br><br>Year=2012<br>Country or Area=%{location}<br>Value=%{z}<extra></extra>",
           "hovertext": [
            "Luxembourg",
            "Greece",
            "European Union",
            "Ireland",
            "Denmark",
            "Slovenia",
            "Croatia",
            "Spain",
            "Austria",
            "Bulgaria",
            "Czechia",
            "Norway",
            "United States of America",
            "Lithuania",
            "Belarus",
            "Liechtenstein",
            "Sweden",
            "Turkey",
            "Switzerland",
            "Netherlands",
            "France",
            "Romania",
            "Malta",
            "Japan",
            "Slovakia",
            "Portugal",
            "Canada",
            "Australia",
            "Ukraine",
            "Estonia",
            "Cyprus",
            "Iceland",
            "Italy",
            "Poland",
            "United Kingdom",
            "Belgium",
            "Latvia",
            "Germany",
            "Finland",
            "New Zealand",
            "Russian Federation",
            "Monaco",
            "Hungary"
           ],
           "locationmode": "country names",
           "locations": [
            "Luxembourg",
            "Greece",
            "European Union",
            "Ireland",
            "Denmark",
            "Slovenia",
            "Croatia",
            "Spain",
            "Austria",
            "Bulgaria",
            "Czechia",
            "Norway",
            "United States of America",
            "Lithuania",
            "Belarus",
            "Liechtenstein",
            "Sweden",
            "Turkey",
            "Switzerland",
            "Netherlands",
            "France",
            "Romania",
            "Malta",
            "Japan",
            "Slovakia",
            "Portugal",
            "Canada",
            "Australia",
            "Ukraine",
            "Estonia",
            "Cyprus",
            "Iceland",
            "Italy",
            "Poland",
            "United Kingdom",
            "Belgium",
            "Latvia",
            "Germany",
            "Finland",
            "New Zealand",
            "Russian Federation",
            "Monaco",
            "Hungary"
           ],
           "name": "",
           "type": "choropleth",
           "z": [
            10851.3991139457,
            91430.0996005176,
            3745971.32736509,
            38209.5911496161,
            41218.2356733,
            15821.7559761859,
            19114.7790291044,
            278850.691074916,
            67209.0963816178,
            48349.0085369352,
            110955.164604466,
            45038.3126012353,
            5367568.55523549,
            14330.8289402948,
            63008.3458582166,
            185.31481906203,
            46692.0074308832,
            353666.209099794,
            42254.722400681,
            165827.027252846,
            368311.772581799,
            86255.6930244359,
            2762.07470760125,
            1305432.85047807,
            36021.1815156659,
            49962.6235880616,
            569737.013024553,
            406506.241774818,
            303952.606071527,
            17684.9753949903,
            7234.89236961658,
            3502.88574774364,
            401554.708582207,
            326348.211523784,
            488503.548419289,
            102428.754733721,
            7515.2108803138,
            813893.12080289,
            51222.1466565397,
            36000.4334392606,
            1679866.1956823,
            78.0476897695046,
            46776.6781403574
           ]
          }
         ],
         "name": "2012"
        },
        {
         "data": [
          {
           "coloraxis": "coloraxis",
           "customdata": [
            [
             15188.9136130485
            ],
            [
             43704.8054948814
            ],
            [
             106427.45894163
            ],
            [
             81735.053637325
            ],
            [
             2437.84053423398
            ],
            [
             3492.77172514825
            ],
            [
             63743.4453720989
            ],
            [
             297294.252816873
            ],
            [
             13340.2687330024
            ],
            [
             831316.278977669
            ],
            [
             42649.5076910971
            ],
            [
             6554.36404601499
            ],
            [
             78.80966798265
            ],
            [
             1314702.9994073
            ],
            [
             252763.817288465
            ],
            [
             43185.8372780625
            ],
            [
             35240.9368858808
            ],
            [
             45086.3354841233
            ],
            [
             322225.440340873
            ],
            [
             397943.178573917
            ],
            [
             48161.8828975212
            ],
            [
             19551.9531140066
            ],
            [
             576327.006234054
            ],
            [
             367568.71230315
            ],
            [
             7381.9889397502
            ],
            [
             478608.945079335
            ],
            [
             102674.40413736
            ],
            [
             1619172.89204109
            ],
            [
             10303.8722713382
            ],
            [
             51750.9593461073
            ],
            [
             5514029.29437604
            ],
            [
             37235.3029534484
            ],
            [
             67745.6895442715
            ],
            [
             18454.6220097767
            ],
            [
             76875.8936076427
            ],
            [
             44982.3953062284
            ],
            [
             370548.990871462
            ],
            [
             345220.584947758
            ],
            [
             43079.3293409319
            ],
            [
             165717.877810591
            ],
            [
             35577.8376169972
            ],
            [
             3655077.46194149
            ],
            [
             192.53702097383
            ]
           ],
           "geo": "geo",
           "hovertemplate": "<b>%{hovertext}</b><br><br>Year=2013<br>Country or Area=%{location}<br>Value=%{z}<extra></extra>",
           "hovertext": [
            "Slovenia",
            "Hungary",
            "Czechia",
            "Greece",
            "Malta",
            "Iceland",
            "Belarus",
            "Ukraine",
            "Lithuania",
            "Germany",
            "Bulgaria",
            "Cyprus",
            "Monaco",
            "Japan",
            "Spain",
            "Switzerland",
            "New Zealand",
            "Sweden",
            "Poland",
            "Australia",
            "Portugal",
            "Estonia",
            "Canada",
            "Italy",
            "Latvia",
            "United Kingdom",
            "Belgium",
            "Russian Federation",
            "Luxembourg",
            "Finland",
            "United States of America",
            "Ireland",
            "Austria",
            "Croatia",
            "Romania",
            "Norway",
            "France",
            "Turkey",
            "Denmark",
            "Netherlands",
            "Slovakia",
            "European Union",
            "Liechtenstein"
           ],
           "locationmode": "country names",
           "locations": [
            "Slovenia",
            "Hungary",
            "Czechia",
            "Greece",
            "Malta",
            "Iceland",
            "Belarus",
            "Ukraine",
            "Lithuania",
            "Germany",
            "Bulgaria",
            "Cyprus",
            "Monaco",
            "Japan",
            "Spain",
            "Switzerland",
            "New Zealand",
            "Sweden",
            "Poland",
            "Australia",
            "Portugal",
            "Estonia",
            "Canada",
            "Italy",
            "Latvia",
            "United Kingdom",
            "Belgium",
            "Russian Federation",
            "Luxembourg",
            "Finland",
            "United States of America",
            "Ireland",
            "Austria",
            "Croatia",
            "Romania",
            "Norway",
            "France",
            "Turkey",
            "Denmark",
            "Netherlands",
            "Slovakia",
            "European Union",
            "Liechtenstein"
           ],
           "name": "",
           "type": "choropleth",
           "z": [
            15188.9136130485,
            43704.8054948814,
            106427.45894163,
            81735.053637325,
            2437.84053423398,
            3492.77172514825,
            63743.4453720989,
            297294.252816873,
            13340.2687330024,
            831316.278977669,
            42649.5076910971,
            6554.36404601499,
            78.80966798265,
            1314702.9994073,
            252763.817288465,
            43185.8372780625,
            35240.9368858808,
            45086.3354841233,
            322225.440340873,
            397943.178573917,
            48161.8828975212,
            19551.9531140066,
            576327.006234054,
            367568.71230315,
            7381.9889397502,
            478608.945079335,
            102674.40413736,
            1619172.89204109,
            10303.8722713382,
            51750.9593461073,
            5514029.29437604,
            37235.3029534484,
            67745.6895442715,
            18454.6220097767,
            76875.8936076427,
            44982.3953062284,
            370548.990871462,
            345220.584947758,
            43079.3293409319,
            165717.877810591,
            35577.8376169972,
            3655077.46194149,
            192.53702097383
           ]
          }
         ],
         "name": "2013"
        },
        {
         "data": [
          {
           "coloraxis": "coloraxis",
           "customdata": [
            [
             1263049.94200598
            ],
            [
             158768.01234911
            ],
            [
             439763.276954655
            ],
            [
             575942.178811822
            ],
            [
             255100.205728436
            ],
            [
             78659.7957440759
            ],
            [
             73.886400033158
            ],
            [
             39234.4328189085
            ],
            [
             17704.9852778555
            ],
            [
             43337.5554131351
            ],
            [
             13087.4701343799
            ],
            [
             43862.711091479
            ],
            [
             3469.68187077725
            ],
            [
             64084.4274667337
            ],
            [
             309920.915761492
            ],
            [
             47643.8632832177
            ],
            [
             1622348.90860012
            ],
            [
             96811.3230753459
            ],
            [
             7182.63397559017
            ],
            [
             36785.326520522
            ],
            [
             18755.948585174
            ],
            [
             9825.21586286149
            ],
            [
             347860.803522809
            ],
            [
             47948.4350585232
            ],
            [
             3480937.31805591
            ],
            [
             77432.4172893916
            ],
            [
             257584.689348606
            ],
            [
             394116.891505507
            ],
            [
             161.238716190272
            ],
            [
             38866.7286499695
            ],
            [
             339492.915843056
            ],
            [
             6934.59192710437
            ],
            [
             35457.8044654959
            ],
            [
             792684.873997206
            ],
            [
             2442.39566061966
            ],
            [
             13531.9363093237
            ],
            [
             45169.3296886434
            ],
            [
             33654.4973335962
            ],
            [
             5561719.2161591
            ],
            [
             44916.6060511976
            ],
            [
             104049.879538199
            ],
            [
             361675.46081844
            ],
            [
             63083.6392330706
            ]
           ],
           "geo": "geo",
           "hovertemplate": "<b>%{hovertext}</b><br><br>Year=2014<br>Country or Area=%{location}<br>Value=%{z}<extra></extra>",
           "hovertext": [
            "Japan",
            "Netherlands",
            "United Kingdom",
            "Canada",
            "Spain",
            "Greece",
            "Monaco",
            "Switzerland",
            "Croatia",
            "Sweden",
            "Lithuania",
            "Hungary",
            "Iceland",
            "Austria",
            "Poland",
            "Finland",
            "Russian Federation",
            "Belgium",
            "Latvia",
            "Ireland",
            "Estonia",
            "Luxembourg",
            "Italy",
            "Portugal",
            "European Union",
            "Romania",
            "Ukraine",
            "Australia",
            "Liechtenstein",
            "Denmark",
            "France",
            "Cyprus",
            "New Zealand",
            "Germany",
            "Malta",
            "Slovenia",
            "Bulgaria",
            "Slovakia",
            "United States of America",
            "Norway",
            "Czechia",
            "Turkey",
            "Belarus"
           ],
           "locationmode": "country names",
           "locations": [
            "Japan",
            "Netherlands",
            "United Kingdom",
            "Canada",
            "Spain",
            "Greece",
            "Monaco",
            "Switzerland",
            "Croatia",
            "Sweden",
            "Lithuania",
            "Hungary",
            "Iceland",
            "Austria",
            "Poland",
            "Finland",
            "Russian Federation",
            "Belgium",
            "Latvia",
            "Ireland",
            "Estonia",
            "Luxembourg",
            "Italy",
            "Portugal",
            "European Union",
            "Romania",
            "Ukraine",
            "Australia",
            "Liechtenstein",
            "Denmark",
            "France",
            "Cyprus",
            "New Zealand",
            "Germany",
            "Malta",
            "Slovenia",
            "Bulgaria",
            "Slovakia",
            "United States of America",
            "Norway",
            "Czechia",
            "Turkey",
            "Belarus"
           ],
           "name": "",
           "type": "choropleth",
           "z": [
            1263049.94200598,
            158768.01234911,
            439763.276954655,
            575942.178811822,
            255100.205728436,
            78659.7957440759,
            73.886400033158,
            39234.4328189085,
            17704.9852778555,
            43337.5554131351,
            13087.4701343799,
            43862.711091479,
            3469.68187077725,
            64084.4274667337,
            309920.915761492,
            47643.8632832177,
            1622348.90860012,
            96811.3230753459,
            7182.63397559017,
            36785.326520522,
            18755.948585174,
            9825.21586286149,
            347860.803522809,
            47948.4350585232,
            3480937.31805591,
            77432.4172893916,
            257584.689348606,
            394116.891505507,
            161.238716190272,
            38866.7286499695,
            339492.915843056,
            6934.59192710437,
            35457.8044654959,
            792684.873997206,
            2442.39566061966,
            13531.9363093237,
            45169.3296886434,
            33654.4973335962,
            5561719.2161591,
            44916.6060511976,
            104049.879538199,
            361675.46081844,
            63083.6392330706
           ]
          }
         ],
         "name": "2014"
        },
        {
         "data": [
          {
           "coloraxis": "coloraxis",
           "customdata": [
            [
             9333.16889945848
            ],
            [
             38545.3302770518
            ],
            [
             223911.868540142
            ],
            [
             360088.1778139
            ],
            [
             3545.25516413949
            ],
            [
             38733.1931159201
            ],
            [
             1735.29588043232
            ],
            [
             381331.944034388
            ],
            [
             423199.617230795
            ],
            [
             100981.344053584
            ],
            [
             575906.938645282
            ],
            [
             58633.0602039355
            ],
            [
             74.3615437231448
            ],
            [
             48194.2799893116
            ],
            [
             271687.349200034
            ],
            [
             46627.6133530015
            ],
            [
             35839.1938918605
            ],
            [
             795816.358715061
            ],
            [
             13617.5425786935
            ],
            [
             104815.37684623
            ],
            [
             45350.4963792483
            ],
            [
             344096.978139489
            ],
            [
             34484.2368113437
            ],
            [
             159.711343350088
            ],
            [
             66283.2365458533
            ],
            [
             36493.9948537237
            ],
            [
             44113.7137355077
            ],
            [
             1622861.01012164
            ],
            [
             7272.70500469571
            ],
            [
             15813.4044354123
            ],
            [
             52294.0604187532
            ],
            [
             77725.6298778275
            ],
            [
             401554.757230168
            ],
            [
             3518768.0005505
            ],
            [
             313099.147361381
            ],
            [
             6960.12949612624
            ],
            [
             5412432.19442036
            ],
            [
             17840.7506872716
            ],
            [
             1222781.31475903
            ],
            [
             74957.9049084326
            ],
            [
             13297.1427973495
            ],
            [
             166366.655865468
            ],
            [
             43336.7554826262
            ]
           ],
           "geo": "geo",
           "hovertemplate": "<b>%{hovertext}</b><br><br>Year=2015<br>Country or Area=%{location}<br>Value=%{z}<extra></extra>",
           "hovertext": [
            "Luxembourg",
            "Ireland",
            "Ukraine",
            "Italy",
            "Iceland",
            "Switzerland",
            "Malta",
            "Turkey",
            "United Kingdom",
            "Belgium",
            "Canada",
            "Belarus",
            "Monaco",
            "Bulgaria",
            "Spain",
            "Hungary",
            "New Zealand",
            "Germany",
            "Slovenia",
            "Czechia",
            "Norway",
            "France",
            "Slovakia",
            "Liechtenstein",
            "Austria",
            "Denmark",
            "Finland",
            "Russian Federation",
            "Latvia",
            "Estonia",
            "Portugal",
            "Romania",
            "Australia",
            "European Union",
            "Poland",
            "Cyprus",
            "United States of America",
            "Croatia",
            "Japan",
            "Greece",
            "Lithuania",
            "Netherlands",
            "Sweden"
           ],
           "locationmode": "country names",
           "locations": [
            "Luxembourg",
            "Ireland",
            "Ukraine",
            "Italy",
            "Iceland",
            "Switzerland",
            "Malta",
            "Turkey",
            "United Kingdom",
            "Belgium",
            "Canada",
            "Belarus",
            "Monaco",
            "Bulgaria",
            "Spain",
            "Hungary",
            "New Zealand",
            "Germany",
            "Slovenia",
            "Czechia",
            "Norway",
            "France",
            "Slovakia",
            "Liechtenstein",
            "Austria",
            "Denmark",
            "Finland",
            "Russian Federation",
            "Latvia",
            "Estonia",
            "Portugal",
            "Romania",
            "Australia",
            "European Union",
            "Poland",
            "Cyprus",
            "United States of America",
            "Croatia",
            "Japan",
            "Greece",
            "Lithuania",
            "Netherlands",
            "Sweden"
           ],
           "name": "",
           "type": "choropleth",
           "z": [
            9333.16889945848,
            38545.3302770518,
            223911.868540142,
            360088.1778139,
            3545.25516413949,
            38733.1931159201,
            1735.29588043232,
            381331.944034388,
            423199.617230795,
            100981.344053584,
            575906.938645282,
            58633.0602039355,
            74.3615437231448,
            48194.2799893116,
            271687.349200034,
            46627.6133530015,
            35839.1938918605,
            795816.358715061,
            13617.5425786935,
            104815.37684623,
            45350.4963792483,
            344096.978139489,
            34484.2368113437,
            159.711343350088,
            66283.2365458533,
            36493.9948537237,
            44113.7137355077,
            1622861.01012164,
            7272.70500469571,
            15813.4044354123,
            52294.0604187532,
            77725.6298778275,
            401554.757230168,
            3518768.0005505,
            313099.147361381,
            6960.12949612624,
            5412432.19442036,
            17840.7506872716,
            1222781.31475903,
            74957.9049084326,
            13297.1427973495,
            166366.655865468,
            43336.7554826262
           ]
          }
         ],
         "name": "2015"
        },
        {
         "data": [
          {
           "coloraxis": "coloraxis",
           "customdata": [
            [
             18105.0437764013
            ],
            [
             34921.7932560865
            ],
            [
             356556.196027575
            ],
            [
             149.880558815378
            ],
            [
             40029.8365838452
            ],
            [
             38301.0244931202
            ],
            [
             411031.531117043
            ],
            [
             7220.75142852372
            ],
            [
             1203167.01767453
            ],
            [
             564032.530027391
            ],
            [
             75812.8017938512
            ],
            [
             1618304.25794665
            ],
            [
             234200.301807805
            ],
            [
             47227.5475650672
            ],
            [
             99806.9444086566
            ],
            [
             17377.6503103256
            ],
            [
             42972.5653420075
            ],
            [
             50455.5700692996
            ],
            [
             324011.335071663
            ],
            [
             1399.48764230635
            ],
            [
             74.6558093274817
            ],
            [
             39192.6094780623
            ],
            [
             3497.53889688049
            ],
            [
             260759.563640033
            ],
            [
             7368.22785657742
            ],
            [
             9080.25282693925
            ],
            [
             399824.299299983
            ],
            [
             34267.6242757242
            ],
            [
             71368.3612573769
            ],
            [
             800510.288476534
            ],
            [
             67112.2654587419
            ],
            [
             347095.62459045
            ],
            [
             14416.6565429867
            ],
            [
             47395.7098085976
            ],
            [
             45353.723417232
            ],
            [
             60284.8505856025
            ],
            [
             5292267.56146005
            ],
            [
             3500042.73949219
            ],
            [
             106629.020365921
            ],
            [
             166282.089728861
            ],
            [
             401239.738263029
            ],
            [
             44472.7299031563
            ],
            [
             13327.5133241042
            ]
           ],
           "geo": "geo",
           "hovertemplate": "<b>%{hovertext}</b><br><br>Year=2016<br>Country or Area=%{location}<br>Value=%{z}<extra></extra>",
           "hovertext": [
            "Croatia",
            "Slovakia",
            "Italy",
            "Liechtenstein",
            "Ireland",
            "Denmark",
            "Australia",
            "Latvia",
            "Japan",
            "Canada",
            "Romania",
            "Russian Federation",
            "Ukraine",
            "Finland",
            "Belgium",
            "Estonia",
            "Sweden",
            "Portugal",
            "Poland",
            "Malta",
            "Monaco",
            "Switzerland",
            "Iceland",
            "Spain",
            "Cyprus",
            "Luxembourg",
            "United Kingdom",
            "New Zealand",
            "Greece",
            "Germany",
            "Austria",
            "France",
            "Slovenia",
            "Hungary",
            "Bulgaria",
            "Belarus",
            "United States of America",
            "European Union",
            "Czechia",
            "Netherlands",
            "Turkey",
            "Norway",
            "Lithuania"
           ],
           "locationmode": "country names",
           "locations": [
            "Croatia",
            "Slovakia",
            "Italy",
            "Liechtenstein",
            "Ireland",
            "Denmark",
            "Australia",
            "Latvia",
            "Japan",
            "Canada",
            "Romania",
            "Russian Federation",
            "Ukraine",
            "Finland",
            "Belgium",
            "Estonia",
            "Sweden",
            "Portugal",
            "Poland",
            "Malta",
            "Monaco",
            "Switzerland",
            "Iceland",
            "Spain",
            "Cyprus",
            "Luxembourg",
            "United Kingdom",
            "New Zealand",
            "Greece",
            "Germany",
            "Austria",
            "France",
            "Slovenia",
            "Hungary",
            "Bulgaria",
            "Belarus",
            "United States of America",
            "European Union",
            "Czechia",
            "Netherlands",
            "Turkey",
            "Norway",
            "Lithuania"
           ],
           "name": "",
           "type": "choropleth",
           "z": [
            18105.0437764013,
            34921.7932560865,
            356556.196027575,
            149.880558815378,
            40029.8365838452,
            38301.0244931202,
            411031.531117043,
            7220.75142852372,
            1203167.01767453,
            564032.530027391,
            75812.8017938512,
            1618304.25794665,
            234200.301807805,
            47227.5475650672,
            99806.9444086566,
            17377.6503103256,
            42972.5653420075,
            50455.5700692996,
            324011.335071663,
            1399.48764230635,
            74.6558093274817,
            39192.6094780623,
            3497.53889688049,
            260759.563640033,
            7368.22785657742,
            9080.25282693925,
            399824.299299983,
            34267.6242757242,
            71368.3612573769,
            800510.288476534,
            67112.2654587419,
            347095.62459045,
            14416.6565429867,
            47395.7098085976,
            45353.723417232,
            60284.8505856025,
            5292267.56146005,
            3500042.73949219,
            106629.020365921,
            166282.089728861,
            401239.738263029,
            44472.7299031563,
            13327.5133241042
           ]
          }
         ],
         "name": "2016"
        },
        {
         "data": [
          {
           "coloraxis": "coloraxis",
           "customdata": [
            [
             415097.42766819
            ],
            [
             60742.9346075393
            ],
            [
             1187661.45386819
            ],
            [
             7222.7844905141
            ],
            [
             156.280011804227
            ],
            [
             5253606.13002747
            ],
            [
             69628.8596106596
            ],
            [
             388803.410059709
            ],
            [
             13545.8474876892
            ],
            [
             351473.93294538
            ],
            [
             3513036.18225618
            ],
            [
             572834.389442262
            ],
            [
             164444.773768704
            ],
            [
             36213.2522774059
            ],
            [
             352178.983611535
            ],
            [
             274671.261697253
            ],
            [
             42306.8160464575
            ],
            [
             36087.3376584061
            ],
            [
             49684.8471645542
            ],
            [
             105641.726351171
            ],
            [
             337340.421778012
            ],
            [
             1646179.81048091
            ],
            [
             38182.2650262948
            ],
            [
             73.0533014093414
            ],
            [
             43562.5414853235
            ],
            [
             7515.68816517893
            ],
            [
             74852.8458947514
            ],
            [
             18635.8722015885
            ],
            [
             3614.87329421355
            ],
            [
             9250.40212663893
            ],
            [
             223232.151133566
            ],
            [
             14264.7533621895
            ],
            [
             99456.2752697695
            ],
            [
             44673.0634245979
            ],
            [
             78077.4897274096
            ],
            [
             38910.192717045
            ],
            [
             1552.99839832623
            ],
            [
             425329.230021553
            ],
            [
             786654.551411376
            ],
            [
             36153.3319655171
            ],
            [
             47505.16352595
            ],
            [
             54719.9760045003
            ],
            [
             18737.6890371586
            ]
           ],
           "geo": "geo",
           "hovertemplate": "<b>%{hovertext}</b><br><br>Year=2017<br>Country or Area=%{location}<br>Value=%{z}<extra></extra>",
           "hovertext": [
            "Australia",
            "Belarus",
            "Japan",
            "Latvia",
            "Liechtenstein",
            "United States of America",
            "Austria",
            "United Kingdom",
            "Lithuania",
            "Italy",
            "European Union",
            "Canada",
            "Netherlands",
            "Denmark",
            "France",
            "Spain",
            "Sweden",
            "Slovakia",
            "Hungary",
            "Czechia",
            "Poland",
            "Russian Federation",
            "Switzerland",
            "Monaco",
            "Norway",
            "Cyprus",
            "Greece",
            "Estonia",
            "Iceland",
            "Luxembourg",
            "Ukraine",
            "Slovenia",
            "Belgium",
            "Finland",
            "Romania",
            "Ireland",
            "Malta",
            "Turkey",
            "Germany",
            "New Zealand",
            "Bulgaria",
            "Portugal",
            "Croatia"
           ],
           "locationmode": "country names",
           "locations": [
            "Australia",
            "Belarus",
            "Japan",
            "Latvia",
            "Liechtenstein",
            "United States of America",
            "Austria",
            "United Kingdom",
            "Lithuania",
            "Italy",
            "European Union",
            "Canada",
            "Netherlands",
            "Denmark",
            "France",
            "Spain",
            "Sweden",
            "Slovakia",
            "Hungary",
            "Czechia",
            "Poland",
            "Russian Federation",
            "Switzerland",
            "Monaco",
            "Norway",
            "Cyprus",
            "Greece",
            "Estonia",
            "Iceland",
            "Luxembourg",
            "Ukraine",
            "Slovenia",
            "Belgium",
            "Finland",
            "Romania",
            "Ireland",
            "Malta",
            "Turkey",
            "Germany",
            "New Zealand",
            "Bulgaria",
            "Portugal",
            "Croatia"
           ],
           "name": "",
           "type": "choropleth",
           "z": [
            415097.42766819,
            60742.9346075393,
            1187661.45386819,
            7222.7844905141,
            156.280011804227,
            5253606.13002747,
            69628.8596106596,
            388803.410059709,
            13545.8474876892,
            351473.93294538,
            3513036.18225618,
            572834.389442262,
            164444.773768704,
            36213.2522774059,
            352178.983611535,
            274671.261697253,
            42306.8160464575,
            36087.3376584061,
            49684.8471645542,
            105641.726351171,
            337340.421778012,
            1646179.81048091,
            38182.2650262948,
            73.0533014093414,
            43562.5414853235,
            7515.68816517893,
            74852.8458947514,
            18635.8722015885,
            3614.87329421355,
            9250.40212663893,
            223232.151133566,
            14264.7533621895,
            99456.2752697695,
            44673.0634245979,
            78077.4897274096,
            38910.192717045,
            1552.99839832623,
            425329.230021553,
            786654.551411376,
            36153.3319655171,
            47505.16352595,
            54719.9760045003,
            18737.6890371586
           ]
          }
         ],
         "name": "2017"
        },
        {
         "data": [
          {
           "coloraxis": "coloraxis",
           "customdata": [
            [
             36087.8372271146
            ],
            [
             43817.6567450557
            ],
            [
             9568.51953368545
            ],
            [
             338327.096421297
            ],
            [
             143.749839455852
            ],
            [
             7859.28703094824
            ],
            [
             337705.74182301
            ],
            [
             1691360.425737
            ],
            [
             17710.9527043212
            ],
            [
             45849.3493987134
            ],
            [
             51482.4811671429
            ],
            [
             76951.2189688293
            ],
            [
             3432017.49574093
            ],
            [
             36246.2048229019
            ],
            [
             104411.210688469
            ],
            [
             269654.253507379
            ],
            [
             5424881.50213288
            ],
            [
             231694.164731718
            ],
            [
             100207.83597427
            ],
            [
             38803.3937724537
            ],
            [
             1531.58072622999
            ],
            [
             419194.747142347
            ],
            [
             43551.599048709
            ],
            [
             61871.6758664283
            ],
            [
             3674.52850638943
            ],
            [
             380849.882910071
            ],
            [
             74.7550712006915
            ],
            [
             36895.4848348313
            ],
            [
             755362.342455585
            ],
            [
             586504.634542466
            ],
            [
             160170.147439641
            ],
            [
             13669.4919754163
            ],
            [
             1135688.00020241
            ],
            [
             41766.1827222488
            ],
            [
             17718.6455724821
            ],
            [
             71797.8690987943
            ],
            [
             348085.029259785
            ],
            [
             35080.3409784102
            ],
            [
             7332.76185278891
            ],
            [
             66719.6777666744
            ],
            [
             14487.844474942
            ],
            [
             49628.490982072
            ],
            [
             415953.946668257
            ]
           ],
           "geo": "geo",
           "hovertemplate": "<b>%{hovertext}</b><br><br>Year=2018<br>Country or Area=%{location}<br>Value=%{z}<extra></extra>",
           "hovertext": [
            "Slovakia",
            "Norway",
            "Luxembourg",
            "France",
            "Liechtenstein",
            "Latvia",
            "Poland",
            "Russian Federation",
            "Estonia",
            "Finland",
            "Portugal",
            "Romania",
            "European Union",
            "Denmark",
            "Czechia",
            "Spain",
            "United States of America",
            "Ukraine",
            "Belgium",
            "Ireland",
            "Malta",
            "Turkey",
            "Bulgaria",
            "Belarus",
            "Iceland",
            "United Kingdom",
            "Monaco",
            "Switzerland",
            "Germany",
            "Canada",
            "Netherlands",
            "Lithuania",
            "Japan",
            "Sweden",
            "Croatia",
            "Greece",
            "Italy",
            "New Zealand",
            "Cyprus",
            "Austria",
            "Slovenia",
            "Hungary",
            "Australia"
           ],
           "locationmode": "country names",
           "locations": [
            "Slovakia",
            "Norway",
            "Luxembourg",
            "France",
            "Liechtenstein",
            "Latvia",
            "Poland",
            "Russian Federation",
            "Estonia",
            "Finland",
            "Portugal",
            "Romania",
            "European Union",
            "Denmark",
            "Czechia",
            "Spain",
            "United States of America",
            "Ukraine",
            "Belgium",
            "Ireland",
            "Malta",
            "Turkey",
            "Bulgaria",
            "Belarus",
            "Iceland",
            "United Kingdom",
            "Monaco",
            "Switzerland",
            "Germany",
            "Canada",
            "Netherlands",
            "Lithuania",
            "Japan",
            "Sweden",
            "Croatia",
            "Greece",
            "Italy",
            "New Zealand",
            "Cyprus",
            "Austria",
            "Slovenia",
            "Hungary",
            "Australia"
           ],
           "name": "",
           "type": "choropleth",
           "z": [
            36087.8372271146,
            43817.6567450557,
            9568.51953368545,
            338327.096421297,
            143.749839455852,
            7859.28703094824,
            337705.74182301,
            1691360.425737,
            17710.9527043212,
            45849.3493987134,
            51482.4811671429,
            76951.2189688293,
            3432017.49574093,
            36246.2048229019,
            104411.210688469,
            269654.253507379,
            5424881.50213288,
            231694.164731718,
            100207.83597427,
            38803.3937724537,
            1531.58072622999,
            419194.747142347,
            43551.599048709,
            61871.6758664283,
            3674.52850638943,
            380849.882910071,
            74.7550712006915,
            36895.4848348313,
            755362.342455585,
            586504.634542466,
            160170.147439641,
            13669.4919754163,
            1135688.00020241,
            41766.1827222488,
            17718.6455724821,
            71797.8690987943,
            348085.029259785,
            35080.3409784102,
            7332.76185278891,
            66719.6777666744,
            14487.844474942,
            49628.490982072,
            415953.946668257
           ]
          }
         ],
         "name": "2018"
        }
       ],
       "layout": {
        "autosize": true,
        "coloraxis": {
         "colorbar": {
          "title": {
           "text": "Value"
          }
         },
         "colorscale": [
          [
           0,
           "#440154"
          ],
          [
           0.1111111111111111,
           "#482878"
          ],
          [
           0.2222222222222222,
           "#3e4989"
          ],
          [
           0.3333333333333333,
           "#31688e"
          ],
          [
           0.4444444444444444,
           "#26828e"
          ],
          [
           0.5555555555555556,
           "#1f9e89"
          ],
          [
           0.6666666666666666,
           "#35b779"
          ],
          [
           0.7777777777777778,
           "#6ece58"
          ],
          [
           0.8888888888888888,
           "#b5de2b"
          ],
          [
           1,
           "#fde725"
          ]
         ]
        },
        "font": {
         "size": 18
        },
        "geo": {
         "center": {},
         "domain": {
          "x": [
           0,
           1
          ],
          "y": [
           0,
           1
          ]
         }
        },
        "legend": {
         "tracegroupgap": 0
        },
        "margin": {
         "t": 60
        },
        "paper_bgcolor": "white",
        "sliders": [
         {
          "active": 17,
          "currentvalue": {
           "prefix": "Year="
          },
          "len": 0.9,
          "pad": {
           "b": 10,
           "t": 60
          },
          "steps": [
           {
            "args": [
             [
              "1990"
             ],
             {
              "frame": {
               "duration": 0,
               "redraw": true
              },
              "fromcurrent": true,
              "mode": "immediate",
              "transition": {
               "duration": 0,
               "easing": "linear"
              }
             }
            ],
            "label": "1990",
            "method": "animate"
           },
           {
            "args": [
             [
              "1991"
             ],
             {
              "frame": {
               "duration": 0,
               "redraw": true
              },
              "fromcurrent": true,
              "mode": "immediate",
              "transition": {
               "duration": 0,
               "easing": "linear"
              }
             }
            ],
            "label": "1991",
            "method": "animate"
           },
           {
            "args": [
             [
              "1992"
             ],
             {
              "frame": {
               "duration": 0,
               "redraw": true
              },
              "fromcurrent": true,
              "mode": "immediate",
              "transition": {
               "duration": 0,
               "easing": "linear"
              }
             }
            ],
            "label": "1992",
            "method": "animate"
           },
           {
            "args": [
             [
              "1993"
             ],
             {
              "frame": {
               "duration": 0,
               "redraw": true
              },
              "fromcurrent": true,
              "mode": "immediate",
              "transition": {
               "duration": 0,
               "easing": "linear"
              }
             }
            ],
            "label": "1993",
            "method": "animate"
           },
           {
            "args": [
             [
              "1994"
             ],
             {
              "frame": {
               "duration": 0,
               "redraw": true
              },
              "fromcurrent": true,
              "mode": "immediate",
              "transition": {
               "duration": 0,
               "easing": "linear"
              }
             }
            ],
            "label": "1994",
            "method": "animate"
           },
           {
            "args": [
             [
              "1995"
             ],
             {
              "frame": {
               "duration": 0,
               "redraw": true
              },
              "fromcurrent": true,
              "mode": "immediate",
              "transition": {
               "duration": 0,
               "easing": "linear"
              }
             }
            ],
            "label": "1995",
            "method": "animate"
           },
           {
            "args": [
             [
              "1996"
             ],
             {
              "frame": {
               "duration": 0,
               "redraw": true
              },
              "fromcurrent": true,
              "mode": "immediate",
              "transition": {
               "duration": 0,
               "easing": "linear"
              }
             }
            ],
            "label": "1996",
            "method": "animate"
           },
           {
            "args": [
             [
              "1997"
             ],
             {
              "frame": {
               "duration": 0,
               "redraw": true
              },
              "fromcurrent": true,
              "mode": "immediate",
              "transition": {
               "duration": 0,
               "easing": "linear"
              }
             }
            ],
            "label": "1997",
            "method": "animate"
           },
           {
            "args": [
             [
              "1998"
             ],
             {
              "frame": {
               "duration": 0,
               "redraw": true
              },
              "fromcurrent": true,
              "mode": "immediate",
              "transition": {
               "duration": 0,
               "easing": "linear"
              }
             }
            ],
            "label": "1998",
            "method": "animate"
           },
           {
            "args": [
             [
              "1999"
             ],
             {
              "frame": {
               "duration": 0,
               "redraw": true
              },
              "fromcurrent": true,
              "mode": "immediate",
              "transition": {
               "duration": 0,
               "easing": "linear"
              }
             }
            ],
            "label": "1999",
            "method": "animate"
           },
           {
            "args": [
             [
              "2000"
             ],
             {
              "frame": {
               "duration": 0,
               "redraw": true
              },
              "fromcurrent": true,
              "mode": "immediate",
              "transition": {
               "duration": 0,
               "easing": "linear"
              }
             }
            ],
            "label": "2000",
            "method": "animate"
           },
           {
            "args": [
             [
              "2001"
             ],
             {
              "frame": {
               "duration": 0,
               "redraw": true
              },
              "fromcurrent": true,
              "mode": "immediate",
              "transition": {
               "duration": 0,
               "easing": "linear"
              }
             }
            ],
            "label": "2001",
            "method": "animate"
           },
           {
            "args": [
             [
              "2002"
             ],
             {
              "frame": {
               "duration": 0,
               "redraw": true
              },
              "fromcurrent": true,
              "mode": "immediate",
              "transition": {
               "duration": 0,
               "easing": "linear"
              }
             }
            ],
            "label": "2002",
            "method": "animate"
           },
           {
            "args": [
             [
              "2003"
             ],
             {
              "frame": {
               "duration": 0,
               "redraw": true
              },
              "fromcurrent": true,
              "mode": "immediate",
              "transition": {
               "duration": 0,
               "easing": "linear"
              }
             }
            ],
            "label": "2003",
            "method": "animate"
           },
           {
            "args": [
             [
              "2004"
             ],
             {
              "frame": {
               "duration": 0,
               "redraw": true
              },
              "fromcurrent": true,
              "mode": "immediate",
              "transition": {
               "duration": 0,
               "easing": "linear"
              }
             }
            ],
            "label": "2004",
            "method": "animate"
           },
           {
            "args": [
             [
              "2005"
             ],
             {
              "frame": {
               "duration": 0,
               "redraw": true
              },
              "fromcurrent": true,
              "mode": "immediate",
              "transition": {
               "duration": 0,
               "easing": "linear"
              }
             }
            ],
            "label": "2005",
            "method": "animate"
           },
           {
            "args": [
             [
              "2006"
             ],
             {
              "frame": {
               "duration": 0,
               "redraw": true
              },
              "fromcurrent": true,
              "mode": "immediate",
              "transition": {
               "duration": 0,
               "easing": "linear"
              }
             }
            ],
            "label": "2006",
            "method": "animate"
           },
           {
            "args": [
             [
              "2007"
             ],
             {
              "frame": {
               "duration": 0,
               "redraw": true
              },
              "fromcurrent": true,
              "mode": "immediate",
              "transition": {
               "duration": 0,
               "easing": "linear"
              }
             }
            ],
            "label": "2007",
            "method": "animate"
           },
           {
            "args": [
             [
              "2008"
             ],
             {
              "frame": {
               "duration": 0,
               "redraw": true
              },
              "fromcurrent": true,
              "mode": "immediate",
              "transition": {
               "duration": 0,
               "easing": "linear"
              }
             }
            ],
            "label": "2008",
            "method": "animate"
           },
           {
            "args": [
             [
              "2009"
             ],
             {
              "frame": {
               "duration": 0,
               "redraw": true
              },
              "fromcurrent": true,
              "mode": "immediate",
              "transition": {
               "duration": 0,
               "easing": "linear"
              }
             }
            ],
            "label": "2009",
            "method": "animate"
           },
           {
            "args": [
             [
              "2010"
             ],
             {
              "frame": {
               "duration": 0,
               "redraw": true
              },
              "fromcurrent": true,
              "mode": "immediate",
              "transition": {
               "duration": 0,
               "easing": "linear"
              }
             }
            ],
            "label": "2010",
            "method": "animate"
           },
           {
            "args": [
             [
              "2011"
             ],
             {
              "frame": {
               "duration": 0,
               "redraw": true
              },
              "fromcurrent": true,
              "mode": "immediate",
              "transition": {
               "duration": 0,
               "easing": "linear"
              }
             }
            ],
            "label": "2011",
            "method": "animate"
           },
           {
            "args": [
             [
              "2012"
             ],
             {
              "frame": {
               "duration": 0,
               "redraw": true
              },
              "fromcurrent": true,
              "mode": "immediate",
              "transition": {
               "duration": 0,
               "easing": "linear"
              }
             }
            ],
            "label": "2012",
            "method": "animate"
           },
           {
            "args": [
             [
              "2013"
             ],
             {
              "frame": {
               "duration": 0,
               "redraw": true
              },
              "fromcurrent": true,
              "mode": "immediate",
              "transition": {
               "duration": 0,
               "easing": "linear"
              }
             }
            ],
            "label": "2013",
            "method": "animate"
           },
           {
            "args": [
             [
              "2014"
             ],
             {
              "frame": {
               "duration": 0,
               "redraw": true
              },
              "fromcurrent": true,
              "mode": "immediate",
              "transition": {
               "duration": 0,
               "easing": "linear"
              }
             }
            ],
            "label": "2014",
            "method": "animate"
           },
           {
            "args": [
             [
              "2015"
             ],
             {
              "frame": {
               "duration": 0,
               "redraw": true
              },
              "fromcurrent": true,
              "mode": "immediate",
              "transition": {
               "duration": 0,
               "easing": "linear"
              }
             }
            ],
            "label": "2015",
            "method": "animate"
           },
           {
            "args": [
             [
              "2016"
             ],
             {
              "frame": {
               "duration": 0,
               "redraw": true
              },
              "fromcurrent": true,
              "mode": "immediate",
              "transition": {
               "duration": 0,
               "easing": "linear"
              }
             }
            ],
            "label": "2016",
            "method": "animate"
           },
           {
            "args": [
             [
              "2017"
             ],
             {
              "frame": {
               "duration": 0,
               "redraw": true
              },
              "fromcurrent": true,
              "mode": "immediate",
              "transition": {
               "duration": 0,
               "easing": "linear"
              }
             }
            ],
            "label": "2017",
            "method": "animate"
           },
           {
            "args": [
             [
              "2018"
             ],
             {
              "frame": {
               "duration": 0,
               "redraw": true
              },
              "fromcurrent": true,
              "mode": "immediate",
              "transition": {
               "duration": 0,
               "easing": "linear"
              }
             }
            ],
            "label": "2018",
            "method": "animate"
           }
          ],
          "x": 0.1,
          "xanchor": "left",
          "y": 0,
          "yanchor": "top"
         }
        ],
        "template": {
         "data": {
          "bar": [
           {
            "error_x": {
             "color": "#2a3f5f"
            },
            "error_y": {
             "color": "#2a3f5f"
            },
            "marker": {
             "line": {
              "color": "#E5ECF6",
              "width": 0.5
             },
             "pattern": {
              "fillmode": "overlay",
              "size": 10,
              "solidity": 0.2
             }
            },
            "type": "bar"
           }
          ],
          "barpolar": [
           {
            "marker": {
             "line": {
              "color": "#E5ECF6",
              "width": 0.5
             },
             "pattern": {
              "fillmode": "overlay",
              "size": 10,
              "solidity": 0.2
             }
            },
            "type": "barpolar"
           }
          ],
          "carpet": [
           {
            "aaxis": {
             "endlinecolor": "#2a3f5f",
             "gridcolor": "white",
             "linecolor": "white",
             "minorgridcolor": "white",
             "startlinecolor": "#2a3f5f"
            },
            "baxis": {
             "endlinecolor": "#2a3f5f",
             "gridcolor": "white",
             "linecolor": "white",
             "minorgridcolor": "white",
             "startlinecolor": "#2a3f5f"
            },
            "type": "carpet"
           }
          ],
          "choropleth": [
           {
            "colorbar": {
             "outlinewidth": 0,
             "ticks": ""
            },
            "type": "choropleth"
           }
          ],
          "contour": [
           {
            "colorbar": {
             "outlinewidth": 0,
             "ticks": ""
            },
            "colorscale": [
             [
              0,
              "#0d0887"
             ],
             [
              0.1111111111111111,
              "#46039f"
             ],
             [
              0.2222222222222222,
              "#7201a8"
             ],
             [
              0.3333333333333333,
              "#9c179e"
             ],
             [
              0.4444444444444444,
              "#bd3786"
             ],
             [
              0.5555555555555556,
              "#d8576b"
             ],
             [
              0.6666666666666666,
              "#ed7953"
             ],
             [
              0.7777777777777778,
              "#fb9f3a"
             ],
             [
              0.8888888888888888,
              "#fdca26"
             ],
             [
              1,
              "#f0f921"
             ]
            ],
            "type": "contour"
           }
          ],
          "contourcarpet": [
           {
            "colorbar": {
             "outlinewidth": 0,
             "ticks": ""
            },
            "type": "contourcarpet"
           }
          ],
          "heatmap": [
           {
            "colorbar": {
             "outlinewidth": 0,
             "ticks": ""
            },
            "colorscale": [
             [
              0,
              "#0d0887"
             ],
             [
              0.1111111111111111,
              "#46039f"
             ],
             [
              0.2222222222222222,
              "#7201a8"
             ],
             [
              0.3333333333333333,
              "#9c179e"
             ],
             [
              0.4444444444444444,
              "#bd3786"
             ],
             [
              0.5555555555555556,
              "#d8576b"
             ],
             [
              0.6666666666666666,
              "#ed7953"
             ],
             [
              0.7777777777777778,
              "#fb9f3a"
             ],
             [
              0.8888888888888888,
              "#fdca26"
             ],
             [
              1,
              "#f0f921"
             ]
            ],
            "type": "heatmap"
           }
          ],
          "heatmapgl": [
           {
            "colorbar": {
             "outlinewidth": 0,
             "ticks": ""
            },
            "colorscale": [
             [
              0,
              "#0d0887"
             ],
             [
              0.1111111111111111,
              "#46039f"
             ],
             [
              0.2222222222222222,
              "#7201a8"
             ],
             [
              0.3333333333333333,
              "#9c179e"
             ],
             [
              0.4444444444444444,
              "#bd3786"
             ],
             [
              0.5555555555555556,
              "#d8576b"
             ],
             [
              0.6666666666666666,
              "#ed7953"
             ],
             [
              0.7777777777777778,
              "#fb9f3a"
             ],
             [
              0.8888888888888888,
              "#fdca26"
             ],
             [
              1,
              "#f0f921"
             ]
            ],
            "type": "heatmapgl"
           }
          ],
          "histogram": [
           {
            "marker": {
             "pattern": {
              "fillmode": "overlay",
              "size": 10,
              "solidity": 0.2
             }
            },
            "type": "histogram"
           }
          ],
          "histogram2d": [
           {
            "colorbar": {
             "outlinewidth": 0,
             "ticks": ""
            },
            "colorscale": [
             [
              0,
              "#0d0887"
             ],
             [
              0.1111111111111111,
              "#46039f"
             ],
             [
              0.2222222222222222,
              "#7201a8"
             ],
             [
              0.3333333333333333,
              "#9c179e"
             ],
             [
              0.4444444444444444,
              "#bd3786"
             ],
             [
              0.5555555555555556,
              "#d8576b"
             ],
             [
              0.6666666666666666,
              "#ed7953"
             ],
             [
              0.7777777777777778,
              "#fb9f3a"
             ],
             [
              0.8888888888888888,
              "#fdca26"
             ],
             [
              1,
              "#f0f921"
             ]
            ],
            "type": "histogram2d"
           }
          ],
          "histogram2dcontour": [
           {
            "colorbar": {
             "outlinewidth": 0,
             "ticks": ""
            },
            "colorscale": [
             [
              0,
              "#0d0887"
             ],
             [
              0.1111111111111111,
              "#46039f"
             ],
             [
              0.2222222222222222,
              "#7201a8"
             ],
             [
              0.3333333333333333,
              "#9c179e"
             ],
             [
              0.4444444444444444,
              "#bd3786"
             ],
             [
              0.5555555555555556,
              "#d8576b"
             ],
             [
              0.6666666666666666,
              "#ed7953"
             ],
             [
              0.7777777777777778,
              "#fb9f3a"
             ],
             [
              0.8888888888888888,
              "#fdca26"
             ],
             [
              1,
              "#f0f921"
             ]
            ],
            "type": "histogram2dcontour"
           }
          ],
          "mesh3d": [
           {
            "colorbar": {
             "outlinewidth": 0,
             "ticks": ""
            },
            "type": "mesh3d"
           }
          ],
          "parcoords": [
           {
            "line": {
             "colorbar": {
              "outlinewidth": 0,
              "ticks": ""
             }
            },
            "type": "parcoords"
           }
          ],
          "pie": [
           {
            "automargin": true,
            "type": "pie"
           }
          ],
          "scatter": [
           {
            "marker": {
             "colorbar": {
              "outlinewidth": 0,
              "ticks": ""
             }
            },
            "type": "scatter"
           }
          ],
          "scatter3d": [
           {
            "line": {
             "colorbar": {
              "outlinewidth": 0,
              "ticks": ""
             }
            },
            "marker": {
             "colorbar": {
              "outlinewidth": 0,
              "ticks": ""
             }
            },
            "type": "scatter3d"
           }
          ],
          "scattercarpet": [
           {
            "marker": {
             "colorbar": {
              "outlinewidth": 0,
              "ticks": ""
             }
            },
            "type": "scattercarpet"
           }
          ],
          "scattergeo": [
           {
            "marker": {
             "colorbar": {
              "outlinewidth": 0,
              "ticks": ""
             }
            },
            "type": "scattergeo"
           }
          ],
          "scattergl": [
           {
            "marker": {
             "colorbar": {
              "outlinewidth": 0,
              "ticks": ""
             }
            },
            "type": "scattergl"
           }
          ],
          "scattermapbox": [
           {
            "marker": {
             "colorbar": {
              "outlinewidth": 0,
              "ticks": ""
             }
            },
            "type": "scattermapbox"
           }
          ],
          "scatterpolar": [
           {
            "marker": {
             "colorbar": {
              "outlinewidth": 0,
              "ticks": ""
             }
            },
            "type": "scatterpolar"
           }
          ],
          "scatterpolargl": [
           {
            "marker": {
             "colorbar": {
              "outlinewidth": 0,
              "ticks": ""
             }
            },
            "type": "scatterpolargl"
           }
          ],
          "scatterternary": [
           {
            "marker": {
             "colorbar": {
              "outlinewidth": 0,
              "ticks": ""
             }
            },
            "type": "scatterternary"
           }
          ],
          "surface": [
           {
            "colorbar": {
             "outlinewidth": 0,
             "ticks": ""
            },
            "colorscale": [
             [
              0,
              "#0d0887"
             ],
             [
              0.1111111111111111,
              "#46039f"
             ],
             [
              0.2222222222222222,
              "#7201a8"
             ],
             [
              0.3333333333333333,
              "#9c179e"
             ],
             [
              0.4444444444444444,
              "#bd3786"
             ],
             [
              0.5555555555555556,
              "#d8576b"
             ],
             [
              0.6666666666666666,
              "#ed7953"
             ],
             [
              0.7777777777777778,
              "#fb9f3a"
             ],
             [
              0.8888888888888888,
              "#fdca26"
             ],
             [
              1,
              "#f0f921"
             ]
            ],
            "type": "surface"
           }
          ],
          "table": [
           {
            "cells": {
             "fill": {
              "color": "#EBF0F8"
             },
             "line": {
              "color": "white"
             }
            },
            "header": {
             "fill": {
              "color": "#C8D4E3"
             },
             "line": {
              "color": "white"
             }
            },
            "type": "table"
           }
          ]
         },
         "layout": {
          "annotationdefaults": {
           "arrowcolor": "#2a3f5f",
           "arrowhead": 0,
           "arrowwidth": 1
          },
          "autotypenumbers": "strict",
          "coloraxis": {
           "colorbar": {
            "outlinewidth": 0,
            "ticks": ""
           }
          },
          "colorscale": {
           "diverging": [
            [
             0,
             "#8e0152"
            ],
            [
             0.1,
             "#c51b7d"
            ],
            [
             0.2,
             "#de77ae"
            ],
            [
             0.3,
             "#f1b6da"
            ],
            [
             0.4,
             "#fde0ef"
            ],
            [
             0.5,
             "#f7f7f7"
            ],
            [
             0.6,
             "#e6f5d0"
            ],
            [
             0.7,
             "#b8e186"
            ],
            [
             0.8,
             "#7fbc41"
            ],
            [
             0.9,
             "#4d9221"
            ],
            [
             1,
             "#276419"
            ]
           ],
           "sequential": [
            [
             0,
             "#0d0887"
            ],
            [
             0.1111111111111111,
             "#46039f"
            ],
            [
             0.2222222222222222,
             "#7201a8"
            ],
            [
             0.3333333333333333,
             "#9c179e"
            ],
            [
             0.4444444444444444,
             "#bd3786"
            ],
            [
             0.5555555555555556,
             "#d8576b"
            ],
            [
             0.6666666666666666,
             "#ed7953"
            ],
            [
             0.7777777777777778,
             "#fb9f3a"
            ],
            [
             0.8888888888888888,
             "#fdca26"
            ],
            [
             1,
             "#f0f921"
            ]
           ],
           "sequentialminus": [
            [
             0,
             "#0d0887"
            ],
            [
             0.1111111111111111,
             "#46039f"
            ],
            [
             0.2222222222222222,
             "#7201a8"
            ],
            [
             0.3333333333333333,
             "#9c179e"
            ],
            [
             0.4444444444444444,
             "#bd3786"
            ],
            [
             0.5555555555555556,
             "#d8576b"
            ],
            [
             0.6666666666666666,
             "#ed7953"
            ],
            [
             0.7777777777777778,
             "#fb9f3a"
            ],
            [
             0.8888888888888888,
             "#fdca26"
            ],
            [
             1,
             "#f0f921"
            ]
           ]
          },
          "colorway": [
           "#636efa",
           "#EF553B",
           "#00cc96",
           "#ab63fa",
           "#FFA15A",
           "#19d3f3",
           "#FF6692",
           "#B6E880",
           "#FF97FF",
           "#FECB52"
          ],
          "font": {
           "color": "#2a3f5f"
          },
          "geo": {
           "bgcolor": "white",
           "lakecolor": "white",
           "landcolor": "#E5ECF6",
           "showlakes": true,
           "showland": true,
           "subunitcolor": "white"
          },
          "hoverlabel": {
           "align": "left"
          },
          "hovermode": "closest",
          "mapbox": {
           "style": "light"
          },
          "paper_bgcolor": "white",
          "plot_bgcolor": "#E5ECF6",
          "polar": {
           "angularaxis": {
            "gridcolor": "white",
            "linecolor": "white",
            "ticks": ""
           },
           "bgcolor": "#E5ECF6",
           "radialaxis": {
            "gridcolor": "white",
            "linecolor": "white",
            "ticks": ""
           }
          },
          "scene": {
           "xaxis": {
            "backgroundcolor": "#E5ECF6",
            "gridcolor": "white",
            "gridwidth": 2,
            "linecolor": "white",
            "showbackground": true,
            "ticks": "",
            "zerolinecolor": "white"
           },
           "yaxis": {
            "backgroundcolor": "#E5ECF6",
            "gridcolor": "white",
            "gridwidth": 2,
            "linecolor": "white",
            "showbackground": true,
            "ticks": "",
            "zerolinecolor": "white"
           },
           "zaxis": {
            "backgroundcolor": "#E5ECF6",
            "gridcolor": "white",
            "gridwidth": 2,
            "linecolor": "white",
            "showbackground": true,
            "ticks": "",
            "zerolinecolor": "white"
           }
          },
          "shapedefaults": {
           "line": {
            "color": "#2a3f5f"
           }
          },
          "ternary": {
           "aaxis": {
            "gridcolor": "white",
            "linecolor": "white",
            "ticks": ""
           },
           "baxis": {
            "gridcolor": "white",
            "linecolor": "white",
            "ticks": ""
           },
           "bgcolor": "#E5ECF6",
           "caxis": {
            "gridcolor": "white",
            "linecolor": "white",
            "ticks": ""
           }
          },
          "title": {
           "x": 0.05
          },
          "xaxis": {
           "automargin": true,
           "gridcolor": "white",
           "linecolor": "white",
           "ticks": "",
           "title": {
            "standoff": 15
           },
           "zerolinecolor": "white",
           "zerolinewidth": 2
          },
          "yaxis": {
           "automargin": true,
           "gridcolor": "white",
           "linecolor": "white",
           "ticks": "",
           "title": {
            "standoff": 15
           },
           "zerolinecolor": "white",
           "zerolinewidth": 2
          }
         }
        },
        "title": {
         "text": "Carbon Dioxide Emissions Worldwide"
        },
        "updatemenus": [
         {
          "active": 1,
          "buttons": [
           {
            "args": [
             null,
             {
              "frame": {
               "duration": 500,
               "redraw": true
              },
              "fromcurrent": true,
              "mode": "immediate",
              "transition": {
               "duration": 500,
               "easing": "linear"
              }
             }
            ],
            "label": "&#9654;",
            "method": "animate"
           },
           {
            "args": [
             [
              null
             ],
             {
              "frame": {
               "duration": 0,
               "redraw": true
              },
              "fromcurrent": true,
              "mode": "immediate",
              "transition": {
               "duration": 0,
               "easing": "linear"
              }
             }
            ],
            "label": "&#9724;",
            "method": "animate"
           }
          ],
          "direction": "left",
          "pad": {
           "r": 10,
           "t": 70
          },
          "showactive": false,
          "type": "buttons",
          "x": 0.1,
          "xanchor": "right",
          "y": 0,
          "yanchor": "top"
         }
        ]
       }
      },
      "image/png": "[encoded data removed]",
      "text/html": [
       "<div>                            <div id=\"a5fc003f-4a67-4c78-ad13-d8bb1570f3b9\" class=\"plotly-graph-div\" style=\"height:700px; width:100%;\"></div>            <script type=\"text/javascript\">                require([\"plotly\"], function(Plotly) {                    window.PLOTLYENV=window.PLOTLYENV || {};                                    if (document.getElementById(\"a5fc003f-4a67-4c78-ad13-d8bb1570f3b9\")) {                    Plotly.newPlot(                        \"a5fc003f-4a67-4c78-ad13-d8bb1570f3b9\",                        [{\"coloraxis\":\"coloraxis\",\"customdata\":[[5128300.6168513],[403307.236177174],[25446.2878554093],[56971.874271446],[35321.326080573],[103689.711004985],[376546.517951405],[705829.991803785],[36907.2375398999],[45082.9718484685],[54845.6744775156],[169285.872691812],[164204.205712975],[2525293.78247628],[62124.7007131878],[4656.89357909686],[61633.4625976502],[23329.2494340722],[15093.8383654949],[462117.351149139],[231213.556131095],[76698.9750767925],[151508.467579803],[57348.8248895493],[120309.34284971],[44154.4209480848],[162385.109422551],[278424.660375653],[4466227.83368469],[73464.8538219331],[438008.802199713],[35771.8157080354],[198.967925612674],[2408.46332514049],[2247.80292086045],[19504.1309234086],[11847.635442146],[601187.186814322],[1158391.31118915],[1052348.54443457],[98.227705387591],[32944.3277756795],[83425.5481500187]],\"geo\":\"geo\",\"hovertemplate\":\"<b>%{hovertext}</b><br><br>Year=1990<br>Country or Area=%{location}<br>Value=%{z}<extra></extra>\",\"hovertext\":[\"United States of America\",\"France\",\"New Zealand\",\"Finland\",\"Norway\",\"Belarus\",\"Poland\",\"Ukraine\",\"Estonia\",\"Portugal\",\"Denmark\",\"Romania\",\"Czechia\",\"Russian Federation\",\"Austria\",\"Cyprus\",\"Slovakia\",\"Croatia\",\"Slovenia\",\"Canada\",\"Spain\",\"Bulgaria\",\"Turkey\",\"Sweden\",\"Belgium\",\"Switzerland\",\"Netherlands\",\"Australia\",\"European Union\",\"Hungary\",\"Italy\",\"Lithuania\",\"Liechtenstein\",\"Malta\",\"Iceland\",\"Latvia\",\"Luxembourg\",\"United Kingdom\",\"Japan\",\"Germany\",\"Monaco\",\"Ireland\",\"Greece\"],\"locationmode\":\"country names\",\"locations\":[\"United States of America\",\"France\",\"New Zealand\",\"Finland\",\"Norway\",\"Belarus\",\"Poland\",\"Ukraine\",\"Estonia\",\"Portugal\",\"Denmark\",\"Romania\",\"Czechia\",\"Russian Federation\",\"Austria\",\"Cyprus\",\"Slovakia\",\"Croatia\",\"Slovenia\",\"Canada\",\"Spain\",\"Bulgaria\",\"Turkey\",\"Sweden\",\"Belgium\",\"Switzerland\",\"Netherlands\",\"Australia\",\"European Union\",\"Hungary\",\"Italy\",\"Lithuania\",\"Liechtenstein\",\"Malta\",\"Iceland\",\"Latvia\",\"Luxembourg\",\"United Kingdom\",\"Japan\",\"Germany\",\"Monaco\",\"Ireland\",\"Greece\"],\"name\":\"\",\"type\":\"choropleth\",\"z\":[5128300.6168513,403307.236177174,25446.2878554093,56971.874271446,35321.326080573,103689.711004985,376546.517951405,705829.991803785,36907.2375398999,45082.9718484685,54845.6744775156,169285.872691812,164204.205712975,2525293.78247628,62124.7007131878,4656.89357909686,61633.4625976502,23329.2494340722,15093.8383654949,462117.351149139,231213.556131095,76698.9750767925,151508.467579803,57348.8248895493,120309.34284971,44154.4209480848,162385.109422551,278424.660375653,4466227.83368469,73464.8538219331,438008.802199713,35771.8157080354,198.967925612674,2408.46332514049,2247.80292086045,19504.1309234086,11847.635442146,601187.186814322,1158391.31118915,1052348.54443457,98.227705387591,32944.3277756795,83425.5481500187]}],                        {\"coloraxis\":{\"colorbar\":{\"title\":{\"text\":\"Value\"}},\"colorscale\":[[0.0,\"#440154\"],[0.1111111111111111,\"#482878\"],[0.2222222222222222,\"#3e4989\"],[0.3333333333333333,\"#31688e\"],[0.4444444444444444,\"#26828e\"],[0.5555555555555556,\"#1f9e89\"],[0.6666666666666666,\"#35b779\"],[0.7777777777777778,\"#6ece58\"],[0.8888888888888888,\"#b5de2b\"],[1.0,\"#fde725\"]]},\"font\":{\"size\":18},\"geo\":{\"center\":{},\"domain\":{\"x\":[0.0,1.0],\"y\":[0.0,1.0]}},\"height\":700,\"legend\":{\"tracegroupgap\":0},\"margin\":{\"t\":60},\"paper_bgcolor\":\"white\",\"sliders\":[{\"active\":0,\"currentvalue\":{\"prefix\":\"Year=\"},\"len\":0.9,\"pad\":{\"b\":10,\"t\":60},\"steps\":[{\"args\":[[\"1990\"],{\"frame\":{\"duration\":0,\"redraw\":true},\"fromcurrent\":true,\"mode\":\"immediate\",\"transition\":{\"duration\":0,\"easing\":\"linear\"}}],\"label\":\"1990\",\"method\":\"animate\"},{\"args\":[[\"1991\"],{\"frame\":{\"duration\":0,\"redraw\":true},\"fromcurrent\":true,\"mode\":\"immediate\",\"transition\":{\"duration\":0,\"easing\":\"linear\"}}],\"label\":\"1991\",\"method\":\"animate\"},{\"args\":[[\"1992\"],{\"frame\":{\"duration\":0,\"redraw\":true},\"fromcurrent\":true,\"mode\":\"immediate\",\"transition\":{\"duration\":0,\"easing\":\"linear\"}}],\"label\":\"1992\",\"method\":\"animate\"},{\"args\":[[\"1993\"],{\"frame\":{\"duration\":0,\"redraw\":true},\"fromcurrent\":true,\"mode\":\"immediate\",\"transition\":{\"duration\":0,\"easing\":\"linear\"}}],\"label\":\"1993\",\"method\":\"animate\"},{\"args\":[[\"1994\"],{\"frame\":{\"duration\":0,\"redraw\":true},\"fromcurrent\":true,\"mode\":\"immediate\",\"transition\":{\"duration\":0,\"easing\":\"linear\"}}],\"label\":\"1994\",\"method\":\"animate\"},{\"args\":[[\"1995\"],{\"frame\":{\"duration\":0,\"redraw\":true},\"fromcurrent\":true,\"mode\":\"immediate\",\"transition\":{\"duration\":0,\"easing\":\"linear\"}}],\"label\":\"1995\",\"method\":\"animate\"},{\"args\":[[\"1996\"],{\"frame\":{\"duration\":0,\"redraw\":true},\"fromcurrent\":true,\"mode\":\"immediate\",\"transition\":{\"duration\":0,\"easing\":\"linear\"}}],\"label\":\"1996\",\"method\":\"animate\"},{\"args\":[[\"1997\"],{\"frame\":{\"duration\":0,\"redraw\":true},\"fromcurrent\":true,\"mode\":\"immediate\",\"transition\":{\"duration\":0,\"easing\":\"linear\"}}],\"label\":\"1997\",\"method\":\"animate\"},{\"args\":[[\"1998\"],{\"frame\":{\"duration\":0,\"redraw\":true},\"fromcurrent\":true,\"mode\":\"immediate\",\"transition\":{\"duration\":0,\"easing\":\"linear\"}}],\"label\":\"1998\",\"method\":\"animate\"},{\"args\":[[\"1999\"],{\"frame\":{\"duration\":0,\"redraw\":true},\"fromcurrent\":true,\"mode\":\"immediate\",\"transition\":{\"duration\":0,\"easing\":\"linear\"}}],\"label\":\"1999\",\"method\":\"animate\"},{\"args\":[[\"2000\"],{\"frame\":{\"duration\":0,\"redraw\":true},\"fromcurrent\":true,\"mode\":\"immediate\",\"transition\":{\"duration\":0,\"easing\":\"linear\"}}],\"label\":\"2000\",\"method\":\"animate\"},{\"args\":[[\"2001\"],{\"frame\":{\"duration\":0,\"redraw\":true},\"fromcurrent\":true,\"mode\":\"immediate\",\"transition\":{\"duration\":0,\"easing\":\"linear\"}}],\"label\":\"2001\",\"method\":\"animate\"},{\"args\":[[\"2002\"],{\"frame\":{\"duration\":0,\"redraw\":true},\"fromcurrent\":true,\"mode\":\"immediate\",\"transition\":{\"duration\":0,\"easing\":\"linear\"}}],\"label\":\"2002\",\"method\":\"animate\"},{\"args\":[[\"2003\"],{\"frame\":{\"duration\":0,\"redraw\":true},\"fromcurrent\":true,\"mode\":\"immediate\",\"transition\":{\"duration\":0,\"easing\":\"linear\"}}],\"label\":\"2003\",\"method\":\"animate\"},{\"args\":[[\"2004\"],{\"frame\":{\"duration\":0,\"redraw\":true},\"fromcurrent\":true,\"mode\":\"immediate\",\"transition\":{\"duration\":0,\"easing\":\"linear\"}}],\"label\":\"2004\",\"method\":\"animate\"},{\"args\":[[\"2005\"],{\"frame\":{\"duration\":0,\"redraw\":true},\"fromcurrent\":true,\"mode\":\"immediate\",\"transition\":{\"duration\":0,\"easing\":\"linear\"}}],\"label\":\"2005\",\"method\":\"animate\"},{\"args\":[[\"2006\"],{\"frame\":{\"duration\":0,\"redraw\":true},\"fromcurrent\":true,\"mode\":\"immediate\",\"transition\":{\"duration\":0,\"easing\":\"linear\"}}],\"label\":\"2006\",\"method\":\"animate\"},{\"args\":[[\"2007\"],{\"frame\":{\"duration\":0,\"redraw\":true},\"fromcurrent\":true,\"mode\":\"immediate\",\"transition\":{\"duration\":0,\"easing\":\"linear\"}}],\"label\":\"2007\",\"method\":\"animate\"},{\"args\":[[\"2008\"],{\"frame\":{\"duration\":0,\"redraw\":true},\"fromcurrent\":true,\"mode\":\"immediate\",\"transition\":{\"duration\":0,\"easing\":\"linear\"}}],\"label\":\"2008\",\"method\":\"animate\"},{\"args\":[[\"2009\"],{\"frame\":{\"duration\":0,\"redraw\":true},\"fromcurrent\":true,\"mode\":\"immediate\",\"transition\":{\"duration\":0,\"easing\":\"linear\"}}],\"label\":\"2009\",\"method\":\"animate\"},{\"args\":[[\"2010\"],{\"frame\":{\"duration\":0,\"redraw\":true},\"fromcurrent\":true,\"mode\":\"immediate\",\"transition\":{\"duration\":0,\"easing\":\"linear\"}}],\"label\":\"2010\",\"method\":\"animate\"},{\"args\":[[\"2011\"],{\"frame\":{\"duration\":0,\"redraw\":true},\"fromcurrent\":true,\"mode\":\"immediate\",\"transition\":{\"duration\":0,\"easing\":\"linear\"}}],\"label\":\"2011\",\"method\":\"animate\"},{\"args\":[[\"2012\"],{\"frame\":{\"duration\":0,\"redraw\":true},\"fromcurrent\":true,\"mode\":\"immediate\",\"transition\":{\"duration\":0,\"easing\":\"linear\"}}],\"label\":\"2012\",\"method\":\"animate\"},{\"args\":[[\"2013\"],{\"frame\":{\"duration\":0,\"redraw\":true},\"fromcurrent\":true,\"mode\":\"immediate\",\"transition\":{\"duration\":0,\"easing\":\"linear\"}}],\"label\":\"2013\",\"method\":\"animate\"},{\"args\":[[\"2014\"],{\"frame\":{\"duration\":0,\"redraw\":true},\"fromcurrent\":true,\"mode\":\"immediate\",\"transition\":{\"duration\":0,\"easing\":\"linear\"}}],\"label\":\"2014\",\"method\":\"animate\"},{\"args\":[[\"2015\"],{\"frame\":{\"duration\":0,\"redraw\":true},\"fromcurrent\":true,\"mode\":\"immediate\",\"transition\":{\"duration\":0,\"easing\":\"linear\"}}],\"label\":\"2015\",\"method\":\"animate\"},{\"args\":[[\"2016\"],{\"frame\":{\"duration\":0,\"redraw\":true},\"fromcurrent\":true,\"mode\":\"immediate\",\"transition\":{\"duration\":0,\"easing\":\"linear\"}}],\"label\":\"2016\",\"method\":\"animate\"},{\"args\":[[\"2017\"],{\"frame\":{\"duration\":0,\"redraw\":true},\"fromcurrent\":true,\"mode\":\"immediate\",\"transition\":{\"duration\":0,\"easing\":\"linear\"}}],\"label\":\"2017\",\"method\":\"animate\"},{\"args\":[[\"2018\"],{\"frame\":{\"duration\":0,\"redraw\":true},\"fromcurrent\":true,\"mode\":\"immediate\",\"transition\":{\"duration\":0,\"easing\":\"linear\"}}],\"label\":\"2018\",\"method\":\"animate\"}],\"x\":0.1,\"xanchor\":\"left\",\"y\":0,\"yanchor\":\"top\"}],\"template\":{\"data\":{\"bar\":[{\"error_x\":{\"color\":\"#2a3f5f\"},\"error_y\":{\"color\":\"#2a3f5f\"},\"marker\":{\"line\":{\"color\":\"#E5ECF6\",\"width\":0.5},\"pattern\":{\"fillmode\":\"overlay\",\"size\":10,\"solidity\":0.2}},\"type\":\"bar\"}],\"barpolar\":[{\"marker\":{\"line\":{\"color\":\"#E5ECF6\",\"width\":0.5},\"pattern\":{\"fillmode\":\"overlay\",\"size\":10,\"solidity\":0.2}},\"type\":\"barpolar\"}],\"carpet\":[{\"aaxis\":{\"endlinecolor\":\"#2a3f5f\",\"gridcolor\":\"white\",\"linecolor\":\"white\",\"minorgridcolor\":\"white\",\"startlinecolor\":\"#2a3f5f\"},\"baxis\":{\"endlinecolor\":\"#2a3f5f\",\"gridcolor\":\"white\",\"linecolor\":\"white\",\"minorgridcolor\":\"white\",\"startlinecolor\":\"#2a3f5f\"},\"type\":\"carpet\"}],\"choropleth\":[{\"colorbar\":{\"outlinewidth\":0,\"ticks\":\"\"},\"type\":\"choropleth\"}],\"contour\":[{\"colorbar\":{\"outlinewidth\":0,\"ticks\":\"\"},\"colorscale\":[[0.0,\"#0d0887\"],[0.1111111111111111,\"#46039f\"],[0.2222222222222222,\"#7201a8\"],[0.3333333333333333,\"#9c179e\"],[0.4444444444444444,\"#bd3786\"],[0.5555555555555556,\"#d8576b\"],[0.6666666666666666,\"#ed7953\"],[0.7777777777777778,\"#fb9f3a\"],[0.8888888888888888,\"#fdca26\"],[1.0,\"#f0f921\"]],\"type\":\"contour\"}],\"contourcarpet\":[{\"colorbar\":{\"outlinewidth\":0,\"ticks\":\"\"},\"type\":\"contourcarpet\"}],\"heatmap\":[{\"colorbar\":{\"outlinewidth\":0,\"ticks\":\"\"},\"colorscale\":[[0.0,\"#0d0887\"],[0.1111111111111111,\"#46039f\"],[0.2222222222222222,\"#7201a8\"],[0.3333333333333333,\"#9c179e\"],[0.4444444444444444,\"#bd3786\"],[0.5555555555555556,\"#d8576b\"],[0.6666666666666666,\"#ed7953\"],[0.7777777777777778,\"#fb9f3a\"],[0.8888888888888888,\"#fdca26\"],[1.0,\"#f0f921\"]],\"type\":\"heatmap\"}],\"heatmapgl\":[{\"colorbar\":{\"outlinewidth\":0,\"ticks\":\"\"},\"colorscale\":[[0.0,\"#0d0887\"],[0.1111111111111111,\"#46039f\"],[0.2222222222222222,\"#7201a8\"],[0.3333333333333333,\"#9c179e\"],[0.4444444444444444,\"#bd3786\"],[0.5555555555555556,\"#d8576b\"],[0.6666666666666666,\"#ed7953\"],[0.7777777777777778,\"#fb9f3a\"],[0.8888888888888888,\"#fdca26\"],[1.0,\"#f0f921\"]],\"type\":\"heatmapgl\"}],\"histogram\":[{\"marker\":{\"pattern\":{\"fillmode\":\"overlay\",\"size\":10,\"solidity\":0.2}},\"type\":\"histogram\"}],\"histogram2d\":[{\"colorbar\":{\"outlinewidth\":0,\"ticks\":\"\"},\"colorscale\":[[0.0,\"#0d0887\"],[0.1111111111111111,\"#46039f\"],[0.2222222222222222,\"#7201a8\"],[0.3333333333333333,\"#9c179e\"],[0.4444444444444444,\"#bd3786\"],[0.5555555555555556,\"#d8576b\"],[0.6666666666666666,\"#ed7953\"],[0.7777777777777778,\"#fb9f3a\"],[0.8888888888888888,\"#fdca26\"],[1.0,\"#f0f921\"]],\"type\":\"histogram2d\"}],\"histogram2dcontour\":[{\"colorbar\":{\"outlinewidth\":0,\"ticks\":\"\"},\"colorscale\":[[0.0,\"#0d0887\"],[0.1111111111111111,\"#46039f\"],[0.2222222222222222,\"#7201a8\"],[0.3333333333333333,\"#9c179e\"],[0.4444444444444444,\"#bd3786\"],[0.5555555555555556,\"#d8576b\"],[0.6666666666666666,\"#ed7953\"],[0.7777777777777778,\"#fb9f3a\"],[0.8888888888888888,\"#fdca26\"],[1.0,\"#f0f921\"]],\"type\":\"histogram2dcontour\"}],\"mesh3d\":[{\"colorbar\":{\"outlinewidth\":0,\"ticks\":\"\"},\"type\":\"mesh3d\"}],\"parcoords\":[{\"line\":{\"colorbar\":{\"outlinewidth\":0,\"ticks\":\"\"}},\"type\":\"parcoords\"}],\"pie\":[{\"automargin\":true,\"type\":\"pie\"}],\"scatter\":[{\"marker\":{\"colorbar\":{\"outlinewidth\":0,\"ticks\":\"\"}},\"type\":\"scatter\"}],\"scatter3d\":[{\"line\":{\"colorbar\":{\"outlinewidth\":0,\"ticks\":\"\"}},\"marker\":{\"colorbar\":{\"outlinewidth\":0,\"ticks\":\"\"}},\"type\":\"scatter3d\"}],\"scattercarpet\":[{\"marker\":{\"colorbar\":{\"outlinewidth\":0,\"ticks\":\"\"}},\"type\":\"scattercarpet\"}],\"scattergeo\":[{\"marker\":{\"colorbar\":{\"outlinewidth\":0,\"ticks\":\"\"}},\"type\":\"scattergeo\"}],\"scattergl\":[{\"marker\":{\"colorbar\":{\"outlinewidth\":0,\"ticks\":\"\"}},\"type\":\"scattergl\"}],\"scattermapbox\":[{\"marker\":{\"colorbar\":{\"outlinewidth\":0,\"ticks\":\"\"}},\"type\":\"scattermapbox\"}],\"scatterpolar\":[{\"marker\":{\"colorbar\":{\"outlinewidth\":0,\"ticks\":\"\"}},\"type\":\"scatterpolar\"}],\"scatterpolargl\":[{\"marker\":{\"colorbar\":{\"outlinewidth\":0,\"ticks\":\"\"}},\"type\":\"scatterpolargl\"}],\"scatterternary\":[{\"marker\":{\"colorbar\":{\"outlinewidth\":0,\"ticks\":\"\"}},\"type\":\"scatterternary\"}],\"surface\":[{\"colorbar\":{\"outlinewidth\":0,\"ticks\":\"\"},\"colorscale\":[[0.0,\"#0d0887\"],[0.1111111111111111,\"#46039f\"],[0.2222222222222222,\"#7201a8\"],[0.3333333333333333,\"#9c179e\"],[0.4444444444444444,\"#bd3786\"],[0.5555555555555556,\"#d8576b\"],[0.6666666666666666,\"#ed7953\"],[0.7777777777777778,\"#fb9f3a\"],[0.8888888888888888,\"#fdca26\"],[1.0,\"#f0f921\"]],\"type\":\"surface\"}],\"table\":[{\"cells\":{\"fill\":{\"color\":\"#EBF0F8\"},\"line\":{\"color\":\"white\"}},\"header\":{\"fill\":{\"color\":\"#C8D4E3\"},\"line\":{\"color\":\"white\"}},\"type\":\"table\"}]},\"layout\":{\"annotationdefaults\":{\"arrowcolor\":\"#2a3f5f\",\"arrowhead\":0,\"arrowwidth\":1},\"autotypenumbers\":\"strict\",\"coloraxis\":{\"colorbar\":{\"outlinewidth\":0,\"ticks\":\"\"}},\"colorscale\":{\"diverging\":[[0,\"#8e0152\"],[0.1,\"#c51b7d\"],[0.2,\"#de77ae\"],[0.3,\"#f1b6da\"],[0.4,\"#fde0ef\"],[0.5,\"#f7f7f7\"],[0.6,\"#e6f5d0\"],[0.7,\"#b8e186\"],[0.8,\"#7fbc41\"],[0.9,\"#4d9221\"],[1,\"#276419\"]],\"sequential\":[[0.0,\"#0d0887\"],[0.1111111111111111,\"#46039f\"],[0.2222222222222222,\"#7201a8\"],[0.3333333333333333,\"#9c179e\"],[0.4444444444444444,\"#bd3786\"],[0.5555555555555556,\"#d8576b\"],[0.6666666666666666,\"#ed7953\"],[0.7777777777777778,\"#fb9f3a\"],[0.8888888888888888,\"#fdca26\"],[1.0,\"#f0f921\"]],\"sequentialminus\":[[0.0,\"#0d0887\"],[0.1111111111111111,\"#46039f\"],[0.2222222222222222,\"#7201a8\"],[0.3333333333333333,\"#9c179e\"],[0.4444444444444444,\"#bd3786\"],[0.5555555555555556,\"#d8576b\"],[0.6666666666666666,\"#ed7953\"],[0.7777777777777778,\"#fb9f3a\"],[0.8888888888888888,\"#fdca26\"],[1.0,\"#f0f921\"]]},\"colorway\":[\"#636efa\",\"#EF553B\",\"#00cc96\",\"#ab63fa\",\"#FFA15A\",\"#19d3f3\",\"#FF6692\",\"#B6E880\",\"#FF97FF\",\"#FECB52\"],\"font\":{\"color\":\"#2a3f5f\"},\"geo\":{\"bgcolor\":\"white\",\"lakecolor\":\"white\",\"landcolor\":\"#E5ECF6\",\"showlakes\":true,\"showland\":true,\"subunitcolor\":\"white\"},\"hoverlabel\":{\"align\":\"left\"},\"hovermode\":\"closest\",\"mapbox\":{\"style\":\"light\"},\"paper_bgcolor\":\"white\",\"plot_bgcolor\":\"#E5ECF6\",\"polar\":{\"angularaxis\":{\"gridcolor\":\"white\",\"linecolor\":\"white\",\"ticks\":\"\"},\"bgcolor\":\"#E5ECF6\",\"radialaxis\":{\"gridcolor\":\"white\",\"linecolor\":\"white\",\"ticks\":\"\"}},\"scene\":{\"xaxis\":{\"backgroundcolor\":\"#E5ECF6\",\"gridcolor\":\"white\",\"gridwidth\":2,\"linecolor\":\"white\",\"showbackground\":true,\"ticks\":\"\",\"zerolinecolor\":\"white\"},\"yaxis\":{\"backgroundcolor\":\"#E5ECF6\",\"gridcolor\":\"white\",\"gridwidth\":2,\"linecolor\":\"white\",\"showbackground\":true,\"ticks\":\"\",\"zerolinecolor\":\"white\"},\"zaxis\":{\"backgroundcolor\":\"#E5ECF6\",\"gridcolor\":\"white\",\"gridwidth\":2,\"linecolor\":\"white\",\"showbackground\":true,\"ticks\":\"\",\"zerolinecolor\":\"white\"}},\"shapedefaults\":{\"line\":{\"color\":\"#2a3f5f\"}},\"ternary\":{\"aaxis\":{\"gridcolor\":\"white\",\"linecolor\":\"white\",\"ticks\":\"\"},\"baxis\":{\"gridcolor\":\"white\",\"linecolor\":\"white\",\"ticks\":\"\"},\"bgcolor\":\"#E5ECF6\",\"caxis\":{\"gridcolor\":\"white\",\"linecolor\":\"white\",\"ticks\":\"\"}},\"title\":{\"x\":0.05},\"xaxis\":{\"automargin\":true,\"gridcolor\":\"white\",\"linecolor\":\"white\",\"ticks\":\"\",\"title\":{\"standoff\":15},\"zerolinecolor\":\"white\",\"zerolinewidth\":2},\"yaxis\":{\"automargin\":true,\"gridcolor\":\"white\",\"linecolor\":\"white\",\"ticks\":\"\",\"title\":{\"standoff\":15},\"zerolinecolor\":\"white\",\"zerolinewidth\":2}}},\"title\":{\"text\":\"Carbon Dioxide Emissions Worldwide\"},\"updatemenus\":[{\"buttons\":[{\"args\":[null,{\"frame\":{\"duration\":500,\"redraw\":true},\"fromcurrent\":true,\"mode\":\"immediate\",\"transition\":{\"duration\":500,\"easing\":\"linear\"}}],\"label\":\"&#9654;\",\"method\":\"animate\"},{\"args\":[[null],{\"frame\":{\"duration\":0,\"redraw\":true},\"fromcurrent\":true,\"mode\":\"immediate\",\"transition\":{\"duration\":0,\"easing\":\"linear\"}}],\"label\":\"&#9724;\",\"method\":\"animate\"}],\"direction\":\"left\",\"pad\":{\"r\":10,\"t\":70},\"showactive\":false,\"type\":\"buttons\",\"x\":0.1,\"xanchor\":\"right\",\"y\":0,\"yanchor\":\"top\"}]},                        {\"responsive\": true}                    ).then(function(){\n",
       "                            Plotly.addFrames('a5fc003f-4a67-4c78-ad13-d8bb1570f3b9', [{\"data\":[{\"coloraxis\":\"coloraxis\",\"customdata\":[[5128300.6168513],[403307.236177174],[25446.2878554093],[56971.874271446],[35321.326080573],[103689.711004985],[376546.517951405],[705829.991803785],[36907.2375398999],[45082.9718484685],[54845.6744775156],[169285.872691812],[164204.205712975],[2525293.78247628],[62124.7007131878],[4656.89357909686],[61633.4625976502],[23329.2494340722],[15093.8383654949],[462117.351149139],[231213.556131095],[76698.9750767925],[151508.467579803],[57348.8248895493],[120309.34284971],[44154.4209480848],[162385.109422551],[278424.660375653],[4466227.83368469],[73464.8538219331],[438008.802199713],[35771.8157080354],[198.967925612674],[2408.46332514049],[2247.80292086045],[19504.1309234086],[11847.635442146],[601187.186814322],[1158391.31118915],[1052348.54443457],[98.227705387591],[32944.3277756795],[83425.5481500187]],\"geo\":\"geo\",\"hovertemplate\":\"<b>%{hovertext}</b><br><br>Year=1990<br>Country or Area=%{location}<br>Value=%{z}<extra></extra>\",\"hovertext\":[\"United States of America\",\"France\",\"New Zealand\",\"Finland\",\"Norway\",\"Belarus\",\"Poland\",\"Ukraine\",\"Estonia\",\"Portugal\",\"Denmark\",\"Romania\",\"Czechia\",\"Russian Federation\",\"Austria\",\"Cyprus\",\"Slovakia\",\"Croatia\",\"Slovenia\",\"Canada\",\"Spain\",\"Bulgaria\",\"Turkey\",\"Sweden\",\"Belgium\",\"Switzerland\",\"Netherlands\",\"Australia\",\"European Union\",\"Hungary\",\"Italy\",\"Lithuania\",\"Liechtenstein\",\"Malta\",\"Iceland\",\"Latvia\",\"Luxembourg\",\"United Kingdom\",\"Japan\",\"Germany\",\"Monaco\",\"Ireland\",\"Greece\"],\"locationmode\":\"country names\",\"locations\":[\"United States of America\",\"France\",\"New Zealand\",\"Finland\",\"Norway\",\"Belarus\",\"Poland\",\"Ukraine\",\"Estonia\",\"Portugal\",\"Denmark\",\"Romania\",\"Czechia\",\"Russian Federation\",\"Austria\",\"Cyprus\",\"Slovakia\",\"Croatia\",\"Slovenia\",\"Canada\",\"Spain\",\"Bulgaria\",\"Turkey\",\"Sweden\",\"Belgium\",\"Switzerland\",\"Netherlands\",\"Australia\",\"European Union\",\"Hungary\",\"Italy\",\"Lithuania\",\"Liechtenstein\",\"Malta\",\"Iceland\",\"Latvia\",\"Luxembourg\",\"United Kingdom\",\"Japan\",\"Germany\",\"Monaco\",\"Ireland\",\"Greece\"],\"name\":\"\",\"type\":\"choropleth\",\"z\":[5128300.6168513,403307.236177174,25446.2878554093,56971.874271446,35321.326080573,103689.711004985,376546.517951405,705829.991803785,36907.2375398999,45082.9718484685,54845.6744775156,169285.872691812,164204.205712975,2525293.78247628,62124.7007131878,4656.89357909686,61633.4625976502,23329.2494340722,15093.8383654949,462117.351149139,231213.556131095,76698.9750767925,151508.467579803,57348.8248895493,120309.34284971,44154.4209480848,162385.109422551,278424.660375653,4466227.83368469,73464.8538219331,438008.802199713,35771.8157080354,198.967925612674,2408.46332514049,2247.80292086045,19504.1309234086,11847.635442146,601187.186814322,1158391.31118915,1052348.54443457,98.227705387591,32944.3277756795,83425.5481500187]}],\"name\":\"1990\"},{\"data\":[{\"coloraxis\":\"coloraxis\",\"customdata\":[[240953.020775618],[17182.3020573119],[14001.2386768891],[37851.5885217633],[1014199.71521822],[452494.723086163],[57707.2230393214],[206.326470539648],[61232.5967315523],[1170065.7288122],[46133.821039985],[123382.082307765],[17783.1202562515],[157982.004627358],[437538.596512975],[5146.60855540231],[148894.127444014],[53437.9015504419],[170796.382524118],[26110.3840307702],[428927.106679341],[83401.1206733625],[33816.4572582708],[55230.4040849182],[98.9081435670137],[373793.320540164],[33674.0092451123],[4413593.52793634],[46960.2573109118],[2255.38870041539],[33901.774830474],[139370.253165321],[2128.40965980434],[65428.3455260962],[2395977.95961775],[12465.7877967775],[69784.5192033522],[96647.1252823627],[5078889.57588522],[279872.660257341],[609266.002027072],[65725.5331115649],[632536.626065897]],\"geo\":\"geo\",\"hovertemplate\":\"<b>%{hovertext}</b><br><br>Year=1991<br>Country or Area=%{location}<br>Value=%{z}<extra></extra>\",\"hovertext\":[\"Spain\",\"Croatia\",\"Slovenia\",\"Lithuania\",\"Germany\",\"Canada\",\"Sweden\",\"Liechtenstein\",\"Bulgaria\",\"Japan\",\"Switzerland\",\"Belgium\",\"Latvia\",\"Turkey\",\"Italy\",\"Cyprus\",\"Czechia\",\"Slovakia\",\"Netherlands\",\"New Zealand\",\"France\",\"Greece\",\"Norway\",\"Finland\",\"Monaco\",\"Poland\",\"Ireland\",\"European Union\",\"Portugal\",\"Malta\",\"Estonia\",\"Romania\",\"Iceland\",\"Denmark\",\"Russian Federation\",\"Luxembourg\",\"Hungary\",\"Belarus\",\"United States of America\",\"Australia\",\"United Kingdom\",\"Austria\",\"Ukraine\"],\"locationmode\":\"country names\",\"locations\":[\"Spain\",\"Croatia\",\"Slovenia\",\"Lithuania\",\"Germany\",\"Canada\",\"Sweden\",\"Liechtenstein\",\"Bulgaria\",\"Japan\",\"Switzerland\",\"Belgium\",\"Latvia\",\"Turkey\",\"Italy\",\"Cyprus\",\"Czechia\",\"Slovakia\",\"Netherlands\",\"New Zealand\",\"France\",\"Greece\",\"Norway\",\"Finland\",\"Monaco\",\"Poland\",\"Ireland\",\"European Union\",\"Portugal\",\"Malta\",\"Estonia\",\"Romania\",\"Iceland\",\"Denmark\",\"Russian Federation\",\"Luxembourg\",\"Hungary\",\"Belarus\",\"United States of America\",\"Australia\",\"United Kingdom\",\"Austria\",\"Ukraine\"],\"name\":\"\",\"type\":\"choropleth\",\"z\":[240953.020775618,17182.3020573119,14001.2386768891,37851.5885217633,1014199.71521822,452494.723086163,57707.2230393214,206.326470539648,61232.5967315523,1170065.7288122,46133.821039985,123382.082307765,17783.1202562515,157982.004627358,437538.596512975,5146.60855540231,148894.127444014,53437.9015504419,170796.382524118,26110.3840307702,428927.106679341,83401.1206733625,33816.4572582708,55230.4040849182,98.9081435670137,373793.320540164,33674.0092451123,4413593.52793634,46960.2573109118,2255.38870041539,33901.774830474,139370.253165321,2128.40965980434,65428.3455260962,2395977.95961775,12465.7877967775,69784.5192033522,96647.1252823627,5078889.57588522,279872.660257341,609266.002027072,65725.5331115649,632536.626065897]}],\"name\":\"1991\"},{\"data\":[{\"coloraxis\":\"coloraxis\",\"customdata\":[[60204.0685273764],[21200.577166719],[33494.9281671375],[84982.7106282307],[46009.7044340782],[4271808.70308717],[364677.869650621],[54285.5264761443],[12232.160311753],[2274.26706705902],[34734.7476284046],[418231.023879481],[62415.941917704],[2314.9023423236],[122507.842211766],[28105.0746158788],[467037.420143524],[593745.973865002],[965889.812792495],[57010.4320427525],[104.510329341545],[57451.4900177651],[284912.437867139],[170630.241424131],[249813.194397124],[14006.7490772864],[16506.0770001773],[206.948071672218],[5522.90561895422],[5182706.71965945],[14079.8294200053],[49029.1359385678],[59595.5885790738],[131072.276566846],[589060.250850739],[163922.249650552],[1179740.09775167],[437829.803945848],[144619.022012991],[88662.012949414],[24370.4619672399],[50889.1687666769],[1957658.89440788]],\"geo\":\"geo\",\"hovertemplate\":\"<b>%{hovertext}</b><br><br>Year=1992<br>Country or Area=%{location}<br>Value=%{z}<extra></extra>\",\"hovertext\":[\"Austria\",\"Lithuania\",\"Ireland\",\"Greece\",\"Switzerland\",\"European Union\",\"Poland\",\"Finland\",\"Luxembourg\",\"Iceland\",\"Norway\",\"France\",\"Hungary\",\"Malta\",\"Belgium\",\"New Zealand\",\"Canada\",\"United Kingdom\",\"Germany\",\"Bulgaria\",\"Monaco\",\"Sweden\",\"Australia\",\"Netherlands\",\"Spain\",\"Slovenia\",\"Croatia\",\"Liechtenstein\",\"Cyprus\",\"United States of America\",\"Latvia\",\"Slovakia\",\"Denmark\",\"Romania\",\"Ukraine\",\"Turkey\",\"Japan\",\"Italy\",\"Czechia\",\"Belarus\",\"Estonia\",\"Portugal\",\"Russian Federation\"],\"locationmode\":\"country names\",\"locations\":[\"Austria\",\"Lithuania\",\"Ireland\",\"Greece\",\"Switzerland\",\"European Union\",\"Poland\",\"Finland\",\"Luxembourg\",\"Iceland\",\"Norway\",\"France\",\"Hungary\",\"Malta\",\"Belgium\",\"New Zealand\",\"Canada\",\"United Kingdom\",\"Germany\",\"Bulgaria\",\"Monaco\",\"Sweden\",\"Australia\",\"Netherlands\",\"Spain\",\"Slovenia\",\"Croatia\",\"Liechtenstein\",\"Cyprus\",\"United States of America\",\"Latvia\",\"Slovakia\",\"Denmark\",\"Romania\",\"Ukraine\",\"Turkey\",\"Japan\",\"Italy\",\"Czechia\",\"Belarus\",\"Estonia\",\"Portugal\",\"Russian Federation\"],\"name\":\"\",\"type\":\"choropleth\",\"z\":[60204.0685273764,21200.577166719,33494.9281671375,84982.7106282307,46009.7044340782,4271808.70308717,364677.869650621,54285.5264761443,12232.160311753,2274.26706705902,34734.7476284046,418231.023879481,62415.941917704,2314.9023423236,122507.842211766,28105.0746158788,467037.420143524,593745.973865002,965889.812792495,57010.4320427525,104.510329341545,57451.4900177651,284912.437867139,170630.241424131,249813.194397124,14006.7490772864,16506.0770001773,206.948071672218,5522.90561895422,5182706.71965945,14079.8294200053,49029.1359385678,59595.5885790738,131072.276566846,589060.250850739,163922.249650552,1179740.09775167,437829.803945848,144619.022012991,88662.012949414,24370.4619672399,50889.1687666769,1957658.89440788]}],\"name\":\"1992\"},{\"data\":[{\"coloraxis\":\"coloraxis\",\"customdata\":[[60635.4191406704],[46484.2249088796],[138637.287763167],[170817.552396797],[467406.41099046],[27699.4614049738],[49391.8956024179],[5766.97401461705],[14303.4745932911],[241195.182873171],[1859459.63110814],[397655.363749159],[36224.2008777946],[61682.5960905652],[56352.5530721308],[365370.695658555],[122832.305091186],[4187802.39149633],[16959.7805739569],[510199.537255087],[18910.3613835422],[579506.686402148],[289235.186168999],[956233.107652013],[63632.7619824292],[430179.958454536],[215.03232796014],[2891.12550751473],[16348.048682982],[121444.204570843],[2432.16201626737],[1172647.30939245],[12372.806055811],[171011.162802133],[5283437.59511593],[57675.6371886381],[103.599056843384],[11818.6406113667],[57493.4493373778],[33716.1790147297],[43601.0231205789],[76380.0498572845],[84296.3663014509]],\"geo\":\"geo\",\"hovertemplate\":\"<b>%{hovertext}</b><br><br>Year=1993<br>Country or Area=%{location}<br>Value=%{z}<extra></extra>\",\"hovertext\":[\"Austria\",\"Slovakia\",\"Czechia\",\"Netherlands\",\"Canada\",\"New Zealand\",\"Portugal\",\"Cyprus\",\"Slovenia\",\"Spain\",\"Russian Federation\",\"France\",\"Norway\",\"Denmark\",\"Finland\",\"Poland\",\"Romania\",\"European Union\",\"Croatia\",\"Ukraine\",\"Estonia\",\"United Kingdom\",\"Australia\",\"Germany\",\"Hungary\",\"Italy\",\"Liechtenstein\",\"Malta\",\"Lithuania\",\"Belgium\",\"Iceland\",\"Japan\",\"Luxembourg\",\"Turkey\",\"United States of America\",\"Bulgaria\",\"Monaco\",\"Latvia\",\"Sweden\",\"Ireland\",\"Switzerland\",\"Belarus\",\"Greece\"],\"locationmode\":\"country names\",\"locations\":[\"Austria\",\"Slovakia\",\"Czechia\",\"Netherlands\",\"Canada\",\"New Zealand\",\"Portugal\",\"Cyprus\",\"Slovenia\",\"Spain\",\"Russian Federation\",\"France\",\"Norway\",\"Denmark\",\"Finland\",\"Poland\",\"Romania\",\"European Union\",\"Croatia\",\"Ukraine\",\"Estonia\",\"United Kingdom\",\"Australia\",\"Germany\",\"Hungary\",\"Italy\",\"Liechtenstein\",\"Malta\",\"Lithuania\",\"Belgium\",\"Iceland\",\"Japan\",\"Luxembourg\",\"Turkey\",\"United States of America\",\"Bulgaria\",\"Monaco\",\"Latvia\",\"Sweden\",\"Ireland\",\"Switzerland\",\"Belarus\",\"Greece\"],\"name\":\"\",\"type\":\"choropleth\",\"z\":[60635.4191406704,46484.2249088796,138637.287763167,170817.552396797,467406.41099046,27699.4614049738,49391.8956024179,5766.97401461705,14303.4745932911,241195.182873171,1859459.63110814,397655.363749159,36224.2008777946,61682.5960905652,56352.5530721308,365370.695658555,122832.305091186,4187802.39149633,16959.7805739569,510199.537255087,18910.3613835422,579506.686402148,289235.186168999,956233.107652013,63632.7619824292,430179.958454536,215.03232796014,2891.12550751473,16348.048682982,121444.204570843,2432.16201626737,1172647.30939245,12372.806055811,171011.162802133,5283437.59511593,57675.6371886381,103.599056843384,11818.6406113667,57493.4493373778,33716.1790147297,43601.0231205789,76380.0498572845,84296.3663014509]}],\"name\":\"1993\"},{\"data\":[{\"coloraxis\":\"coloraxis\",\"customdata\":[[419266.300739463],[15788.2662671884],[124816.904357336],[14642.6729766768],[50246.4480488306],[86442.1768338889],[4169946.81164452],[19734.0494457627],[16214.2221866827],[424581.72076242],[42675.8941129142],[201.109449948782],[65699.5656561103],[1641399.16026528],[6011.11322836987],[1227566.84007559],[5377032.70818647],[167433.1132747],[43878.7208525806],[61002.4393644111],[10296.752129648],[132376.136876739],[121961.461882256],[34838.1523119764],[62367.8855186097],[61973.5116749879],[575774.599576308],[939630.279254017],[253661.393598356],[2669.72235318447],[393368.863483863],[482436.578674902],[59953.8090383714],[56083.5266147436],[294014.960792545],[2373.29666538653],[11563.9282121999],[61716.2022160394],[171401.365047735],[104.410591895158],[360416.807932456],[38088.9915720635],[27880.329427551]],\"geo\":\"geo\",\"hovertemplate\":\"<b>%{hovertext}</b><br><br>Year=1994<br>Country or Area=%{location}<br>Value=%{z}<extra></extra>\",\"hovertext\":[\"Ukraine\",\"Lithuania\",\"Belgium\",\"Slovenia\",\"Portugal\",\"Greece\",\"European Union\",\"Estonia\",\"Croatia\",\"Italy\",\"Switzerland\",\"Liechtenstein\",\"Denmark\",\"Russian Federation\",\"Cyprus\",\"Japan\",\"United States of America\",\"Turkey\",\"Slovakia\",\"Austria\",\"Latvia\",\"Czechia\",\"Romania\",\"Ireland\",\"Belarus\",\"Hungary\",\"United Kingdom\",\"Germany\",\"Spain\",\"Malta\",\"France\",\"Canada\",\"Sweden\",\"Bulgaria\",\"Australia\",\"Iceland\",\"Luxembourg\",\"Finland\",\"Netherlands\",\"Monaco\",\"Poland\",\"Norway\",\"New Zealand\"],\"locationmode\":\"country names\",\"locations\":[\"Ukraine\",\"Lithuania\",\"Belgium\",\"Slovenia\",\"Portugal\",\"Greece\",\"European Union\",\"Estonia\",\"Croatia\",\"Italy\",\"Switzerland\",\"Liechtenstein\",\"Denmark\",\"Russian Federation\",\"Cyprus\",\"Japan\",\"United States of America\",\"Turkey\",\"Slovakia\",\"Austria\",\"Latvia\",\"Czechia\",\"Romania\",\"Ireland\",\"Belarus\",\"Hungary\",\"United Kingdom\",\"Germany\",\"Spain\",\"Malta\",\"France\",\"Canada\",\"Sweden\",\"Bulgaria\",\"Australia\",\"Iceland\",\"Luxembourg\",\"Finland\",\"Netherlands\",\"Monaco\",\"Poland\",\"Norway\",\"New Zealand\"],\"name\":\"\",\"type\":\"choropleth\",\"z\":[419266.300739463,15788.2662671884,124816.904357336,14642.6729766768,50246.4480488306,86442.1768338889,4169946.81164452,19734.0494457627,16214.2221866827,424581.72076242,42675.8941129142,201.109449948782,65699.5656561103,1641399.16026528,6011.11322836987,1227566.84007559,5377032.70818647,167433.1132747,43878.7208525806,61002.4393644111,10296.752129648,132376.136876739,121961.461882256,34838.1523119764,62367.8855186097,61973.5116749879,575774.599576308,939630.279254017,253661.393598356,2669.72235318447,393368.863483863,482436.578674902,59953.8090383714,56083.5266147436,294014.960792545,2373.29666538653,11563.9282121999,61716.2022160394,171401.365047735,104.410591895158,360416.807932456,38088.9915720635,27880.329427551]}],\"name\":\"1994\"},{\"data\":[{\"coloraxis\":\"coloraxis\",\"customdata\":[[1239928.15849454],[305410.166604956],[939176.703608385],[131608.25952709],[5438905.70357259],[64065.25981886],[9090.3076346425],[172966.168650756],[28001.8053423998],[101.196287565613],[9170.29950974537],[62655.7725719069],[57375.4507154768],[58145.4431090716],[4212988.59700069],[38707.5026816384],[54450.7657191168],[400239.115442511],[2476.69997815258],[1612928.31983429],[15084.4804331329],[2460.2689108789],[18048.8299926425],[127032.855585614],[567507.648076862],[35852.6671194269],[204.19997612085],[61690.7738764767],[448332.906183622],[86979.0976940621],[362761.266834645],[59366.2066097918],[389864.61480804],[57716.3659311274],[5882.26612282574],[267416.718324656],[125956.472619374],[43412.8303104671],[44322.4136601684],[494920.254788246],[16926.3357695294],[15254.2521104167],[180903.047419235]],\"geo\":\"geo\",\"hovertemplate\":\"<b>%{hovertext}</b><br><br>Year=1995<br>Country or Area=%{location}<br>Value=%{z}<extra></extra>\",\"hovertext\":[\"Japan\",\"Australia\",\"Germany\",\"Czechia\",\"United States of America\",\"Austria\",\"Latvia\",\"Netherlands\",\"New Zealand\",\"Monaco\",\"Luxembourg\",\"Denmark\",\"Belarus\",\"Finland\",\"European Union\",\"Norway\",\"Portugal\",\"France\",\"Iceland\",\"Russian Federation\",\"Lithuania\",\"Malta\",\"Estonia\",\"Romania\",\"United Kingdom\",\"Ireland\",\"Liechtenstein\",\"Hungary\",\"Italy\",\"Greece\",\"Poland\",\"Sweden\",\"Ukraine\",\"Bulgaria\",\"Cyprus\",\"Spain\",\"Belgium\",\"Switzerland\",\"Slovakia\",\"Canada\",\"Croatia\",\"Slovenia\",\"Turkey\"],\"locationmode\":\"country names\",\"locations\":[\"Japan\",\"Australia\",\"Germany\",\"Czechia\",\"United States of America\",\"Austria\",\"Latvia\",\"Netherlands\",\"New Zealand\",\"Monaco\",\"Luxembourg\",\"Denmark\",\"Belarus\",\"Finland\",\"European Union\",\"Norway\",\"Portugal\",\"France\",\"Iceland\",\"Russian Federation\",\"Lithuania\",\"Malta\",\"Estonia\",\"Romania\",\"United Kingdom\",\"Ireland\",\"Liechtenstein\",\"Hungary\",\"Italy\",\"Greece\",\"Poland\",\"Sweden\",\"Ukraine\",\"Bulgaria\",\"Cyprus\",\"Spain\",\"Belgium\",\"Switzerland\",\"Slovakia\",\"Canada\",\"Croatia\",\"Slovenia\",\"Turkey\"],\"name\":\"\",\"type\":\"choropleth\",\"z\":[1239928.15849454,305410.166604956,939176.703608385,131608.25952709,5438905.70357259,64065.25981886,9090.3076346425,172966.168650756,28001.8053423998,101.196287565613,9170.29950974537,62655.7725719069,57375.4507154768,58145.4431090716,4212988.59700069,38707.5026816384,54450.7657191168,400239.115442511,2476.69997815258,1612928.31983429,15084.4804331329,2460.2689108789,18048.8299926425,127032.855585614,567507.648076862,35852.6671194269,204.19997612085,61690.7738764767,448332.906183622,86979.0976940621,362761.266834645,59366.2066097918,389864.61480804,57716.3659311274,5882.26612282574,267416.718324656,125956.472619374,43412.8303104671,44322.4136601684,494920.254788246,16926.3357695294,15254.2521104167,180903.047419235]}],\"name\":\"1995\"},{\"data\":[{\"coloraxis\":\"coloraxis\",\"customdata\":[[4317840.9943919],[254795.329322826],[63302.7784000065],[205.958796841394],[75987.0122095032],[312361.585574263],[89132.0077404819],[64062.4092860885],[130095.925323886],[959124.130272961],[9170.26786427484],[58108.019719584],[18759.5249872163],[29295.0777261975],[510736.656417936],[58214.7994067877],[41830.308078359],[415941.019848892],[182148.288127849],[104.707975903776],[1251867.56918393],[5626911.90108624],[15757.6305015578],[351408.752806537],[129496.580209897],[44098.8196665512],[134962.545911559],[37469.1487566848],[17515.2663497201],[9219.90764062443],[51703.2201850128],[44186.1243917306],[6233.22977494178],[1580160.84390587],[442277.406090101],[2532.04240702608],[15916.6062270029],[2578.44638570939],[377407.835673029],[63257.5198319678],[199521.938861493],[67421.5890947817],[589137.824656407]],\"geo\":\"geo\",\"hovertemplate\":\"<b>%{hovertext}</b><br><br>Year=1996<br>Country or Area=%{location}<br>Value=%{z}<extra></extra>\",\"hovertext\":[\"European Union\",\"Spain\",\"Sweden\",\"Liechtenstein\",\"Denmark\",\"Australia\",\"Greece\",\"Finland\",\"Romania\",\"Germany\",\"Latvia\",\"Bulgaria\",\"Estonia\",\"New Zealand\",\"Canada\",\"Belarus\",\"Norway\",\"France\",\"Netherlands\",\"Monaco\",\"Japan\",\"United States of America\",\"Lithuania\",\"Ukraine\",\"Belgium\",\"Switzerland\",\"Czechia\",\"Ireland\",\"Croatia\",\"Luxembourg\",\"Portugal\",\"Slovakia\",\"Cyprus\",\"Russian Federation\",\"Italy\",\"Iceland\",\"Slovenia\",\"Malta\",\"Poland\",\"Hungary\",\"Turkey\",\"Austria\",\"United Kingdom\"],\"locationmode\":\"country names\",\"locations\":[\"European Union\",\"Spain\",\"Sweden\",\"Liechtenstein\",\"Denmark\",\"Australia\",\"Greece\",\"Finland\",\"Romania\",\"Germany\",\"Latvia\",\"Bulgaria\",\"Estonia\",\"New Zealand\",\"Canada\",\"Belarus\",\"Norway\",\"France\",\"Netherlands\",\"Monaco\",\"Japan\",\"United States of America\",\"Lithuania\",\"Ukraine\",\"Belgium\",\"Switzerland\",\"Czechia\",\"Ireland\",\"Croatia\",\"Luxembourg\",\"Portugal\",\"Slovakia\",\"Cyprus\",\"Russian Federation\",\"Italy\",\"Iceland\",\"Slovenia\",\"Malta\",\"Poland\",\"Hungary\",\"Turkey\",\"Austria\",\"United Kingdom\"],\"name\":\"\",\"type\":\"choropleth\",\"z\":[4317840.9943919,254795.329322826,63302.7784000065,205.958796841394,75987.0122095032,312361.585574263,89132.0077404819,64062.4092860885,130095.925323886,959124.130272961,9170.26786427484,58108.019719584,18759.5249872163,29295.0777261975,510736.656417936,58214.7994067877,41830.308078359,415941.019848892,182148.288127849,104.707975903776,1251867.56918393,5626911.90108624,15757.6305015578,351408.752806537,129496.580209897,44098.8196665512,134962.545911559,37469.1487566848,17515.2663497201,9219.90764062443,51703.2201850128,44186.1243917306,6233.22977494178,1580160.84390587,442277.406090101,2532.04240702608,15916.6062270029,2578.44638570939,377407.835673029,63257.5198319678,199521.938861493,67421.5890947817,589137.824656407]}],\"name\":\"1996\"},{\"data\":[{\"coloraxis\":\"coloraxis\",\"customdata\":[[1245112.03393073],[18575.8786814894],[563241.836123903],[62722.9924220393],[367385.323158231],[41969.9754613374],[340242.686212178],[93820.9323821188],[267306.439161992],[15182.2078409743],[124001.76432726],[38805.2391127187],[8573.10645266367],[43037.2666609755],[448044.941141219],[2627.51359856503],[2586.18766734247],[55861.2693878692],[61813.1391979355],[5703706.96803283],[320795.086167167],[103.193469033821],[58212.5521332682],[218.371012550569],[175019.626330112],[931230.07006033],[524789.166836941],[31289.3378910193],[408989.958998911],[4227943.48286304],[18317.2753937448],[121074.67434503],[67232.7787574344],[212005.568093463],[16244.9214511387],[8645.95219191048],[54597.5878919909],[1475157.17201866],[6321.03013472391],[44313.6803359096],[66603.0750402039],[58720.5917777519],[130733.0672073]],\"geo\":\"geo\",\"hovertemplate\":\"<b>%{hovertext}</b><br><br>Year=1997<br>Country or Area=%{location}<br>Value=%{z}<extra></extra>\",\"hovertext\":[\"Japan\",\"Croatia\",\"United Kingdom\",\"Finland\",\"Poland\",\"Norway\",\"Ukraine\",\"Greece\",\"Spain\",\"Lithuania\",\"Belgium\",\"Ireland\",\"Luxembourg\",\"Switzerland\",\"Italy\",\"Iceland\",\"Malta\",\"Bulgaria\",\"Hungary\",\"United States of America\",\"Australia\",\"Monaco\",\"Sweden\",\"Liechtenstein\",\"Netherlands\",\"Germany\",\"Canada\",\"New Zealand\",\"France\",\"European Union\",\"Estonia\",\"Romania\",\"Austria\",\"Turkey\",\"Slovenia\",\"Latvia\",\"Portugal\",\"Russian Federation\",\"Cyprus\",\"Slovakia\",\"Denmark\",\"Belarus\",\"Czechia\"],\"locationmode\":\"country names\",\"locations\":[\"Japan\",\"Croatia\",\"United Kingdom\",\"Finland\",\"Poland\",\"Norway\",\"Ukraine\",\"Greece\",\"Spain\",\"Lithuania\",\"Belgium\",\"Ireland\",\"Luxembourg\",\"Switzerland\",\"Italy\",\"Iceland\",\"Malta\",\"Bulgaria\",\"Hungary\",\"United States of America\",\"Australia\",\"Monaco\",\"Sweden\",\"Liechtenstein\",\"Netherlands\",\"Germany\",\"Canada\",\"New Zealand\",\"France\",\"European Union\",\"Estonia\",\"Romania\",\"Austria\",\"Turkey\",\"Slovenia\",\"Latvia\",\"Portugal\",\"Russian Federation\",\"Cyprus\",\"Slovakia\",\"Denmark\",\"Belarus\",\"Czechia\"],\"name\":\"\",\"type\":\"choropleth\",\"z\":[1245112.03393073,18575.8786814894,563241.836123903,62722.9924220393,367385.323158231,41969.9754613374,340242.686212178,93820.9323821188,267306.439161992,15182.2078409743,124001.76432726,38805.2391127187,8573.10645266367,43037.2666609755,448044.941141219,2627.51359856503,2586.18766734247,55861.2693878692,61813.1391979355,5703706.96803283,320795.086167167,103.193469033821,58212.5521332682,218.371012550569,175019.626330112,931230.07006033,524789.166836941,31289.3378910193,408989.958998911,4227943.48286304,18317.2753937448,121074.67434503,67232.7787574344,212005.568093463,16244.9214511387,8645.95219191048,54597.5878919909,1475157.17201866,6321.03013472391,44313.6803359096,66603.0750402039,58720.5917777519,130733.0672073]}],\"name\":\"1997\"},{\"data\":[{\"coloraxis\":\"coloraxis\",\"customdata\":[[107561.544307475],[29882.7802676386],[58696.6659510502],[328578.93752301],[533639.792821814],[8280.68815337427],[176136.866137469],[276021.58237108],[66875.1468247755],[98641.499372073],[57372.4677788785],[923275.908728203],[212040.281738168],[102.068595333327],[62395.8923553863],[16039.6999792489],[125317.669241827],[40708.8498524021],[7695.0730252987],[44073.1449668058],[44614.821367456],[460049.199121092],[6614.64910415714],[1458157.13465934],[130227.109709565],[2545.13408682323],[5751051.97995198],[334684.517907243],[53275.2170483312],[61415.0010858142],[428344.355226331],[2647.85612699632],[42220.2291470528],[229.232619043615],[1205416.31928698],[59373.2560931243],[19278.9034772627],[16817.2473364229],[568512.201977305],[339132.886483521],[4224534.8662296],[15961.1282703806],[59138.4343823723]],\"geo\":\"geo\",\"hovertemplate\":\"<b>%{hovertext}</b><br><br>Year=1998<br>Country or Area=%{location}<br>Value=%{z}<extra></extra>\",\"hovertext\":[\"Romania\",\"New Zealand\",\"Sweden\",\"Ukraine\",\"Canada\",\"Latvia\",\"Netherlands\",\"Spain\",\"Austria\",\"Greece\",\"Belarus\",\"Germany\",\"Turkey\",\"Monaco\",\"Denmark\",\"Lithuania\",\"Czechia\",\"Ireland\",\"Luxembourg\",\"Slovakia\",\"Switzerland\",\"Italy\",\"Cyprus\",\"Russian Federation\",\"Belgium\",\"Malta\",\"United States of America\",\"Australia\",\"Bulgaria\",\"Hungary\",\"France\",\"Iceland\",\"Norway\",\"Liechtenstein\",\"Japan\",\"Finland\",\"Croatia\",\"Estonia\",\"United Kingdom\",\"Poland\",\"European Union\",\"Slovenia\",\"Portugal\"],\"locationmode\":\"country names\",\"locations\":[\"Romania\",\"New Zealand\",\"Sweden\",\"Ukraine\",\"Canada\",\"Latvia\",\"Netherlands\",\"Spain\",\"Austria\",\"Greece\",\"Belarus\",\"Germany\",\"Turkey\",\"Monaco\",\"Denmark\",\"Lithuania\",\"Czechia\",\"Ireland\",\"Luxembourg\",\"Slovakia\",\"Switzerland\",\"Italy\",\"Cyprus\",\"Russian Federation\",\"Belgium\",\"Malta\",\"United States of America\",\"Australia\",\"Bulgaria\",\"Hungary\",\"France\",\"Iceland\",\"Norway\",\"Liechtenstein\",\"Japan\",\"Finland\",\"Croatia\",\"Estonia\",\"United Kingdom\",\"Poland\",\"European Union\",\"Slovenia\",\"Portugal\"],\"name\":\"\",\"type\":\"choropleth\",\"z\":[107561.544307475,29882.7802676386,58696.6659510502,328578.93752301,533639.792821814,8280.68815337427,176136.866137469,276021.58237108,66875.1468247755,98641.499372073,57372.4677788785,923275.908728203,212040.281738168,102.068595333327,62395.8923553863,16039.6999792489,125317.669241827,40708.8498524021,7695.0730252987,44073.1449668058,44614.821367456,460049.199121092,6614.64910415714,1458157.13465934,130227.109709565,2545.13408682323,5751051.97995198,334684.517907243,53275.2170483312,61415.0010858142,428344.355226331,2647.85612699632,42220.2291470528,229.232619043615,1205416.31928698,59373.2560931243,19278.9034772627,16817.2473364229,568512.201977305,339132.886483521,4224534.8662296,15961.1282703806,59138.4343823723]}],\"name\":\"1998\"},{\"data\":[{\"coloraxis\":\"coloraxis\",\"customdata\":[[7695.96860030688],[102.771498101701],[59842.6191053397],[54984.4971599379],[1242015.30712131],[55820.1569175791],[97958.3784914008],[65562.7217746465],[170727.34959651],[15337.2394964804],[226.560381588969],[549553.212013035],[58894.769950879],[329167.331918592],[6882.46970730666],[46369.9838000907],[20115.455439737],[13476.9603730767],[207804.162731911],[116623.428290961],[42440.0759845439],[8147.98398291498],[43200.6080717694],[4158896.76715251],[44445.8409485479],[464548.481049407],[66763.1930486435],[2853.95492474529],[124718.898266857],[2627.59417415594],[1486090.03432773],[344063.765859686],[61911.6021323732],[895642.93095689],[5830297.63604476],[561651.093852178],[299498.671563048],[298203.960313902],[42974.0245253799],[90778.1784473023],[31472.2734918801],[15653.3480978407],[424600.505776661]],\"geo\":\"geo\",\"hovertemplate\":\"<b>%{hovertext}</b><br><br>Year=1999<br>Country or Area=%{location}<br>Value=%{z}<extra></extra>\",\"hovertext\":[\"Latvia\",\"Monaco\",\"Denmark\",\"Belarus\",\"Japan\",\"Sweden\",\"Greece\",\"Austria\",\"Netherlands\",\"Slovenia\",\"Liechtenstein\",\"Canada\",\"Finland\",\"Poland\",\"Cyprus\",\"Bulgaria\",\"Croatia\",\"Lithuania\",\"Turkey\",\"Czechia\",\"Ireland\",\"Luxembourg\",\"Slovakia\",\"European Union\",\"Switzerland\",\"Italy\",\"Portugal\",\"Iceland\",\"Belgium\",\"Malta\",\"Russian Federation\",\"Australia\",\"Hungary\",\"Germany\",\"United States of America\",\"United Kingdom\",\"Spain\",\"Ukraine\",\"Norway\",\"Romania\",\"New Zealand\",\"Estonia\",\"France\"],\"locationmode\":\"country names\",\"locations\":[\"Latvia\",\"Monaco\",\"Denmark\",\"Belarus\",\"Japan\",\"Sweden\",\"Greece\",\"Austria\",\"Netherlands\",\"Slovenia\",\"Liechtenstein\",\"Canada\",\"Finland\",\"Poland\",\"Cyprus\",\"Bulgaria\",\"Croatia\",\"Lithuania\",\"Turkey\",\"Czechia\",\"Ireland\",\"Luxembourg\",\"Slovakia\",\"European Union\",\"Switzerland\",\"Italy\",\"Portugal\",\"Iceland\",\"Belgium\",\"Malta\",\"Russian Federation\",\"Australia\",\"Hungary\",\"Germany\",\"United States of America\",\"United Kingdom\",\"Spain\",\"Ukraine\",\"Norway\",\"Romania\",\"New Zealand\",\"Estonia\",\"France\"],\"name\":\"\",\"type\":\"choropleth\",\"z\":[7695.96860030688,102.771498101701,59842.6191053397,54984.4971599379,1242015.30712131,55820.1569175791,97958.3784914008,65562.7217746465,170727.34959651,15337.2394964804,226.560381588969,549553.212013035,58894.769950879,329167.331918592,6882.46970730666,46369.9838000907,20115.455439737,13476.9603730767,207804.162731911,116623.428290961,42440.0759845439,8147.98398291498,43200.6080717694,4158896.76715251,44445.8409485479,464548.481049407,66763.1930486435,2853.95492474529,124718.898266857,2627.59417415594,1486090.03432773,344063.765859686,61911.6021323732,895642.93095689,5830297.63604476,561651.093852178,299498.671563048,298203.960313902,42974.0245253799,90778.1784473023,31472.2734918801,15653.3480978407,424600.505776661]}],\"name\":\"1999\"},{\"data\":[{\"coloraxis\":\"coloraxis\",\"customdata\":[[127066.453950034],[41289.1304339426],[350195.023826897],[15444.8987925728],[7145.88033313555],[42518.5514490745],[43617.5914255673],[285337.201300114],[899780.198208709],[55609.6855353788],[65526.5882790747],[4177734.74063454],[100.305373333011],[66162.8879058016],[7064.71592682912],[126735.296267877],[58608.2748691238],[311267.046543212],[2545.52171918158],[19694.4482097339],[419232.282969929],[45305.031895079],[1471052.23087571],[2946.46686361023],[15244.1880749353],[317338.034159054],[102999.025886454],[572162.102863972],[54877.3582978],[5998070.43377472],[216.854032789675],[229790.601259649],[11873.9186455427],[32281.3522511698],[1264844.26063492],[171887.440050803],[45248.9951753897],[57038.2471515761],[95455.7605459872],[8731.56638378884],[568220.055467351],[468442.086348554],[54684.4283163901]],\"geo\":\"geo\",\"hovertemplate\":\"<b>%{hovertext}</b><br><br>Year=2000<br>Country or Area=%{location}<br>Value=%{z}<extra></extra>\",\"hovertext\":[\"Czechia\",\"Slovakia\",\"Australia\",\"Slovenia\",\"Cyprus\",\"Norway\",\"Switzerland\",\"Ukraine\",\"Germany\",\"Denmark\",\"Portugal\",\"European Union\",\"Monaco\",\"Austria\",\"Latvia\",\"Belgium\",\"Hungary\",\"Spain\",\"Malta\",\"Croatia\",\"France\",\"Bulgaria\",\"Russian Federation\",\"Iceland\",\"Estonia\",\"Poland\",\"Greece\",\"Canada\",\"Belarus\",\"United States of America\",\"Liechtenstein\",\"Turkey\",\"Lithuania\",\"New Zealand\",\"Japan\",\"Netherlands\",\"Ireland\",\"Finland\",\"Romania\",\"Luxembourg\",\"United Kingdom\",\"Italy\",\"Sweden\"],\"locationmode\":\"country names\",\"locations\":[\"Czechia\",\"Slovakia\",\"Australia\",\"Slovenia\",\"Cyprus\",\"Norway\",\"Switzerland\",\"Ukraine\",\"Germany\",\"Denmark\",\"Portugal\",\"European Union\",\"Monaco\",\"Austria\",\"Latvia\",\"Belgium\",\"Hungary\",\"Spain\",\"Malta\",\"Croatia\",\"France\",\"Bulgaria\",\"Russian Federation\",\"Iceland\",\"Estonia\",\"Poland\",\"Greece\",\"Canada\",\"Belarus\",\"United States of America\",\"Liechtenstein\",\"Turkey\",\"Lithuania\",\"New Zealand\",\"Japan\",\"Netherlands\",\"Ireland\",\"Finland\",\"Romania\",\"Luxembourg\",\"United Kingdom\",\"Italy\",\"Sweden\"],\"name\":\"\",\"type\":\"choropleth\",\"z\":[127066.453950034,41289.1304339426,350195.023826897,15444.8987925728,7145.88033313555,42518.5514490745,43617.5914255673,285337.201300114,899780.198208709,55609.6855353788,65526.5882790747,4177734.74063454,100.305373333011,66162.8879058016,7064.71592682912,126735.296267877,58608.2748691238,311267.046543212,2545.52171918158,19694.4482097339,419232.282969929,45305.031895079,1471052.23087571,2946.46686361023,15244.1880749353,317338.034159054,102999.025886454,572162.102863972,54877.3582978,5998070.43377472,216.854032789675,229790.601259649,11873.9186455427,32281.3522511698,1264844.26063492,171887.440050803,45248.9951753897,57038.2471515761,95455.7605459872,8731.56638378884,568220.055467351,468442.086348554,54684.4283163901]}],\"name\":\"2000\"},{\"data\":[{\"coloraxis\":\"coloraxis\",\"customdata\":[[126084.684409971],[313119.841102688],[9226.36684569111],[576926.994554245],[424005.850536512],[5900436.59624085],[12621.3656534034],[54967.8713049379],[45082.4459882986],[468642.862531697],[43378.2953275639],[4243023.9420195],[357669.182881018],[2875.24223493072],[126957.555363238],[213486.093927579],[43866.4144836801],[15576.7339780734],[65149.3048901802],[47607.4165209804],[1250211.04624365],[2665.17144778351],[57322.6787148713],[49014.1362462771],[70102.5999732436],[7021.41200950456],[313647.662006214],[100357.071280565],[16378.3388964937],[176798.513076368],[20806.7359711193],[55617.0558462997],[34457.4419655282],[303559.229465307],[214.664580488927],[100.010594528044],[564946.398072384],[916366.135188787],[1507500.88045298],[7474.38995771827],[60238.800926392],[62536.2059866187],[105385.700419808]],\"geo\":\"geo\",\"hovertemplate\":\"<b>%{hovertext}</b><br><br>Year=2001<br>Country or Area=%{location}<br>Value=%{z}<extra></extra>\",\"hovertext\":[\"Belgium\",\"Spain\",\"Luxembourg\",\"United Kingdom\",\"France\",\"United States of America\",\"Lithuania\",\"Belarus\",\"Switzerland\",\"Italy\",\"Slovakia\",\"European Union\",\"Australia\",\"Iceland\",\"Czechia\",\"Turkey\",\"Norway\",\"Estonia\",\"Portugal\",\"Ireland\",\"Japan\",\"Malta\",\"Denmark\",\"Bulgaria\",\"Austria\",\"Cyprus\",\"Poland\",\"Romania\",\"Slovenia\",\"Netherlands\",\"Croatia\",\"Sweden\",\"New Zealand\",\"Ukraine\",\"Liechtenstein\",\"Monaco\",\"Canada\",\"Germany\",\"Russian Federation\",\"Latvia\",\"Hungary\",\"Finland\",\"Greece\"],\"locationmode\":\"country names\",\"locations\":[\"Belgium\",\"Spain\",\"Luxembourg\",\"United Kingdom\",\"France\",\"United States of America\",\"Lithuania\",\"Belarus\",\"Switzerland\",\"Italy\",\"Slovakia\",\"European Union\",\"Australia\",\"Iceland\",\"Czechia\",\"Turkey\",\"Norway\",\"Estonia\",\"Portugal\",\"Ireland\",\"Japan\",\"Malta\",\"Denmark\",\"Bulgaria\",\"Austria\",\"Cyprus\",\"Poland\",\"Romania\",\"Slovenia\",\"Netherlands\",\"Croatia\",\"Sweden\",\"New Zealand\",\"Ukraine\",\"Liechtenstein\",\"Monaco\",\"Canada\",\"Germany\",\"Russian Federation\",\"Latvia\",\"Hungary\",\"Finland\",\"Greece\"],\"name\":\"\",\"type\":\"choropleth\",\"z\":[126084.684409971,313119.841102688,9226.36684569111,576926.994554245,424005.850536512,5900436.59624085,12621.3656534034,54967.8713049379,45082.4459882986,468642.862531697,43378.2953275639,4243023.9420195,357669.182881018,2875.24223493072,126957.555363238,213486.093927579,43866.4144836801,15576.7339780734,65149.3048901802,47607.4165209804,1250211.04624365,2665.17144778351,57322.6787148713,49014.1362462771,70102.5999732436,7021.41200950456,313647.662006214,100357.071280565,16378.3388964937,176798.513076368,20806.7359711193,55617.0558462997,34457.4419655282,303559.229465307,214.664580488927,100.010594528044,564946.398072384,916366.135188787,1507500.88045298,7474.38995771827,60238.800926392,62536.2059866187,105385.700419808]}],\"name\":\"2001\"},{\"data\":[{\"coloraxis\":\"coloraxis\",\"customdata\":[[42112.4050537535],[56572.5197216035],[65059.791570341],[10003.0487452456],[570844.777611729],[55077.6972533529],[176113.046481303],[46081.9841328883],[476251.235956733],[123895.622125869],[34638.1013895817],[7502.60817133935],[333379.515503135],[5942652.33460665],[4228876.17516888],[7210.77866207421],[306403.332889554],[220977.701101122],[220.012063927523],[15090.487218908],[16525.2705401741],[1495483.57832283],[2707.48091404929],[59197.0046477252],[419347.504788213],[56895.5388693198],[561047.845137749],[3000.52232232672],[126878.582126558],[105020.956638142],[99.7398656493156],[101735.332431986],[46258.5728538918],[295673.490491261],[42985.6641244404],[12690.0057602331],[69556.0826965554],[899821.052898805],[43467.596162515],[21912.7368743211],[71918.7621509873],[1279452.9647103],[362209.546033934]],\"geo\":\"geo\",\"hovertemplate\":\"<b>%{hovertext}</b><br><br>Year=2002<br>Country or Area=%{location}<br>Value=%{z}<extra></extra>\",\"hovertext\":[\"Slovakia\",\"Sweden\",\"Finland\",\"Luxembourg\",\"Canada\",\"Belarus\",\"Netherlands\",\"Ireland\",\"Italy\",\"Czechia\",\"New Zealand\",\"Latvia\",\"Spain\",\"United States of America\",\"European Union\",\"Cyprus\",\"Poland\",\"Turkey\",\"Liechtenstein\",\"Estonia\",\"Slovenia\",\"Russian Federation\",\"Malta\",\"Hungary\",\"France\",\"Denmark\",\"United Kingdom\",\"Iceland\",\"Belgium\",\"Greece\",\"Monaco\",\"Romania\",\"Bulgaria\",\"Ukraine\",\"Norway\",\"Lithuania\",\"Portugal\",\"Germany\",\"Switzerland\",\"Croatia\",\"Austria\",\"Japan\",\"Australia\"],\"locationmode\":\"country names\",\"locations\":[\"Slovakia\",\"Sweden\",\"Finland\",\"Luxembourg\",\"Canada\",\"Belarus\",\"Netherlands\",\"Ireland\",\"Italy\",\"Czechia\",\"New Zealand\",\"Latvia\",\"Spain\",\"United States of America\",\"European Union\",\"Cyprus\",\"Poland\",\"Turkey\",\"Liechtenstein\",\"Estonia\",\"Slovenia\",\"Russian Federation\",\"Malta\",\"Hungary\",\"France\",\"Denmark\",\"United Kingdom\",\"Iceland\",\"Belgium\",\"Greece\",\"Monaco\",\"Romania\",\"Bulgaria\",\"Ukraine\",\"Norway\",\"Lithuania\",\"Portugal\",\"Germany\",\"Switzerland\",\"Croatia\",\"Austria\",\"Japan\",\"Australia\"],\"name\":\"\",\"type\":\"choropleth\",\"z\":[42112.4050537535,56572.5197216035,65059.791570341,10003.0487452456,570844.777611729,55077.6972533529,176113.046481303,46081.9841328883,476251.235956733,123895.622125869,34638.1013895817,7502.60817133935,333379.515503135,5942652.33460665,4228876.17516888,7210.77866207421,306403.332889554,220977.701101122,220.012063927523,15090.487218908,16525.2705401741,1495483.57832283,2707.48091404929,59197.0046477252,419347.504788213,56895.5388693198,561047.845137749,3000.52232232672,126878.582126558,105020.956638142,99.7398656493156,101735.332431986,46258.5728538918,295673.490491261,42985.6641244404,12690.0057602331,69556.0826965554,899821.052898805,43467.596162515,21912.7368743211,71918.7621509873,1279452.9647103,362209.546033934]}],\"name\":\"2002\"},{\"data\":[{\"coloraxis\":\"coloraxis\",\"customdata\":[[128275.264734252],[494183.286884902],[236483.892910668],[229.346078636479],[1287642.18171146],[42438.0837476412],[12679.8670936187],[36351.9040365648],[426145.699954993],[44305.6803192546],[337588.926976581],[23268.2098760778],[72657.82079628],[319406.051155379],[572532.251080021],[4324440.21597734],[64419.3147445385],[77554.2519648355],[7722.59047462213],[16937.2313518201],[105295.172237085],[16289.0297264259],[7605.5506262951],[62055.93279593],[1525389.95129702],[127382.803367257],[900866.405408944],[57160.5666051887],[587178.148867368],[2979.28095586039],[179564.998097276],[56484.9540140683],[50509.6689174236],[44651.9069911309],[61981.4713723319],[369726.018066042],[97.0507077511893],[2994.55250332333],[307017.471704689],[10476.0186989438],[109089.753810943],[5991959.63332312],[45683.9694440575]],\"geo\":\"geo\",\"hovertemplate\":\"<b>%{hovertext}</b><br><br>Year=2003<br>Country or Area=%{location}<br>Value=%{z}<extra></extra>\",\"hovertext\":[\"Belgium\",\"Italy\",\"Turkey\",\"Liechtenstein\",\"Japan\",\"Slovakia\",\"Lithuania\",\"New Zealand\",\"France\",\"Norway\",\"Spain\",\"Croatia\",\"Finland\",\"Poland\",\"United Kingdom\",\"European Union\",\"Portugal\",\"Austria\",\"Latvia\",\"Estonia\",\"Romania\",\"Slovenia\",\"Cyprus\",\"Denmark\",\"Russian Federation\",\"Czechia\",\"Germany\",\"Sweden\",\"Canada\",\"Malta\",\"Netherlands\",\"Belarus\",\"Bulgaria\",\"Switzerland\",\"Hungary\",\"Australia\",\"Monaco\",\"Iceland\",\"Ukraine\",\"Luxembourg\",\"Greece\",\"United States of America\",\"Ireland\"],\"locationmode\":\"country names\",\"locations\":[\"Belgium\",\"Italy\",\"Turkey\",\"Liechtenstein\",\"Japan\",\"Slovakia\",\"Lithuania\",\"New Zealand\",\"France\",\"Norway\",\"Spain\",\"Croatia\",\"Finland\",\"Poland\",\"United Kingdom\",\"European Union\",\"Portugal\",\"Austria\",\"Latvia\",\"Estonia\",\"Romania\",\"Slovenia\",\"Cyprus\",\"Denmark\",\"Russian Federation\",\"Czechia\",\"Germany\",\"Sweden\",\"Canada\",\"Malta\",\"Netherlands\",\"Belarus\",\"Bulgaria\",\"Switzerland\",\"Hungary\",\"Australia\",\"Monaco\",\"Iceland\",\"Ukraine\",\"Luxembourg\",\"Greece\",\"United States of America\",\"Ireland\"],\"name\":\"\",\"type\":\"choropleth\",\"z\":[128275.264734252,494183.286884902,236483.892910668,229.346078636479,1287642.18171146,42438.0837476412,12679.8670936187,36351.9040365648,426145.699954993,44305.6803192546,337588.926976581,23268.2098760778,72657.82079628,319406.051155379,572532.251080021,4324440.21597734,64419.3147445385,77554.2519648355,7722.59047462213,16937.2313518201,105295.172237085,16289.0297264259,7605.5506262951,62055.93279593,1525389.95129702,127382.803367257,900866.405408944,57160.5666051887,587178.148867368,2979.28095586039,179564.998097276,56484.9540140683,50509.6689174236,44651.9069911309,61981.4713723319,369726.018066042,97.0507077511893,2994.55250332333,307017.471704689,10476.0186989438,109089.753810943,5991959.63332312,45683.9694440575]}],\"name\":\"2003\"},{\"data\":[{\"coloraxis\":\"coloraxis\",\"customdata\":[[45236.3994268724],[104269.756728272],[11844.3064615053],[1530473.62452885],[16651.0302807818],[6107618.2463268],[181381.76585373],[67255.3254038397],[573994.49080935],[324146.20983936],[91.8793252541643],[354485.57724037],[310362.748297374],[44622.5799282537],[244464.112462258],[13272.3428701303],[35940.1111401226],[42924.7490709343],[56475.9190057769],[2846.41052992359],[229.380487768075],[7727.75569807799],[17201.0127796417],[77674.3906380596],[22916.8279594735],[886965.973669802],[7840.93899649826],[427117.576492321],[585703.097963365],[109546.749153552],[128113.811132993],[68960.7548572691],[383205.122284339],[46166.92555071],[49570.7306344279],[60076.4685262107],[499619.392973289],[60489.9170971114],[3116.88701942054],[128805.292345769],[56499.8132024679],[4336433.66053044],[1282872.08285675]],\"geo\":\"geo\",\"hovertemplate\":\"<b>%{hovertext}</b><br><br>Year=2004<br>Country or Area=%{location}<br>Value=%{z}<extra></extra>\",\"hovertext\":[\"Switzerland\",\"Romania\",\"Luxembourg\",\"Russian Federation\",\"Slovenia\",\"United States of America\",\"Netherlands\",\"Portugal\",\"United Kingdom\",\"Poland\",\"Monaco\",\"Spain\",\"Ukraine\",\"Norway\",\"Turkey\",\"Lithuania\",\"New Zealand\",\"Slovakia\",\"Sweden\",\"Malta\",\"Liechtenstein\",\"Latvia\",\"Estonia\",\"Austria\",\"Croatia\",\"Germany\",\"Cyprus\",\"France\",\"Canada\",\"Greece\",\"Czechia\",\"Finland\",\"Australia\",\"Ireland\",\"Bulgaria\",\"Belarus\",\"Italy\",\"Hungary\",\"Iceland\",\"Belgium\",\"Denmark\",\"European Union\",\"Japan\"],\"locationmode\":\"country names\",\"locations\":[\"Switzerland\",\"Romania\",\"Luxembourg\",\"Russian Federation\",\"Slovenia\",\"United States of America\",\"Netherlands\",\"Portugal\",\"United Kingdom\",\"Poland\",\"Monaco\",\"Spain\",\"Ukraine\",\"Norway\",\"Turkey\",\"Lithuania\",\"New Zealand\",\"Slovakia\",\"Sweden\",\"Malta\",\"Liechtenstein\",\"Latvia\",\"Estonia\",\"Austria\",\"Croatia\",\"Germany\",\"Cyprus\",\"France\",\"Canada\",\"Greece\",\"Czechia\",\"Finland\",\"Australia\",\"Ireland\",\"Bulgaria\",\"Belarus\",\"Italy\",\"Hungary\",\"Iceland\",\"Belgium\",\"Denmark\",\"European Union\",\"Japan\"],\"name\":\"\",\"type\":\"choropleth\",\"z\":[45236.3994268724,104269.756728272,11844.3064615053,1530473.62452885,16651.0302807818,6107618.2463268,181381.76585373,67255.3254038397,573994.49080935,324146.20983936,91.8793252541643,354485.57724037,310362.748297374,44622.5799282537,244464.112462258,13272.3428701303,35940.1111401226,42924.7490709343,56475.9190057769,2846.41052992359,229.380487768075,7727.75569807799,17201.0127796417,77674.3906380596,22916.8279594735,886965.973669802,7840.93899649826,427117.576492321,585703.097963365,109546.749153552,128113.811132993,68960.7548572691,383205.122284339,46166.92555071,49570.7306344279,60076.4685262107,499619.392973289,60489.9170971114,3116.88701942054,128805.292345769,56499.8132024679,4336433.66053044,1282872.08285675]}],\"name\":\"2004\"},{\"data\":[{\"coloraxis\":\"coloraxis\",\"customdata\":[[125661.687650787],[264200.797153874],[48155.535141546],[12105.4480609916],[369492.124730855],[23330.0985764962],[113930.966895994],[14091.0759457025],[500005.676339257],[2654.25577102174],[2985.96875812217],[53852.8566780823],[576434.463847342],[50656.426636575],[61367.0987934247],[37571.039140135],[7806.67626497519],[45788.2349636509],[60606.5273317791],[90.3112283324114],[177459.005110619],[313118.087899896],[8031.30067352799],[52932.0006859352],[6131892.97635233],[1547375.78114651],[866388.548679081],[386513.45429618],[228.96964276856],[1290056.276701],[16921.6202521054],[102694.473334226],[57042.8982041203],[43923.1568517922],[430528.27758708],[323161.266880344],[125671.941770852],[69483.98230618],[4313650.0929451],[16948.1214005397],[570724.265175529],[42910.8509025192],[79192.4319215329]],\"geo\":\"geo\",\"hovertemplate\":\"<b>%{hovertext}</b><br><br>Year=2005<br>Country or Area=%{location}<br>Value=%{z}<extra></extra>\",\"hovertext\":[\"Belgium\",\"Turkey\",\"Ireland\",\"Luxembourg\",\"Spain\",\"Croatia\",\"Greece\",\"Lithuania\",\"Italy\",\"Malta\",\"Iceland\",\"Sweden\",\"Canada\",\"Bulgaria\",\"Belarus\",\"New Zealand\",\"Latvia\",\"Switzerland\",\"Hungary\",\"Monaco\",\"Netherlands\",\"Ukraine\",\"Cyprus\",\"Denmark\",\"United States of America\",\"Russian Federation\",\"Germany\",\"Australia\",\"Liechtenstein\",\"Japan\",\"Estonia\",\"Romania\",\"Finland\",\"Norway\",\"France\",\"Poland\",\"Czechia\",\"Portugal\",\"European Union\",\"Slovenia\",\"United Kingdom\",\"Slovakia\",\"Austria\"],\"locationmode\":\"country names\",\"locations\":[\"Belgium\",\"Turkey\",\"Ireland\",\"Luxembourg\",\"Spain\",\"Croatia\",\"Greece\",\"Lithuania\",\"Italy\",\"Malta\",\"Iceland\",\"Sweden\",\"Canada\",\"Bulgaria\",\"Belarus\",\"New Zealand\",\"Latvia\",\"Switzerland\",\"Hungary\",\"Monaco\",\"Netherlands\",\"Ukraine\",\"Cyprus\",\"Denmark\",\"United States of America\",\"Russian Federation\",\"Germany\",\"Australia\",\"Liechtenstein\",\"Japan\",\"Estonia\",\"Romania\",\"Finland\",\"Norway\",\"France\",\"Poland\",\"Czechia\",\"Portugal\",\"European Union\",\"Slovenia\",\"United Kingdom\",\"Slovakia\",\"Austria\"],\"name\":\"\",\"type\":\"choropleth\",\"z\":[125661.687650787,264200.797153874,48155.535141546,12105.4480609916,369492.124730855,23330.0985764962,113930.966895994,14091.0759457025,500005.676339257,2654.25577102174,2985.96875812217,53852.8566780823,576434.463847342,50656.426636575,61367.0987934247,37571.039140135,7806.67626497519,45788.2349636509,60606.5273317791,90.3112283324114,177459.005110619,313118.087899896,8031.30067352799,52932.0006859352,6131892.97635233,1547375.78114651,866388.548679081,386513.45429618,228.96964276856,1290056.276701,16921.6202521054,102694.473334226,57042.8982041203,43923.1568517922,430528.27758708,323161.266880344,125671.941770852,69483.98230618,4313650.0929451,16948.1214005397,570724.265175529,42910.8509025192,79192.4319215329]}],\"name\":\"2005\"},{\"data\":[{\"coloraxis\":\"coloraxis\",\"customdata\":[[68384.4227742571],[4319665.13862076],[281649.184924484],[105082.793031832],[16208.805417015],[3164.40279141499],[2665.94446943937],[64767.6548374252],[45373.6830770009],[51895.2191096203],[877997.390977238],[337037.511518509],[37466.3290203584],[8223.17449176942],[17142.5257529594],[360578.604188534],[126449.454548873],[112472.437506665],[44484.7805500628],[84.0080085970913],[172686.523341534],[53674.2651981627],[419737.020157107],[42687.2904164088],[570950.380878791],[60858.6853489123],[59915.3810922813],[1606313.35529807],[23529.4537376032],[123905.757273144],[8305.734197949],[11936.2842632925],[1266828.60601604],[76898.3285249658],[231.098671603226],[392680.646328911],[495124.198432933],[568390.054550416],[14408.0108486811],[47603.9378150257],[332670.337203369],[6051051.02176828],[64157.1581431005]],\"geo\":\"geo\",\"hovertemplate\":\"<b>%{hovertext}</b><br><br>Year=2006<br>Country or Area=%{location}<br>Value=%{z}<extra></extra>\",\"hovertext\":[\"Finland\",\"European Union\",\"Turkey\",\"Romania\",\"Estonia\",\"Iceland\",\"Malta\",\"Portugal\",\"Switzerland\",\"Bulgaria\",\"Germany\",\"Poland\",\"New Zealand\",\"Cyprus\",\"Slovenia\",\"Spain\",\"Czechia\",\"Greece\",\"Norway\",\"Monaco\",\"Netherlands\",\"Sweden\",\"France\",\"Slovakia\",\"Canada\",\"Denmark\",\"Hungary\",\"Russian Federation\",\"Croatia\",\"Belgium\",\"Latvia\",\"Luxembourg\",\"Japan\",\"Austria\",\"Liechtenstein\",\"Australia\",\"Italy\",\"United Kingdom\",\"Lithuania\",\"Ireland\",\"Ukraine\",\"United States of America\",\"Belarus\"],\"locationmode\":\"country names\",\"locations\":[\"Finland\",\"European Union\",\"Turkey\",\"Romania\",\"Estonia\",\"Iceland\",\"Malta\",\"Portugal\",\"Switzerland\",\"Bulgaria\",\"Germany\",\"Poland\",\"New Zealand\",\"Cyprus\",\"Slovenia\",\"Spain\",\"Czechia\",\"Greece\",\"Norway\",\"Monaco\",\"Netherlands\",\"Sweden\",\"France\",\"Slovakia\",\"Canada\",\"Denmark\",\"Hungary\",\"Russian Federation\",\"Croatia\",\"Belgium\",\"Latvia\",\"Luxembourg\",\"Japan\",\"Austria\",\"Liechtenstein\",\"Australia\",\"Italy\",\"United Kingdom\",\"Lithuania\",\"Ireland\",\"Ukraine\",\"United States of America\",\"Belarus\"],\"name\":\"\",\"type\":\"choropleth\",\"z\":[68384.4227742571,4319665.13862076,281649.184924484,105082.793031832,16208.805417015,3164.40279141499,2665.94446943937,64767.6548374252,45373.6830770009,51895.2191096203,877997.390977238,337037.511518509,37466.3290203584,8223.17449176942,17142.5257529594,360578.604188534,126449.454548873,112472.437506665,44484.7805500628,84.0080085970913,172686.523341534,53674.2651981627,419737.020157107,42687.2904164088,570950.380878791,60858.6853489123,59915.3810922813,1606313.35529807,23529.4537376032,123905.757273144,8305.734197949,11936.2842632925,1266828.60601604,76898.3285249658,231.098671603226,392680.646328911,495124.198432933,568390.054550416,14408.0108486811,47603.9378150257,332670.337203369,6051051.02176828,64157.1581431005]}],\"name\":\"2006\"},{\"data\":[{\"coloraxis\":\"coloraxis\",\"customdata\":[[6128429.64048722],[82.7684235598408],[336368.497828037],[594220.570759443],[368432.698383462],[1604323.81361381],[66760.3029952172],[409033.413473519],[58688.6259516226],[336364.013523953],[114592.335161648],[63569.9283051038],[15797.7873514163],[17281.0017099016],[52940.9044464416],[487693.305512201],[56102.0354321429],[172587.180339288],[41095.1064916103],[200.767422348734],[1302524.28495402],[399842.460646105],[120496.161555536],[74262.5877706597],[312736.708478018],[851383.304869504],[4272760.08079702],[47665.1296631784],[8631.98906677741],[560205.595545064],[36559.8842863292],[62280.4229719127],[2735.72320641265],[11333.5839357874],[24843.8124351008],[43368.3664038924],[128264.329658795],[46231.2860161085],[8538.9183257027],[108440.49325638],[55740.8447678207],[3512.09802280345],[19838.5633966356]],\"geo\":\"geo\",\"hovertemplate\":\"<b>%{hovertext}</b><br><br>Year=2007<br>Country or Area=%{location}<br>Value=%{z}<extra></extra>\",\"hovertext\":[\"United States of America\",\"Monaco\",\"Poland\",\"Canada\",\"Spain\",\"Russian Federation\",\"Finland\",\"France\",\"Hungary\",\"Ukraine\",\"Greece\",\"Belarus\",\"Lithuania\",\"Slovenia\",\"Sweden\",\"Italy\",\"Denmark\",\"Netherlands\",\"Slovakia\",\"Liechtenstein\",\"Japan\",\"Australia\",\"Belgium\",\"Austria\",\"Turkey\",\"Germany\",\"European Union\",\"Ireland\",\"Latvia\",\"United Kingdom\",\"New Zealand\",\"Portugal\",\"Malta\",\"Luxembourg\",\"Croatia\",\"Switzerland\",\"Czechia\",\"Norway\",\"Cyprus\",\"Romania\",\"Bulgaria\",\"Iceland\",\"Estonia\"],\"locationmode\":\"country names\",\"locations\":[\"United States of America\",\"Monaco\",\"Poland\",\"Canada\",\"Spain\",\"Russian Federation\",\"Finland\",\"France\",\"Hungary\",\"Ukraine\",\"Greece\",\"Belarus\",\"Lithuania\",\"Slovenia\",\"Sweden\",\"Italy\",\"Denmark\",\"Netherlands\",\"Slovakia\",\"Liechtenstein\",\"Japan\",\"Australia\",\"Belgium\",\"Austria\",\"Turkey\",\"Germany\",\"European Union\",\"Ireland\",\"Latvia\",\"United Kingdom\",\"New Zealand\",\"Portugal\",\"Malta\",\"Luxembourg\",\"Croatia\",\"Switzerland\",\"Czechia\",\"Norway\",\"Cyprus\",\"Romania\",\"Bulgaria\",\"Iceland\",\"Estonia\"],\"name\":\"\",\"type\":\"choropleth\",\"z\":[6128429.64048722,82.7684235598408,336368.497828037,594220.570759443,368432.698383462,1604323.81361381,66760.3029952172,409033.413473519,58688.6259516226,336364.013523953,114592.335161648,63569.9283051038,15797.7873514163,17281.0017099016,52940.9044464416,487693.305512201,56102.0354321429,172587.180339288,41095.1064916103,200.767422348734,1302524.28495402,399842.460646105,120496.161555536,74262.5877706597,312736.708478018,851383.304869504,4272760.08079702,47665.1296631784,8631.98906677741,560205.595545064,36559.8842863292,62280.4229719127,2735.72320641265,11333.5839357874,24843.8124351008,43368.3664038924,128264.329658795,46231.2860161085,8538.9183257027,108440.49325638,55740.8447678207,3512.09802280345,19838.5633966356]}],\"name\":\"2007\"},{\"data\":[{\"coloraxis\":\"coloraxis\",\"customdata\":[[122941.37326182],[41503.1743561107],[175481.511022412],[73588.4048158102],[854706.334353909],[8707.2531713148],[336624.210123802],[545682.4676761],[37592.3169852392],[111125.241614693],[1231909.52457059],[401422.869864192],[15179.1617992972],[45377.6950297943],[476229.970792145],[120202.862272037],[17668.1172407568],[105534.579496887],[309321.194915912],[47366.2460993392],[4172947.61323661],[8192.81853495034],[54079.5574525907],[59973.0625301686],[2747.13215957136],[11195.2463438773],[3824.94058092331],[404417.407486178],[23628.577726183],[44714.3099715288],[1636694.37485371],[58609.6185514801],[18220.0144547338],[65694.8182536516],[575586.90796111],[57530.8150412234],[52640.3662936756],[50855.9955834723],[325532.712918485],[330144.998656562],[5930539.64334029],[219.507244021122],[82.3529546105126]],\"geo\":\"geo\",\"hovertemplate\":\"<b>%{hovertext}</b><br><br>Year=2008<br>Country or Area=%{location}<br>Value=%{z}<extra></extra>\",\"hovertext\":[\"Czechia\",\"Slovakia\",\"Netherlands\",\"Austria\",\"Germany\",\"Cyprus\",\"Spain\",\"United Kingdom\",\"New Zealand\",\"Greece\",\"Japan\",\"France\",\"Lithuania\",\"Norway\",\"Italy\",\"Belgium\",\"Estonia\",\"Romania\",\"Turkey\",\"Ireland\",\"European Union\",\"Latvia\",\"Bulgaria\",\"Portugal\",\"Malta\",\"Luxembourg\",\"Iceland\",\"Australia\",\"Croatia\",\"Switzerland\",\"Russian Federation\",\"Finland\",\"Slovenia\",\"Belarus\",\"Canada\",\"Hungary\",\"Denmark\",\"Sweden\",\"Ukraine\",\"Poland\",\"United States of America\",\"Liechtenstein\",\"Monaco\"],\"locationmode\":\"country names\",\"locations\":[\"Czechia\",\"Slovakia\",\"Netherlands\",\"Austria\",\"Germany\",\"Cyprus\",\"Spain\",\"United Kingdom\",\"New Zealand\",\"Greece\",\"Japan\",\"France\",\"Lithuania\",\"Norway\",\"Italy\",\"Belgium\",\"Estonia\",\"Romania\",\"Turkey\",\"Ireland\",\"European Union\",\"Latvia\",\"Bulgaria\",\"Portugal\",\"Malta\",\"Luxembourg\",\"Iceland\",\"Australia\",\"Croatia\",\"Switzerland\",\"Russian Federation\",\"Finland\",\"Slovenia\",\"Belarus\",\"Canada\",\"Hungary\",\"Denmark\",\"Sweden\",\"Ukraine\",\"Poland\",\"United States of America\",\"Liechtenstein\",\"Monaco\"],\"name\":\"\",\"type\":\"choropleth\",\"z\":[122941.37326182,41503.1743561107,175481.511022412,73588.4048158102,854706.334353909,8707.2531713148,336624.210123802,545682.4676761,37592.3169852392,111125.241614693,1231909.52457059,401422.869864192,15179.1617992972,45377.6950297943,476229.970792145,120202.862272037,17668.1172407568,105534.579496887,309321.194915912,47366.2460993392,4172947.61323661,8192.81853495034,54079.5574525907,59973.0625301686,2747.13215957136,11195.2463438773,3824.94058092331,404417.407486178,23628.577726183,44714.3099715288,1636694.37485371,58609.6185514801,18220.0144547338,65694.8182536516,575586.90796111,57530.8150412234,52640.3662936756,50855.9955834723,325532.712918485,330144.998656562,5930539.64334029,219.507244021122,82.3529546105126]}],\"name\":\"2008\"},{\"data\":[{\"coloraxis\":\"coloraxis\",\"customdata\":[[205.354339812109],[3832105.82022217],[86024.1362338914],[316607.700640106],[7451.91760415792],[16329.7820175681],[50184.6891968054],[55924.3651900131],[115193.743442035],[5491035.72699449],[57200.2556616906],[407463.327962593],[1162647.86628282],[43890.0273509531],[385421.583706487],[14339.0093729183],[1528764.918185],[67493.9480784093],[37755.0655849329],[34762.4347486468],[47231.1168383802],[51774.9657203118],[277293.500642892],[79.1637583192536],[542549.599765392],[422624.187307513],[43534.7155398996],[21837.8014359227],[170167.74143354],[104354.752916408],[107743.366678221],[61402.6986828271],[10647.821340394],[297241.175040069],[3740.1796060044],[13022.7679520861],[790195.717336015],[495119.485922879],[8453.79757023243],[45773.7710199153],[42179.5383695398],[315359.637575316],[2532.56842377362]],\"geo\":\"geo\",\"hovertemplate\":\"<b>%{hovertext}</b><br><br>Year=2009<br>Country or Area=%{location}<br>Value=%{z}<extra></extra>\",\"hovertext\":[\"Liechtenstein\",\"European Union\",\"Romania\",\"Poland\",\"Latvia\",\"Slovenia\",\"Denmark\",\"Finland\",\"Czechia\",\"United States of America\",\"Portugal\",\"Australia\",\"Japan\",\"Norway\",\"France\",\"Estonia\",\"Russian Federation\",\"Austria\",\"Slovakia\",\"New Zealand\",\"Sweden\",\"Hungary\",\"Ukraine\",\"Monaco\",\"Canada\",\"Italy\",\"Switzerland\",\"Croatia\",\"Netherlands\",\"Greece\",\"Belgium\",\"Belarus\",\"Luxembourg\",\"Spain\",\"Iceland\",\"Lithuania\",\"Germany\",\"United Kingdom\",\"Cyprus\",\"Bulgaria\",\"Ireland\",\"Turkey\",\"Malta\"],\"locationmode\":\"country names\",\"locations\":[\"Liechtenstein\",\"European Union\",\"Romania\",\"Poland\",\"Latvia\",\"Slovenia\",\"Denmark\",\"Finland\",\"Czechia\",\"United States of America\",\"Portugal\",\"Australia\",\"Japan\",\"Norway\",\"France\",\"Estonia\",\"Russian Federation\",\"Austria\",\"Slovakia\",\"New Zealand\",\"Sweden\",\"Hungary\",\"Ukraine\",\"Monaco\",\"Canada\",\"Italy\",\"Switzerland\",\"Croatia\",\"Netherlands\",\"Greece\",\"Belgium\",\"Belarus\",\"Luxembourg\",\"Spain\",\"Iceland\",\"Lithuania\",\"Germany\",\"United Kingdom\",\"Cyprus\",\"Bulgaria\",\"Ireland\",\"Turkey\",\"Malta\"],\"name\":\"\",\"type\":\"choropleth\",\"z\":[205.354339812109,3832105.82022217,86024.1362338914,316607.700640106,7451.91760415792,16329.7820175681,50184.6891968054,55924.3651900131,115193.743442035,5491035.72699449,57200.2556616906,407463.327962593,1162647.86628282,43890.0273509531,385421.583706487,14339.0093729183,1528764.918185,67493.9480784093,37755.0655849329,34762.4347486468,47231.1168383802,51774.9657203118,277293.500642892,79.1637583192536,542549.599765392,422624.187307513,43534.7155398996,21837.8014359227,170167.74143354,104354.752916408,107743.366678221,61402.6986828271,10647.821340394,297241.175040069,3740.1796060044,13022.7679520861,790195.717336015,495119.485922879,8453.79757023243,45773.7710199153,42179.5383695398,315359.637575316,2532.56842377362]}],\"name\":\"2009\"},{\"data\":[{\"coloraxis\":\"coloraxis\",\"customdata\":[[52989.3772455978],[84289.7215619474],[294078.322497151],[77.6919933828818],[41747.9285976408],[555549.849476423],[64099.4513237666],[1612884.81391211],[18784.9606173505],[3951411.91431182],[114561.03017821],[314380.032550352],[47862.9303891247],[11219.2942964271],[8548.87875930203],[2581.75885927079],[405502.798857304],[3660.12466719635],[45049.5515778933],[832669.735135068],[16376.443508706],[334606.783962775],[117500.711769433],[34957.7838441033],[512864.791680109],[72011.8408789925],[1214068.55631317],[46231.6541241374],[8089.01126735049],[63156.3918517196],[283724.993585763],[13926.7388560843],[53042.2233607854],[393717.818529277],[182117.938134422],[38523.2172874425],[97361.5039773485],[50678.3061902569],[5698055.77931316],[190.808156025799],[433688.023903586],[52123.6780411305],[21050.859675384]],\"geo\":\"geo\",\"hovertemplate\":\"<b>%{hovertext}</b><br><br>Year=2010<br>Country or Area=%{location}<br>Value=%{z}<extra></extra>\",\"hovertext\":[\"Portugal\",\"Romania\",\"Ukraine\",\"Monaco\",\"Ireland\",\"Canada\",\"Finland\",\"Russian Federation\",\"Estonia\",\"European Union\",\"Belgium\",\"Turkey\",\"Bulgaria\",\"Luxembourg\",\"Latvia\",\"Malta\",\"Australia\",\"Iceland\",\"Switzerland\",\"Germany\",\"Slovenia\",\"Poland\",\"Czechia\",\"New Zealand\",\"United Kingdom\",\"Austria\",\"Japan\",\"Norway\",\"Cyprus\",\"Belarus\",\"Spain\",\"Lithuania\",\"Sweden\",\"France\",\"Netherlands\",\"Slovakia\",\"Greece\",\"Denmark\",\"United States of America\",\"Liechtenstein\",\"Italy\",\"Hungary\",\"Croatia\"],\"locationmode\":\"country names\",\"locations\":[\"Portugal\",\"Romania\",\"Ukraine\",\"Monaco\",\"Ireland\",\"Canada\",\"Finland\",\"Russian Federation\",\"Estonia\",\"European Union\",\"Belgium\",\"Turkey\",\"Bulgaria\",\"Luxembourg\",\"Latvia\",\"Malta\",\"Australia\",\"Iceland\",\"Switzerland\",\"Germany\",\"Slovenia\",\"Poland\",\"Czechia\",\"New Zealand\",\"United Kingdom\",\"Austria\",\"Japan\",\"Norway\",\"Cyprus\",\"Belarus\",\"Spain\",\"Lithuania\",\"Sweden\",\"France\",\"Netherlands\",\"Slovakia\",\"Greece\",\"Denmark\",\"United States of America\",\"Liechtenstein\",\"Italy\",\"Hungary\",\"Croatia\"],\"name\":\"\",\"type\":\"choropleth\",\"z\":[52989.3772455978,84289.7215619474,294078.322497151,77.6919933828818,41747.9285976408,555549.849476423,64099.4513237666,1612884.81391211,18784.9606173505,3951411.91431182,114561.03017821,314380.032550352,47862.9303891247,11219.2942964271,8548.87875930203,2581.75885927079,405502.798857304,3660.12466719635,45049.5515778933,832669.735135068,16376.443508706,334606.783962775,117500.711769433,34957.7838441033,512864.791680109,72011.8408789925,1214068.55631317,46231.6541241374,8089.01126735049,63156.3918517196,283724.993585763,13926.7388560843,53042.2233607854,393717.818529277,182117.938134422,38523.2172874425,97361.5039773485,50678.3061902569,5698055.77931316,190.808156025799,433688.023903586,52123.6780411305,21050.859675384]}],\"name\":\"2010\"},{\"data\":[{\"coloraxis\":\"coloraxis\",\"customdata\":[[40985.5235473301],[16360.3010909769],[115060.25937587],[105046.057789402],[5565294.40112266],[69898.2413042763],[470608.131015341],[339482.25210975],[53178.0436090909],[1664953.14694512],[49166.9005986578],[18855.1246877163],[7759.46771834195],[62106.7449034948],[20682.4392444931],[284543.848339933],[404172.757021574],[566740.990959863],[307952.84142234],[45652.2788281635],[38111.9530412724],[89518.2458428664],[50322.1456635078],[333952.034783092],[11114.5548217397],[38052.2225963057],[14271.0769800848],[367051.083058466],[45513.3598052323],[56665.6520503144],[169065.734256756],[809426.949833717],[34249.5711852552],[2578.07234188238],[3510.63875461921],[1264155.1270142],[176.776956798351],[94549.5772908435],[7805.39954672233],[422039.47517146],[3803658.28965926],[75.0107829107585],[51792.6538325347]],\"geo\":\"geo\",\"hovertemplate\":\"<b>%{hovertext}</b><br><br>Year=2011<br>Country or Area=%{location}<br>Value=%{z}<extra></extra>\",\"hovertext\":[\"Switzerland\",\"Slovenia\",\"Czechia\",\"Belgium\",\"United States of America\",\"Austria\",\"United Kingdom\",\"Turkey\",\"Bulgaria\",\"Russian Federation\",\"Sweden\",\"Estonia\",\"Cyprus\",\"Belarus\",\"Croatia\",\"Spain\",\"Australia\",\"Canada\",\"Ukraine\",\"Denmark\",\"Slovakia\",\"Romania\",\"Hungary\",\"Poland\",\"Luxembourg\",\"Ireland\",\"Lithuania\",\"France\",\"Norway\",\"Finland\",\"Netherlands\",\"Germany\",\"New Zealand\",\"Malta\",\"Iceland\",\"Japan\",\"Liechtenstein\",\"Greece\",\"Latvia\",\"Italy\",\"European Union\",\"Monaco\",\"Portugal\"],\"locationmode\":\"country names\",\"locations\":[\"Switzerland\",\"Slovenia\",\"Czechia\",\"Belgium\",\"United States of America\",\"Austria\",\"United Kingdom\",\"Turkey\",\"Bulgaria\",\"Russian Federation\",\"Sweden\",\"Estonia\",\"Cyprus\",\"Belarus\",\"Croatia\",\"Spain\",\"Australia\",\"Canada\",\"Ukraine\",\"Denmark\",\"Slovakia\",\"Romania\",\"Hungary\",\"Poland\",\"Luxembourg\",\"Ireland\",\"Lithuania\",\"France\",\"Norway\",\"Finland\",\"Netherlands\",\"Germany\",\"New Zealand\",\"Malta\",\"Iceland\",\"Japan\",\"Liechtenstein\",\"Greece\",\"Latvia\",\"Italy\",\"European Union\",\"Monaco\",\"Portugal\"],\"name\":\"\",\"type\":\"choropleth\",\"z\":[40985.5235473301,16360.3010909769,115060.25937587,105046.057789402,5565294.40112266,69898.2413042763,470608.131015341,339482.25210975,53178.0436090909,1664953.14694512,49166.9005986578,18855.1246877163,7759.46771834195,62106.7449034948,20682.4392444931,284543.848339933,404172.757021574,566740.990959863,307952.84142234,45652.2788281635,38111.9530412724,89518.2458428664,50322.1456635078,333952.034783092,11114.5548217397,38052.2225963057,14271.0769800848,367051.083058466,45513.3598052323,56665.6520503144,169065.734256756,809426.949833717,34249.5711852552,2578.07234188238,3510.63875461921,1264155.1270142,176.776956798351,94549.5772908435,7805.39954672233,422039.47517146,3803658.28965926,75.0107829107585,51792.6538325347]}],\"name\":\"2011\"},{\"data\":[{\"coloraxis\":\"coloraxis\",\"customdata\":[[10851.3991139457],[91430.0996005176],[3745971.32736509],[38209.5911496161],[41218.2356733],[15821.7559761859],[19114.7790291044],[278850.691074916],[67209.0963816178],[48349.0085369352],[110955.164604466],[45038.3126012353],[5367568.55523549],[14330.8289402948],[63008.3458582166],[185.31481906203],[46692.0074308832],[353666.209099794],[42254.722400681],[165827.027252846],[368311.772581799],[86255.6930244359],[2762.07470760125],[1305432.85047807],[36021.1815156659],[49962.6235880616],[569737.013024553],[406506.241774818],[303952.606071527],[17684.9753949903],[7234.89236961658],[3502.88574774364],[401554.708582207],[326348.211523784],[488503.548419289],[102428.754733721],[7515.2108803138],[813893.12080289],[51222.1466565397],[36000.4334392606],[1679866.1956823],[78.0476897695046],[46776.6781403574]],\"geo\":\"geo\",\"hovertemplate\":\"<b>%{hovertext}</b><br><br>Year=2012<br>Country or Area=%{location}<br>Value=%{z}<extra></extra>\",\"hovertext\":[\"Luxembourg\",\"Greece\",\"European Union\",\"Ireland\",\"Denmark\",\"Slovenia\",\"Croatia\",\"Spain\",\"Austria\",\"Bulgaria\",\"Czechia\",\"Norway\",\"United States of America\",\"Lithuania\",\"Belarus\",\"Liechtenstein\",\"Sweden\",\"Turkey\",\"Switzerland\",\"Netherlands\",\"France\",\"Romania\",\"Malta\",\"Japan\",\"Slovakia\",\"Portugal\",\"Canada\",\"Australia\",\"Ukraine\",\"Estonia\",\"Cyprus\",\"Iceland\",\"Italy\",\"Poland\",\"United Kingdom\",\"Belgium\",\"Latvia\",\"Germany\",\"Finland\",\"New Zealand\",\"Russian Federation\",\"Monaco\",\"Hungary\"],\"locationmode\":\"country names\",\"locations\":[\"Luxembourg\",\"Greece\",\"European Union\",\"Ireland\",\"Denmark\",\"Slovenia\",\"Croatia\",\"Spain\",\"Austria\",\"Bulgaria\",\"Czechia\",\"Norway\",\"United States of America\",\"Lithuania\",\"Belarus\",\"Liechtenstein\",\"Sweden\",\"Turkey\",\"Switzerland\",\"Netherlands\",\"France\",\"Romania\",\"Malta\",\"Japan\",\"Slovakia\",\"Portugal\",\"Canada\",\"Australia\",\"Ukraine\",\"Estonia\",\"Cyprus\",\"Iceland\",\"Italy\",\"Poland\",\"United Kingdom\",\"Belgium\",\"Latvia\",\"Germany\",\"Finland\",\"New Zealand\",\"Russian Federation\",\"Monaco\",\"Hungary\"],\"name\":\"\",\"type\":\"choropleth\",\"z\":[10851.3991139457,91430.0996005176,3745971.32736509,38209.5911496161,41218.2356733,15821.7559761859,19114.7790291044,278850.691074916,67209.0963816178,48349.0085369352,110955.164604466,45038.3126012353,5367568.55523549,14330.8289402948,63008.3458582166,185.31481906203,46692.0074308832,353666.209099794,42254.722400681,165827.027252846,368311.772581799,86255.6930244359,2762.07470760125,1305432.85047807,36021.1815156659,49962.6235880616,569737.013024553,406506.241774818,303952.606071527,17684.9753949903,7234.89236961658,3502.88574774364,401554.708582207,326348.211523784,488503.548419289,102428.754733721,7515.2108803138,813893.12080289,51222.1466565397,36000.4334392606,1679866.1956823,78.0476897695046,46776.6781403574]}],\"name\":\"2012\"},{\"data\":[{\"coloraxis\":\"coloraxis\",\"customdata\":[[15188.9136130485],[43704.8054948814],[106427.45894163],[81735.053637325],[2437.84053423398],[3492.77172514825],[63743.4453720989],[297294.252816873],[13340.2687330024],[831316.278977669],[42649.5076910971],[6554.36404601499],[78.80966798265],[1314702.9994073],[252763.817288465],[43185.8372780625],[35240.9368858808],[45086.3354841233],[322225.440340873],[397943.178573917],[48161.8828975212],[19551.9531140066],[576327.006234054],[367568.71230315],[7381.9889397502],[478608.945079335],[102674.40413736],[1619172.89204109],[10303.8722713382],[51750.9593461073],[5514029.29437604],[37235.3029534484],[67745.6895442715],[18454.6220097767],[76875.8936076427],[44982.3953062284],[370548.990871462],[345220.584947758],[43079.3293409319],[165717.877810591],[35577.8376169972],[3655077.46194149],[192.53702097383]],\"geo\":\"geo\",\"hovertemplate\":\"<b>%{hovertext}</b><br><br>Year=2013<br>Country or Area=%{location}<br>Value=%{z}<extra></extra>\",\"hovertext\":[\"Slovenia\",\"Hungary\",\"Czechia\",\"Greece\",\"Malta\",\"Iceland\",\"Belarus\",\"Ukraine\",\"Lithuania\",\"Germany\",\"Bulgaria\",\"Cyprus\",\"Monaco\",\"Japan\",\"Spain\",\"Switzerland\",\"New Zealand\",\"Sweden\",\"Poland\",\"Australia\",\"Portugal\",\"Estonia\",\"Canada\",\"Italy\",\"Latvia\",\"United Kingdom\",\"Belgium\",\"Russian Federation\",\"Luxembourg\",\"Finland\",\"United States of America\",\"Ireland\",\"Austria\",\"Croatia\",\"Romania\",\"Norway\",\"France\",\"Turkey\",\"Denmark\",\"Netherlands\",\"Slovakia\",\"European Union\",\"Liechtenstein\"],\"locationmode\":\"country names\",\"locations\":[\"Slovenia\",\"Hungary\",\"Czechia\",\"Greece\",\"Malta\",\"Iceland\",\"Belarus\",\"Ukraine\",\"Lithuania\",\"Germany\",\"Bulgaria\",\"Cyprus\",\"Monaco\",\"Japan\",\"Spain\",\"Switzerland\",\"New Zealand\",\"Sweden\",\"Poland\",\"Australia\",\"Portugal\",\"Estonia\",\"Canada\",\"Italy\",\"Latvia\",\"United Kingdom\",\"Belgium\",\"Russian Federation\",\"Luxembourg\",\"Finland\",\"United States of America\",\"Ireland\",\"Austria\",\"Croatia\",\"Romania\",\"Norway\",\"France\",\"Turkey\",\"Denmark\",\"Netherlands\",\"Slovakia\",\"European Union\",\"Liechtenstein\"],\"name\":\"\",\"type\":\"choropleth\",\"z\":[15188.9136130485,43704.8054948814,106427.45894163,81735.053637325,2437.84053423398,3492.77172514825,63743.4453720989,297294.252816873,13340.2687330024,831316.278977669,42649.5076910971,6554.36404601499,78.80966798265,1314702.9994073,252763.817288465,43185.8372780625,35240.9368858808,45086.3354841233,322225.440340873,397943.178573917,48161.8828975212,19551.9531140066,576327.006234054,367568.71230315,7381.9889397502,478608.945079335,102674.40413736,1619172.89204109,10303.8722713382,51750.9593461073,5514029.29437604,37235.3029534484,67745.6895442715,18454.6220097767,76875.8936076427,44982.3953062284,370548.990871462,345220.584947758,43079.3293409319,165717.877810591,35577.8376169972,3655077.46194149,192.53702097383]}],\"name\":\"2013\"},{\"data\":[{\"coloraxis\":\"coloraxis\",\"customdata\":[[1263049.94200598],[158768.01234911],[439763.276954655],[575942.178811822],[255100.205728436],[78659.7957440759],[73.886400033158],[39234.4328189085],[17704.9852778555],[43337.5554131351],[13087.4701343799],[43862.711091479],[3469.68187077725],[64084.4274667337],[309920.915761492],[47643.8632832177],[1622348.90860012],[96811.3230753459],[7182.63397559017],[36785.326520522],[18755.948585174],[9825.21586286149],[347860.803522809],[47948.4350585232],[3480937.31805591],[77432.4172893916],[257584.689348606],[394116.891505507],[161.238716190272],[38866.7286499695],[339492.915843056],[6934.59192710437],[35457.8044654959],[792684.873997206],[2442.39566061966],[13531.9363093237],[45169.3296886434],[33654.4973335962],[5561719.2161591],[44916.6060511976],[104049.879538199],[361675.46081844],[63083.6392330706]],\"geo\":\"geo\",\"hovertemplate\":\"<b>%{hovertext}</b><br><br>Year=2014<br>Country or Area=%{location}<br>Value=%{z}<extra></extra>\",\"hovertext\":[\"Japan\",\"Netherlands\",\"United Kingdom\",\"Canada\",\"Spain\",\"Greece\",\"Monaco\",\"Switzerland\",\"Croatia\",\"Sweden\",\"Lithuania\",\"Hungary\",\"Iceland\",\"Austria\",\"Poland\",\"Finland\",\"Russian Federation\",\"Belgium\",\"Latvia\",\"Ireland\",\"Estonia\",\"Luxembourg\",\"Italy\",\"Portugal\",\"European Union\",\"Romania\",\"Ukraine\",\"Australia\",\"Liechtenstein\",\"Denmark\",\"France\",\"Cyprus\",\"New Zealand\",\"Germany\",\"Malta\",\"Slovenia\",\"Bulgaria\",\"Slovakia\",\"United States of America\",\"Norway\",\"Czechia\",\"Turkey\",\"Belarus\"],\"locationmode\":\"country names\",\"locations\":[\"Japan\",\"Netherlands\",\"United Kingdom\",\"Canada\",\"Spain\",\"Greece\",\"Monaco\",\"Switzerland\",\"Croatia\",\"Sweden\",\"Lithuania\",\"Hungary\",\"Iceland\",\"Austria\",\"Poland\",\"Finland\",\"Russian Federation\",\"Belgium\",\"Latvia\",\"Ireland\",\"Estonia\",\"Luxembourg\",\"Italy\",\"Portugal\",\"European Union\",\"Romania\",\"Ukraine\",\"Australia\",\"Liechtenstein\",\"Denmark\",\"France\",\"Cyprus\",\"New Zealand\",\"Germany\",\"Malta\",\"Slovenia\",\"Bulgaria\",\"Slovakia\",\"United States of America\",\"Norway\",\"Czechia\",\"Turkey\",\"Belarus\"],\"name\":\"\",\"type\":\"choropleth\",\"z\":[1263049.94200598,158768.01234911,439763.276954655,575942.178811822,255100.205728436,78659.7957440759,73.886400033158,39234.4328189085,17704.9852778555,43337.5554131351,13087.4701343799,43862.711091479,3469.68187077725,64084.4274667337,309920.915761492,47643.8632832177,1622348.90860012,96811.3230753459,7182.63397559017,36785.326520522,18755.948585174,9825.21586286149,347860.803522809,47948.4350585232,3480937.31805591,77432.4172893916,257584.689348606,394116.891505507,161.238716190272,38866.7286499695,339492.915843056,6934.59192710437,35457.8044654959,792684.873997206,2442.39566061966,13531.9363093237,45169.3296886434,33654.4973335962,5561719.2161591,44916.6060511976,104049.879538199,361675.46081844,63083.6392330706]}],\"name\":\"2014\"},{\"data\":[{\"coloraxis\":\"coloraxis\",\"customdata\":[[9333.16889945848],[38545.3302770518],[223911.868540142],[360088.1778139],[3545.25516413949],[38733.1931159201],[1735.29588043232],[381331.944034388],[423199.617230795],[100981.344053584],[575906.938645282],[58633.0602039355],[74.3615437231448],[48194.2799893116],[271687.349200034],[46627.6133530015],[35839.1938918605],[795816.358715061],[13617.5425786935],[104815.37684623],[45350.4963792483],[344096.978139489],[34484.2368113437],[159.711343350088],[66283.2365458533],[36493.9948537237],[44113.7137355077],[1622861.01012164],[7272.70500469571],[15813.4044354123],[52294.0604187532],[77725.6298778275],[401554.757230168],[3518768.0005505],[313099.147361381],[6960.12949612624],[5412432.19442036],[17840.7506872716],[1222781.31475903],[74957.9049084326],[13297.1427973495],[166366.655865468],[43336.7554826262]],\"geo\":\"geo\",\"hovertemplate\":\"<b>%{hovertext}</b><br><br>Year=2015<br>Country or Area=%{location}<br>Value=%{z}<extra></extra>\",\"hovertext\":[\"Luxembourg\",\"Ireland\",\"Ukraine\",\"Italy\",\"Iceland\",\"Switzerland\",\"Malta\",\"Turkey\",\"United Kingdom\",\"Belgium\",\"Canada\",\"Belarus\",\"Monaco\",\"Bulgaria\",\"Spain\",\"Hungary\",\"New Zealand\",\"Germany\",\"Slovenia\",\"Czechia\",\"Norway\",\"France\",\"Slovakia\",\"Liechtenstein\",\"Austria\",\"Denmark\",\"Finland\",\"Russian Federation\",\"Latvia\",\"Estonia\",\"Portugal\",\"Romania\",\"Australia\",\"European Union\",\"Poland\",\"Cyprus\",\"United States of America\",\"Croatia\",\"Japan\",\"Greece\",\"Lithuania\",\"Netherlands\",\"Sweden\"],\"locationmode\":\"country names\",\"locations\":[\"Luxembourg\",\"Ireland\",\"Ukraine\",\"Italy\",\"Iceland\",\"Switzerland\",\"Malta\",\"Turkey\",\"United Kingdom\",\"Belgium\",\"Canada\",\"Belarus\",\"Monaco\",\"Bulgaria\",\"Spain\",\"Hungary\",\"New Zealand\",\"Germany\",\"Slovenia\",\"Czechia\",\"Norway\",\"France\",\"Slovakia\",\"Liechtenstein\",\"Austria\",\"Denmark\",\"Finland\",\"Russian Federation\",\"Latvia\",\"Estonia\",\"Portugal\",\"Romania\",\"Australia\",\"European Union\",\"Poland\",\"Cyprus\",\"United States of America\",\"Croatia\",\"Japan\",\"Greece\",\"Lithuania\",\"Netherlands\",\"Sweden\"],\"name\":\"\",\"type\":\"choropleth\",\"z\":[9333.16889945848,38545.3302770518,223911.868540142,360088.1778139,3545.25516413949,38733.1931159201,1735.29588043232,381331.944034388,423199.617230795,100981.344053584,575906.938645282,58633.0602039355,74.3615437231448,48194.2799893116,271687.349200034,46627.6133530015,35839.1938918605,795816.358715061,13617.5425786935,104815.37684623,45350.4963792483,344096.978139489,34484.2368113437,159.711343350088,66283.2365458533,36493.9948537237,44113.7137355077,1622861.01012164,7272.70500469571,15813.4044354123,52294.0604187532,77725.6298778275,401554.757230168,3518768.0005505,313099.147361381,6960.12949612624,5412432.19442036,17840.7506872716,1222781.31475903,74957.9049084326,13297.1427973495,166366.655865468,43336.7554826262]}],\"name\":\"2015\"},{\"data\":[{\"coloraxis\":\"coloraxis\",\"customdata\":[[18105.0437764013],[34921.7932560865],[356556.196027575],[149.880558815378],[40029.8365838452],[38301.0244931202],[411031.531117043],[7220.75142852372],[1203167.01767453],[564032.530027391],[75812.8017938512],[1618304.25794665],[234200.301807805],[47227.5475650672],[99806.9444086566],[17377.6503103256],[42972.5653420075],[50455.5700692996],[324011.335071663],[1399.48764230635],[74.6558093274817],[39192.6094780623],[3497.53889688049],[260759.563640033],[7368.22785657742],[9080.25282693925],[399824.299299983],[34267.6242757242],[71368.3612573769],[800510.288476534],[67112.2654587419],[347095.62459045],[14416.6565429867],[47395.7098085976],[45353.723417232],[60284.8505856025],[5292267.56146005],[3500042.73949219],[106629.020365921],[166282.089728861],[401239.738263029],[44472.7299031563],[13327.5133241042]],\"geo\":\"geo\",\"hovertemplate\":\"<b>%{hovertext}</b><br><br>Year=2016<br>Country or Area=%{location}<br>Value=%{z}<extra></extra>\",\"hovertext\":[\"Croatia\",\"Slovakia\",\"Italy\",\"Liechtenstein\",\"Ireland\",\"Denmark\",\"Australia\",\"Latvia\",\"Japan\",\"Canada\",\"Romania\",\"Russian Federation\",\"Ukraine\",\"Finland\",\"Belgium\",\"Estonia\",\"Sweden\",\"Portugal\",\"Poland\",\"Malta\",\"Monaco\",\"Switzerland\",\"Iceland\",\"Spain\",\"Cyprus\",\"Luxembourg\",\"United Kingdom\",\"New Zealand\",\"Greece\",\"Germany\",\"Austria\",\"France\",\"Slovenia\",\"Hungary\",\"Bulgaria\",\"Belarus\",\"United States of America\",\"European Union\",\"Czechia\",\"Netherlands\",\"Turkey\",\"Norway\",\"Lithuania\"],\"locationmode\":\"country names\",\"locations\":[\"Croatia\",\"Slovakia\",\"Italy\",\"Liechtenstein\",\"Ireland\",\"Denmark\",\"Australia\",\"Latvia\",\"Japan\",\"Canada\",\"Romania\",\"Russian Federation\",\"Ukraine\",\"Finland\",\"Belgium\",\"Estonia\",\"Sweden\",\"Portugal\",\"Poland\",\"Malta\",\"Monaco\",\"Switzerland\",\"Iceland\",\"Spain\",\"Cyprus\",\"Luxembourg\",\"United Kingdom\",\"New Zealand\",\"Greece\",\"Germany\",\"Austria\",\"France\",\"Slovenia\",\"Hungary\",\"Bulgaria\",\"Belarus\",\"United States of America\",\"European Union\",\"Czechia\",\"Netherlands\",\"Turkey\",\"Norway\",\"Lithuania\"],\"name\":\"\",\"type\":\"choropleth\",\"z\":[18105.0437764013,34921.7932560865,356556.196027575,149.880558815378,40029.8365838452,38301.0244931202,411031.531117043,7220.75142852372,1203167.01767453,564032.530027391,75812.8017938512,1618304.25794665,234200.301807805,47227.5475650672,99806.9444086566,17377.6503103256,42972.5653420075,50455.5700692996,324011.335071663,1399.48764230635,74.6558093274817,39192.6094780623,3497.53889688049,260759.563640033,7368.22785657742,9080.25282693925,399824.299299983,34267.6242757242,71368.3612573769,800510.288476534,67112.2654587419,347095.62459045,14416.6565429867,47395.7098085976,45353.723417232,60284.8505856025,5292267.56146005,3500042.73949219,106629.020365921,166282.089728861,401239.738263029,44472.7299031563,13327.5133241042]}],\"name\":\"2016\"},{\"data\":[{\"coloraxis\":\"coloraxis\",\"customdata\":[[415097.42766819],[60742.9346075393],[1187661.45386819],[7222.7844905141],[156.280011804227],[5253606.13002747],[69628.8596106596],[388803.410059709],[13545.8474876892],[351473.93294538],[3513036.18225618],[572834.389442262],[164444.773768704],[36213.2522774059],[352178.983611535],[274671.261697253],[42306.8160464575],[36087.3376584061],[49684.8471645542],[105641.726351171],[337340.421778012],[1646179.81048091],[38182.2650262948],[73.0533014093414],[43562.5414853235],[7515.68816517893],[74852.8458947514],[18635.8722015885],[3614.87329421355],[9250.40212663893],[223232.151133566],[14264.7533621895],[99456.2752697695],[44673.0634245979],[78077.4897274096],[38910.192717045],[1552.99839832623],[425329.230021553],[786654.551411376],[36153.3319655171],[47505.16352595],[54719.9760045003],[18737.6890371586]],\"geo\":\"geo\",\"hovertemplate\":\"<b>%{hovertext}</b><br><br>Year=2017<br>Country or Area=%{location}<br>Value=%{z}<extra></extra>\",\"hovertext\":[\"Australia\",\"Belarus\",\"Japan\",\"Latvia\",\"Liechtenstein\",\"United States of America\",\"Austria\",\"United Kingdom\",\"Lithuania\",\"Italy\",\"European Union\",\"Canada\",\"Netherlands\",\"Denmark\",\"France\",\"Spain\",\"Sweden\",\"Slovakia\",\"Hungary\",\"Czechia\",\"Poland\",\"Russian Federation\",\"Switzerland\",\"Monaco\",\"Norway\",\"Cyprus\",\"Greece\",\"Estonia\",\"Iceland\",\"Luxembourg\",\"Ukraine\",\"Slovenia\",\"Belgium\",\"Finland\",\"Romania\",\"Ireland\",\"Malta\",\"Turkey\",\"Germany\",\"New Zealand\",\"Bulgaria\",\"Portugal\",\"Croatia\"],\"locationmode\":\"country names\",\"locations\":[\"Australia\",\"Belarus\",\"Japan\",\"Latvia\",\"Liechtenstein\",\"United States of America\",\"Austria\",\"United Kingdom\",\"Lithuania\",\"Italy\",\"European Union\",\"Canada\",\"Netherlands\",\"Denmark\",\"France\",\"Spain\",\"Sweden\",\"Slovakia\",\"Hungary\",\"Czechia\",\"Poland\",\"Russian Federation\",\"Switzerland\",\"Monaco\",\"Norway\",\"Cyprus\",\"Greece\",\"Estonia\",\"Iceland\",\"Luxembourg\",\"Ukraine\",\"Slovenia\",\"Belgium\",\"Finland\",\"Romania\",\"Ireland\",\"Malta\",\"Turkey\",\"Germany\",\"New Zealand\",\"Bulgaria\",\"Portugal\",\"Croatia\"],\"name\":\"\",\"type\":\"choropleth\",\"z\":[415097.42766819,60742.9346075393,1187661.45386819,7222.7844905141,156.280011804227,5253606.13002747,69628.8596106596,388803.410059709,13545.8474876892,351473.93294538,3513036.18225618,572834.389442262,164444.773768704,36213.2522774059,352178.983611535,274671.261697253,42306.8160464575,36087.3376584061,49684.8471645542,105641.726351171,337340.421778012,1646179.81048091,38182.2650262948,73.0533014093414,43562.5414853235,7515.68816517893,74852.8458947514,18635.8722015885,3614.87329421355,9250.40212663893,223232.151133566,14264.7533621895,99456.2752697695,44673.0634245979,78077.4897274096,38910.192717045,1552.99839832623,425329.230021553,786654.551411376,36153.3319655171,47505.16352595,54719.9760045003,18737.6890371586]}],\"name\":\"2017\"},{\"data\":[{\"coloraxis\":\"coloraxis\",\"customdata\":[[36087.8372271146],[43817.6567450557],[9568.51953368545],[338327.096421297],[143.749839455852],[7859.28703094824],[337705.74182301],[1691360.425737],[17710.9527043212],[45849.3493987134],[51482.4811671429],[76951.2189688293],[3432017.49574093],[36246.2048229019],[104411.210688469],[269654.253507379],[5424881.50213288],[231694.164731718],[100207.83597427],[38803.3937724537],[1531.58072622999],[419194.747142347],[43551.599048709],[61871.6758664283],[3674.52850638943],[380849.882910071],[74.7550712006915],[36895.4848348313],[755362.342455585],[586504.634542466],[160170.147439641],[13669.4919754163],[1135688.00020241],[41766.1827222488],[17718.6455724821],[71797.8690987943],[348085.029259785],[35080.3409784102],[7332.76185278891],[66719.6777666744],[14487.844474942],[49628.490982072],[415953.946668257]],\"geo\":\"geo\",\"hovertemplate\":\"<b>%{hovertext}</b><br><br>Year=2018<br>Country or Area=%{location}<br>Value=%{z}<extra></extra>\",\"hovertext\":[\"Slovakia\",\"Norway\",\"Luxembourg\",\"France\",\"Liechtenstein\",\"Latvia\",\"Poland\",\"Russian Federation\",\"Estonia\",\"Finland\",\"Portugal\",\"Romania\",\"European Union\",\"Denmark\",\"Czechia\",\"Spain\",\"United States of America\",\"Ukraine\",\"Belgium\",\"Ireland\",\"Malta\",\"Turkey\",\"Bulgaria\",\"Belarus\",\"Iceland\",\"United Kingdom\",\"Monaco\",\"Switzerland\",\"Germany\",\"Canada\",\"Netherlands\",\"Lithuania\",\"Japan\",\"Sweden\",\"Croatia\",\"Greece\",\"Italy\",\"New Zealand\",\"Cyprus\",\"Austria\",\"Slovenia\",\"Hungary\",\"Australia\"],\"locationmode\":\"country names\",\"locations\":[\"Slovakia\",\"Norway\",\"Luxembourg\",\"France\",\"Liechtenstein\",\"Latvia\",\"Poland\",\"Russian Federation\",\"Estonia\",\"Finland\",\"Portugal\",\"Romania\",\"European Union\",\"Denmark\",\"Czechia\",\"Spain\",\"United States of America\",\"Ukraine\",\"Belgium\",\"Ireland\",\"Malta\",\"Turkey\",\"Bulgaria\",\"Belarus\",\"Iceland\",\"United Kingdom\",\"Monaco\",\"Switzerland\",\"Germany\",\"Canada\",\"Netherlands\",\"Lithuania\",\"Japan\",\"Sweden\",\"Croatia\",\"Greece\",\"Italy\",\"New Zealand\",\"Cyprus\",\"Austria\",\"Slovenia\",\"Hungary\",\"Australia\"],\"name\":\"\",\"type\":\"choropleth\",\"z\":[36087.8372271146,43817.6567450557,9568.51953368545,338327.096421297,143.749839455852,7859.28703094824,337705.74182301,1691360.425737,17710.9527043212,45849.3493987134,51482.4811671429,76951.2189688293,3432017.49574093,36246.2048229019,104411.210688469,269654.253507379,5424881.50213288,231694.164731718,100207.83597427,38803.3937724537,1531.58072622999,419194.747142347,43551.599048709,61871.6758664283,3674.52850638943,380849.882910071,74.7550712006915,36895.4848348313,755362.342455585,586504.634542466,160170.147439641,13669.4919754163,1135688.00020241,41766.1827222488,17718.6455724821,71797.8690987943,348085.029259785,35080.3409784102,7332.76185278891,66719.6777666744,14487.844474942,49628.490982072,415953.946668257]}],\"name\":\"2018\"}]);\n",
       "                        }).then(function(){\n",
       "                            \n",
       "var gd = document.getElementById('a5fc003f-4a67-4c78-ad13-d8bb1570f3b9');\n",
       "var x = new MutationObserver(function (mutations, observer) {{\n",
       "        var display = window.getComputedStyle(gd).display;\n",
       "        if (!display || display === 'none') {{\n",
       "            console.log([gd, 'removed!']);\n",
       "            Plotly.purge(gd);\n",
       "            observer.disconnect();\n",
       "        }}\n",
       "}});\n",
       "\n",
       "// Listen for the removal of the full notebook cells\n",
       "var notebookContainer = gd.closest('#notebook-container');\n",
       "if (notebookContainer) {{\n",
       "    x.observe(notebookContainer, {childList: true});\n",
       "}}\n",
       "\n",
       "// Listen for the clearing of the current output cell\n",
       "var outputEl = gd.closest('.output');\n",
       "if (outputEl) {{\n",
       "    x.observe(outputEl, {childList: true});\n",
       "}}\n",
       "\n",
       "                        })                };                });            </script>        </div>"
      ]
     },
     "metadata": {},
     "output_type": "display_data"
    }
   ],
   "source": [
    "choropleth_plot_df = choropleth_name_df_dict.get(choropleth_choice.value)\n",
    "fig = px.choropleth(choropleth_plot_df.sort_values(by=\"Year\"), locations=\"Country or Area\",\n",
    "                    color=\"Value\",\n",
    "                    hover_name=\"Country or Area\",\n",
    "                    hover_data=[\"Value\"],\n",
    "                    locationmode=\"country names\",\n",
    "                    animation_frame='Year',\n",
    "                    color_continuous_scale=\"Viridis\")\n",
    "fig.update_layout(paper_bgcolor=\"white\",height= 700,title_text = f'{choropleth_choice.value} Emissions Worldwide',font_size=18)\n",
    "fig.show()"
   ]
  },
  {
   "cell_type": "code",
   "execution_count": null,
   "id": "cd382444-4afd-4e8c-aae7-2cfe9c4553f8",
   "metadata": {},
   "outputs": [],
   "source": []
  },
  {
   "cell_type": "code",
   "execution_count": 75,
   "id": "2adfec3b-d698-43dd-a9bf-789b108abed9",
   "metadata": {
    "jupyter": {
     "source_hidden": true
    },
    "tags": []
   },
   "outputs": [],
   "source": [
    "CO2_countries = [CO2.select(\"Country or Area\").distinct().collect()[i][0] for i in range(len(CO2.select(\"Country or Area\").distinct().collect()))]"
   ]
  },
  {
   "cell_type": "markdown",
   "id": "7b0ef3e3-d78e-4e40-91e2-1eb09e1b83a1",
   "metadata": {},
   "source": [
    "### Globaltemp File"
   ]
  },
  {
   "cell_type": "code",
   "execution_count": 15,
   "id": "24148349-c405-4ba2-858b-72fc69748867",
   "metadata": {},
   "outputs": [
    {
     "name": "stderr",
     "output_type": "stream",
     "text": [
      "                                                                                \r"
     ]
    },
    {
     "name": "stdout",
     "output_type": "stream",
     "text": [
      "+----------+------------------+-----------------------------+-----+-------+--------+---------+\n",
      "|        dt|AverageTemperature|AverageTemperatureUncertainty| City|Country|Latitude|Longitude|\n",
      "+----------+------------------+-----------------------------+-----+-------+--------+---------+\n",
      "|1743-11-01|             6.068|           1.7369999999999999|Århus|Denmark|  57.05N|   10.33E|\n",
      "|1743-12-01|              null|                         null|Århus|Denmark|  57.05N|   10.33E|\n",
      "+----------+------------------+-----------------------------+-----+-------+--------+---------+\n",
      "only showing top 2 rows\n",
      "\n"
     ]
    }
   ],
   "source": [
    "spark_read_csv(globaltemps_paths[0]).show(2)"
   ]
  },
  {
   "cell_type": "code",
   "execution_count": 16,
   "id": "06313326-3ac5-4307-852c-882be55ce463",
   "metadata": {},
   "outputs": [
    {
     "name": "stderr",
     "output_type": "stream",
     "text": [
      "                                                                                \r"
     ]
    },
    {
     "data": {
      "text/plain": [
       "{'GlobalLandTemperaturesByCity': 8599212,\n",
       " 'GlobalLandTemperaturesByCountry': 577462,\n",
       " 'GlobalLandTemperaturesByMajorCity': 239177,\n",
       " 'GlobalLandTemperaturesByState': 645675,\n",
       " 'GlobalTemperatures': 3192}"
      ]
     },
     "execution_count": 16,
     "metadata": {},
     "output_type": "execute_result"
    }
   ],
   "source": [
    "globaltemps_count = {Path(file).stem:(spark_read_csv(file)).count() for file in globaltemps_paths}\n",
    "globaltemps_count"
   ]
  },
  {
   "cell_type": "code",
   "execution_count": 17,
   "id": "4ce4aba4-8fa6-4b24-bc94-2b30e702a17f",
   "metadata": {},
   "outputs": [
    {
     "name": "stderr",
     "output_type": "stream",
     "text": [
      "                                                                                \r"
     ]
    }
   ],
   "source": [
    "cities = spark_read_csv(globaltemps_paths[0])\n",
    "country = spark_read_csv(globaltemps_paths[1])\n",
    "majorcity = spark_read_csv(globaltemps_paths[2])\n",
    "state = spark_read_csv(globaltemps_paths[3])\n",
    "globaltemps = spark_read_csv(globaltemps_paths[4])\n",
    "\n",
    "temp_df_list = [cities,country,majorcity,state,globaltemps]"
   ]
  },
  {
   "cell_type": "code",
   "execution_count": 18,
   "id": "fdc67252-a0ca-4159-adca-4d35f7ffeab2",
   "metadata": {},
   "outputs": [
    {
     "name": "stdout",
     "output_type": "stream",
     "text": [
      "----------------------\n",
      "root\n",
      " |-- dt: string (nullable = true)\n",
      " |-- AverageTemperature: double (nullable = true)\n",
      " |-- AverageTemperatureUncertainty: double (nullable = true)\n",
      " |-- City: string (nullable = true)\n",
      " |-- Country: string (nullable = true)\n",
      " |-- Latitude: string (nullable = true)\n",
      " |-- Longitude: string (nullable = true)\n",
      "\n",
      "None\n"
     ]
    },
    {
     "name": "stderr",
     "output_type": "stream",
     "text": [
      "                                                                                \r"
     ]
    },
    {
     "name": "stdout",
     "output_type": "stream",
     "text": [
      "There are 8599212 rows\n",
      "----------------------\n",
      "root\n",
      " |-- dt: string (nullable = true)\n",
      " |-- AverageTemperature: double (nullable = true)\n",
      " |-- AverageTemperatureUncertainty: double (nullable = true)\n",
      " |-- Country: string (nullable = true)\n",
      "\n",
      "None\n",
      "There are 577462 rows\n",
      "----------------------\n",
      "root\n",
      " |-- dt: string (nullable = true)\n",
      " |-- AverageTemperature: double (nullable = true)\n",
      " |-- AverageTemperatureUncertainty: double (nullable = true)\n",
      " |-- City: string (nullable = true)\n",
      " |-- Country: string (nullable = true)\n",
      " |-- Latitude: string (nullable = true)\n",
      " |-- Longitude: string (nullable = true)\n",
      "\n",
      "None\n",
      "There are 239177 rows\n",
      "----------------------\n",
      "root\n",
      " |-- dt: string (nullable = true)\n",
      " |-- AverageTemperature: double (nullable = true)\n",
      " |-- AverageTemperatureUncertainty: double (nullable = true)\n",
      " |-- State: string (nullable = true)\n",
      " |-- Country: string (nullable = true)\n",
      "\n",
      "None\n",
      "There are 645675 rows\n",
      "----------------------\n",
      "root\n",
      " |-- dt: string (nullable = true)\n",
      " |-- LandAverageTemperature: double (nullable = true)\n",
      " |-- LandAverageTemperatureUncertainty: double (nullable = true)\n",
      " |-- LandMaxTemperature: double (nullable = true)\n",
      " |-- LandMaxTemperatureUncertainty: double (nullable = true)\n",
      " |-- LandMinTemperature: double (nullable = true)\n",
      " |-- LandMinTemperatureUncertainty: double (nullable = true)\n",
      " |-- LandAndOceanAverageTemperature: double (nullable = true)\n",
      " |-- LandAndOceanAverageTemperatureUncertainty: double (nullable = true)\n",
      "\n",
      "None\n",
      "There are 3192 rows\n"
     ]
    },
    {
     "data": {
      "text/plain": [
       "[None, None, None, None, None]"
      ]
     },
     "execution_count": 18,
     "metadata": {},
     "output_type": "execute_result"
    }
   ],
   "source": [
    "[dataframe_summary(df) for df in temp_df_list]"
   ]
  },
  {
   "cell_type": "code",
   "execution_count": null,
   "id": "375badbf-b146-4bc0-a48a-2630abb5000e",
   "metadata": {},
   "outputs": [],
   "source": []
  },
  {
   "cell_type": "code",
   "execution_count": null,
   "id": "fee3f0ca-51db-4efa-b95c-13474d1c65ec",
   "metadata": {},
   "outputs": [],
   "source": []
  },
  {
   "cell_type": "code",
   "execution_count": null,
   "id": "b8b4fca5-1e7d-437f-9641-cee05c1972dd",
   "metadata": {},
   "outputs": [],
   "source": []
  },
  {
   "cell_type": "code",
   "execution_count": null,
   "id": "8769d39f-83b6-4a49-b877-fd54578c3198",
   "metadata": {},
   "outputs": [],
   "source": []
  },
  {
   "cell_type": "code",
   "execution_count": null,
   "id": "e77779fc-d84a-4b9a-867b-d9a478738438",
   "metadata": {},
   "outputs": [],
   "source": []
  }
 ],
 "metadata": {
  "kernelspec": {
   "display_name": "ml",
   "language": "python",
   "name": "ml"
  },
  "language_info": {
   "codemirror_mode": {
    "name": "ipython",
    "version": 3
   },
   "file_extension": ".py",
   "mimetype": "text/x-python",
   "name": "python",
   "nbconvert_exporter": "python",
   "pygments_lexer": "ipython3",
   "version": "3.9.7"
  }
 },
 "nbformat": 4,
 "nbformat_minor": 5
}
