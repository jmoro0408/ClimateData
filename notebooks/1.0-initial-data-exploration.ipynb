{
 "cells": [
  {
   "cell_type": "code",
   "execution_count": 1,
   "id": "66dbe330-50b0-4ee3-af4a-e6a9587a6413",
   "metadata": {},
   "outputs": [],
   "source": [
    "import findspark\n",
    "findspark.init()\n",
    "\n",
    "import pyspark\n",
    "import random\n"
   ]
  },
  {
   "cell_type": "code",
   "execution_count": 6,
   "id": "4618a0ec-215d-4d78-ac5e-54d35771f35b",
   "metadata": {},
   "outputs": [],
   "source": [
    "def stop_spark():\n",
    "    return sc.stop()"
   ]
  },
  {
   "cell_type": "code",
   "execution_count": 2,
   "id": "b7c9709c-52c2-490d-ab51-1ba6ae93a7ca",
   "metadata": {},
   "outputs": [],
   "source": [
    "def test():\n",
    "    num_samples = 10000\n",
    "    def inside(p):     \n",
    "        x, y = random.random(), random.random()\n",
    "        return x*x + y*y < 1\n",
    "\n",
    "    count = sc.parallelize(range(0, num_samples)).filter(inside).count()\n",
    "\n",
    "    pi = 4 * count / num_samples\n",
    "    return print(pi)"
   ]
  },
  {
   "cell_type": "code",
   "execution_count": 3,
   "id": "797707ec-a18d-4ff8-a6f7-64fa0cbe9e40",
   "metadata": {},
   "outputs": [],
   "source": [
    "APPNAME=\"ClimateChange\""
   ]
  },
  {
   "cell_type": "code",
   "execution_count": 4,
   "id": "2862cc1f-11ad-4ca9-a637-cf7fc7dbea21",
   "metadata": {},
   "outputs": [
    {
     "name": "stderr",
     "output_type": "stream",
     "text": [
      "21/11/09 18:03:39 WARN NativeCodeLoader: Unable to load native-hadoop library for your platform... using builtin-java classes where applicable\n"
     ]
    }
   ],
   "source": [
    "sc = pyspark.SparkContext(appName=APPNAME)"
   ]
  },
  {
   "cell_type": "code",
   "execution_count": 5,
   "id": "ebc2587a-86b5-4e91-b557-c8ce258c6d6d",
   "metadata": {},
   "outputs": [
    {
     "name": "stderr",
     "output_type": "stream",
     "text": [
      "[Stage 0:>                                                          (0 + 4) / 4]\r"
     ]
    },
    {
     "name": "stdout",
     "output_type": "stream",
     "text": [
      "3.1344\n"
     ]
    },
    {
     "name": "stderr",
     "output_type": "stream",
     "text": [
      "                                                                                \r"
     ]
    }
   ],
   "source": [
    "test()"
   ]
  },
  {
   "cell_type": "code",
   "execution_count": null,
   "id": "88dfd5d9-23b0-45c7-968d-e5e663843bf8",
   "metadata": {},
   "outputs": [],
   "source": []
  },
  {
   "cell_type": "code",
   "execution_count": null,
   "id": "d86e60e6-1f43-4203-a94d-1263c1e71b68",
   "metadata": {},
   "outputs": [],
   "source": [
    "\n",
    "    "
   ]
  },
  {
   "cell_type": "code",
   "execution_count": null,
   "id": "0429763f-3717-49e7-98d7-e6ab5a008c1c",
   "metadata": {},
   "outputs": [],
   "source": []
  }
 ],
 "metadata": {
  "kernelspec": {
   "display_name": "ml",
   "language": "python",
   "name": "ml"
  },
  "language_info": {
   "codemirror_mode": {
    "name": "ipython",
    "version": 3
   },
   "file_extension": ".py",
   "mimetype": "text/x-python",
   "name": "python",
   "nbconvert_exporter": "python",
   "pygments_lexer": "ipython3",
   "version": "3.9.7"
  }
 },
 "nbformat": 4,
 "nbformat_minor": 5
}
