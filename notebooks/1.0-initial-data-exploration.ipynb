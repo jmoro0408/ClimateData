{
 "cells": [
  {
   "cell_type": "markdown",
   "id": "9fc459c8-d337-4abd-920d-4d5b97674ee2",
   "metadata": {},
   "source": [
    "# Imports and spark setup"
   ]
  },
  {
   "cell_type": "code",
   "execution_count": 1,
   "id": "66dbe330-50b0-4ee3-af4a-e6a9587a6413",
   "metadata": {},
   "outputs": [],
   "source": [
    "import sys, os\n",
    "sys.path.insert(0, os.path.abspath('..'))\n",
    "import findspark\n",
    "findspark.init()\n",
    "import pyspark\n",
    "import random\n",
    "from pyspark.sql import SparkSession\n",
    "from pathlib import Path\n",
    "from src.utils import DisplayablePath\n",
    "from pyspark.sql import SQLContext\n"
   ]
  },
  {
   "cell_type": "code",
   "execution_count": 52,
   "id": "cb8025ca-4722-4e94-a1b4-36d5c76660a1",
   "metadata": {},
   "outputs": [],
   "source": [
    "def spark_read_csv(filepath):\n",
    "    df = spark.read.load(filepath,format=\"csv\", inferSchema=\"true\", header=\"true\")\n",
    "    return df"
   ]
  },
  {
   "cell_type": "code",
   "execution_count": 69,
   "id": "62199f4f-9977-46e4-8bb8-af175c646e7b",
   "metadata": {},
   "outputs": [],
   "source": [
    "def dataframe_summary(df):\n",
    "    print(\"----------------------\")\n",
    "    #print(df.head(2))\n",
    "    print(df.printSchema())\n",
    "    print(f\"There are {df.count()} rows\")\n",
    "    "
   ]
  },
  {
   "cell_type": "code",
   "execution_count": 2,
   "id": "4618a0ec-215d-4d78-ac5e-54d35771f35b",
   "metadata": {},
   "outputs": [],
   "source": [
    "def stop_spark():\n",
    "    return sc.stop()"
   ]
  },
  {
   "cell_type": "code",
   "execution_count": 11,
   "id": "b7c9709c-52c2-490d-ab51-1ba6ae93a7ca",
   "metadata": {},
   "outputs": [],
   "source": [
    "def test():\n",
    "    num_samples = 10000\n",
    "    def inside(p):     \n",
    "        x, y = random.random(), random.random()\n",
    "        return x*x + y*y < 1\n",
    "\n",
    "    count = sc.parallelize(range(0, num_samples)).filter(inside).count()\n",
    "\n",
    "    pi = 4 * count / num_samples\n",
    "    return print(pi)"
   ]
  },
  {
   "cell_type": "code",
   "execution_count": 4,
   "id": "797707ec-a18d-4ff8-a6f7-64fa0cbe9e40",
   "metadata": {},
   "outputs": [],
   "source": [
    "APPNAME=\"ClimateChange\""
   ]
  },
  {
   "cell_type": "code",
   "execution_count": 9,
   "id": "2862cc1f-11ad-4ca9-a637-cf7fc7dbea21",
   "metadata": {},
   "outputs": [],
   "source": [
    "spark = SparkSession.builder.appName(APPNAME).getOrCreate()\n",
    "sc = spark.sparkContext\n",
    "sqlContext = SQLContext(spark)"
   ]
  },
  {
   "cell_type": "code",
   "execution_count": 12,
   "id": "ebc2587a-86b5-4e91-b557-c8ce258c6d6d",
   "metadata": {},
   "outputs": [
    {
     "name": "stderr",
     "output_type": "stream",
     "text": [
      "[Stage 0:>                                                          (0 + 4) / 4]\r"
     ]
    },
    {
     "name": "stdout",
     "output_type": "stream",
     "text": [
      "3.142\n"
     ]
    },
    {
     "name": "stderr",
     "output_type": "stream",
     "text": [
      "                                                                                \r"
     ]
    }
   ],
   "source": [
    "test()"
   ]
  },
  {
   "cell_type": "code",
   "execution_count": 7,
   "id": "ddc1bad5-525d-4c6c-a63a-c77d60c33eea",
   "metadata": {},
   "outputs": [],
   "source": [
    "stop_spark()"
   ]
  },
  {
   "cell_type": "markdown",
   "id": "7b3e607f-4d09-4b56-bce5-742646380242",
   "metadata": {},
   "source": [
    "# Data Imports"
   ]
  },
  {
   "cell_type": "code",
   "execution_count": 14,
   "id": "d86e60e6-1f43-4203-a94d-1263c1e71b68",
   "metadata": {},
   "outputs": [
    {
     "name": "stdout",
     "output_type": "stream",
     "text": [
      "raw/\n",
      "├── .DS_Store\n",
      "├── .gitkeep\n",
      "├── climate_change_download_0.xls\n",
      "├── GlobalTemperatures/\n",
      "│   ├── GlobalLandTemperaturesByCity.csv\n",
      "│   ├── GlobalLandTemperaturesByCountry.csv\n",
      "│   ├── GlobalLandTemperaturesByMajorCity.csv\n",
      "│   ├── GlobalLandTemperaturesByState.csv\n",
      "│   ├── GlobalTemperatures.csv\n",
      "│   └── metadata.txt\n",
      "└── UNGreenhouseGasInventoryData /\n",
      "    ├── .DS_Store\n",
      "    ├── Co2.csv\n",
      "    ├── Hydrofluorocarbons.csv\n",
      "    ├── metadata.txt\n",
      "    ├── Methane.csv\n",
      "    ├── Nitrogen_trifluoride .csv\n",
      "    ├── Nitrous_oxide.csv\n",
      "    ├── Perfluorocarbons.csv\n",
      "    └── Sulphur_hexafluoride.csv\n"
     ]
    }
   ],
   "source": [
    "DATA_DIR = r\"/Users/jamesmoro/Documents/Python/ClimateData/data/raw\"\n",
    "paths = DisplayablePath.make_tree(Path(DATA_DIR))\n",
    "for path in paths:\n",
    "    print(path.displayable())"
   ]
  },
  {
   "cell_type": "code",
   "execution_count": 15,
   "id": "0429763f-3717-49e7-98d7-e6ab5a008c1c",
   "metadata": {},
   "outputs": [],
   "source": [
    "GLOBALTEMP_DIR = Path(r\"/Users/jamesmoro/Documents/Python/ClimateData/data/raw\", \"GlobalTemperatures/\")\n",
    "GLOBALTEMPS_FILES = [\n",
    "    \"GlobalLandTemperaturesByCity\",\n",
    "    \"GlobalLandTemperaturesByCountry\",\n",
    "    \"GlobalLandTemperaturesByMajorCity\",\n",
    "    \"GlobalLandTemperaturesByState\",\n",
    "    \"GlobalTemperatures\"\n",
    "]"
   ]
  },
  {
   "cell_type": "code",
   "execution_count": 16,
   "id": "2c1897cd-b2c8-4420-9cfb-57ba13c652cc",
   "metadata": {},
   "outputs": [],
   "source": [
    "globaltemps_paths = [str(Path(GLOBALTEMP_DIR,file+\".csv\")) for file in GLOBALTEMPS_FILES] #have to convert back to str to read in spark"
   ]
  },
  {
   "cell_type": "code",
   "execution_count": 17,
   "id": "3059f0be-5b91-4ede-9dc9-6cd36f198152",
   "metadata": {},
   "outputs": [],
   "source": [
    "GREENHOUSEGAS_DIR = Path(r\"/Users/jamesmoro/Documents/Python/ClimateData/data/raw\", \"UNGreenhouseGasInventoryData/\")\n",
    "\n",
    "GREENHOUSEGAS_FILES = [\n",
    "    \"Co2\", \n",
    "    \"Hydrofluorocarbons\",\n",
    "    \"Methane\", \n",
    "    \"Nitrogen_trifluoride\", \n",
    "    \"Nitrous_oxide\",\n",
    "    \"Perfluorocarbons\",\n",
    "    \"Sulphur_hexafluoride\",\n",
    "]"
   ]
  },
  {
   "cell_type": "code",
   "execution_count": 20,
   "id": "60128f6c-60ac-4321-825c-c1dbac281059",
   "metadata": {},
   "outputs": [],
   "source": [
    "greenhousegas_paths = [str(Path(GREENHOUSEGAS_DIR,file+\".csv\")) for file in GREENHOUSEGAS_FILES]"
   ]
  },
  {
   "cell_type": "code",
   "execution_count": 70,
   "id": "3db7b3c8-5a1e-42a6-bf0b-8f5368099468",
   "metadata": {},
   "outputs": [
    {
     "name": "stdout",
     "output_type": "stream",
     "text": [
      "+---------------+----+----------------+\n",
      "|Country or Area|Year|           Value|\n",
      "+---------------+----+----------------+\n",
      "|      Australia|2018|415953.946668257|\n",
      "|      Australia|2017| 415097.42766819|\n",
      "+---------------+----+----------------+\n",
      "only showing top 2 rows\n",
      "\n"
     ]
    }
   ],
   "source": [
    "spark_read_csv(greenhousegas_paths[0]).show(2)"
   ]
  },
  {
   "cell_type": "code",
   "execution_count": 99,
   "id": "f9358e32-eec8-4cc9-9c95-43af101d30e2",
   "metadata": {},
   "outputs": [
    {
     "data": {
      "text/plain": [
       "{'Co2': 1247,\n",
       " 'Hydrofluorocarbons': 1149,\n",
       " 'Methane': 1247,\n",
       " 'Nitrogen_trifluoride': 316,\n",
       " 'Nitrous_oxide': 1247,\n",
       " 'Perfluorocarbons': 978,\n",
       " 'Sulphur_hexafluoride': 1207}"
      ]
     },
     "execution_count": 99,
     "metadata": {},
     "output_type": "execute_result"
    }
   ],
   "source": [
    "greenhouse_gas_count = {Path(file).stem:(spark_read_csv(file)).count() for file in greenhousegas_paths}\n",
    "greenhouse_gas_count"
   ]
  },
  {
   "cell_type": "code",
   "execution_count": null,
   "id": "06313326-3ac5-4307-852c-882be55ce463",
   "metadata": {},
   "outputs": [],
   "source": []
  },
  {
   "cell_type": "code",
   "execution_count": null,
   "id": "375badbf-b146-4bc0-a48a-2630abb5000e",
   "metadata": {},
   "outputs": [],
   "source": []
  },
  {
   "cell_type": "code",
   "execution_count": null,
   "id": "b8b4fca5-1e7d-437f-9641-cee05c1972dd",
   "metadata": {},
   "outputs": [],
   "source": []
  }
 ],
 "metadata": {
  "kernelspec": {
   "display_name": "ml",
   "language": "python",
   "name": "ml"
  },
  "language_info": {
   "codemirror_mode": {
    "name": "ipython",
    "version": 3
   },
   "file_extension": ".py",
   "mimetype": "text/x-python",
   "name": "python",
   "nbconvert_exporter": "python",
   "pygments_lexer": "ipython3",
   "version": "3.9.7"
  }
 },
 "nbformat": 4,
 "nbformat_minor": 5
}
