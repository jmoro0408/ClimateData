{
 "cells": [
  {
   "cell_type": "markdown",
   "id": "9fc459c8-d337-4abd-920d-4d5b97674ee2",
   "metadata": {},
   "source": [
    "# Imports and spark setup"
   ]
  },
  {
   "cell_type": "code",
   "execution_count": 133,
   "id": "66dbe330-50b0-4ee3-af4a-e6a9587a6413",
   "metadata": {},
   "outputs": [],
   "source": [
    "import sys, os\n",
    "sys.path.insert(0, os.path.abspath('..'))\n",
    "import findspark\n",
    "findspark.init()\n",
    "import pyspark\n",
    "import random\n",
    "from pyspark.sql import SparkSession\n",
    "from pathlib import Path\n",
    "from src.utils import DisplayablePath\n",
    "from pyspark.sql import SQLContext\n",
    "import pyspark.sql.functions as F\n",
    "import plotly.graph_objects as go\n",
    "import pandas as pd\n",
    "import matplotlib.pyplot as plt\n",
    "import numpy as np"
   ]
  },
  {
   "cell_type": "code",
   "execution_count": 2,
   "id": "821b63b0-ba00-4f48-8cc2-bb4e99009a75",
   "metadata": {},
   "outputs": [],
   "source": [
    "def count_missings(spark_df,sort=True):\n",
    "    \"\"\"\n",
    "    Counts number of nulls and nans in each column\n",
    "    \"\"\"\n",
    "    df = spark_df.select([F.count(F.when(F.isnan(c) | F.isnull(c), c)).alias(c) for (c,c_type) in spark_df.dtypes if c_type not in ('timestamp', 'string', 'date')]).toPandas()\n",
    "\n",
    "    if len(df) == 0:\n",
    "        print(\"There are no any missing values!\")\n",
    "        return None\n",
    "\n",
    "    if sort:\n",
    "        return df.rename(index={0: 'count'}).T.sort_values(\"count\",ascending=False)\n",
    "\n",
    "    return df"
   ]
  },
  {
   "cell_type": "code",
   "execution_count": 3,
   "id": "cb8025ca-4722-4e94-a1b4-36d5c76660a1",
   "metadata": {},
   "outputs": [],
   "source": [
    "def spark_read_csv(filepath):\n",
    "    df = spark.read.load(filepath,format=\"csv\", inferSchema=\"true\", header=\"true\")\n",
    "    return df"
   ]
  },
  {
   "cell_type": "code",
   "execution_count": 4,
   "id": "62199f4f-9977-46e4-8bb8-af175c646e7b",
   "metadata": {},
   "outputs": [],
   "source": [
    "def dataframe_summary(df):\n",
    "    print(\"----------------------\")\n",
    "    #print(df.head(2))\n",
    "    print(df.printSchema())\n",
    "    print(f\"There are {df.count()} rows\")\n",
    "    "
   ]
  },
  {
   "cell_type": "code",
   "execution_count": 5,
   "id": "4618a0ec-215d-4d78-ac5e-54d35771f35b",
   "metadata": {},
   "outputs": [],
   "source": [
    "def stop_spark():\n",
    "    return sc.stop()"
   ]
  },
  {
   "cell_type": "code",
   "execution_count": 6,
   "id": "797707ec-a18d-4ff8-a6f7-64fa0cbe9e40",
   "metadata": {},
   "outputs": [],
   "source": [
    "APPNAME=\"ClimateChange\""
   ]
  },
  {
   "cell_type": "code",
   "execution_count": 7,
   "id": "2862cc1f-11ad-4ca9-a637-cf7fc7dbea21",
   "metadata": {},
   "outputs": [
    {
     "name": "stderr",
     "output_type": "stream",
     "text": [
      "21/11/13 11:38:19 WARN NativeCodeLoader: Unable to load native-hadoop library for your platform... using builtin-java classes where applicable\n",
      "/Users/jamesmoro/server/spark-3.2.0-bin-hadoop3.2/python/pyspark/sql/context.py:77: FutureWarning: Deprecated in 3.0.0. Use SparkSession.builder.getOrCreate() instead.\n",
      "  warnings.warn(\n"
     ]
    }
   ],
   "source": [
    "spark = SparkSession.builder.appName(APPNAME).getOrCreate()\n",
    "sc = spark.sparkContext\n",
    "sqlContext = SQLContext(spark)"
   ]
  },
  {
   "cell_type": "code",
   "execution_count": 7,
   "id": "ddc1bad5-525d-4c6c-a63a-c77d60c33eea",
   "metadata": {},
   "outputs": [],
   "source": [
    "stop_spark()"
   ]
  },
  {
   "cell_type": "markdown",
   "id": "7b3e607f-4d09-4b56-bce5-742646380242",
   "metadata": {},
   "source": [
    "# Data Imports"
   ]
  },
  {
   "cell_type": "code",
   "execution_count": 8,
   "id": "d86e60e6-1f43-4203-a94d-1263c1e71b68",
   "metadata": {},
   "outputs": [
    {
     "name": "stdout",
     "output_type": "stream",
     "text": [
      "raw/\n",
      "├── .DS_Store\n",
      "├── .gitkeep\n",
      "├── climate_change_download_0.xls\n",
      "├── GlobalTemperatures/\n",
      "│   ├── GlobalLandTemperaturesByCity.csv\n",
      "│   ├── GlobalLandTemperaturesByCountry.csv\n",
      "│   ├── GlobalLandTemperaturesByMajorCity.csv\n",
      "│   ├── GlobalLandTemperaturesByState.csv\n",
      "│   ├── GlobalTemperatures.csv\n",
      "│   └── metadata.txt\n",
      "└── UNGreenhouseGasInventoryData/\n",
      "    ├── .DS_Store\n",
      "    ├── Co2.csv\n",
      "    ├── Hydrofluorocarbons.csv\n",
      "    ├── metadata.txt\n",
      "    ├── Methane.csv\n",
      "    ├── Nitrogen_trifluoride.csv\n",
      "    ├── Nitrous_oxide.csv\n",
      "    ├── Perfluorocarbons.csv\n",
      "    └── Sulphur_hexafluoride.csv\n"
     ]
    }
   ],
   "source": [
    "DATA_DIR = r\"/Users/jamesmoro/Documents/Python/ClimateData/data/raw\"\n",
    "paths = DisplayablePath.make_tree(Path(DATA_DIR))\n",
    "for path in paths:\n",
    "    print(path.displayable())"
   ]
  },
  {
   "cell_type": "code",
   "execution_count": 9,
   "id": "0429763f-3717-49e7-98d7-e6ab5a008c1c",
   "metadata": {},
   "outputs": [],
   "source": [
    "GLOBALTEMP_DIR = Path(r\"/Users/jamesmoro/Documents/Python/ClimateData/data/raw\", \"GlobalTemperatures/\")\n",
    "GLOBALTEMPS_FILES = [\n",
    "    \"GlobalLandTemperaturesByCity\",\n",
    "    \"GlobalLandTemperaturesByCountry\",\n",
    "    \"GlobalLandTemperaturesByMajorCity\",\n",
    "    \"GlobalLandTemperaturesByState\",\n",
    "    \"GlobalTemperatures\"\n",
    "]"
   ]
  },
  {
   "cell_type": "code",
   "execution_count": 10,
   "id": "2c1897cd-b2c8-4420-9cfb-57ba13c652cc",
   "metadata": {},
   "outputs": [],
   "source": [
    "globaltemps_paths = [str(Path(GLOBALTEMP_DIR,file+\".csv\")) for file in GLOBALTEMPS_FILES] #have to convert back to str to read in spark"
   ]
  },
  {
   "cell_type": "code",
   "execution_count": 11,
   "id": "3059f0be-5b91-4ede-9dc9-6cd36f198152",
   "metadata": {},
   "outputs": [],
   "source": [
    "GREENHOUSEGAS_DIR = Path(r\"/Users/jamesmoro/Documents/Python/ClimateData/data/raw\", \"UNGreenhouseGasInventoryData/\")\n",
    "\n",
    "GREENHOUSEGAS_FILES = [\n",
    "    \"Co2\", \n",
    "    \"Hydrofluorocarbons\",\n",
    "    \"Methane\", \n",
    "    \"Nitrogen_trifluoride\", \n",
    "    \"Nitrous_oxide\",\n",
    "    \"Perfluorocarbons\",\n",
    "    \"Sulphur_hexafluoride\",\n",
    "]"
   ]
  },
  {
   "cell_type": "markdown",
   "id": "690aede9-12ba-4634-9c57-7db2184392f8",
   "metadata": {},
   "source": [
    "### Greenhouse Gas Files"
   ]
  },
  {
   "cell_type": "code",
   "execution_count": 12,
   "id": "60128f6c-60ac-4321-825c-c1dbac281059",
   "metadata": {},
   "outputs": [],
   "source": [
    "greenhousegas_paths = [str(Path(GREENHOUSEGAS_DIR,file+\".csv\")) for file in GREENHOUSEGAS_FILES]"
   ]
  },
  {
   "cell_type": "code",
   "execution_count": 13,
   "id": "3db7b3c8-5a1e-42a6-bf0b-8f5368099468",
   "metadata": {},
   "outputs": [
    {
     "name": "stderr",
     "output_type": "stream",
     "text": [
      "                                                                                \r"
     ]
    },
    {
     "name": "stdout",
     "output_type": "stream",
     "text": [
      "+---------------+----+----------------+\n",
      "|Country or Area|Year|           Value|\n",
      "+---------------+----+----------------+\n",
      "|      Australia|2018|415953.946668257|\n",
      "|      Australia|2017| 415097.42766819|\n",
      "+---------------+----+----------------+\n",
      "only showing top 2 rows\n",
      "\n"
     ]
    }
   ],
   "source": [
    "spark_read_csv(greenhousegas_paths[0]).show(2)"
   ]
  },
  {
   "cell_type": "code",
   "execution_count": 14,
   "id": "f9358e32-eec8-4cc9-9c95-43af101d30e2",
   "metadata": {},
   "outputs": [
    {
     "data": {
      "text/plain": [
       "{'Co2': 1247,\n",
       " 'Hydrofluorocarbons': 1149,\n",
       " 'Methane': 1247,\n",
       " 'Nitrogen_trifluoride': 316,\n",
       " 'Nitrous_oxide': 1247,\n",
       " 'Perfluorocarbons': 978,\n",
       " 'Sulphur_hexafluoride': 1207}"
      ]
     },
     "execution_count": 14,
     "metadata": {},
     "output_type": "execute_result"
    }
   ],
   "source": [
    "greenhousegas_count = {Path(file).stem:(spark_read_csv(file)).count() for file in greenhousegas_paths}\n",
    "greenhousegas_count"
   ]
  },
  {
   "cell_type": "code",
   "execution_count": 32,
   "id": "257e1cdb-f670-48a9-86df-54f209d09292",
   "metadata": {},
   "outputs": [],
   "source": [
    "CO2 = spark_read_csv(greenhousegas_paths[0])\n",
    "HFC = spark_read_csv(greenhousegas_paths[1])\n",
    "CH4 = spark_read_csv(greenhousegas_paths[2])\n",
    "NF3 = spark_read_csv(greenhousegas_paths[3])\n",
    "N20 = spark_read_csv(greenhousegas_paths[4])\n",
    "PFC = spark_read_csv(greenhousegas_paths[5])\n",
    "SF6 = spark_read_csv(greenhousegas_paths[6])\n"
   ]
  },
  {
   "cell_type": "code",
   "execution_count": 30,
   "id": "0ea90814-2252-4687-9ab0-2e13de5a82ef",
   "metadata": {},
   "outputs": [
    {
     "name": "stdout",
     "output_type": "stream",
     "text": [
      "root\n",
      " |-- Country or Area: string (nullable = true)\n",
      " |-- Year: integer (nullable = true)\n",
      " |-- Value: double (nullable = true)\n",
      "\n",
      "+---------------+----+----------------+\n",
      "|Country or Area|Year|           Value|\n",
      "+---------------+----+----------------+\n",
      "|      Australia|2018|415953.946668257|\n",
      "|      Australia|2017| 415097.42766819|\n",
      "|      Australia|2016|411031.531117043|\n",
      "|      Australia|2015|401554.757230168|\n",
      "|      Australia|2014|394116.891505507|\n",
      "+---------------+----+----------------+\n",
      "only showing top 5 rows\n",
      "\n"
     ]
    }
   ],
   "source": [
    "CO2.printSchema()\n",
    "CO2.show(5)"
   ]
  },
  {
   "cell_type": "code",
   "execution_count": 48,
   "id": "b183c994-343b-48fe-9841-d9c6cfb82941",
   "metadata": {},
   "outputs": [
    {
     "name": "stdout",
     "output_type": "stream",
     "text": [
      "+-------------------------------+\n",
      "|count(DISTINCT Country or Area)|\n",
      "+-------------------------------+\n",
      "|                             43|\n",
      "+-------------------------------+\n",
      "\n"
     ]
    }
   ],
   "source": [
    "CO2.select(F.countDistinct(\"Country or Area\")).show()"
   ]
  },
  {
   "cell_type": "markdown",
   "id": "cb4f162a-e38c-4fad-a63e-75edb7be8a9c",
   "metadata": {},
   "source": [
    "43 different countries"
   ]
  },
  {
   "cell_type": "code",
   "execution_count": 58,
   "id": "b3c7cbf9-d3eb-4e38-837a-ae8dca1d2f8f",
   "metadata": {},
   "outputs": [
    {
     "name": "stdout",
     "output_type": "stream",
     "text": [
      "+---------+\n",
      "|min(Year)|\n",
      "+---------+\n",
      "|     1990|\n",
      "+---------+\n",
      "\n",
      "+---------+\n",
      "|max(Year)|\n",
      "+---------+\n",
      "|     2018|\n",
      "+---------+\n",
      "\n"
     ]
    }
   ],
   "source": [
    "CO2.agg({\"Year\":\"min\"}).show()\n",
    "CO2.agg({\"Year\":\"max\"}).show()"
   ]
  },
  {
   "cell_type": "markdown",
   "id": "1c811773-db18-49f4-b159-e16377c7b4e6",
   "metadata": {},
   "source": [
    "# Plotting Emissions"
   ]
  },
  {
   "cell_type": "code",
   "execution_count": 139,
   "id": "e8d9e72f-1c20-47e6-99ff-701562fdc1ae",
   "metadata": {},
   "outputs": [],
   "source": [
    "CO2_df = CO2.select(\"*\").toPandas()\n",
    "HFC_df = HFC.select(\"*\").toPandas()\n",
    "CH4_df = CH4.select(\"*\").toPandas()\n",
    "NF3_df = NF3.select(\"*\").toPandas()\n",
    "N20_df = N20.select(\"*\").toPandas()\n",
    "PFC_df = PFC.select(\"*\").toPandas()\n",
    "SF6_df = SF6.select(\"*\").toPandas()\n",
    "greenhouse_gas_dfs = [CO2_df,\n",
    "HFC_df,\n",
    "CH4_df,\n",
    "NF3_df,\n",
    "N20_df,\n",
    "PFC_df,\n",
    "SF6_df,\n",
    "]"
   ]
  },
  {
   "cell_type": "code",
   "execution_count": 149,
   "id": "b257d51e-a751-4aca-a0aa-9ec20ca31385",
   "metadata": {},
   "outputs": [],
   "source": [
    "countries = CO2_df.sort_values(by=\"Value\", ascending = False)[\"Country or Area\"].unique()"
   ]
  },
  {
   "cell_type": "code",
   "execution_count": 150,
   "id": "17cd0351-c848-4823-90f5-42efade7cde1",
   "metadata": {},
   "outputs": [
    {
     "data": {
      "text/plain": [
       "<matplotlib.legend.Legend at 0x12b2e2430>"
      ]
     },
     "execution_count": 150,
     "metadata": {},
     "output_type": "execute_result"
    },
    {
     "data": {
      "image/png": "[encoded data removed]",
      "text/plain": [
       "<Figure size 1440x1440 with 7 Axes>"
      ]
     },
     "metadata": {
      "needs_background": "light"
     },
     "output_type": "display_data"
    }
   ],
   "source": [
    "number_of_plots = len(countries)\n",
    "\n",
    "fig, axs = plt.subplots(nrows = 7, ncols =1, sharex = True, figsize = (20,20))\n",
    "colormap = plt.cm.nipy_spectral\n",
    "colors = [colormap(i) for i in np.linspace(0, 1,number_of_plots)]\n",
    "\n",
    "for ax in axs.flat:\n",
    "    ax.set_prop_cycle('color', colors)\n",
    "\n",
    "for graph_index,df in enumerate(greenhouse_gas_dfs):\n",
    "    for country in countries:\n",
    "        df_plot = df[df[\"Country or Area\"] == country] \n",
    "        axs[graph_index].plot(df_plot[\"Year\"], df_plot[\"Value\"], label = country)\n",
    "\n",
    "axs[0].set(title=\"Carbon Dioxide\")\n",
    "axs[1].set(title=\"Hydrofluorocarbons\")\n",
    "axs[2].set(title=\"Methane\")\n",
    "axs[3].set(title=\"Nitrogen trifluoride\")\n",
    "axs[4].set(title=\"Nitrous_oxide\")\n",
    "axs[5].set(title=\"Perfluorocarbons\")\n",
    "axs[6].set(title=\"Sulphur hexafluoride\", xlabel=\"Year\")\n",
    "for ax in axs.flat:\n",
    "    ax.set(ylabel=\"Tonnes\")\n",
    "    \n",
    "axs[0].legend(bbox_to_anchor=(1.05, 1.0))\n"
   ]
  },
  {
   "cell_type": "code",
   "execution_count": null,
   "id": "3bd52b62-6750-478d-9b2b-845f6e259df1",
   "metadata": {},
   "outputs": [],
   "source": []
  },
  {
   "cell_type": "markdown",
   "id": "88d0d298-84f1-468b-91e0-ebde4265fe40",
   "metadata": {},
   "source": [
    "## CO2 emissions by country and year"
   ]
  },
  {
   "cell_type": "code",
   "execution_count": 75,
   "id": "2adfec3b-d698-43dd-a9bf-789b108abed9",
   "metadata": {},
   "outputs": [],
   "source": [
    "CO2_countries = [CO2.select(\"Country or Area\").distinct().collect()[i][0] for i in range(len(CO2.select(\"Country or Area\").distinct().collect()))]"
   ]
  },
  {
   "cell_type": "code",
   "execution_count": 104,
   "id": "4052fa8d-c07b-49bd-a1cd-9c049bc5414a",
   "metadata": {},
   "outputs": [
    {
     "data": {
      "application/vnd.plotly.v1+json": {
       "config": {
        "plotlyServerURL": "https://plot.ly"
       },
       "data": [
        {
         "mode": "lines",
         "name": "Sweden",
         "type": "scatter",
         "x": [
          2018,
          2017,
          2016,
          2015,
          2014,
          2013,
          2012,
          2011,
          2010,
          2009,
          2008,
          2007,
          2006,
          2005,
          2004,
          2003,
          2002,
          2001,
          2000,
          1999,
          1998,
          1997,
          1996,
          1995,
          1994,
          1993,
          1992,
          1991,
          1990
         ],
         "y": [
          41766.1827222488,
          42306.8160464575,
          42972.5653420075,
          43336.7554826262,
          43337.5554131351,
          45086.3354841233,
          46692.0074308832,
          49166.9005986578,
          53042.2233607854,
          47231.1168383802,
          50855.9955834723,
          52940.9044464416,
          53674.2651981627,
          53852.8566780823,
          56475.9190057769,
          57160.5666051887,
          56572.5197216035,
          55617.0558462997,
          54684.4283163901,
          55820.1569175791,
          58696.6659510502,
          58212.5521332682,
          63302.7784000065,
          59366.2066097918,
          59953.8090383714,
          57493.4493373778,
          57451.4900177651,
          57707.2230393214,
          57348.8248895493
         ]
        },
        {
         "mode": "lines",
         "name": "Turkey",
         "type": "scatter",
         "x": [
          2018,
          2017,
          2016,
          2015,
          2014,
          2013,
          2012,
          2011,
          2010,
          2009,
          2008,
          2007,
          2006,
          2005,
          2004,
          2003,
          2002,
          2001,
          2000,
          1999,
          1998,
          1997,
          1996,
          1995,
          1994,
          1993,
          1992,
          1991,
          1990
         ],
         "y": [
          419194.747142347,
          425329.230021553,
          401239.738263029,
          381331.944034388,
          361675.46081844,
          345220.584947758,
          353666.209099794,
          339482.25210975,
          314380.032550352,
          315359.637575316,
          309321.194915912,
          312736.708478018,
          281649.184924484,
          264200.797153874,
          244464.112462258,
          236483.892910668,
          220977.701101122,
          213486.093927579,
          229790.601259649,
          207804.162731911,
          212040.281738168,
          212005.568093463,
          199521.938861493,
          180903.047419235,
          167433.1132747,
          171011.162802133,
          163922.249650552,
          157982.004627358,
          151508.467579803
         ]
        },
        {
         "mode": "lines",
         "name": "Germany",
         "type": "scatter",
         "x": [
          2018,
          2017,
          2016,
          2015,
          2014,
          2013,
          2012,
          2011,
          2010,
          2009,
          2008,
          2007,
          2006,
          2005,
          2004,
          2003,
          2002,
          2001,
          2000,
          1999,
          1998,
          1997,
          1996,
          1995,
          1994,
          1993,
          1992,
          1991,
          1990
         ],
         "y": [
          755362.342455585,
          786654.551411376,
          800510.288476534,
          795816.358715061,
          792684.873997206,
          831316.278977669,
          813893.12080289,
          809426.949833717,
          832669.735135068,
          790195.717336015,
          854706.334353909,
          851383.304869504,
          877997.390977238,
          866388.548679081,
          886965.973669802,
          900866.405408944,
          899821.052898805,
          916366.135188787,
          899780.198208709,
          895642.93095689,
          923275.908728203,
          931230.07006033,
          959124.130272961,
          939176.703608385,
          939630.279254017,
          956233.107652013,
          965889.812792495,
          1014199.71521822,
          1052348.54443457
         ]
        },
        {
         "mode": "lines",
         "name": "France",
         "type": "scatter",
         "x": [
          2018,
          2017,
          2016,
          2015,
          2014,
          2013,
          2012,
          2011,
          2010,
          2009,
          2008,
          2007,
          2006,
          2005,
          2004,
          2003,
          2002,
          2001,
          2000,
          1999,
          1998,
          1997,
          1996,
          1995,
          1994,
          1993,
          1992,
          1991,
          1990
         ],
         "y": [
          338327.096421297,
          352178.983611535,
          347095.62459045,
          344096.978139489,
          339492.915843056,
          370548.990871462,
          368311.772581799,
          367051.083058466,
          393717.818529277,
          385421.583706487,
          401422.869864192,
          409033.413473519,
          419737.020157107,
          430528.27758708,
          427117.576492321,
          426145.699954993,
          419347.504788213,
          424005.850536512,
          419232.282969929,
          424600.505776661,
          428344.355226331,
          408989.958998911,
          415941.019848892,
          400239.115442511,
          393368.863483863,
          397655.363749159,
          418231.023879481,
          428927.106679341,
          403307.236177174
         ]
        },
        {
         "mode": "lines",
         "name": "Greece",
         "type": "scatter",
         "x": [
          2018,
          2017,
          2016,
          2015,
          2014,
          2013,
          2012,
          2011,
          2010,
          2009,
          2008,
          2007,
          2006,
          2005,
          2004,
          2003,
          2002,
          2001,
          2000,
          1999,
          1998,
          1997,
          1996,
          1995,
          1994,
          1993,
          1992,
          1991,
          1990
         ],
         "y": [
          71797.8690987943,
          74852.8458947514,
          71368.3612573769,
          74957.9049084326,
          78659.7957440759,
          81735.053637325,
          91430.0996005176,
          94549.5772908435,
          97361.5039773485,
          104354.752916408,
          111125.241614693,
          114592.335161648,
          112472.437506665,
          113930.966895994,
          109546.749153552,
          109089.753810943,
          105020.956638142,
          105385.700419808,
          102999.025886454,
          97958.3784914008,
          98641.499372073,
          93820.9323821188,
          89132.0077404819,
          86979.0976940621,
          86442.1768338889,
          84296.3663014509,
          84982.7106282307,
          83401.1206733625,
          83425.5481500187
         ]
        },
        {
         "mode": "lines",
         "name": "Slovakia",
         "type": "scatter",
         "x": [
          2018,
          2017,
          2016,
          2015,
          2014,
          2013,
          2012,
          2011,
          2010,
          2009,
          2008,
          2007,
          2006,
          2005,
          2004,
          2003,
          2002,
          2001,
          2000,
          1999,
          1998,
          1997,
          1996,
          1995,
          1994,
          1993,
          1992,
          1991,
          1990
         ],
         "y": [
          36087.8372271146,
          36087.3376584061,
          34921.7932560865,
          34484.2368113437,
          33654.4973335962,
          35577.8376169972,
          36021.1815156659,
          38111.9530412724,
          38523.2172874425,
          37755.0655849329,
          41503.1743561107,
          41095.1064916103,
          42687.2904164088,
          42910.8509025192,
          42924.7490709343,
          42438.0837476412,
          42112.4050537535,
          43378.2953275639,
          41289.1304339426,
          43200.6080717694,
          44073.1449668058,
          44313.6803359096,
          44186.1243917306,
          44322.4136601684,
          43878.7208525806,
          46484.2249088796,
          49029.1359385678,
          53437.9015504419,
          61633.4625976502
         ]
        },
        {
         "mode": "lines",
         "name": "Belgium",
         "type": "scatter",
         "x": [
          2018,
          2017,
          2016,
          2015,
          2014,
          2013,
          2012,
          2011,
          2010,
          2009,
          2008,
          2007,
          2006,
          2005,
          2004,
          2003,
          2002,
          2001,
          2000,
          1999,
          1998,
          1997,
          1996,
          1995,
          1994,
          1993,
          1992,
          1991,
          1990
         ],
         "y": [
          100207.83597427,
          99456.2752697695,
          99806.9444086566,
          100981.344053584,
          96811.3230753459,
          102674.40413736,
          102428.754733721,
          105046.057789402,
          114561.03017821,
          107743.366678221,
          120202.862272037,
          120496.161555536,
          123905.757273144,
          125661.687650787,
          128805.292345769,
          128275.264734252,
          126878.582126558,
          126084.684409971,
          126735.296267877,
          124718.898266857,
          130227.109709565,
          124001.76432726,
          129496.580209897,
          125956.472619374,
          124816.904357336,
          121444.204570843,
          122507.842211766,
          123382.082307765,
          120309.34284971
         ]
        },
        {
         "mode": "lines",
         "name": "Finland",
         "type": "scatter",
         "x": [
          2018,
          2017,
          2016,
          2015,
          2014,
          2013,
          2012,
          2011,
          2010,
          2009,
          2008,
          2007,
          2006,
          2005,
          2004,
          2003,
          2002,
          2001,
          2000,
          1999,
          1998,
          1997,
          1996,
          1995,
          1994,
          1993,
          1992,
          1991,
          1990
         ],
         "y": [
          45849.3493987134,
          44673.0634245979,
          47227.5475650672,
          44113.7137355077,
          47643.8632832177,
          51750.9593461073,
          51222.1466565397,
          56665.6520503144,
          64099.4513237666,
          55924.3651900131,
          58609.6185514801,
          66760.3029952172,
          68384.4227742571,
          57042.8982041203,
          68960.7548572691,
          72657.82079628,
          65059.791570341,
          62536.2059866187,
          57038.2471515761,
          58894.769950879,
          59373.2560931243,
          62722.9924220393,
          64062.4092860885,
          58145.4431090716,
          61716.2022160394,
          56352.5530721308,
          54285.5264761443,
          55230.4040849182,
          56971.874271446
         ]
        },
        {
         "mode": "lines",
         "name": "Belarus",
         "type": "scatter",
         "x": [
          2018,
          2017,
          2016,
          2015,
          2014,
          2013,
          2012,
          2011,
          2010,
          2009,
          2008,
          2007,
          2006,
          2005,
          2004,
          2003,
          2002,
          2001,
          2000,
          1999,
          1998,
          1997,
          1996,
          1995,
          1994,
          1993,
          1992,
          1991,
          1990
         ],
         "y": [
          61871.6758664283,
          60742.9346075393,
          60284.8505856025,
          58633.0602039355,
          63083.6392330706,
          63743.4453720989,
          63008.3458582166,
          62106.7449034948,
          63156.3918517196,
          61402.6986828271,
          65694.8182536516,
          63569.9283051038,
          64157.1581431005,
          61367.0987934247,
          60076.4685262107,
          56484.9540140683,
          55077.6972533529,
          54967.8713049379,
          54877.3582978,
          54984.4971599379,
          57372.4677788785,
          58720.5917777519,
          58214.7994067877,
          57375.4507154768,
          62367.8855186097,
          76380.0498572845,
          88662.012949414,
          96647.1252823627,
          103689.711004985
         ]
        },
        {
         "mode": "lines",
         "name": "Malta",
         "type": "scatter",
         "x": [
          2018,
          2017,
          2016,
          2015,
          2014,
          2013,
          2012,
          2011,
          2010,
          2009,
          2008,
          2007,
          2006,
          2005,
          2004,
          2003,
          2002,
          2001,
          2000,
          1999,
          1998,
          1997,
          1996,
          1995,
          1994,
          1993,
          1992,
          1991,
          1990
         ],
         "y": [
          1531.58072622999,
          1552.99839832623,
          1399.48764230635,
          1735.29588043232,
          2442.39566061966,
          2437.84053423398,
          2762.07470760125,
          2578.07234188238,
          2581.75885927079,
          2532.56842377362,
          2747.13215957136,
          2735.72320641265,
          2665.94446943937,
          2654.25577102174,
          2846.41052992359,
          2979.28095586039,
          2707.48091404929,
          2665.17144778351,
          2545.52171918158,
          2627.59417415594,
          2545.13408682323,
          2586.18766734247,
          2578.44638570939,
          2460.2689108789,
          2669.72235318447,
          2891.12550751473,
          2314.9023423236,
          2255.38870041539,
          2408.46332514049
         ]
        },
        {
         "mode": "lines",
         "name": "Croatia",
         "type": "scatter",
         "x": [
          2018,
          2017,
          2016,
          2015,
          2014,
          2013,
          2012,
          2011,
          2010,
          2009,
          2008,
          2007,
          2006,
          2005,
          2004,
          2003,
          2002,
          2001,
          2000,
          1999,
          1998,
          1997,
          1996,
          1995,
          1994,
          1993,
          1992,
          1991,
          1990
         ],
         "y": [
          17718.6455724821,
          18737.6890371586,
          18105.0437764013,
          17840.7506872716,
          17704.9852778555,
          18454.6220097767,
          19114.7790291044,
          20682.4392444931,
          21050.859675384,
          21837.8014359227,
          23628.577726183,
          24843.8124351008,
          23529.4537376032,
          23330.0985764962,
          22916.8279594735,
          23268.2098760778,
          21912.7368743211,
          20806.7359711193,
          19694.4482097339,
          20115.455439737,
          19278.9034772627,
          18575.8786814894,
          17515.2663497201,
          16926.3357695294,
          16214.2221866827,
          16959.7805739569,
          16506.0770001773,
          17182.3020573119,
          23329.2494340722
         ]
        },
        {
         "mode": "lines",
         "name": "Italy",
         "type": "scatter",
         "x": [
          2018,
          2017,
          2016,
          2015,
          2014,
          2013,
          2012,
          2011,
          2010,
          2009,
          2008,
          2007,
          2006,
          2005,
          2004,
          2003,
          2002,
          2001,
          2000,
          1999,
          1998,
          1997,
          1996,
          1995,
          1994,
          1993,
          1992,
          1991,
          1990
         ],
         "y": [
          348085.029259785,
          351473.93294538,
          356556.196027575,
          360088.1778139,
          347860.803522809,
          367568.71230315,
          401554.708582207,
          422039.47517146,
          433688.023903586,
          422624.187307513,
          476229.970792145,
          487693.305512201,
          495124.198432933,
          500005.676339257,
          499619.392973289,
          494183.286884902,
          476251.235956733,
          468642.862531697,
          468442.086348554,
          464548.481049407,
          460049.199121092,
          448044.941141219,
          442277.406090101,
          448332.906183622,
          424581.72076242,
          430179.958454536,
          437829.803945848,
          437538.596512975,
          438008.802199713
         ]
        },
        {
         "mode": "lines",
         "name": "Lithuania",
         "type": "scatter",
         "x": [
          2018,
          2017,
          2016,
          2015,
          2014,
          2013,
          2012,
          2011,
          2010,
          2009,
          2008,
          2007,
          2006,
          2005,
          2004,
          2003,
          2002,
          2001,
          2000,
          1999,
          1998,
          1997,
          1996,
          1995,
          1994,
          1993,
          1992,
          1991,
          1990
         ],
         "y": [
          13669.4919754163,
          13545.8474876892,
          13327.5133241042,
          13297.1427973495,
          13087.4701343799,
          13340.2687330024,
          14330.8289402948,
          14271.0769800848,
          13926.7388560843,
          13022.7679520861,
          15179.1617992972,
          15797.7873514163,
          14408.0108486811,
          14091.0759457025,
          13272.3428701303,
          12679.8670936187,
          12690.0057602331,
          12621.3656534034,
          11873.9186455427,
          13476.9603730767,
          16039.6999792489,
          15182.2078409743,
          15757.6305015578,
          15084.4804331329,
          15788.2662671884,
          16348.048682982,
          21200.577166719,
          37851.5885217633,
          35771.8157080354
         ]
        },
        {
         "mode": "lines",
         "name": "Norway",
         "type": "scatter",
         "x": [
          2018,
          2017,
          2016,
          2015,
          2014,
          2013,
          2012,
          2011,
          2010,
          2009,
          2008,
          2007,
          2006,
          2005,
          2004,
          2003,
          2002,
          2001,
          2000,
          1999,
          1998,
          1997,
          1996,
          1995,
          1994,
          1993,
          1992,
          1991,
          1990
         ],
         "y": [
          43817.6567450557,
          43562.5414853235,
          44472.7299031563,
          45350.4963792483,
          44916.6060511976,
          44982.3953062284,
          45038.3126012353,
          45513.3598052323,
          46231.6541241374,
          43890.0273509531,
          45377.6950297943,
          46231.2860161085,
          44484.7805500628,
          43923.1568517922,
          44622.5799282537,
          44305.6803192546,
          42985.6641244404,
          43866.4144836801,
          42518.5514490745,
          42974.0245253799,
          42220.2291470528,
          41969.9754613374,
          41830.308078359,
          38707.5026816384,
          38088.9915720635,
          36224.2008777946,
          34734.7476284046,
          33816.4572582708,
          35321.326080573
         ]
        },
        {
         "mode": "lines",
         "name": "Spain",
         "type": "scatter",
         "x": [
          2018,
          2017,
          2016,
          2015,
          2014,
          2013,
          2012,
          2011,
          2010,
          2009,
          2008,
          2007,
          2006,
          2005,
          2004,
          2003,
          2002,
          2001,
          2000,
          1999,
          1998,
          1997,
          1996,
          1995,
          1994,
          1993,
          1992,
          1991,
          1990
         ],
         "y": [
          269654.253507379,
          274671.261697253,
          260759.563640033,
          271687.349200034,
          255100.205728436,
          252763.817288465,
          278850.691074916,
          284543.848339933,
          283724.993585763,
          297241.175040069,
          336624.210123802,
          368432.698383462,
          360578.604188534,
          369492.124730855,
          354485.57724037,
          337588.926976581,
          333379.515503135,
          313119.841102688,
          311267.046543212,
          299498.671563048,
          276021.58237108,
          267306.439161992,
          254795.329322826,
          267416.718324656,
          253661.393598356,
          241195.182873171,
          249813.194397124,
          240953.020775618,
          231213.556131095
         ]
        },
        {
         "mode": "lines",
         "name": "Czechia",
         "type": "scatter",
         "x": [
          2018,
          2017,
          2016,
          2015,
          2014,
          2013,
          2012,
          2011,
          2010,
          2009,
          2008,
          2007,
          2006,
          2005,
          2004,
          2003,
          2002,
          2001,
          2000,
          1999,
          1998,
          1997,
          1996,
          1995,
          1994,
          1993,
          1992,
          1991,
          1990
         ],
         "y": [
          104411.210688469,
          105641.726351171,
          106629.020365921,
          104815.37684623,
          104049.879538199,
          106427.45894163,
          110955.164604466,
          115060.25937587,
          117500.711769433,
          115193.743442035,
          122941.37326182,
          128264.329658795,
          126449.454548873,
          125671.941770852,
          128113.811132993,
          127382.803367257,
          123895.622125869,
          126957.555363238,
          127066.453950034,
          116623.428290961,
          125317.669241827,
          130733.0672073,
          134962.545911559,
          131608.25952709,
          132376.136876739,
          138637.287763167,
          144619.022012991,
          148894.127444014,
          164204.205712975
         ]
        },
        {
         "mode": "lines",
         "name": "Denmark",
         "type": "scatter",
         "x": [
          2018,
          2017,
          2016,
          2015,
          2014,
          2013,
          2012,
          2011,
          2010,
          2009,
          2008,
          2007,
          2006,
          2005,
          2004,
          2003,
          2002,
          2001,
          2000,
          1999,
          1998,
          1997,
          1996,
          1995,
          1994,
          1993,
          1992,
          1991,
          1990
         ],
         "y": [
          36246.2048229019,
          36213.2522774059,
          38301.0244931202,
          36493.9948537237,
          38866.7286499695,
          43079.3293409319,
          41218.2356733,
          45652.2788281635,
          50678.3061902569,
          50184.6891968054,
          52640.3662936756,
          56102.0354321429,
          60858.6853489123,
          52932.0006859352,
          56499.8132024679,
          62055.93279593,
          56895.5388693198,
          57322.6787148713,
          55609.6855353788,
          59842.6191053397,
          62395.8923553863,
          66603.0750402039,
          75987.0122095032,
          62655.7725719069,
          65699.5656561103,
          61682.5960905652,
          59595.5885790738,
          65428.3455260962,
          54845.6744775156
         ]
        },
        {
         "mode": "lines",
         "name": "Russian Federation",
         "type": "scatter",
         "x": [
          2018,
          2017,
          2016,
          2015,
          2014,
          2013,
          2012,
          2011,
          2010,
          2009,
          2008,
          2007,
          2006,
          2005,
          2004,
          2003,
          2002,
          2001,
          2000,
          1999,
          1998,
          1997,
          1996,
          1995,
          1994,
          1993,
          1992,
          1991,
          1990
         ],
         "y": [
          1691360.425737,
          1646179.81048091,
          1618304.25794665,
          1622861.01012164,
          1622348.90860012,
          1619172.89204109,
          1679866.1956823,
          1664953.14694512,
          1612884.81391211,
          1528764.918185,
          1636694.37485371,
          1604323.81361381,
          1606313.35529807,
          1547375.78114651,
          1530473.62452885,
          1525389.95129702,
          1495483.57832283,
          1507500.88045298,
          1471052.23087571,
          1486090.03432773,
          1458157.13465934,
          1475157.17201866,
          1580160.84390587,
          1612928.31983429,
          1641399.16026528,
          1859459.63110814,
          1957658.89440788,
          2395977.95961775,
          2525293.78247628
         ]
        },
        {
         "mode": "lines",
         "name": "Ireland",
         "type": "scatter",
         "x": [
          2018,
          2017,
          2016,
          2015,
          2014,
          2013,
          2012,
          2011,
          2010,
          2009,
          2008,
          2007,
          2006,
          2005,
          2004,
          2003,
          2002,
          2001,
          2000,
          1999,
          1998,
          1997,
          1996,
          1995,
          1994,
          1993,
          1992,
          1991,
          1990
         ],
         "y": [
          38803.3937724537,
          38910.192717045,
          40029.8365838452,
          38545.3302770518,
          36785.326520522,
          37235.3029534484,
          38209.5911496161,
          38052.2225963057,
          41747.9285976408,
          42179.5383695398,
          47366.2460993392,
          47665.1296631784,
          47603.9378150257,
          48155.535141546,
          46166.92555071,
          45683.9694440575,
          46081.9841328883,
          47607.4165209804,
          45248.9951753897,
          42440.0759845439,
          40708.8498524021,
          38805.2391127187,
          37469.1487566848,
          35852.6671194269,
          34838.1523119764,
          33716.1790147297,
          33494.9281671375,
          33674.0092451123,
          32944.3277756795
         ]
        },
        {
         "mode": "lines",
         "name": "Liechtenstein",
         "type": "scatter",
         "x": [
          2018,
          2017,
          2016,
          2015,
          2014,
          2013,
          2012,
          2011,
          2010,
          2009,
          2008,
          2007,
          2006,
          2005,
          2004,
          2003,
          2002,
          2001,
          2000,
          1999,
          1998,
          1997,
          1996,
          1995,
          1994,
          1993,
          1992,
          1991,
          1990
         ],
         "y": [
          143.749839455852,
          156.280011804227,
          149.880558815378,
          159.711343350088,
          161.238716190272,
          192.53702097383,
          185.31481906203,
          176.776956798351,
          190.808156025799,
          205.354339812109,
          219.507244021122,
          200.767422348734,
          231.098671603226,
          228.96964276856,
          229.380487768075,
          229.346078636479,
          220.012063927523,
          214.664580488927,
          216.854032789675,
          226.560381588969,
          229.232619043615,
          218.371012550569,
          205.958796841394,
          204.19997612085,
          201.109449948782,
          215.03232796014,
          206.948071672218,
          206.326470539648,
          198.967925612674
         ]
        },
        {
         "mode": "lines",
         "name": "Monaco",
         "type": "scatter",
         "x": [
          2018,
          2017,
          2016,
          2015,
          2014,
          2013,
          2012,
          2011,
          2010,
          2009,
          2008,
          2007,
          2006,
          2005,
          2004,
          2003,
          2002,
          2001,
          2000,
          1999,
          1998,
          1997,
          1996,
          1995,
          1994,
          1993,
          1992,
          1991,
          1990
         ],
         "y": [
          74.7550712006915,
          73.0533014093414,
          74.6558093274817,
          74.3615437231448,
          73.886400033158,
          78.80966798265,
          78.0476897695046,
          75.0107829107585,
          77.6919933828818,
          79.1637583192536,
          82.3529546105126,
          82.7684235598408,
          84.0080085970913,
          90.3112283324114,
          91.8793252541643,
          97.0507077511893,
          99.7398656493156,
          100.010594528044,
          100.305373333011,
          102.771498101701,
          102.068595333327,
          103.193469033821,
          104.707975903776,
          101.196287565613,
          104.410591895158,
          103.599056843384,
          104.510329341545,
          98.9081435670137,
          98.227705387591
         ]
        },
        {
         "mode": "lines",
         "name": "European Union",
         "type": "scatter",
         "x": [
          2018,
          2017,
          2016,
          2015,
          2014,
          2013,
          2012,
          2011,
          2010,
          2009,
          2008,
          2007,
          2006,
          2005,
          2004,
          2003,
          2002,
          2001,
          2000,
          1999,
          1998,
          1997,
          1996,
          1995,
          1994,
          1993,
          1992,
          1991,
          1990
         ],
         "y": [
          3432017.49574093,
          3513036.18225618,
          3500042.73949219,
          3518768.0005505,
          3480937.31805591,
          3655077.46194149,
          3745971.32736509,
          3803658.28965926,
          3951411.91431182,
          3832105.82022217,
          4172947.61323661,
          4272760.08079702,
          4319665.13862076,
          4313650.0929451,
          4336433.66053044,
          4324440.21597734,
          4228876.17516888,
          4243023.9420195,
          4177734.74063454,
          4158896.76715251,
          4224534.8662296,
          4227943.48286304,
          4317840.9943919,
          4212988.59700069,
          4169946.81164452,
          4187802.39149633,
          4271808.70308717,
          4413593.52793634,
          4466227.83368469
         ]
        },
        {
         "mode": "lines",
         "name": "Ukraine",
         "type": "scatter",
         "x": [
          2018,
          2017,
          2016,
          2015,
          2014,
          2013,
          2012,
          2011,
          2010,
          2009,
          2008,
          2007,
          2006,
          2005,
          2004,
          2003,
          2002,
          2001,
          2000,
          1999,
          1998,
          1997,
          1996,
          1995,
          1994,
          1993,
          1992,
          1991,
          1990
         ],
         "y": [
          231694.164731718,
          223232.151133566,
          234200.301807805,
          223911.868540142,
          257584.689348606,
          297294.252816873,
          303952.606071527,
          307952.84142234,
          294078.322497151,
          277293.500642892,
          325532.712918485,
          336364.013523953,
          332670.337203369,
          313118.087899896,
          310362.748297374,
          307017.471704689,
          295673.490491261,
          303559.229465307,
          285337.201300114,
          298203.960313902,
          328578.93752301,
          340242.686212178,
          351408.752806537,
          389864.61480804,
          419266.300739463,
          510199.537255087,
          589060.250850739,
          632536.626065897,
          705829.991803785
         ]
        },
        {
         "mode": "lines",
         "name": "Iceland",
         "type": "scatter",
         "x": [
          2018,
          2017,
          2016,
          2015,
          2014,
          2013,
          2012,
          2011,
          2010,
          2009,
          2008,
          2007,
          2006,
          2005,
          2004,
          2003,
          2002,
          2001,
          2000,
          1999,
          1998,
          1997,
          1996,
          1995,
          1994,
          1993,
          1992,
          1991,
          1990
         ],
         "y": [
          3674.52850638943,
          3614.87329421355,
          3497.53889688049,
          3545.25516413949,
          3469.68187077725,
          3492.77172514825,
          3502.88574774364,
          3510.63875461921,
          3660.12466719635,
          3740.1796060044,
          3824.94058092331,
          3512.09802280345,
          3164.40279141499,
          2985.96875812217,
          3116.88701942054,
          2994.55250332333,
          3000.52232232672,
          2875.24223493072,
          2946.46686361023,
          2853.95492474529,
          2647.85612699632,
          2627.51359856503,
          2532.04240702608,
          2476.69997815258,
          2373.29666538653,
          2432.16201626737,
          2274.26706705902,
          2128.40965980434,
          2247.80292086045
         ]
        },
        {
         "mode": "lines",
         "name": "United States of America",
         "type": "scatter",
         "x": [
          2018,
          2017,
          2016,
          2015,
          2014,
          2013,
          2012,
          2011,
          2010,
          2009,
          2008,
          2007,
          2006,
          2005,
          2004,
          2003,
          2002,
          2001,
          2000,
          1999,
          1998,
          1997,
          1996,
          1995,
          1994,
          1993,
          1992,
          1991,
          1990
         ],
         "y": [
          5424881.50213288,
          5253606.13002747,
          5292267.56146005,
          5412432.19442036,
          5561719.2161591,
          5514029.29437604,
          5367568.55523549,
          5565294.40112266,
          5698055.77931316,
          5491035.72699449,
          5930539.64334029,
          6128429.64048722,
          6051051.02176828,
          6131892.97635233,
          6107618.2463268,
          5991959.63332312,
          5942652.33460665,
          5900436.59624085,
          5998070.43377472,
          5830297.63604476,
          5751051.97995198,
          5703706.96803283,
          5626911.90108624,
          5438905.70357259,
          5377032.70818647,
          5283437.59511593,
          5182706.71965945,
          5078889.57588522,
          5128300.6168513
         ]
        },
        {
         "mode": "lines",
         "name": "Cyprus",
         "type": "scatter",
         "x": [
          2018,
          2017,
          2016,
          2015,
          2014,
          2013,
          2012,
          2011,
          2010,
          2009,
          2008,
          2007,
          2006,
          2005,
          2004,
          2003,
          2002,
          2001,
          2000,
          1999,
          1998,
          1997,
          1996,
          1995,
          1994,
          1993,
          1992,
          1991,
          1990
         ],
         "y": [
          7332.76185278891,
          7515.68816517893,
          7368.22785657742,
          6960.12949612624,
          6934.59192710437,
          6554.36404601499,
          7234.89236961658,
          7759.46771834195,
          8089.01126735049,
          8453.79757023243,
          8707.2531713148,
          8538.9183257027,
          8223.17449176942,
          8031.30067352799,
          7840.93899649826,
          7605.5506262951,
          7210.77866207421,
          7021.41200950456,
          7145.88033313555,
          6882.46970730666,
          6614.64910415714,
          6321.03013472391,
          6233.22977494178,
          5882.26612282574,
          6011.11322836987,
          5766.97401461705,
          5522.90561895422,
          5146.60855540231,
          4656.89357909686
         ]
        },
        {
         "mode": "lines",
         "name": "Estonia",
         "type": "scatter",
         "x": [
          2018,
          2017,
          2016,
          2015,
          2014,
          2013,
          2012,
          2011,
          2010,
          2009,
          2008,
          2007,
          2006,
          2005,
          2004,
          2003,
          2002,
          2001,
          2000,
          1999,
          1998,
          1997,
          1996,
          1995,
          1994,
          1993,
          1992,
          1991,
          1990
         ],
         "y": [
          17710.9527043212,
          18635.8722015885,
          17377.6503103256,
          15813.4044354123,
          18755.948585174,
          19551.9531140066,
          17684.9753949903,
          18855.1246877163,
          18784.9606173505,
          14339.0093729183,
          17668.1172407568,
          19838.5633966356,
          16208.805417015,
          16921.6202521054,
          17201.0127796417,
          16937.2313518201,
          15090.487218908,
          15576.7339780734,
          15244.1880749353,
          15653.3480978407,
          16817.2473364229,
          18317.2753937448,
          18759.5249872163,
          18048.8299926425,
          19734.0494457627,
          18910.3613835422,
          24370.4619672399,
          33901.774830474,
          36907.2375398999
         ]
        },
        {
         "mode": "lines",
         "name": "Switzerland",
         "type": "scatter",
         "x": [
          2018,
          2017,
          2016,
          2015,
          2014,
          2013,
          2012,
          2011,
          2010,
          2009,
          2008,
          2007,
          2006,
          2005,
          2004,
          2003,
          2002,
          2001,
          2000,
          1999,
          1998,
          1997,
          1996,
          1995,
          1994,
          1993,
          1992,
          1991,
          1990
         ],
         "y": [
          36895.4848348313,
          38182.2650262948,
          39192.6094780623,
          38733.1931159201,
          39234.4328189085,
          43185.8372780625,
          42254.722400681,
          40985.5235473301,
          45049.5515778933,
          43534.7155398996,
          44714.3099715288,
          43368.3664038924,
          45373.6830770009,
          45788.2349636509,
          45236.3994268724,
          44651.9069911309,
          43467.596162515,
          45082.4459882986,
          43617.5914255673,
          44445.8409485479,
          44614.821367456,
          43037.2666609755,
          44098.8196665512,
          43412.8303104671,
          42675.8941129142,
          43601.0231205789,
          46009.7044340782,
          46133.821039985,
          44154.4209480848
         ]
        },
        {
         "mode": "lines",
         "name": "Latvia",
         "type": "scatter",
         "x": [
          2018,
          2017,
          2016,
          2015,
          2014,
          2013,
          2012,
          2011,
          2010,
          2009,
          2008,
          2007,
          2006,
          2005,
          2004,
          2003,
          2002,
          2001,
          2000,
          1999,
          1998,
          1997,
          1996,
          1995,
          1994,
          1993,
          1992,
          1991,
          1990
         ],
         "y": [
          7859.28703094824,
          7222.7844905141,
          7220.75142852372,
          7272.70500469571,
          7182.63397559017,
          7381.9889397502,
          7515.2108803138,
          7805.39954672233,
          8548.87875930203,
          7451.91760415792,
          8192.81853495034,
          8631.98906677741,
          8305.734197949,
          7806.67626497519,
          7727.75569807799,
          7722.59047462213,
          7502.60817133935,
          7474.38995771827,
          7064.71592682912,
          7695.96860030688,
          8280.68815337427,
          8645.95219191048,
          9170.26786427484,
          9090.3076346425,
          10296.752129648,
          11818.6406113667,
          14079.8294200053,
          17783.1202562515,
          19504.1309234086
         ]
        },
        {
         "mode": "lines",
         "name": "Canada",
         "type": "scatter",
         "x": [
          2018,
          2017,
          2016,
          2015,
          2014,
          2013,
          2012,
          2011,
          2010,
          2009,
          2008,
          2007,
          2006,
          2005,
          2004,
          2003,
          2002,
          2001,
          2000,
          1999,
          1998,
          1997,
          1996,
          1995,
          1994,
          1993,
          1992,
          1991,
          1990
         ],
         "y": [
          586504.634542466,
          572834.389442262,
          564032.530027391,
          575906.938645282,
          575942.178811822,
          576327.006234054,
          569737.013024553,
          566740.990959863,
          555549.849476423,
          542549.599765392,
          575586.90796111,
          594220.570759443,
          570950.380878791,
          576434.463847342,
          585703.097963365,
          587178.148867368,
          570844.777611729,
          564946.398072384,
          572162.102863972,
          549553.212013035,
          533639.792821814,
          524789.166836941,
          510736.656417936,
          494920.254788246,
          482436.578674902,
          467406.41099046,
          467037.420143524,
          452494.723086163,
          462117.351149139
         ]
        },
        {
         "mode": "lines",
         "name": "Slovenia",
         "type": "scatter",
         "x": [
          2018,
          2017,
          2016,
          2015,
          2014,
          2013,
          2012,
          2011,
          2010,
          2009,
          2008,
          2007,
          2006,
          2005,
          2004,
          2003,
          2002,
          2001,
          2000,
          1999,
          1998,
          1997,
          1996,
          1995,
          1994,
          1993,
          1992,
          1991,
          1990
         ],
         "y": [
          14487.844474942,
          14264.7533621895,
          14416.6565429867,
          13617.5425786935,
          13531.9363093237,
          15188.9136130485,
          15821.7559761859,
          16360.3010909769,
          16376.443508706,
          16329.7820175681,
          18220.0144547338,
          17281.0017099016,
          17142.5257529594,
          16948.1214005397,
          16651.0302807818,
          16289.0297264259,
          16525.2705401741,
          16378.3388964937,
          15444.8987925728,
          15337.2394964804,
          15961.1282703806,
          16244.9214511387,
          15916.6062270029,
          15254.2521104167,
          14642.6729766768,
          14303.4745932911,
          14006.7490772864,
          14001.2386768891,
          15093.8383654949
         ]
        },
        {
         "mode": "lines",
         "name": "Japan",
         "type": "scatter",
         "x": [
          2018,
          2017,
          2016,
          2015,
          2014,
          2013,
          2012,
          2011,
          2010,
          2009,
          2008,
          2007,
          2006,
          2005,
          2004,
          2003,
          2002,
          2001,
          2000,
          1999,
          1998,
          1997,
          1996,
          1995,
          1994,
          1993,
          1992,
          1991,
          1990
         ],
         "y": [
          1135688.00020241,
          1187661.45386819,
          1203167.01767453,
          1222781.31475903,
          1263049.94200598,
          1314702.9994073,
          1305432.85047807,
          1264155.1270142,
          1214068.55631317,
          1162647.86628282,
          1231909.52457059,
          1302524.28495402,
          1266828.60601604,
          1290056.276701,
          1282872.08285675,
          1287642.18171146,
          1279452.9647103,
          1250211.04624365,
          1264844.26063492,
          1242015.30712131,
          1205416.31928698,
          1245112.03393073,
          1251867.56918393,
          1239928.15849454,
          1227566.84007559,
          1172647.30939245,
          1179740.09775167,
          1170065.7288122,
          1158391.31118915
         ]
        },
        {
         "mode": "lines",
         "name": "Luxembourg",
         "type": "scatter",
         "x": [
          2018,
          2017,
          2016,
          2015,
          2014,
          2013,
          2012,
          2011,
          2010,
          2009,
          2008,
          2007,
          2006,
          2005,
          2004,
          2003,
          2002,
          2001,
          2000,
          1999,
          1998,
          1997,
          1996,
          1995,
          1994,
          1993,
          1992,
          1991,
          1990
         ],
         "y": [
          9568.51953368545,
          9250.40212663893,
          9080.25282693925,
          9333.16889945848,
          9825.21586286149,
          10303.8722713382,
          10851.3991139457,
          11114.5548217397,
          11219.2942964271,
          10647.821340394,
          11195.2463438773,
          11333.5839357874,
          11936.2842632925,
          12105.4480609916,
          11844.3064615053,
          10476.0186989438,
          10003.0487452456,
          9226.36684569111,
          8731.56638378884,
          8147.98398291498,
          7695.0730252987,
          8573.10645266367,
          9219.90764062443,
          9170.29950974537,
          11563.9282121999,
          12372.806055811,
          12232.160311753,
          12465.7877967775,
          11847.635442146
         ]
        },
        {
         "mode": "lines",
         "name": "New Zealand",
         "type": "scatter",
         "x": [
          2018,
          2017,
          2016,
          2015,
          2014,
          2013,
          2012,
          2011,
          2010,
          2009,
          2008,
          2007,
          2006,
          2005,
          2004,
          2003,
          2002,
          2001,
          2000,
          1999,
          1998,
          1997,
          1996,
          1995,
          1994,
          1993,
          1992,
          1991,
          1990
         ],
         "y": [
          35080.3409784102,
          36153.3319655171,
          34267.6242757242,
          35839.1938918605,
          35457.8044654959,
          35240.9368858808,
          36000.4334392606,
          34249.5711852552,
          34957.7838441033,
          34762.4347486468,
          37592.3169852392,
          36559.8842863292,
          37466.3290203584,
          37571.039140135,
          35940.1111401226,
          36351.9040365648,
          34638.1013895817,
          34457.4419655282,
          32281.3522511698,
          31472.2734918801,
          29882.7802676386,
          31289.3378910193,
          29295.0777261975,
          28001.8053423998,
          27880.329427551,
          27699.4614049738,
          28105.0746158788,
          26110.3840307702,
          25446.2878554093
         ]
        },
        {
         "mode": "lines",
         "name": "Poland",
         "type": "scatter",
         "x": [
          2018,
          2017,
          2016,
          2015,
          2014,
          2013,
          2012,
          2011,
          2010,
          2009,
          2008,
          2007,
          2006,
          2005,
          2004,
          2003,
          2002,
          2001,
          2000,
          1999,
          1998,
          1997,
          1996,
          1995,
          1994,
          1993,
          1992,
          1991,
          1990
         ],
         "y": [
          337705.74182301,
          337340.421778012,
          324011.335071663,
          313099.147361381,
          309920.915761492,
          322225.440340873,
          326348.211523784,
          333952.034783092,
          334606.783962775,
          316607.700640106,
          330144.998656562,
          336368.497828037,
          337037.511518509,
          323161.266880344,
          324146.20983936,
          319406.051155379,
          306403.332889554,
          313647.662006214,
          317338.034159054,
          329167.331918592,
          339132.886483521,
          367385.323158231,
          377407.835673029,
          362761.266834645,
          360416.807932456,
          365370.695658555,
          364677.869650621,
          373793.320540164,
          376546.517951405
         ]
        },
        {
         "mode": "lines",
         "name": "Portugal",
         "type": "scatter",
         "x": [
          2018,
          2017,
          2016,
          2015,
          2014,
          2013,
          2012,
          2011,
          2010,
          2009,
          2008,
          2007,
          2006,
          2005,
          2004,
          2003,
          2002,
          2001,
          2000,
          1999,
          1998,
          1997,
          1996,
          1995,
          1994,
          1993,
          1992,
          1991,
          1990
         ],
         "y": [
          51482.4811671429,
          54719.9760045003,
          50455.5700692996,
          52294.0604187532,
          47948.4350585232,
          48161.8828975212,
          49962.6235880616,
          51792.6538325347,
          52989.3772455978,
          57200.2556616906,
          59973.0625301686,
          62280.4229719127,
          64767.6548374252,
          69483.98230618,
          67255.3254038397,
          64419.3147445385,
          69556.0826965554,
          65149.3048901802,
          65526.5882790747,
          66763.1930486435,
          59138.4343823723,
          54597.5878919909,
          51703.2201850128,
          54450.7657191168,
          50246.4480488306,
          49391.8956024179,
          50889.1687666769,
          46960.2573109118,
          45082.9718484685
         ]
        },
        {
         "mode": "lines",
         "name": "Australia",
         "type": "scatter",
         "x": [
          2018,
          2017,
          2016,
          2015,
          2014,
          2013,
          2012,
          2011,
          2010,
          2009,
          2008,
          2007,
          2006,
          2005,
          2004,
          2003,
          2002,
          2001,
          2000,
          1999,
          1998,
          1997,
          1996,
          1995,
          1994,
          1993,
          1992,
          1991,
          1990
         ],
         "y": [
          415953.946668257,
          415097.42766819,
          411031.531117043,
          401554.757230168,
          394116.891505507,
          397943.178573917,
          406506.241774818,
          404172.757021574,
          405502.798857304,
          407463.327962593,
          404417.407486178,
          399842.460646105,
          392680.646328911,
          386513.45429618,
          383205.122284339,
          369726.018066042,
          362209.546033934,
          357669.182881018,
          350195.023826897,
          344063.765859686,
          334684.517907243,
          320795.086167167,
          312361.585574263,
          305410.166604956,
          294014.960792545,
          289235.186168999,
          284912.437867139,
          279872.660257341,
          278424.660375653
         ]
        },
        {
         "mode": "lines",
         "name": "Romania",
         "type": "scatter",
         "x": [
          2018,
          2017,
          2016,
          2015,
          2014,
          2013,
          2012,
          2011,
          2010,
          2009,
          2008,
          2007,
          2006,
          2005,
          2004,
          2003,
          2002,
          2001,
          2000,
          1999,
          1998,
          1997,
          1996,
          1995,
          1994,
          1993,
          1992,
          1991,
          1990
         ],
         "y": [
          76951.2189688293,
          78077.4897274096,
          75812.8017938512,
          77725.6298778275,
          77432.4172893916,
          76875.8936076427,
          86255.6930244359,
          89518.2458428664,
          84289.7215619474,
          86024.1362338914,
          105534.579496887,
          108440.49325638,
          105082.793031832,
          102694.473334226,
          104269.756728272,
          105295.172237085,
          101735.332431986,
          100357.071280565,
          95455.7605459872,
          90778.1784473023,
          107561.544307475,
          121074.67434503,
          130095.925323886,
          127032.855585614,
          121961.461882256,
          122832.305091186,
          131072.276566846,
          139370.253165321,
          169285.872691812
         ]
        },
        {
         "mode": "lines",
         "name": "Bulgaria",
         "type": "scatter",
         "x": [
          2018,
          2017,
          2016,
          2015,
          2014,
          2013,
          2012,
          2011,
          2010,
          2009,
          2008,
          2007,
          2006,
          2005,
          2004,
          2003,
          2002,
          2001,
          2000,
          1999,
          1998,
          1997,
          1996,
          1995,
          1994,
          1993,
          1992,
          1991,
          1990
         ],
         "y": [
          43551.599048709,
          47505.16352595,
          45353.723417232,
          48194.2799893116,
          45169.3296886434,
          42649.5076910971,
          48349.0085369352,
          53178.0436090909,
          47862.9303891247,
          45773.7710199153,
          54079.5574525907,
          55740.8447678207,
          51895.2191096203,
          50656.426636575,
          49570.7306344279,
          50509.6689174236,
          46258.5728538918,
          49014.1362462771,
          45305.031895079,
          46369.9838000907,
          53275.2170483312,
          55861.2693878692,
          58108.019719584,
          57716.3659311274,
          56083.5266147436,
          57675.6371886381,
          57010.4320427525,
          61232.5967315523,
          76698.9750767925
         ]
        },
        {
         "mode": "lines",
         "name": "Austria",
         "type": "scatter",
         "x": [
          2018,
          2017,
          2016,
          2015,
          2014,
          2013,
          2012,
          2011,
          2010,
          2009,
          2008,
          2007,
          2006,
          2005,
          2004,
          2003,
          2002,
          2001,
          2000,
          1999,
          1998,
          1997,
          1996,
          1995,
          1994,
          1993,
          1992,
          1991,
          1990
         ],
         "y": [
          66719.6777666744,
          69628.8596106596,
          67112.2654587419,
          66283.2365458533,
          64084.4274667337,
          67745.6895442715,
          67209.0963816178,
          69898.2413042763,
          72011.8408789925,
          67493.9480784093,
          73588.4048158102,
          74262.5877706597,
          76898.3285249658,
          79192.4319215329,
          77674.3906380596,
          77554.2519648355,
          71918.7621509873,
          70102.5999732436,
          66162.8879058016,
          65562.7217746465,
          66875.1468247755,
          67232.7787574344,
          67421.5890947817,
          64065.25981886,
          61002.4393644111,
          60635.4191406704,
          60204.0685273764,
          65725.5331115649,
          62124.7007131878
         ]
        },
        {
         "mode": "lines",
         "name": "Hungary",
         "type": "scatter",
         "x": [
          2018,
          2017,
          2016,
          2015,
          2014,
          2013,
          2012,
          2011,
          2010,
          2009,
          2008,
          2007,
          2006,
          2005,
          2004,
          2003,
          2002,
          2001,
          2000,
          1999,
          1998,
          1997,
          1996,
          1995,
          1994,
          1993,
          1992,
          1991,
          1990
         ],
         "y": [
          49628.490982072,
          49684.8471645542,
          47395.7098085976,
          46627.6133530015,
          43862.711091479,
          43704.8054948814,
          46776.6781403574,
          50322.1456635078,
          52123.6780411305,
          51774.9657203118,
          57530.8150412234,
          58688.6259516226,
          59915.3810922813,
          60606.5273317791,
          60489.9170971114,
          61981.4713723319,
          59197.0046477252,
          60238.800926392,
          58608.2748691238,
          61911.6021323732,
          61415.0010858142,
          61813.1391979355,
          63257.5198319678,
          61690.7738764767,
          61973.5116749879,
          63632.7619824292,
          62415.941917704,
          69784.5192033522,
          73464.8538219331
         ]
        },
        {
         "mode": "lines",
         "name": "United Kingdom",
         "type": "scatter",
         "x": [
          2018,
          2017,
          2016,
          2015,
          2014,
          2013,
          2012,
          2011,
          2010,
          2009,
          2008,
          2007,
          2006,
          2005,
          2004,
          2003,
          2002,
          2001,
          2000,
          1999,
          1998,
          1997,
          1996,
          1995,
          1994,
          1993,
          1992,
          1991,
          1990
         ],
         "y": [
          380849.882910071,
          388803.410059709,
          399824.299299983,
          423199.617230795,
          439763.276954655,
          478608.945079335,
          488503.548419289,
          470608.131015341,
          512864.791680109,
          495119.485922879,
          545682.4676761,
          560205.595545064,
          568390.054550416,
          570724.265175529,
          573994.49080935,
          572532.251080021,
          561047.845137749,
          576926.994554245,
          568220.055467351,
          561651.093852178,
          568512.201977305,
          563241.836123903,
          589137.824656407,
          567507.648076862,
          575774.599576308,
          579506.686402148,
          593745.973865002,
          609266.002027072,
          601187.186814322
         ]
        },
        {
         "mode": "lines",
         "name": "Netherlands",
         "type": "scatter",
         "x": [
          2018,
          2017,
          2016,
          2015,
          2014,
          2013,
          2012,
          2011,
          2010,
          2009,
          2008,
          2007,
          2006,
          2005,
          2004,
          2003,
          2002,
          2001,
          2000,
          1999,
          1998,
          1997,
          1996,
          1995,
          1994,
          1993,
          1992,
          1991,
          1990
         ],
         "y": [
          160170.147439641,
          164444.773768704,
          166282.089728861,
          166366.655865468,
          158768.01234911,
          165717.877810591,
          165827.027252846,
          169065.734256756,
          182117.938134422,
          170167.74143354,
          175481.511022412,
          172587.180339288,
          172686.523341534,
          177459.005110619,
          181381.76585373,
          179564.998097276,
          176113.046481303,
          176798.513076368,
          171887.440050803,
          170727.34959651,
          176136.866137469,
          175019.626330112,
          182148.288127849,
          172966.168650756,
          171401.365047735,
          170817.552396797,
          170630.241424131,
          170796.382524118,
          162385.109422551
         ]
        }
       ],
       "layout": {
        "autosize": false,
        "height": 500,
        "template": {
         "data": {
          "bar": [
           {
            "error_x": {
             "color": "#2a3f5f"
            },
            "error_y": {
             "color": "#2a3f5f"
            },
            "marker": {
             "line": {
              "color": "#E5ECF6",
              "width": 0.5
             },
             "pattern": {
              "fillmode": "overlay",
              "size": 10,
              "solidity": 0.2
             }
            },
            "type": "bar"
           }
          ],
          "barpolar": [
           {
            "marker": {
             "line": {
              "color": "#E5ECF6",
              "width": 0.5
             },
             "pattern": {
              "fillmode": "overlay",
              "size": 10,
              "solidity": 0.2
             }
            },
            "type": "barpolar"
           }
          ],
          "carpet": [
           {
            "aaxis": {
             "endlinecolor": "#2a3f5f",
             "gridcolor": "white",
             "linecolor": "white",
             "minorgridcolor": "white",
             "startlinecolor": "#2a3f5f"
            },
            "baxis": {
             "endlinecolor": "#2a3f5f",
             "gridcolor": "white",
             "linecolor": "white",
             "minorgridcolor": "white",
             "startlinecolor": "#2a3f5f"
            },
            "type": "carpet"
           }
          ],
          "choropleth": [
           {
            "colorbar": {
             "outlinewidth": 0,
             "ticks": ""
            },
            "type": "choropleth"
           }
          ],
          "contour": [
           {
            "colorbar": {
             "outlinewidth": 0,
             "ticks": ""
            },
            "colorscale": [
             [
              0,
              "#0d0887"
             ],
             [
              0.1111111111111111,
              "#46039f"
             ],
             [
              0.2222222222222222,
              "#7201a8"
             ],
             [
              0.3333333333333333,
              "#9c179e"
             ],
             [
              0.4444444444444444,
              "#bd3786"
             ],
             [
              0.5555555555555556,
              "#d8576b"
             ],
             [
              0.6666666666666666,
              "#ed7953"
             ],
             [
              0.7777777777777778,
              "#fb9f3a"
             ],
             [
              0.8888888888888888,
              "#fdca26"
             ],
             [
              1,
              "#f0f921"
             ]
            ],
            "type": "contour"
           }
          ],
          "contourcarpet": [
           {
            "colorbar": {
             "outlinewidth": 0,
             "ticks": ""
            },
            "type": "contourcarpet"
           }
          ],
          "heatmap": [
           {
            "colorbar": {
             "outlinewidth": 0,
             "ticks": ""
            },
            "colorscale": [
             [
              0,
              "#0d0887"
             ],
             [
              0.1111111111111111,
              "#46039f"
             ],
             [
              0.2222222222222222,
              "#7201a8"
             ],
             [
              0.3333333333333333,
              "#9c179e"
             ],
             [
              0.4444444444444444,
              "#bd3786"
             ],
             [
              0.5555555555555556,
              "#d8576b"
             ],
             [
              0.6666666666666666,
              "#ed7953"
             ],
             [
              0.7777777777777778,
              "#fb9f3a"
             ],
             [
              0.8888888888888888,
              "#fdca26"
             ],
             [
              1,
              "#f0f921"
             ]
            ],
            "type": "heatmap"
           }
          ],
          "heatmapgl": [
           {
            "colorbar": {
             "outlinewidth": 0,
             "ticks": ""
            },
            "colorscale": [
             [
              0,
              "#0d0887"
             ],
             [
              0.1111111111111111,
              "#46039f"
             ],
             [
              0.2222222222222222,
              "#7201a8"
             ],
             [
              0.3333333333333333,
              "#9c179e"
             ],
             [
              0.4444444444444444,
              "#bd3786"
             ],
             [
              0.5555555555555556,
              "#d8576b"
             ],
             [
              0.6666666666666666,
              "#ed7953"
             ],
             [
              0.7777777777777778,
              "#fb9f3a"
             ],
             [
              0.8888888888888888,
              "#fdca26"
             ],
             [
              1,
              "#f0f921"
             ]
            ],
            "type": "heatmapgl"
           }
          ],
          "histogram": [
           {
            "marker": {
             "pattern": {
              "fillmode": "overlay",
              "size": 10,
              "solidity": 0.2
             }
            },
            "type": "histogram"
           }
          ],
          "histogram2d": [
           {
            "colorbar": {
             "outlinewidth": 0,
             "ticks": ""
            },
            "colorscale": [
             [
              0,
              "#0d0887"
             ],
             [
              0.1111111111111111,
              "#46039f"
             ],
             [
              0.2222222222222222,
              "#7201a8"
             ],
             [
              0.3333333333333333,
              "#9c179e"
             ],
             [
              0.4444444444444444,
              "#bd3786"
             ],
             [
              0.5555555555555556,
              "#d8576b"
             ],
             [
              0.6666666666666666,
              "#ed7953"
             ],
             [
              0.7777777777777778,
              "#fb9f3a"
             ],
             [
              0.8888888888888888,
              "#fdca26"
             ],
             [
              1,
              "#f0f921"
             ]
            ],
            "type": "histogram2d"
           }
          ],
          "histogram2dcontour": [
           {
            "colorbar": {
             "outlinewidth": 0,
             "ticks": ""
            },
            "colorscale": [
             [
              0,
              "#0d0887"
             ],
             [
              0.1111111111111111,
              "#46039f"
             ],
             [
              0.2222222222222222,
              "#7201a8"
             ],
             [
              0.3333333333333333,
              "#9c179e"
             ],
             [
              0.4444444444444444,
              "#bd3786"
             ],
             [
              0.5555555555555556,
              "#d8576b"
             ],
             [
              0.6666666666666666,
              "#ed7953"
             ],
             [
              0.7777777777777778,
              "#fb9f3a"
             ],
             [
              0.8888888888888888,
              "#fdca26"
             ],
             [
              1,
              "#f0f921"
             ]
            ],
            "type": "histogram2dcontour"
           }
          ],
          "mesh3d": [
           {
            "colorbar": {
             "outlinewidth": 0,
             "ticks": ""
            },
            "type": "mesh3d"
           }
          ],
          "parcoords": [
           {
            "line": {
             "colorbar": {
              "outlinewidth": 0,
              "ticks": ""
             }
            },
            "type": "parcoords"
           }
          ],
          "pie": [
           {
            "automargin": true,
            "type": "pie"
           }
          ],
          "scatter": [
           {
            "marker": {
             "colorbar": {
              "outlinewidth": 0,
              "ticks": ""
             }
            },
            "type": "scatter"
           }
          ],
          "scatter3d": [
           {
            "line": {
             "colorbar": {
              "outlinewidth": 0,
              "ticks": ""
             }
            },
            "marker": {
             "colorbar": {
              "outlinewidth": 0,
              "ticks": ""
             }
            },
            "type": "scatter3d"
           }
          ],
          "scattercarpet": [
           {
            "marker": {
             "colorbar": {
              "outlinewidth": 0,
              "ticks": ""
             }
            },
            "type": "scattercarpet"
           }
          ],
          "scattergeo": [
           {
            "marker": {
             "colorbar": {
              "outlinewidth": 0,
              "ticks": ""
             }
            },
            "type": "scattergeo"
           }
          ],
          "scattergl": [
           {
            "marker": {
             "colorbar": {
              "outlinewidth": 0,
              "ticks": ""
             }
            },
            "type": "scattergl"
           }
          ],
          "scattermapbox": [
           {
            "marker": {
             "colorbar": {
              "outlinewidth": 0,
              "ticks": ""
             }
            },
            "type": "scattermapbox"
           }
          ],
          "scatterpolar": [
           {
            "marker": {
             "colorbar": {
              "outlinewidth": 0,
              "ticks": ""
             }
            },
            "type": "scatterpolar"
           }
          ],
          "scatterpolargl": [
           {
            "marker": {
             "colorbar": {
              "outlinewidth": 0,
              "ticks": ""
             }
            },
            "type": "scatterpolargl"
           }
          ],
          "scatterternary": [
           {
            "marker": {
             "colorbar": {
              "outlinewidth": 0,
              "ticks": ""
             }
            },
            "type": "scatterternary"
           }
          ],
          "surface": [
           {
            "colorbar": {
             "outlinewidth": 0,
             "ticks": ""
            },
            "colorscale": [
             [
              0,
              "#0d0887"
             ],
             [
              0.1111111111111111,
              "#46039f"
             ],
             [
              0.2222222222222222,
              "#7201a8"
             ],
             [
              0.3333333333333333,
              "#9c179e"
             ],
             [
              0.4444444444444444,
              "#bd3786"
             ],
             [
              0.5555555555555556,
              "#d8576b"
             ],
             [
              0.6666666666666666,
              "#ed7953"
             ],
             [
              0.7777777777777778,
              "#fb9f3a"
             ],
             [
              0.8888888888888888,
              "#fdca26"
             ],
             [
              1,
              "#f0f921"
             ]
            ],
            "type": "surface"
           }
          ],
          "table": [
           {
            "cells": {
             "fill": {
              "color": "#EBF0F8"
             },
             "line": {
              "color": "white"
             }
            },
            "header": {
             "fill": {
              "color": "#C8D4E3"
             },
             "line": {
              "color": "white"
             }
            },
            "type": "table"
           }
          ]
         },
         "layout": {
          "annotationdefaults": {
           "arrowcolor": "#2a3f5f",
           "arrowhead": 0,
           "arrowwidth": 1
          },
          "autotypenumbers": "strict",
          "coloraxis": {
           "colorbar": {
            "outlinewidth": 0,
            "ticks": ""
           }
          },
          "colorscale": {
           "diverging": [
            [
             0,
             "#8e0152"
            ],
            [
             0.1,
             "#c51b7d"
            ],
            [
             0.2,
             "#de77ae"
            ],
            [
             0.3,
             "#f1b6da"
            ],
            [
             0.4,
             "#fde0ef"
            ],
            [
             0.5,
             "#f7f7f7"
            ],
            [
             0.6,
             "#e6f5d0"
            ],
            [
             0.7,
             "#b8e186"
            ],
            [
             0.8,
             "#7fbc41"
            ],
            [
             0.9,
             "#4d9221"
            ],
            [
             1,
             "#276419"
            ]
           ],
           "sequential": [
            [
             0,
             "#0d0887"
            ],
            [
             0.1111111111111111,
             "#46039f"
            ],
            [
             0.2222222222222222,
             "#7201a8"
            ],
            [
             0.3333333333333333,
             "#9c179e"
            ],
            [
             0.4444444444444444,
             "#bd3786"
            ],
            [
             0.5555555555555556,
             "#d8576b"
            ],
            [
             0.6666666666666666,
             "#ed7953"
            ],
            [
             0.7777777777777778,
             "#fb9f3a"
            ],
            [
             0.8888888888888888,
             "#fdca26"
            ],
            [
             1,
             "#f0f921"
            ]
           ],
           "sequentialminus": [
            [
             0,
             "#0d0887"
            ],
            [
             0.1111111111111111,
             "#46039f"
            ],
            [
             0.2222222222222222,
             "#7201a8"
            ],
            [
             0.3333333333333333,
             "#9c179e"
            ],
            [
             0.4444444444444444,
             "#bd3786"
            ],
            [
             0.5555555555555556,
             "#d8576b"
            ],
            [
             0.6666666666666666,
             "#ed7953"
            ],
            [
             0.7777777777777778,
             "#fb9f3a"
            ],
            [
             0.8888888888888888,
             "#fdca26"
            ],
            [
             1,
             "#f0f921"
            ]
           ]
          },
          "colorway": [
           "#636efa",
           "#EF553B",
           "#00cc96",
           "#ab63fa",
           "#FFA15A",
           "#19d3f3",
           "#FF6692",
           "#B6E880",
           "#FF97FF",
           "#FECB52"
          ],
          "font": {
           "color": "#2a3f5f"
          },
          "geo": {
           "bgcolor": "white",
           "lakecolor": "white",
           "landcolor": "#E5ECF6",
           "showlakes": true,
           "showland": true,
           "subunitcolor": "white"
          },
          "hoverlabel": {
           "align": "left"
          },
          "hovermode": "closest",
          "mapbox": {
           "style": "light"
          },
          "paper_bgcolor": "white",
          "plot_bgcolor": "#E5ECF6",
          "polar": {
           "angularaxis": {
            "gridcolor": "white",
            "linecolor": "white",
            "ticks": ""
           },
           "bgcolor": "#E5ECF6",
           "radialaxis": {
            "gridcolor": "white",
            "linecolor": "white",
            "ticks": ""
           }
          },
          "scene": {
           "xaxis": {
            "backgroundcolor": "#E5ECF6",
            "gridcolor": "white",
            "gridwidth": 2,
            "linecolor": "white",
            "showbackground": true,
            "ticks": "",
            "zerolinecolor": "white"
           },
           "yaxis": {
            "backgroundcolor": "#E5ECF6",
            "gridcolor": "white",
            "gridwidth": 2,
            "linecolor": "white",
            "showbackground": true,
            "ticks": "",
            "zerolinecolor": "white"
           },
           "zaxis": {
            "backgroundcolor": "#E5ECF6",
            "gridcolor": "white",
            "gridwidth": 2,
            "linecolor": "white",
            "showbackground": true,
            "ticks": "",
            "zerolinecolor": "white"
           }
          },
          "shapedefaults": {
           "line": {
            "color": "#2a3f5f"
           }
          },
          "ternary": {
           "aaxis": {
            "gridcolor": "white",
            "linecolor": "white",
            "ticks": ""
           },
           "baxis": {
            "gridcolor": "white",
            "linecolor": "white",
            "ticks": ""
           },
           "bgcolor": "#E5ECF6",
           "caxis": {
            "gridcolor": "white",
            "linecolor": "white",
            "ticks": ""
           }
          },
          "title": {
           "x": 0.05
          },
          "xaxis": {
           "automargin": true,
           "gridcolor": "white",
           "linecolor": "white",
           "ticks": "",
           "title": {
            "standoff": 15
           },
           "zerolinecolor": "white",
           "zerolinewidth": 2
          },
          "yaxis": {
           "automargin": true,
           "gridcolor": "white",
           "linecolor": "white",
           "ticks": "",
           "title": {
            "standoff": 15
           },
           "zerolinecolor": "white",
           "zerolinewidth": 2
          }
         }
        },
        "title": {
         "text": "CO2 emissions by country and year"
        },
        "width": 1500,
        "xaxis": {
         "autorange": true,
         "range": [
          1990,
          2018
         ],
         "title": {
          "text": "Year"
         },
         "type": "linear"
        },
        "yaxis": {
         "autorange": true,
         "range": [
          -340583.6090903085,
          6472549.638744048
         ],
         "title": {
          "text": "CO2 Emissions"
         },
         "type": "linear"
        }
       }
      },
      "image/png": "[encoded data removed]",
      "text/html": [
       "<div>                            <div id=\"029703d1-f154-40bc-b2ff-04f7469ff5dc\" class=\"plotly-graph-div\" style=\"height:500px; width:1500px;\"></div>            <script type=\"text/javascript\">                require([\"plotly\"], function(Plotly) {                    window.PLOTLYENV=window.PLOTLYENV || {};                                    if (document.getElementById(\"029703d1-f154-40bc-b2ff-04f7469ff5dc\")) {                    Plotly.newPlot(                        \"029703d1-f154-40bc-b2ff-04f7469ff5dc\",                        [{\"mode\":\"lines\",\"name\":\"Sweden\",\"type\":\"scatter\",\"x\":[2018,2017,2016,2015,2014,2013,2012,2011,2010,2009,2008,2007,2006,2005,2004,2003,2002,2001,2000,1999,1998,1997,1996,1995,1994,1993,1992,1991,1990],\"y\":[41766.1827222488,42306.8160464575,42972.5653420075,43336.7554826262,43337.5554131351,45086.3354841233,46692.0074308832,49166.9005986578,53042.2233607854,47231.1168383802,50855.9955834723,52940.9044464416,53674.2651981627,53852.8566780823,56475.9190057769,57160.5666051887,56572.5197216035,55617.0558462997,54684.4283163901,55820.1569175791,58696.6659510502,58212.5521332682,63302.7784000065,59366.2066097918,59953.8090383714,57493.4493373778,57451.4900177651,57707.2230393214,57348.8248895493]},{\"mode\":\"lines\",\"name\":\"Turkey\",\"type\":\"scatter\",\"x\":[2018,2017,2016,2015,2014,2013,2012,2011,2010,2009,2008,2007,2006,2005,2004,2003,2002,2001,2000,1999,1998,1997,1996,1995,1994,1993,1992,1991,1990],\"y\":[419194.747142347,425329.230021553,401239.738263029,381331.944034388,361675.46081844,345220.584947758,353666.209099794,339482.25210975,314380.032550352,315359.637575316,309321.194915912,312736.708478018,281649.184924484,264200.797153874,244464.112462258,236483.892910668,220977.701101122,213486.093927579,229790.601259649,207804.162731911,212040.281738168,212005.568093463,199521.938861493,180903.047419235,167433.1132747,171011.162802133,163922.249650552,157982.004627358,151508.467579803]},{\"mode\":\"lines\",\"name\":\"Germany\",\"type\":\"scatter\",\"x\":[2018,2017,2016,2015,2014,2013,2012,2011,2010,2009,2008,2007,2006,2005,2004,2003,2002,2001,2000,1999,1998,1997,1996,1995,1994,1993,1992,1991,1990],\"y\":[755362.342455585,786654.551411376,800510.288476534,795816.358715061,792684.873997206,831316.278977669,813893.12080289,809426.949833717,832669.735135068,790195.717336015,854706.334353909,851383.304869504,877997.390977238,866388.548679081,886965.973669802,900866.405408944,899821.052898805,916366.135188787,899780.198208709,895642.93095689,923275.908728203,931230.07006033,959124.130272961,939176.703608385,939630.279254017,956233.107652013,965889.812792495,1014199.71521822,1052348.54443457]},{\"mode\":\"lines\",\"name\":\"France\",\"type\":\"scatter\",\"x\":[2018,2017,2016,2015,2014,2013,2012,2011,2010,2009,2008,2007,2006,2005,2004,2003,2002,2001,2000,1999,1998,1997,1996,1995,1994,1993,1992,1991,1990],\"y\":[338327.096421297,352178.983611535,347095.62459045,344096.978139489,339492.915843056,370548.990871462,368311.772581799,367051.083058466,393717.818529277,385421.583706487,401422.869864192,409033.413473519,419737.020157107,430528.27758708,427117.576492321,426145.699954993,419347.504788213,424005.850536512,419232.282969929,424600.505776661,428344.355226331,408989.958998911,415941.019848892,400239.115442511,393368.863483863,397655.363749159,418231.023879481,428927.106679341,403307.236177174]},{\"mode\":\"lines\",\"name\":\"Greece\",\"type\":\"scatter\",\"x\":[2018,2017,2016,2015,2014,2013,2012,2011,2010,2009,2008,2007,2006,2005,2004,2003,2002,2001,2000,1999,1998,1997,1996,1995,1994,1993,1992,1991,1990],\"y\":[71797.8690987943,74852.8458947514,71368.3612573769,74957.9049084326,78659.7957440759,81735.053637325,91430.0996005176,94549.5772908435,97361.5039773485,104354.752916408,111125.241614693,114592.335161648,112472.437506665,113930.966895994,109546.749153552,109089.753810943,105020.956638142,105385.700419808,102999.025886454,97958.3784914008,98641.499372073,93820.9323821188,89132.0077404819,86979.0976940621,86442.1768338889,84296.3663014509,84982.7106282307,83401.1206733625,83425.5481500187]},{\"mode\":\"lines\",\"name\":\"Slovakia\",\"type\":\"scatter\",\"x\":[2018,2017,2016,2015,2014,2013,2012,2011,2010,2009,2008,2007,2006,2005,2004,2003,2002,2001,2000,1999,1998,1997,1996,1995,1994,1993,1992,1991,1990],\"y\":[36087.8372271146,36087.3376584061,34921.7932560865,34484.2368113437,33654.4973335962,35577.8376169972,36021.1815156659,38111.9530412724,38523.2172874425,37755.0655849329,41503.1743561107,41095.1064916103,42687.2904164088,42910.8509025192,42924.7490709343,42438.0837476412,42112.4050537535,43378.2953275639,41289.1304339426,43200.6080717694,44073.1449668058,44313.6803359096,44186.1243917306,44322.4136601684,43878.7208525806,46484.2249088796,49029.1359385678,53437.9015504419,61633.4625976502]},{\"mode\":\"lines\",\"name\":\"Belgium\",\"type\":\"scatter\",\"x\":[2018,2017,2016,2015,2014,2013,2012,2011,2010,2009,2008,2007,2006,2005,2004,2003,2002,2001,2000,1999,1998,1997,1996,1995,1994,1993,1992,1991,1990],\"y\":[100207.83597427,99456.2752697695,99806.9444086566,100981.344053584,96811.3230753459,102674.40413736,102428.754733721,105046.057789402,114561.03017821,107743.366678221,120202.862272037,120496.161555536,123905.757273144,125661.687650787,128805.292345769,128275.264734252,126878.582126558,126084.684409971,126735.296267877,124718.898266857,130227.109709565,124001.76432726,129496.580209897,125956.472619374,124816.904357336,121444.204570843,122507.842211766,123382.082307765,120309.34284971]},{\"mode\":\"lines\",\"name\":\"Finland\",\"type\":\"scatter\",\"x\":[2018,2017,2016,2015,2014,2013,2012,2011,2010,2009,2008,2007,2006,2005,2004,2003,2002,2001,2000,1999,1998,1997,1996,1995,1994,1993,1992,1991,1990],\"y\":[45849.3493987134,44673.0634245979,47227.5475650672,44113.7137355077,47643.8632832177,51750.9593461073,51222.1466565397,56665.6520503144,64099.4513237666,55924.3651900131,58609.6185514801,66760.3029952172,68384.4227742571,57042.8982041203,68960.7548572691,72657.82079628,65059.791570341,62536.2059866187,57038.2471515761,58894.769950879,59373.2560931243,62722.9924220393,64062.4092860885,58145.4431090716,61716.2022160394,56352.5530721308,54285.5264761443,55230.4040849182,56971.874271446]},{\"mode\":\"lines\",\"name\":\"Belarus\",\"type\":\"scatter\",\"x\":[2018,2017,2016,2015,2014,2013,2012,2011,2010,2009,2008,2007,2006,2005,2004,2003,2002,2001,2000,1999,1998,1997,1996,1995,1994,1993,1992,1991,1990],\"y\":[61871.6758664283,60742.9346075393,60284.8505856025,58633.0602039355,63083.6392330706,63743.4453720989,63008.3458582166,62106.7449034948,63156.3918517196,61402.6986828271,65694.8182536516,63569.9283051038,64157.1581431005,61367.0987934247,60076.4685262107,56484.9540140683,55077.6972533529,54967.8713049379,54877.3582978,54984.4971599379,57372.4677788785,58720.5917777519,58214.7994067877,57375.4507154768,62367.8855186097,76380.0498572845,88662.012949414,96647.1252823627,103689.711004985]},{\"mode\":\"lines\",\"name\":\"Malta\",\"type\":\"scatter\",\"x\":[2018,2017,2016,2015,2014,2013,2012,2011,2010,2009,2008,2007,2006,2005,2004,2003,2002,2001,2000,1999,1998,1997,1996,1995,1994,1993,1992,1991,1990],\"y\":[1531.58072622999,1552.99839832623,1399.48764230635,1735.29588043232,2442.39566061966,2437.84053423398,2762.07470760125,2578.07234188238,2581.75885927079,2532.56842377362,2747.13215957136,2735.72320641265,2665.94446943937,2654.25577102174,2846.41052992359,2979.28095586039,2707.48091404929,2665.17144778351,2545.52171918158,2627.59417415594,2545.13408682323,2586.18766734247,2578.44638570939,2460.2689108789,2669.72235318447,2891.12550751473,2314.9023423236,2255.38870041539,2408.46332514049]},{\"mode\":\"lines\",\"name\":\"Croatia\",\"type\":\"scatter\",\"x\":[2018,2017,2016,2015,2014,2013,2012,2011,2010,2009,2008,2007,2006,2005,2004,2003,2002,2001,2000,1999,1998,1997,1996,1995,1994,1993,1992,1991,1990],\"y\":[17718.6455724821,18737.6890371586,18105.0437764013,17840.7506872716,17704.9852778555,18454.6220097767,19114.7790291044,20682.4392444931,21050.859675384,21837.8014359227,23628.577726183,24843.8124351008,23529.4537376032,23330.0985764962,22916.8279594735,23268.2098760778,21912.7368743211,20806.7359711193,19694.4482097339,20115.455439737,19278.9034772627,18575.8786814894,17515.2663497201,16926.3357695294,16214.2221866827,16959.7805739569,16506.0770001773,17182.3020573119,23329.2494340722]},{\"mode\":\"lines\",\"name\":\"Italy\",\"type\":\"scatter\",\"x\":[2018,2017,2016,2015,2014,2013,2012,2011,2010,2009,2008,2007,2006,2005,2004,2003,2002,2001,2000,1999,1998,1997,1996,1995,1994,1993,1992,1991,1990],\"y\":[348085.029259785,351473.93294538,356556.196027575,360088.1778139,347860.803522809,367568.71230315,401554.708582207,422039.47517146,433688.023903586,422624.187307513,476229.970792145,487693.305512201,495124.198432933,500005.676339257,499619.392973289,494183.286884902,476251.235956733,468642.862531697,468442.086348554,464548.481049407,460049.199121092,448044.941141219,442277.406090101,448332.906183622,424581.72076242,430179.958454536,437829.803945848,437538.596512975,438008.802199713]},{\"mode\":\"lines\",\"name\":\"Lithuania\",\"type\":\"scatter\",\"x\":[2018,2017,2016,2015,2014,2013,2012,2011,2010,2009,2008,2007,2006,2005,2004,2003,2002,2001,2000,1999,1998,1997,1996,1995,1994,1993,1992,1991,1990],\"y\":[13669.4919754163,13545.8474876892,13327.5133241042,13297.1427973495,13087.4701343799,13340.2687330024,14330.8289402948,14271.0769800848,13926.7388560843,13022.7679520861,15179.1617992972,15797.7873514163,14408.0108486811,14091.0759457025,13272.3428701303,12679.8670936187,12690.0057602331,12621.3656534034,11873.9186455427,13476.9603730767,16039.6999792489,15182.2078409743,15757.6305015578,15084.4804331329,15788.2662671884,16348.048682982,21200.577166719,37851.5885217633,35771.8157080354]},{\"mode\":\"lines\",\"name\":\"Norway\",\"type\":\"scatter\",\"x\":[2018,2017,2016,2015,2014,2013,2012,2011,2010,2009,2008,2007,2006,2005,2004,2003,2002,2001,2000,1999,1998,1997,1996,1995,1994,1993,1992,1991,1990],\"y\":[43817.6567450557,43562.5414853235,44472.7299031563,45350.4963792483,44916.6060511976,44982.3953062284,45038.3126012353,45513.3598052323,46231.6541241374,43890.0273509531,45377.6950297943,46231.2860161085,44484.7805500628,43923.1568517922,44622.5799282537,44305.6803192546,42985.6641244404,43866.4144836801,42518.5514490745,42974.0245253799,42220.2291470528,41969.9754613374,41830.308078359,38707.5026816384,38088.9915720635,36224.2008777946,34734.7476284046,33816.4572582708,35321.326080573]},{\"mode\":\"lines\",\"name\":\"Spain\",\"type\":\"scatter\",\"x\":[2018,2017,2016,2015,2014,2013,2012,2011,2010,2009,2008,2007,2006,2005,2004,2003,2002,2001,2000,1999,1998,1997,1996,1995,1994,1993,1992,1991,1990],\"y\":[269654.253507379,274671.261697253,260759.563640033,271687.349200034,255100.205728436,252763.817288465,278850.691074916,284543.848339933,283724.993585763,297241.175040069,336624.210123802,368432.698383462,360578.604188534,369492.124730855,354485.57724037,337588.926976581,333379.515503135,313119.841102688,311267.046543212,299498.671563048,276021.58237108,267306.439161992,254795.329322826,267416.718324656,253661.393598356,241195.182873171,249813.194397124,240953.020775618,231213.556131095]},{\"mode\":\"lines\",\"name\":\"Czechia\",\"type\":\"scatter\",\"x\":[2018,2017,2016,2015,2014,2013,2012,2011,2010,2009,2008,2007,2006,2005,2004,2003,2002,2001,2000,1999,1998,1997,1996,1995,1994,1993,1992,1991,1990],\"y\":[104411.210688469,105641.726351171,106629.020365921,104815.37684623,104049.879538199,106427.45894163,110955.164604466,115060.25937587,117500.711769433,115193.743442035,122941.37326182,128264.329658795,126449.454548873,125671.941770852,128113.811132993,127382.803367257,123895.622125869,126957.555363238,127066.453950034,116623.428290961,125317.669241827,130733.0672073,134962.545911559,131608.25952709,132376.136876739,138637.287763167,144619.022012991,148894.127444014,164204.205712975]},{\"mode\":\"lines\",\"name\":\"Denmark\",\"type\":\"scatter\",\"x\":[2018,2017,2016,2015,2014,2013,2012,2011,2010,2009,2008,2007,2006,2005,2004,2003,2002,2001,2000,1999,1998,1997,1996,1995,1994,1993,1992,1991,1990],\"y\":[36246.2048229019,36213.2522774059,38301.0244931202,36493.9948537237,38866.7286499695,43079.3293409319,41218.2356733,45652.2788281635,50678.3061902569,50184.6891968054,52640.3662936756,56102.0354321429,60858.6853489123,52932.0006859352,56499.8132024679,62055.93279593,56895.5388693198,57322.6787148713,55609.6855353788,59842.6191053397,62395.8923553863,66603.0750402039,75987.0122095032,62655.7725719069,65699.5656561103,61682.5960905652,59595.5885790738,65428.3455260962,54845.6744775156]},{\"mode\":\"lines\",\"name\":\"Russian Federation\",\"type\":\"scatter\",\"x\":[2018,2017,2016,2015,2014,2013,2012,2011,2010,2009,2008,2007,2006,2005,2004,2003,2002,2001,2000,1999,1998,1997,1996,1995,1994,1993,1992,1991,1990],\"y\":[1691360.425737,1646179.81048091,1618304.25794665,1622861.01012164,1622348.90860012,1619172.89204109,1679866.1956823,1664953.14694512,1612884.81391211,1528764.918185,1636694.37485371,1604323.81361381,1606313.35529807,1547375.78114651,1530473.62452885,1525389.95129702,1495483.57832283,1507500.88045298,1471052.23087571,1486090.03432773,1458157.13465934,1475157.17201866,1580160.84390587,1612928.31983429,1641399.16026528,1859459.63110814,1957658.89440788,2395977.95961775,2525293.78247628]},{\"mode\":\"lines\",\"name\":\"Ireland\",\"type\":\"scatter\",\"x\":[2018,2017,2016,2015,2014,2013,2012,2011,2010,2009,2008,2007,2006,2005,2004,2003,2002,2001,2000,1999,1998,1997,1996,1995,1994,1993,1992,1991,1990],\"y\":[38803.3937724537,38910.192717045,40029.8365838452,38545.3302770518,36785.326520522,37235.3029534484,38209.5911496161,38052.2225963057,41747.9285976408,42179.5383695398,47366.2460993392,47665.1296631784,47603.9378150257,48155.535141546,46166.92555071,45683.9694440575,46081.9841328883,47607.4165209804,45248.9951753897,42440.0759845439,40708.8498524021,38805.2391127187,37469.1487566848,35852.6671194269,34838.1523119764,33716.1790147297,33494.9281671375,33674.0092451123,32944.3277756795]},{\"mode\":\"lines\",\"name\":\"Liechtenstein\",\"type\":\"scatter\",\"x\":[2018,2017,2016,2015,2014,2013,2012,2011,2010,2009,2008,2007,2006,2005,2004,2003,2002,2001,2000,1999,1998,1997,1996,1995,1994,1993,1992,1991,1990],\"y\":[143.749839455852,156.280011804227,149.880558815378,159.711343350088,161.238716190272,192.53702097383,185.31481906203,176.776956798351,190.808156025799,205.354339812109,219.507244021122,200.767422348734,231.098671603226,228.96964276856,229.380487768075,229.346078636479,220.012063927523,214.664580488927,216.854032789675,226.560381588969,229.232619043615,218.371012550569,205.958796841394,204.19997612085,201.109449948782,215.03232796014,206.948071672218,206.326470539648,198.967925612674]},{\"mode\":\"lines\",\"name\":\"Monaco\",\"type\":\"scatter\",\"x\":[2018,2017,2016,2015,2014,2013,2012,2011,2010,2009,2008,2007,2006,2005,2004,2003,2002,2001,2000,1999,1998,1997,1996,1995,1994,1993,1992,1991,1990],\"y\":[74.7550712006915,73.0533014093414,74.6558093274817,74.3615437231448,73.886400033158,78.80966798265,78.0476897695046,75.0107829107585,77.6919933828818,79.1637583192536,82.3529546105126,82.7684235598408,84.0080085970913,90.3112283324114,91.8793252541643,97.0507077511893,99.7398656493156,100.010594528044,100.305373333011,102.771498101701,102.068595333327,103.193469033821,104.707975903776,101.196287565613,104.410591895158,103.599056843384,104.510329341545,98.9081435670137,98.227705387591]},{\"mode\":\"lines\",\"name\":\"European Union\",\"type\":\"scatter\",\"x\":[2018,2017,2016,2015,2014,2013,2012,2011,2010,2009,2008,2007,2006,2005,2004,2003,2002,2001,2000,1999,1998,1997,1996,1995,1994,1993,1992,1991,1990],\"y\":[3432017.49574093,3513036.18225618,3500042.73949219,3518768.0005505,3480937.31805591,3655077.46194149,3745971.32736509,3803658.28965926,3951411.91431182,3832105.82022217,4172947.61323661,4272760.08079702,4319665.13862076,4313650.0929451,4336433.66053044,4324440.21597734,4228876.17516888,4243023.9420195,4177734.74063454,4158896.76715251,4224534.8662296,4227943.48286304,4317840.9943919,4212988.59700069,4169946.81164452,4187802.39149633,4271808.70308717,4413593.52793634,4466227.83368469]},{\"mode\":\"lines\",\"name\":\"Ukraine\",\"type\":\"scatter\",\"x\":[2018,2017,2016,2015,2014,2013,2012,2011,2010,2009,2008,2007,2006,2005,2004,2003,2002,2001,2000,1999,1998,1997,1996,1995,1994,1993,1992,1991,1990],\"y\":[231694.164731718,223232.151133566,234200.301807805,223911.868540142,257584.689348606,297294.252816873,303952.606071527,307952.84142234,294078.322497151,277293.500642892,325532.712918485,336364.013523953,332670.337203369,313118.087899896,310362.748297374,307017.471704689,295673.490491261,303559.229465307,285337.201300114,298203.960313902,328578.93752301,340242.686212178,351408.752806537,389864.61480804,419266.300739463,510199.537255087,589060.250850739,632536.626065897,705829.991803785]},{\"mode\":\"lines\",\"name\":\"Iceland\",\"type\":\"scatter\",\"x\":[2018,2017,2016,2015,2014,2013,2012,2011,2010,2009,2008,2007,2006,2005,2004,2003,2002,2001,2000,1999,1998,1997,1996,1995,1994,1993,1992,1991,1990],\"y\":[3674.52850638943,3614.87329421355,3497.53889688049,3545.25516413949,3469.68187077725,3492.77172514825,3502.88574774364,3510.63875461921,3660.12466719635,3740.1796060044,3824.94058092331,3512.09802280345,3164.40279141499,2985.96875812217,3116.88701942054,2994.55250332333,3000.52232232672,2875.24223493072,2946.46686361023,2853.95492474529,2647.85612699632,2627.51359856503,2532.04240702608,2476.69997815258,2373.29666538653,2432.16201626737,2274.26706705902,2128.40965980434,2247.80292086045]},{\"mode\":\"lines\",\"name\":\"United States of America\",\"type\":\"scatter\",\"x\":[2018,2017,2016,2015,2014,2013,2012,2011,2010,2009,2008,2007,2006,2005,2004,2003,2002,2001,2000,1999,1998,1997,1996,1995,1994,1993,1992,1991,1990],\"y\":[5424881.50213288,5253606.13002747,5292267.56146005,5412432.19442036,5561719.2161591,5514029.29437604,5367568.55523549,5565294.40112266,5698055.77931316,5491035.72699449,5930539.64334029,6128429.64048722,6051051.02176828,6131892.97635233,6107618.2463268,5991959.63332312,5942652.33460665,5900436.59624085,5998070.43377472,5830297.63604476,5751051.97995198,5703706.96803283,5626911.90108624,5438905.70357259,5377032.70818647,5283437.59511593,5182706.71965945,5078889.57588522,5128300.6168513]},{\"mode\":\"lines\",\"name\":\"Cyprus\",\"type\":\"scatter\",\"x\":[2018,2017,2016,2015,2014,2013,2012,2011,2010,2009,2008,2007,2006,2005,2004,2003,2002,2001,2000,1999,1998,1997,1996,1995,1994,1993,1992,1991,1990],\"y\":[7332.76185278891,7515.68816517893,7368.22785657742,6960.12949612624,6934.59192710437,6554.36404601499,7234.89236961658,7759.46771834195,8089.01126735049,8453.79757023243,8707.2531713148,8538.9183257027,8223.17449176942,8031.30067352799,7840.93899649826,7605.5506262951,7210.77866207421,7021.41200950456,7145.88033313555,6882.46970730666,6614.64910415714,6321.03013472391,6233.22977494178,5882.26612282574,6011.11322836987,5766.97401461705,5522.90561895422,5146.60855540231,4656.89357909686]},{\"mode\":\"lines\",\"name\":\"Estonia\",\"type\":\"scatter\",\"x\":[2018,2017,2016,2015,2014,2013,2012,2011,2010,2009,2008,2007,2006,2005,2004,2003,2002,2001,2000,1999,1998,1997,1996,1995,1994,1993,1992,1991,1990],\"y\":[17710.9527043212,18635.8722015885,17377.6503103256,15813.4044354123,18755.948585174,19551.9531140066,17684.9753949903,18855.1246877163,18784.9606173505,14339.0093729183,17668.1172407568,19838.5633966356,16208.805417015,16921.6202521054,17201.0127796417,16937.2313518201,15090.487218908,15576.7339780734,15244.1880749353,15653.3480978407,16817.2473364229,18317.2753937448,18759.5249872163,18048.8299926425,19734.0494457627,18910.3613835422,24370.4619672399,33901.774830474,36907.2375398999]},{\"mode\":\"lines\",\"name\":\"Switzerland\",\"type\":\"scatter\",\"x\":[2018,2017,2016,2015,2014,2013,2012,2011,2010,2009,2008,2007,2006,2005,2004,2003,2002,2001,2000,1999,1998,1997,1996,1995,1994,1993,1992,1991,1990],\"y\":[36895.4848348313,38182.2650262948,39192.6094780623,38733.1931159201,39234.4328189085,43185.8372780625,42254.722400681,40985.5235473301,45049.5515778933,43534.7155398996,44714.3099715288,43368.3664038924,45373.6830770009,45788.2349636509,45236.3994268724,44651.9069911309,43467.596162515,45082.4459882986,43617.5914255673,44445.8409485479,44614.821367456,43037.2666609755,44098.8196665512,43412.8303104671,42675.8941129142,43601.0231205789,46009.7044340782,46133.821039985,44154.4209480848]},{\"mode\":\"lines\",\"name\":\"Latvia\",\"type\":\"scatter\",\"x\":[2018,2017,2016,2015,2014,2013,2012,2011,2010,2009,2008,2007,2006,2005,2004,2003,2002,2001,2000,1999,1998,1997,1996,1995,1994,1993,1992,1991,1990],\"y\":[7859.28703094824,7222.7844905141,7220.75142852372,7272.70500469571,7182.63397559017,7381.9889397502,7515.2108803138,7805.39954672233,8548.87875930203,7451.91760415792,8192.81853495034,8631.98906677741,8305.734197949,7806.67626497519,7727.75569807799,7722.59047462213,7502.60817133935,7474.38995771827,7064.71592682912,7695.96860030688,8280.68815337427,8645.95219191048,9170.26786427484,9090.3076346425,10296.752129648,11818.6406113667,14079.8294200053,17783.1202562515,19504.1309234086]},{\"mode\":\"lines\",\"name\":\"Canada\",\"type\":\"scatter\",\"x\":[2018,2017,2016,2015,2014,2013,2012,2011,2010,2009,2008,2007,2006,2005,2004,2003,2002,2001,2000,1999,1998,1997,1996,1995,1994,1993,1992,1991,1990],\"y\":[586504.634542466,572834.389442262,564032.530027391,575906.938645282,575942.178811822,576327.006234054,569737.013024553,566740.990959863,555549.849476423,542549.599765392,575586.90796111,594220.570759443,570950.380878791,576434.463847342,585703.097963365,587178.148867368,570844.777611729,564946.398072384,572162.102863972,549553.212013035,533639.792821814,524789.166836941,510736.656417936,494920.254788246,482436.578674902,467406.41099046,467037.420143524,452494.723086163,462117.351149139]},{\"mode\":\"lines\",\"name\":\"Slovenia\",\"type\":\"scatter\",\"x\":[2018,2017,2016,2015,2014,2013,2012,2011,2010,2009,2008,2007,2006,2005,2004,2003,2002,2001,2000,1999,1998,1997,1996,1995,1994,1993,1992,1991,1990],\"y\":[14487.844474942,14264.7533621895,14416.6565429867,13617.5425786935,13531.9363093237,15188.9136130485,15821.7559761859,16360.3010909769,16376.443508706,16329.7820175681,18220.0144547338,17281.0017099016,17142.5257529594,16948.1214005397,16651.0302807818,16289.0297264259,16525.2705401741,16378.3388964937,15444.8987925728,15337.2394964804,15961.1282703806,16244.9214511387,15916.6062270029,15254.2521104167,14642.6729766768,14303.4745932911,14006.7490772864,14001.2386768891,15093.8383654949]},{\"mode\":\"lines\",\"name\":\"Japan\",\"type\":\"scatter\",\"x\":[2018,2017,2016,2015,2014,2013,2012,2011,2010,2009,2008,2007,2006,2005,2004,2003,2002,2001,2000,1999,1998,1997,1996,1995,1994,1993,1992,1991,1990],\"y\":[1135688.00020241,1187661.45386819,1203167.01767453,1222781.31475903,1263049.94200598,1314702.9994073,1305432.85047807,1264155.1270142,1214068.55631317,1162647.86628282,1231909.52457059,1302524.28495402,1266828.60601604,1290056.276701,1282872.08285675,1287642.18171146,1279452.9647103,1250211.04624365,1264844.26063492,1242015.30712131,1205416.31928698,1245112.03393073,1251867.56918393,1239928.15849454,1227566.84007559,1172647.30939245,1179740.09775167,1170065.7288122,1158391.31118915]},{\"mode\":\"lines\",\"name\":\"Luxembourg\",\"type\":\"scatter\",\"x\":[2018,2017,2016,2015,2014,2013,2012,2011,2010,2009,2008,2007,2006,2005,2004,2003,2002,2001,2000,1999,1998,1997,1996,1995,1994,1993,1992,1991,1990],\"y\":[9568.51953368545,9250.40212663893,9080.25282693925,9333.16889945848,9825.21586286149,10303.8722713382,10851.3991139457,11114.5548217397,11219.2942964271,10647.821340394,11195.2463438773,11333.5839357874,11936.2842632925,12105.4480609916,11844.3064615053,10476.0186989438,10003.0487452456,9226.36684569111,8731.56638378884,8147.98398291498,7695.0730252987,8573.10645266367,9219.90764062443,9170.29950974537,11563.9282121999,12372.806055811,12232.160311753,12465.7877967775,11847.635442146]},{\"mode\":\"lines\",\"name\":\"New Zealand\",\"type\":\"scatter\",\"x\":[2018,2017,2016,2015,2014,2013,2012,2011,2010,2009,2008,2007,2006,2005,2004,2003,2002,2001,2000,1999,1998,1997,1996,1995,1994,1993,1992,1991,1990],\"y\":[35080.3409784102,36153.3319655171,34267.6242757242,35839.1938918605,35457.8044654959,35240.9368858808,36000.4334392606,34249.5711852552,34957.7838441033,34762.4347486468,37592.3169852392,36559.8842863292,37466.3290203584,37571.039140135,35940.1111401226,36351.9040365648,34638.1013895817,34457.4419655282,32281.3522511698,31472.2734918801,29882.7802676386,31289.3378910193,29295.0777261975,28001.8053423998,27880.329427551,27699.4614049738,28105.0746158788,26110.3840307702,25446.2878554093]},{\"mode\":\"lines\",\"name\":\"Poland\",\"type\":\"scatter\",\"x\":[2018,2017,2016,2015,2014,2013,2012,2011,2010,2009,2008,2007,2006,2005,2004,2003,2002,2001,2000,1999,1998,1997,1996,1995,1994,1993,1992,1991,1990],\"y\":[337705.74182301,337340.421778012,324011.335071663,313099.147361381,309920.915761492,322225.440340873,326348.211523784,333952.034783092,334606.783962775,316607.700640106,330144.998656562,336368.497828037,337037.511518509,323161.266880344,324146.20983936,319406.051155379,306403.332889554,313647.662006214,317338.034159054,329167.331918592,339132.886483521,367385.323158231,377407.835673029,362761.266834645,360416.807932456,365370.695658555,364677.869650621,373793.320540164,376546.517951405]},{\"mode\":\"lines\",\"name\":\"Portugal\",\"type\":\"scatter\",\"x\":[2018,2017,2016,2015,2014,2013,2012,2011,2010,2009,2008,2007,2006,2005,2004,2003,2002,2001,2000,1999,1998,1997,1996,1995,1994,1993,1992,1991,1990],\"y\":[51482.4811671429,54719.9760045003,50455.5700692996,52294.0604187532,47948.4350585232,48161.8828975212,49962.6235880616,51792.6538325347,52989.3772455978,57200.2556616906,59973.0625301686,62280.4229719127,64767.6548374252,69483.98230618,67255.3254038397,64419.3147445385,69556.0826965554,65149.3048901802,65526.5882790747,66763.1930486435,59138.4343823723,54597.5878919909,51703.2201850128,54450.7657191168,50246.4480488306,49391.8956024179,50889.1687666769,46960.2573109118,45082.9718484685]},{\"mode\":\"lines\",\"name\":\"Australia\",\"type\":\"scatter\",\"x\":[2018,2017,2016,2015,2014,2013,2012,2011,2010,2009,2008,2007,2006,2005,2004,2003,2002,2001,2000,1999,1998,1997,1996,1995,1994,1993,1992,1991,1990],\"y\":[415953.946668257,415097.42766819,411031.531117043,401554.757230168,394116.891505507,397943.178573917,406506.241774818,404172.757021574,405502.798857304,407463.327962593,404417.407486178,399842.460646105,392680.646328911,386513.45429618,383205.122284339,369726.018066042,362209.546033934,357669.182881018,350195.023826897,344063.765859686,334684.517907243,320795.086167167,312361.585574263,305410.166604956,294014.960792545,289235.186168999,284912.437867139,279872.660257341,278424.660375653]},{\"mode\":\"lines\",\"name\":\"Romania\",\"type\":\"scatter\",\"x\":[2018,2017,2016,2015,2014,2013,2012,2011,2010,2009,2008,2007,2006,2005,2004,2003,2002,2001,2000,1999,1998,1997,1996,1995,1994,1993,1992,1991,1990],\"y\":[76951.2189688293,78077.4897274096,75812.8017938512,77725.6298778275,77432.4172893916,76875.8936076427,86255.6930244359,89518.2458428664,84289.7215619474,86024.1362338914,105534.579496887,108440.49325638,105082.793031832,102694.473334226,104269.756728272,105295.172237085,101735.332431986,100357.071280565,95455.7605459872,90778.1784473023,107561.544307475,121074.67434503,130095.925323886,127032.855585614,121961.461882256,122832.305091186,131072.276566846,139370.253165321,169285.872691812]},{\"mode\":\"lines\",\"name\":\"Bulgaria\",\"type\":\"scatter\",\"x\":[2018,2017,2016,2015,2014,2013,2012,2011,2010,2009,2008,2007,2006,2005,2004,2003,2002,2001,2000,1999,1998,1997,1996,1995,1994,1993,1992,1991,1990],\"y\":[43551.599048709,47505.16352595,45353.723417232,48194.2799893116,45169.3296886434,42649.5076910971,48349.0085369352,53178.0436090909,47862.9303891247,45773.7710199153,54079.5574525907,55740.8447678207,51895.2191096203,50656.426636575,49570.7306344279,50509.6689174236,46258.5728538918,49014.1362462771,45305.031895079,46369.9838000907,53275.2170483312,55861.2693878692,58108.019719584,57716.3659311274,56083.5266147436,57675.6371886381,57010.4320427525,61232.5967315523,76698.9750767925]},{\"mode\":\"lines\",\"name\":\"Austria\",\"type\":\"scatter\",\"x\":[2018,2017,2016,2015,2014,2013,2012,2011,2010,2009,2008,2007,2006,2005,2004,2003,2002,2001,2000,1999,1998,1997,1996,1995,1994,1993,1992,1991,1990],\"y\":[66719.6777666744,69628.8596106596,67112.2654587419,66283.2365458533,64084.4274667337,67745.6895442715,67209.0963816178,69898.2413042763,72011.8408789925,67493.9480784093,73588.4048158102,74262.5877706597,76898.3285249658,79192.4319215329,77674.3906380596,77554.2519648355,71918.7621509873,70102.5999732436,66162.8879058016,65562.7217746465,66875.1468247755,67232.7787574344,67421.5890947817,64065.25981886,61002.4393644111,60635.4191406704,60204.0685273764,65725.5331115649,62124.7007131878]},{\"mode\":\"lines\",\"name\":\"Hungary\",\"type\":\"scatter\",\"x\":[2018,2017,2016,2015,2014,2013,2012,2011,2010,2009,2008,2007,2006,2005,2004,2003,2002,2001,2000,1999,1998,1997,1996,1995,1994,1993,1992,1991,1990],\"y\":[49628.490982072,49684.8471645542,47395.7098085976,46627.6133530015,43862.711091479,43704.8054948814,46776.6781403574,50322.1456635078,52123.6780411305,51774.9657203118,57530.8150412234,58688.6259516226,59915.3810922813,60606.5273317791,60489.9170971114,61981.4713723319,59197.0046477252,60238.800926392,58608.2748691238,61911.6021323732,61415.0010858142,61813.1391979355,63257.5198319678,61690.7738764767,61973.5116749879,63632.7619824292,62415.941917704,69784.5192033522,73464.8538219331]},{\"mode\":\"lines\",\"name\":\"United Kingdom\",\"type\":\"scatter\",\"x\":[2018,2017,2016,2015,2014,2013,2012,2011,2010,2009,2008,2007,2006,2005,2004,2003,2002,2001,2000,1999,1998,1997,1996,1995,1994,1993,1992,1991,1990],\"y\":[380849.882910071,388803.410059709,399824.299299983,423199.617230795,439763.276954655,478608.945079335,488503.548419289,470608.131015341,512864.791680109,495119.485922879,545682.4676761,560205.595545064,568390.054550416,570724.265175529,573994.49080935,572532.251080021,561047.845137749,576926.994554245,568220.055467351,561651.093852178,568512.201977305,563241.836123903,589137.824656407,567507.648076862,575774.599576308,579506.686402148,593745.973865002,609266.002027072,601187.186814322]},{\"mode\":\"lines\",\"name\":\"Netherlands\",\"type\":\"scatter\",\"x\":[2018,2017,2016,2015,2014,2013,2012,2011,2010,2009,2008,2007,2006,2005,2004,2003,2002,2001,2000,1999,1998,1997,1996,1995,1994,1993,1992,1991,1990],\"y\":[160170.147439641,164444.773768704,166282.089728861,166366.655865468,158768.01234911,165717.877810591,165827.027252846,169065.734256756,182117.938134422,170167.74143354,175481.511022412,172587.180339288,172686.523341534,177459.005110619,181381.76585373,179564.998097276,176113.046481303,176798.513076368,171887.440050803,170727.34959651,176136.866137469,175019.626330112,182148.288127849,172966.168650756,171401.365047735,170817.552396797,170630.241424131,170796.382524118,162385.109422551]}],                        {\"autosize\":false,\"height\":500,\"template\":{\"data\":{\"bar\":[{\"error_x\":{\"color\":\"#2a3f5f\"},\"error_y\":{\"color\":\"#2a3f5f\"},\"marker\":{\"line\":{\"color\":\"#E5ECF6\",\"width\":0.5},\"pattern\":{\"fillmode\":\"overlay\",\"size\":10,\"solidity\":0.2}},\"type\":\"bar\"}],\"barpolar\":[{\"marker\":{\"line\":{\"color\":\"#E5ECF6\",\"width\":0.5},\"pattern\":{\"fillmode\":\"overlay\",\"size\":10,\"solidity\":0.2}},\"type\":\"barpolar\"}],\"carpet\":[{\"aaxis\":{\"endlinecolor\":\"#2a3f5f\",\"gridcolor\":\"white\",\"linecolor\":\"white\",\"minorgridcolor\":\"white\",\"startlinecolor\":\"#2a3f5f\"},\"baxis\":{\"endlinecolor\":\"#2a3f5f\",\"gridcolor\":\"white\",\"linecolor\":\"white\",\"minorgridcolor\":\"white\",\"startlinecolor\":\"#2a3f5f\"},\"type\":\"carpet\"}],\"choropleth\":[{\"colorbar\":{\"outlinewidth\":0,\"ticks\":\"\"},\"type\":\"choropleth\"}],\"contour\":[{\"colorbar\":{\"outlinewidth\":0,\"ticks\":\"\"},\"colorscale\":[[0.0,\"#0d0887\"],[0.1111111111111111,\"#46039f\"],[0.2222222222222222,\"#7201a8\"],[0.3333333333333333,\"#9c179e\"],[0.4444444444444444,\"#bd3786\"],[0.5555555555555556,\"#d8576b\"],[0.6666666666666666,\"#ed7953\"],[0.7777777777777778,\"#fb9f3a\"],[0.8888888888888888,\"#fdca26\"],[1.0,\"#f0f921\"]],\"type\":\"contour\"}],\"contourcarpet\":[{\"colorbar\":{\"outlinewidth\":0,\"ticks\":\"\"},\"type\":\"contourcarpet\"}],\"heatmap\":[{\"colorbar\":{\"outlinewidth\":0,\"ticks\":\"\"},\"colorscale\":[[0.0,\"#0d0887\"],[0.1111111111111111,\"#46039f\"],[0.2222222222222222,\"#7201a8\"],[0.3333333333333333,\"#9c179e\"],[0.4444444444444444,\"#bd3786\"],[0.5555555555555556,\"#d8576b\"],[0.6666666666666666,\"#ed7953\"],[0.7777777777777778,\"#fb9f3a\"],[0.8888888888888888,\"#fdca26\"],[1.0,\"#f0f921\"]],\"type\":\"heatmap\"}],\"heatmapgl\":[{\"colorbar\":{\"outlinewidth\":0,\"ticks\":\"\"},\"colorscale\":[[0.0,\"#0d0887\"],[0.1111111111111111,\"#46039f\"],[0.2222222222222222,\"#7201a8\"],[0.3333333333333333,\"#9c179e\"],[0.4444444444444444,\"#bd3786\"],[0.5555555555555556,\"#d8576b\"],[0.6666666666666666,\"#ed7953\"],[0.7777777777777778,\"#fb9f3a\"],[0.8888888888888888,\"#fdca26\"],[1.0,\"#f0f921\"]],\"type\":\"heatmapgl\"}],\"histogram\":[{\"marker\":{\"pattern\":{\"fillmode\":\"overlay\",\"size\":10,\"solidity\":0.2}},\"type\":\"histogram\"}],\"histogram2d\":[{\"colorbar\":{\"outlinewidth\":0,\"ticks\":\"\"},\"colorscale\":[[0.0,\"#0d0887\"],[0.1111111111111111,\"#46039f\"],[0.2222222222222222,\"#7201a8\"],[0.3333333333333333,\"#9c179e\"],[0.4444444444444444,\"#bd3786\"],[0.5555555555555556,\"#d8576b\"],[0.6666666666666666,\"#ed7953\"],[0.7777777777777778,\"#fb9f3a\"],[0.8888888888888888,\"#fdca26\"],[1.0,\"#f0f921\"]],\"type\":\"histogram2d\"}],\"histogram2dcontour\":[{\"colorbar\":{\"outlinewidth\":0,\"ticks\":\"\"},\"colorscale\":[[0.0,\"#0d0887\"],[0.1111111111111111,\"#46039f\"],[0.2222222222222222,\"#7201a8\"],[0.3333333333333333,\"#9c179e\"],[0.4444444444444444,\"#bd3786\"],[0.5555555555555556,\"#d8576b\"],[0.6666666666666666,\"#ed7953\"],[0.7777777777777778,\"#fb9f3a\"],[0.8888888888888888,\"#fdca26\"],[1.0,\"#f0f921\"]],\"type\":\"histogram2dcontour\"}],\"mesh3d\":[{\"colorbar\":{\"outlinewidth\":0,\"ticks\":\"\"},\"type\":\"mesh3d\"}],\"parcoords\":[{\"line\":{\"colorbar\":{\"outlinewidth\":0,\"ticks\":\"\"}},\"type\":\"parcoords\"}],\"pie\":[{\"automargin\":true,\"type\":\"pie\"}],\"scatter\":[{\"marker\":{\"colorbar\":{\"outlinewidth\":0,\"ticks\":\"\"}},\"type\":\"scatter\"}],\"scatter3d\":[{\"line\":{\"colorbar\":{\"outlinewidth\":0,\"ticks\":\"\"}},\"marker\":{\"colorbar\":{\"outlinewidth\":0,\"ticks\":\"\"}},\"type\":\"scatter3d\"}],\"scattercarpet\":[{\"marker\":{\"colorbar\":{\"outlinewidth\":0,\"ticks\":\"\"}},\"type\":\"scattercarpet\"}],\"scattergeo\":[{\"marker\":{\"colorbar\":{\"outlinewidth\":0,\"ticks\":\"\"}},\"type\":\"scattergeo\"}],\"scattergl\":[{\"marker\":{\"colorbar\":{\"outlinewidth\":0,\"ticks\":\"\"}},\"type\":\"scattergl\"}],\"scattermapbox\":[{\"marker\":{\"colorbar\":{\"outlinewidth\":0,\"ticks\":\"\"}},\"type\":\"scattermapbox\"}],\"scatterpolar\":[{\"marker\":{\"colorbar\":{\"outlinewidth\":0,\"ticks\":\"\"}},\"type\":\"scatterpolar\"}],\"scatterpolargl\":[{\"marker\":{\"colorbar\":{\"outlinewidth\":0,\"ticks\":\"\"}},\"type\":\"scatterpolargl\"}],\"scatterternary\":[{\"marker\":{\"colorbar\":{\"outlinewidth\":0,\"ticks\":\"\"}},\"type\":\"scatterternary\"}],\"surface\":[{\"colorbar\":{\"outlinewidth\":0,\"ticks\":\"\"},\"colorscale\":[[0.0,\"#0d0887\"],[0.1111111111111111,\"#46039f\"],[0.2222222222222222,\"#7201a8\"],[0.3333333333333333,\"#9c179e\"],[0.4444444444444444,\"#bd3786\"],[0.5555555555555556,\"#d8576b\"],[0.6666666666666666,\"#ed7953\"],[0.7777777777777778,\"#fb9f3a\"],[0.8888888888888888,\"#fdca26\"],[1.0,\"#f0f921\"]],\"type\":\"surface\"}],\"table\":[{\"cells\":{\"fill\":{\"color\":\"#EBF0F8\"},\"line\":{\"color\":\"white\"}},\"header\":{\"fill\":{\"color\":\"#C8D4E3\"},\"line\":{\"color\":\"white\"}},\"type\":\"table\"}]},\"layout\":{\"annotationdefaults\":{\"arrowcolor\":\"#2a3f5f\",\"arrowhead\":0,\"arrowwidth\":1},\"autotypenumbers\":\"strict\",\"coloraxis\":{\"colorbar\":{\"outlinewidth\":0,\"ticks\":\"\"}},\"colorscale\":{\"diverging\":[[0,\"#8e0152\"],[0.1,\"#c51b7d\"],[0.2,\"#de77ae\"],[0.3,\"#f1b6da\"],[0.4,\"#fde0ef\"],[0.5,\"#f7f7f7\"],[0.6,\"#e6f5d0\"],[0.7,\"#b8e186\"],[0.8,\"#7fbc41\"],[0.9,\"#4d9221\"],[1,\"#276419\"]],\"sequential\":[[0.0,\"#0d0887\"],[0.1111111111111111,\"#46039f\"],[0.2222222222222222,\"#7201a8\"],[0.3333333333333333,\"#9c179e\"],[0.4444444444444444,\"#bd3786\"],[0.5555555555555556,\"#d8576b\"],[0.6666666666666666,\"#ed7953\"],[0.7777777777777778,\"#fb9f3a\"],[0.8888888888888888,\"#fdca26\"],[1.0,\"#f0f921\"]],\"sequentialminus\":[[0.0,\"#0d0887\"],[0.1111111111111111,\"#46039f\"],[0.2222222222222222,\"#7201a8\"],[0.3333333333333333,\"#9c179e\"],[0.4444444444444444,\"#bd3786\"],[0.5555555555555556,\"#d8576b\"],[0.6666666666666666,\"#ed7953\"],[0.7777777777777778,\"#fb9f3a\"],[0.8888888888888888,\"#fdca26\"],[1.0,\"#f0f921\"]]},\"colorway\":[\"#636efa\",\"#EF553B\",\"#00cc96\",\"#ab63fa\",\"#FFA15A\",\"#19d3f3\",\"#FF6692\",\"#B6E880\",\"#FF97FF\",\"#FECB52\"],\"font\":{\"color\":\"#2a3f5f\"},\"geo\":{\"bgcolor\":\"white\",\"lakecolor\":\"white\",\"landcolor\":\"#E5ECF6\",\"showlakes\":true,\"showland\":true,\"subunitcolor\":\"white\"},\"hoverlabel\":{\"align\":\"left\"},\"hovermode\":\"closest\",\"mapbox\":{\"style\":\"light\"},\"paper_bgcolor\":\"white\",\"plot_bgcolor\":\"#E5ECF6\",\"polar\":{\"angularaxis\":{\"gridcolor\":\"white\",\"linecolor\":\"white\",\"ticks\":\"\"},\"bgcolor\":\"#E5ECF6\",\"radialaxis\":{\"gridcolor\":\"white\",\"linecolor\":\"white\",\"ticks\":\"\"}},\"scene\":{\"xaxis\":{\"backgroundcolor\":\"#E5ECF6\",\"gridcolor\":\"white\",\"gridwidth\":2,\"linecolor\":\"white\",\"showbackground\":true,\"ticks\":\"\",\"zerolinecolor\":\"white\"},\"yaxis\":{\"backgroundcolor\":\"#E5ECF6\",\"gridcolor\":\"white\",\"gridwidth\":2,\"linecolor\":\"white\",\"showbackground\":true,\"ticks\":\"\",\"zerolinecolor\":\"white\"},\"zaxis\":{\"backgroundcolor\":\"#E5ECF6\",\"gridcolor\":\"white\",\"gridwidth\":2,\"linecolor\":\"white\",\"showbackground\":true,\"ticks\":\"\",\"zerolinecolor\":\"white\"}},\"shapedefaults\":{\"line\":{\"color\":\"#2a3f5f\"}},\"ternary\":{\"aaxis\":{\"gridcolor\":\"white\",\"linecolor\":\"white\",\"ticks\":\"\"},\"baxis\":{\"gridcolor\":\"white\",\"linecolor\":\"white\",\"ticks\":\"\"},\"bgcolor\":\"#E5ECF6\",\"caxis\":{\"gridcolor\":\"white\",\"linecolor\":\"white\",\"ticks\":\"\"}},\"title\":{\"x\":0.05},\"xaxis\":{\"automargin\":true,\"gridcolor\":\"white\",\"linecolor\":\"white\",\"ticks\":\"\",\"title\":{\"standoff\":15},\"zerolinecolor\":\"white\",\"zerolinewidth\":2},\"yaxis\":{\"automargin\":true,\"gridcolor\":\"white\",\"linecolor\":\"white\",\"ticks\":\"\",\"title\":{\"standoff\":15},\"zerolinecolor\":\"white\",\"zerolinewidth\":2}}},\"title\":{\"text\":\"CO2 emissions by country and year\"},\"width\":1500,\"xaxis\":{\"title\":{\"text\":\"Year\"}},\"yaxis\":{\"title\":{\"text\":\"CO2 Emissions\"}}},                        {\"responsive\": true}                    ).then(function(){\n",
       "                            \n",
       "var gd = document.getElementById('029703d1-f154-40bc-b2ff-04f7469ff5dc');\n",
       "var x = new MutationObserver(function (mutations, observer) {{\n",
       "        var display = window.getComputedStyle(gd).display;\n",
       "        if (!display || display === 'none') {{\n",
       "            console.log([gd, 'removed!']);\n",
       "            Plotly.purge(gd);\n",
       "            observer.disconnect();\n",
       "        }}\n",
       "}});\n",
       "\n",
       "// Listen for the removal of the full notebook cells\n",
       "var notebookContainer = gd.closest('#notebook-container');\n",
       "if (notebookContainer) {{\n",
       "    x.observe(notebookContainer, {childList: true});\n",
       "}}\n",
       "\n",
       "// Listen for the clearing of the current output cell\n",
       "var outputEl = gd.closest('.output');\n",
       "if (outputEl) {{\n",
       "    x.observe(outputEl, {childList: true});\n",
       "}}\n",
       "\n",
       "                        })                };                });            </script>        </div>"
      ]
     },
     "metadata": {},
     "output_type": "display_data"
    }
   ],
   "source": [
    "fig = go.Figure()\n",
    "for country in CO2_countries:\n",
    "    country_data = CO2_df[CO2_df[\"Country or Area\"] == country] \n",
    "    fig.add_trace(go.Scatter(x = country_data[\"Year\"], y = country_data[\"Value\"], mode = \"lines\", name = country))\n",
    "\n",
    "fig.update_layout(autosize=False,\n",
    "    width=1500,\n",
    "    height=500,\n",
    "    title = \"CO2 emissions by country and year\", \n",
    "    xaxis_title = \"Year\", \n",
    "    yaxis_title = \"CO2 Emissions\")\n",
    "\n",
    "\n",
    "fig.show()"
   ]
  },
  {
   "cell_type": "code",
   "execution_count": 106,
   "id": "a4abe6ed-9661-41b9-9054-d9aef5819b70",
   "metadata": {},
   "outputs": [
    {
     "data": {
      "application/vnd.plotly.v1+json": {
       "config": {
        "plotlyServerURL": "https://plot.ly"
       },
       "data": [
        {
         "mode": "lines",
         "name": "Sweden",
         "type": "scatter",
         "x": [
          2018,
          2017,
          2016,
          2015,
          2014,
          2013,
          2012,
          2011,
          2010,
          2009,
          2008,
          2007,
          2006,
          2005,
          2004,
          2003,
          2002,
          2001,
          2000,
          1999,
          1998,
          1997,
          1996,
          1995,
          1994,
          1993,
          1992,
          1991,
          1990
         ],
         "y": [
          1034.90083218439,
          1098.0517934649,
          1137.0011624531,
          1120.84513054125,
          1102.58079293083,
          1076.72709740585,
          1087.92404667023,
          1105.94271044214,
          1133.80797204996,
          1154.25036176679,
          1155.92954424814,
          1140.46751578497,
          1134.96409700484,
          1110.19836292297,
          1085.12898202862,
          1003.3728716246,
          934.620519264379,
          851.954948399246,
          769.640582996456,
          638.960188016772,
          483.443059106788,
          371.931294937894,
          226.857391963391,
          135.759832015858,
          73.2558452047319,
          30.1981102653253,
          12.8135741285902,
          11.1414994870086,
          6.48744322957573
         ]
        },
        {
         "mode": "lines",
         "name": "Turkey",
         "type": "scatter",
         "x": [
          2018,
          2017,
          2016,
          2015,
          2014,
          2013,
          2012,
          2011,
          2010,
          2009,
          2008,
          2007,
          2006,
          2005,
          2004,
          2003,
          2002,
          2001,
          2000
         ],
         "y": [
          5081.897244134,
          5159.2545201,
          5021.14576129344,
          4636.95594413297,
          4778.45244502115,
          4470.24390895984,
          4256.83450631063,
          3432.64059144341,
          3054.27585146971,
          2111.28034281378,
          1896.13812499598,
          1713.19300956487,
          1424.18969214271,
          1146.88282866124,
          909.371796254491,
          628.798307196726,
          417.186727909241,
          232.003643733401,
          115.656211508405
         ]
        },
        {
         "mode": "lines",
         "name": "Germany",
         "type": "scatter",
         "x": [
          2018,
          2017,
          2016,
          2015,
          2014,
          2013,
          2012,
          2011,
          2010,
          2009,
          2008,
          2007,
          2006,
          2005,
          2004,
          2003,
          2002,
          2001,
          2000,
          1999,
          1998,
          1997,
          1996,
          1995,
          1994,
          1993,
          1992,
          1991,
          1990
         ],
         "y": [
          10487.1155482491,
          11121.4521057048,
          11297.4579450531,
          11321.1530073275,
          11118.1473752841,
          10944.628990755,
          10943.4116916849,
          10760.5111839442,
          10343.9329256047,
          10007.0278237443,
          9753.21275952187,
          9803.71083581759,
          9377.48357905447,
          9007.62423932809,
          8751.9773828215,
          8301.74149785757,
          8090.59146968294,
          7453.03223291516,
          6030.20777647133,
          5198.88903873635,
          4868.69399701122,
          4157.79857638874,
          3407.90792275185,
          2614.4106806904,
          2687.86268163615,
          2495.76691223775,
          287.5644590521,
          45.9220062644,
          50.32
         ]
        },
        {
         "mode": "lines",
         "name": "France",
         "type": "scatter",
         "x": [
          2018,
          2017,
          2016,
          2015,
          2014,
          2013,
          2012,
          2011,
          2010,
          2009,
          2008,
          2007,
          2006,
          2005,
          2004,
          2003,
          2002,
          2001,
          2000,
          1999,
          1998,
          1997,
          1996,
          1995,
          1994,
          1993,
          1992,
          1991,
          1990
         ],
         "y": [
          15957.6031367676,
          17842.0098525281,
          19141.5235055961,
          19063.5896639954,
          18870.8158495852,
          18849.5143499525,
          18849.4830814373,
          18583.6605860072,
          17559.3973484194,
          16558.1884951718,
          16411.2631209101,
          15454.2432045664,
          14548.3141808404,
          13542.8312320069,
          12221.5231291791,
          10812.7877487608,
          9417.56728537132,
          8130.30959695107,
          6700.69434109876,
          5423.51450999383,
          4319.5592259153,
          4063.93892997737,
          3248.30054294207,
          1900.37261314266,
          1959.90332230422,
          2938.31346267631,
          4418.01135362189,
          5124.37681761492,
          4402.19994328629
         ]
        },
        {
         "mode": "lines",
         "name": "Greece",
         "type": "scatter",
         "x": [
          2018,
          2017,
          2016,
          2015,
          2014,
          2013,
          2012,
          2011,
          2010,
          2009,
          2008,
          2007,
          2006,
          2005,
          2004,
          2003,
          2002,
          2001,
          2000,
          1999,
          1998,
          1997,
          1996,
          1995,
          1994,
          1993,
          1992,
          1991,
          1990
         ],
         "y": [
          5907.58196408143,
          6177.93247151024,
          6223.8618694555,
          5999.84455389418,
          5842.95097014806,
          5741.47627757344,
          5153.9310515242,
          4747.22422242122,
          4467.7641233117,
          4036.0151927208,
          3712.34559194796,
          3246.63319696743,
          2723.62792706369,
          5078.02569564883,
          4928.26924985721,
          4733.64897000133,
          5090.33300671548,
          4781.51816000275,
          5261.86231892746,
          6721.12967716985,
          5767.51429514513,
          5166.48802785957,
          4820.16537150106,
          4157.37596992872,
          2712.11246316,
          2032.43915305,
          1149.072,
          1400.08,
          1182.816
         ]
        },
        {
         "mode": "lines",
         "name": "Slovakia",
         "type": "scatter",
         "x": [
          2018,
          2017,
          2016,
          2015,
          2014,
          2013,
          2012,
          2011,
          2010,
          2009,
          2008,
          2007,
          2006,
          2005,
          2004,
          2003,
          2002,
          2001,
          2000,
          1999,
          1998,
          1997,
          1996,
          1995,
          1994
         ],
         "y": [
          702.770756721768,
          739.057218901321,
          673.37041026847,
          734.884676865271,
          653.839424519085,
          646.877966244766,
          628.195416222163,
          605.026553290895,
          597.239829242173,
          516.926747188696,
          454.472172162138,
          388.26141549588,
          341.487325451568,
          292.991425109523,
          254.385018654279,
          213.51616991126,
          178.455332112864,
          138.783116311824,
          105.04465002763,
          77.2853264577755,
          54.6079028904907,
          41.2120600105767,
          28.3865836713273,
          13.3179138718725,
          0.1958936
         ]
        },
        {
         "mode": "lines",
         "name": "Belgium",
         "type": "scatter",
         "x": [
          2018,
          2017,
          2016,
          2015,
          2014,
          2013,
          2012,
          2011,
          2010,
          2009,
          2008,
          2007,
          2006,
          2005,
          2004,
          2003,
          2002,
          2001,
          2000,
          1999,
          1998,
          1997,
          1996,
          1995,
          1994,
          1993,
          1992
         ],
         "y": [
          4469.83725723507,
          4356.87922365054,
          4001.36738320696,
          4037.27725603104,
          3879.29065813118,
          3638.4385194506,
          3566.96103548522,
          3562.48461103344,
          3162.30542719384,
          2839.10864666153,
          2976.13981884555,
          3007.82891387692,
          2621.22452855217,
          2546.55572956118,
          1727.99299229106,
          1645.26195963978,
          1455.93944712819,
          1222.51998772962,
          1139.9568219343,
          940.970392643263,
          872.708294613772,
          711.587186846675,
          586.898209677834,
          491.416918273662,
          493.80632644369,
          481.14942939697,
          481.14942939697
         ]
        },
        {
         "mode": "lines",
         "name": "Finland",
         "type": "scatter",
         "x": [
          2018,
          2017,
          2016,
          2015,
          2014,
          2013,
          2012,
          2011,
          2010,
          2009,
          2008,
          2007,
          2006,
          2005,
          2004,
          2003,
          2002,
          2001,
          2000,
          1999,
          1998,
          1997,
          1996,
          1995,
          1994,
          1993,
          1992,
          1991,
          1990
         ],
         "y": [
          1178.05731223711,
          1212.63640665346,
          1275.36090182533,
          1327.54111485638,
          1366.19268136038,
          1380.9192193596,
          1382.14524264563,
          1355.27662774826,
          1362.56992134208,
          1381.43423668762,
          1383.2456034081,
          1345.34922770012,
          1312.23086804165,
          1157.40037787442,
          1082.05721543006,
          978.497729726382,
          880.580011133921,
          786.450119709676,
          715.466845566291,
          540.275917834763,
          442.448152449464,
          333.483437349146,
          233.43773451629,
          149.809616160777,
          81.238862214434,
          0.20379561,
          0.0456544,
          0.03298412,
          0.02094836
         ]
        },
        {
         "mode": "lines",
         "name": "Belarus",
         "type": "scatter",
         "x": [],
         "y": []
        },
        {
         "mode": "lines",
         "name": "Malta",
         "type": "scatter",
         "x": [
          2018,
          2017,
          2016,
          2015,
          2014,
          2013,
          2012,
          2011,
          2010,
          2009,
          2008,
          2007,
          2006,
          2005,
          2004,
          2003,
          2002,
          2001,
          2000,
          1999,
          1998,
          1997,
          1996,
          1995,
          1994
         ],
         "y": [
          411.614375069252,
          369.160693133855,
          309.076697363925,
          292.394583582417,
          272.031410304992,
          252.384835150776,
          232.512173972749,
          195.586069357762,
          167.595292188936,
          151.060219227487,
          125.828271658939,
          106.055206761329,
          84.2239398491282,
          44.1813954774386,
          29.9044008460533,
          16.6029322956106,
          14.9850158447591,
          11.2578259923917,
          6.70083776315223,
          0.01127198139642,
          0.00751933941466,
          0.00470204555132,
          0.0028229142942,
          0.0018847686,
          0.0009438
         ]
        },
        {
         "mode": "lines",
         "name": "Croatia",
         "type": "scatter",
         "x": [
          2018,
          2017,
          2016,
          2015,
          2014,
          2013,
          2012,
          2011,
          2010,
          2009,
          2008,
          2007,
          2006,
          2005,
          2004,
          2003,
          2002,
          2001,
          2000,
          1999,
          1998,
          1997,
          1996,
          1995
         ],
         "y": [
          494.050358073391,
          488.998639670915,
          483.533987413175,
          482.495763070901,
          474.764968427948,
          469.186244065128,
          397.278784,
          396.195623,
          378.872252,
          341.3498735,
          338.0435281,
          326.7434916,
          292.5692587,
          265.803196,
          240.326632,
          212.229103,
          185.3357545,
          161.45912,
          147.900944,
          122.0819895,
          101.880601,
          71.933243,
          49.772275,
          29.319975
         ]
        },
        {
         "mode": "lines",
         "name": "Italy",
         "type": "scatter",
         "x": [
          2018,
          2017,
          2016,
          2015,
          2014,
          2013,
          2012,
          2011,
          2010,
          2009,
          2008,
          2007,
          2006,
          2005,
          2004,
          2003,
          2002,
          2001,
          2000,
          1999,
          1998,
          1997,
          1996,
          1995,
          1994,
          1993,
          1992,
          1991,
          1990
         ],
         "y": [
          16569.7435076847,
          16407.9083486214,
          15963.3819772683,
          15388.7755301647,
          14917.7743344425,
          14267.7723846002,
          13596.1298799706,
          12968.9296641931,
          12052.908370449,
          11203.255672995,
          10389.6585546155,
          9452.06408097136,
          8739.71345705019,
          7616.96842684931,
          6458.33652099588,
          5224.37160928023,
          4209.03955058908,
          3284.1848173166,
          2489.02540952606,
          1988.72632313811,
          1525.61644413539,
          1004.12740922102,
          668.402035490751,
          926.652550964668,
          664.064980301903,
          494.098536906839,
          471.905134358681,
          449.297351111111,
          444
         ]
        },
        {
         "mode": "lines",
         "name": "Lithuania",
         "type": "scatter",
         "x": [
          2018,
          2017,
          2016,
          2015,
          2014,
          2013,
          2012,
          2011,
          2010,
          2009,
          2008,
          2007,
          2006,
          2005,
          2004,
          2003,
          2002,
          2001,
          2000,
          1999,
          1998,
          1997,
          1996,
          1995,
          1994,
          1993
         ],
         "y": [
          571.220518564612,
          718.626509211081,
          722.288349253541,
          567.751675167943,
          459.756774149312,
          406.791798273614,
          350.362735848768,
          303.293849326575,
          256.760815104012,
          213.597319129979,
          191.802445390603,
          153.71706218884,
          118.252264077531,
          88.8371838868631,
          67.6263187375736,
          46.8384172222282,
          35.6298307514798,
          28.0794539162723,
          21.7982656688366,
          17.2669506635471,
          13.7099675463538,
          10.0748819047216,
          7.58423827604094,
          6.1664992281744,
          0.0927602556,
          0.0278729208
         ]
        },
        {
         "mode": "lines",
         "name": "Norway",
         "type": "scatter",
         "x": [
          2018,
          2017,
          2016,
          2015,
          2014,
          2013,
          2012,
          2011,
          2010,
          2009,
          2008,
          2007,
          2006,
          2005,
          2004,
          2003,
          2002,
          2001,
          2000,
          1999,
          1998,
          1997,
          1996,
          1995,
          1994,
          1993,
          1992,
          1991,
          1990
         ],
         "y": [
          846.488424037518,
          1386.0220544377,
          1376.06350033745,
          1240.56807278922,
          1242.38028144291,
          1156.10026794371,
          1142.55240085122,
          1106.83249915425,
          1065.8984536961,
          847.6390834731,
          798.215602905138,
          711.832501325915,
          675.486683453791,
          612.993431940646,
          596.213848008226,
          557.599416468094,
          578.215552111353,
          473.308401847872,
          383.274177323527,
          316.01530094786,
          244.065323269312,
          191.504034292849,
          129.482978881295,
          91.996754259294,
          49.883830248177,
          31.640982840283,
          19.949613557719,
          9.909711107315,
          0.043899012675
         ]
        },
        {
         "mode": "lines",
         "name": "Spain",
         "type": "scatter",
         "x": [
          2018,
          2017,
          2016,
          2015,
          2014,
          2013,
          2012,
          2011,
          2010,
          2009,
          2008,
          2007,
          2006,
          2005,
          2004,
          2003,
          2002,
          2001,
          2000,
          1999,
          1998,
          1997,
          1996,
          1995,
          1994,
          1993,
          1992,
          1991,
          1990
         ],
         "y": [
          4557.69399727197,
          6308.17699266288,
          8205.61731454015,
          8442.31468748012,
          15108.4563591872,
          15243.3305839843,
          15353.2886871325,
          15368.8209048297,
          16071.45149322,
          15587.9033235328,
          17016.9238568458,
          16052.7599876265,
          14046.1715074024,
          11470.6831991118,
          10187.8717162602,
          9871.02956955149,
          7734.91484151321,
          9047.15435066777,
          12253.5936775576,
          10553.8219973403,
          8595.49218669047,
          8283.22398386691,
          6869.56557577393,
          5867.6374894383,
          4373.4000052688,
          2856.4000047064,
          3494.5760016428,
          2756.3519989344,
          3039.9199969808
         ]
        },
        {
         "mode": "lines",
         "name": "Czechia",
         "type": "scatter",
         "x": [
          2018,
          2017,
          2016,
          2015,
          2014,
          2013,
          2012,
          2011,
          2010,
          2009,
          2008,
          2007,
          2006,
          2005,
          2004,
          2003,
          2002,
          2001,
          2000,
          1999,
          1998,
          1997,
          1996,
          1995
         ],
         "y": [
          3736.10500239336,
          3637.91408592445,
          3440.62746934718,
          3289.90047361897,
          3072.2171294122,
          2917.68522935475,
          2792.65224625751,
          2684.04319552564,
          2421.35491105113,
          2121.73900858889,
          2052.55893021287,
          1764.44916813943,
          1350.28825858127,
          1073.88806771283,
          952.499397902518,
          844.304880479108,
          699.315613441298,
          566.864303613666,
          418.109174941854,
          299.553267121251,
          242.456749409746,
          173.86083999292,
          70.8493454026681,
          13.8091216015199
         ]
        },
        {
         "mode": "lines",
         "name": "Denmark",
         "type": "scatter",
         "x": [
          2018,
          2017,
          2016,
          2015,
          2014,
          2013,
          2012,
          2011,
          2010,
          2009,
          2008,
          2007,
          2006,
          2005,
          2004,
          2003,
          2002,
          2001,
          2000,
          1999,
          1998,
          1997,
          1996,
          1995,
          1994,
          1993,
          1992
         ],
         "y": [
          584.946847479572,
          486.91735818461,
          580.638853257694,
          516.489884528514,
          663.950116341366,
          718.867704203962,
          779.158160107069,
          773.699908035691,
          850.549233294345,
          1010.9389366424,
          985.939146508916,
          986.007006181984,
          950.956059147517,
          928.187503098595,
          878.142024109507,
          819.800663714745,
          799.04739234152,
          775.285508285617,
          773.466921272426,
          678.051309909472,
          532.431068368882,
          398.714810664528,
          399.405750098365,
          257.891398809333,
          157.381333726275,
          110.032702235025,
          3.82974
         ]
        },
        {
         "mode": "lines",
         "name": "Russian Federation",
         "type": "scatter",
         "x": [
          2018,
          2017,
          2016,
          2015,
          2014,
          2013,
          2012,
          2011,
          2010,
          2009,
          2008,
          2007,
          2006,
          2005,
          2004,
          2003,
          2002,
          2001,
          2000,
          1999,
          1998,
          1997,
          1996,
          1995,
          1994,
          1993,
          1992,
          1991,
          1990
         ],
         "y": [
          42761.4742419486,
          34390.09512767,
          23660.6551096327,
          22346.1081883586,
          24815.9562169307,
          21783.1930702394,
          17834.4840861053,
          11315.1789908359,
          13425.4787895994,
          12526.8143939607,
          17920.2211080585,
          16820.7060471487,
          17992.9449669974,
          19814.6253792095,
          18406.3515044344,
          14608.5962798555,
          19300.748321353,
          25207.4242725282,
          26568.9557852768,
          22671.6196288061,
          21834.1479389713,
          18009.5363120096,
          13611.0681214464,
          15447.3144842258,
          15469.6355295884,
          18278.4100904389,
          28192.1402495568,
          34229.660541312,
          35937.158805248
         ]
        },
        {
         "mode": "lines",
         "name": "Ireland",
         "type": "scatter",
         "x": [
          2018,
          2017,
          2016,
          2015,
          2014,
          2013,
          2012,
          2011,
          2010,
          2009,
          2008,
          2007,
          2006,
          2005,
          2004,
          2003,
          2002,
          2001,
          2000,
          1999,
          1998,
          1997,
          1996,
          1995,
          1994,
          1993,
          1992,
          1991,
          1990
         ],
         "y": [
          1100.36448986394,
          1266.14219693628,
          1239.3484933689,
          1159.51170447247,
          1174.90054941375,
          1091.96923909322,
          1060.5303928132,
          1067.04040571063,
          1034.23023785377,
          1019.02097587644,
          991.42923566912,
          905.786967302624,
          900.100949309201,
          861.135907995486,
          684.657474456341,
          545.793781656935,
          394.409990473669,
          316.046492390518,
          270.335594588312,
          209.551611007948,
          201.470079394498,
          158.687748854548,
          90.8272643595499,
          45.2932295772493,
          29.0163026529275,
          14.415415631616,
          0.93536,
          0.76368,
          0.592
         ]
        },
        {
         "mode": "lines",
         "name": "Liechtenstein",
         "type": "scatter",
         "x": [
          2018,
          2017,
          2016,
          2015,
          2014,
          2013,
          2012,
          2011,
          2010,
          2009,
          2008,
          2007,
          2006,
          2005,
          2004,
          2003,
          2002,
          2001,
          2000,
          1999,
          1998,
          1997,
          1996,
          1995,
          1994,
          1993,
          1992,
          1991,
          1990
         ],
         "y": [
          9.94560266215005,
          10.6905531799461,
          10.5572003739534,
          10.4456046104537,
          10.6566773114019,
          10.6471033307759,
          10.3849408594816,
          9.9761482096543,
          9.71202118403452,
          9.13556598850467,
          9.13343677892693,
          8.49610758301638,
          7.83221839247537,
          7.37834097232704,
          7.06363386000227,
          6.21346756749955,
          5.48226677138867,
          4.94491379421937,
          4.11068778434166,
          3.34839681469098,
          2.7384370644666,
          2.14102257447704,
          1.73337013868764,
          1.36976767008685,
          0.51386465614569,
          0.20085558464699,
          0.08826940783708,
          0.00988358462015,
          0.00010446837893
         ]
        },
        {
         "mode": "lines",
         "name": "Monaco",
         "type": "scatter",
         "x": [
          2018,
          2017,
          2016,
          2015,
          2014,
          2013,
          2012,
          2011,
          2010,
          2009,
          2008,
          2007,
          2006,
          2005,
          2004,
          2003,
          2002,
          2001,
          2000,
          1999,
          1998,
          1997,
          1996,
          1995,
          1994,
          1993,
          1992,
          1991
         ],
         "y": [
          7.61499016510209,
          8.10682786606427,
          7.0057721095363,
          6.31662414372726,
          5.81752427011694,
          6.02155142682535,
          4.17441474997093,
          5.31490580028748,
          4.69545185674336,
          6.57882531640554,
          5.17124017692543,
          3.93891143856731,
          3.55095998606968,
          3.71792851715577,
          3.63476008344523,
          3.04820530789026,
          2.8955472479238,
          2.20428966296571,
          4.08494003777035,
          1.01926832866651,
          1.00288815602846,
          0.61379900185304,
          0.96143584828387,
          0.28636466045991,
          0.1544199386555,
          0.0518574593364,
          0.01518408177789,
          0.00392821685732
         ]
        },
        {
         "mode": "lines",
         "name": "European Union",
         "type": "scatter",
         "x": [
          2018,
          2017,
          2016,
          2015,
          2014,
          2013,
          2012,
          2011,
          2010,
          2009,
          2008,
          2007,
          2006,
          2005,
          2004,
          2003,
          2002,
          2001,
          2000,
          1999,
          1998,
          1997,
          1996,
          1995,
          1994,
          1993,
          1992,
          1991,
          1990
         ],
         "y": [
          98735.2405956507,
          105751.428919806,
          108011.986476278,
          110346.549377837,
          114161.972533945,
          111459.01914695,
          109013.698166611,
          106186.631009967,
          104367.161808978,
          97453.3894423871,
          97053.8412734826,
          91213.2026197168,
          83800.9583140789,
          77841.734335287,
          70094.6308663694,
          65654.0434468983,
          58075.2260699366,
          54273.7568614062,
          54628.4098040213,
          53155.9557823862,
          61383.9687386426,
          59608.5503762506,
          51618.7522056601,
          44146.5570767133,
          39471.7128405592,
          34715.1576711031,
          31715.2721163885,
          29258.500069376,
          29206.3309603618
         ]
        },
        {
         "mode": "lines",
         "name": "Ukraine",
         "type": "scatter",
         "x": [
          2018,
          2017,
          2016,
          2015,
          2014,
          2013,
          2012,
          2011,
          2010,
          2009,
          2008,
          2007,
          2006,
          2005,
          2004,
          2003,
          2002,
          2001,
          2000,
          1999,
          1998,
          1997
         ],
         "y": [
          1349.25761687292,
          1009.48431210098,
          887.300228378847,
          775.287558967009,
          847.824969166252,
          881.216653019987,
          840.734597301637,
          819.972397183174,
          743.833894952255,
          663.737536834602,
          647.210734163348,
          561.096689048497,
          402.250321116262,
          285.055803811308,
          187.230955976698,
          105.178736101076,
          64.2410527234231,
          29.0180001254357,
          15.7315887340818,
          14.1424997308824,
          13.0193475573529,
          6.430905
         ]
        },
        {
         "mode": "lines",
         "name": "Iceland",
         "type": "scatter",
         "x": [
          2018,
          2017,
          2016,
          2015,
          2014,
          2013,
          2012,
          2011,
          2010,
          2009,
          2008,
          2007,
          2006,
          2005,
          2004,
          2003,
          2002,
          2001,
          2000,
          1999,
          1998,
          1997,
          1996,
          1995,
          1994,
          1993,
          1992,
          1991,
          1990
         ],
         "y": [
          167.226140977755,
          190.908577487808,
          204.476970325488,
          179.667466521572,
          169.610032778288,
          163.376529221352,
          140.743195252109,
          130.455681488928,
          105.106334646931,
          73.1149792759743,
          60.4329135141041,
          50.8476481241325,
          57.3897007087037,
          55.557608015935,
          51.4599939815535,
          46.5514401008255,
          49.3194724696854,
          41.1027661198983,
          43.9639330793745,
          37.9798996646764,
          26.3168543500653,
          16.8888446665273,
          10.6524928920104,
          3.43154618257565,
          2.03134824691513,
          1.58037855053897,
          0.70436784591335,
          0.69534108057731,
          0.34503629049793
         ]
        },
        {
         "mode": "lines",
         "name": "United States of America",
         "type": "scatter",
         "x": [
          2018,
          2017,
          2016,
          2015,
          2014,
          2013,
          2012,
          2011,
          2010,
          2009,
          2008,
          2007,
          2006,
          2005,
          2004,
          2003,
          2002,
          2001,
          2000,
          1999,
          1998,
          1997,
          1996,
          1995,
          1994,
          1993,
          1992,
          1991,
          1990
         ],
         "y": [
          155375.640101711,
          156637.030970805,
          155559.606181813,
          156539.438851753,
          153850.348258044,
          149034.040656914,
          148996.59313768,
          150500.071148851,
          147374.332392542,
          139124.982377008,
          140379.668425082,
          136553.598946953,
          125330.413851356,
          121402.034884897,
          118922.22853817,
          109063.28338726,
          116272.997318391,
          109248.938431654,
          113573.214336193,
          108452.118928356,
          111313.263515012,
          91578.040427836,
          81465.1305121592,
          72513.8481246657,
          54342.2349242824,
          47588.8220309721,
          47436.5338001866,
          41618.7665320141,
          46289.0102637174
         ]
        },
        {
         "mode": "lines",
         "name": "Cyprus",
         "type": "scatter",
         "x": [
          2018,
          2017,
          2016,
          2015,
          2014,
          2013,
          2012,
          2011,
          2010,
          2009,
          2008,
          2007,
          2006,
          2005,
          2004,
          2003,
          2002,
          2001,
          2000,
          1999,
          1998,
          1997,
          1996,
          1995,
          1994,
          1993,
          1992,
          1991,
          1990
         ],
         "y": [
          297.140227779823,
          287.702328056833,
          276.931592908703,
          269.720392745148,
          260.179594455708,
          260.751258629699,
          266.495320358888,
          261.862981755795,
          275.83810971302,
          266.855098087203,
          253.808530140678,
          257.130152433716,
          227.158259075984,
          223.914586395267,
          215.15187851719,
          195.669016388169,
          188.848922298978,
          173.871702893208,
          169.117786434458,
          164.449150665883,
          149.681825979377,
          141.527759119988,
          135.71955405581,
          132.306469745727,
          127.487414913398,
          118.68589185347,
          124.203247398781,
          94.1282898699653,
          79.6003498774071
         ]
        },
        {
         "mode": "lines",
         "name": "Estonia",
         "type": "scatter",
         "x": [
          2018,
          2017,
          2016,
          2015,
          2014,
          2013,
          2012,
          2011,
          2010,
          2009,
          2008,
          2007,
          2006,
          2005,
          2004,
          2003,
          2002,
          2001,
          2000,
          1999,
          1998,
          1997,
          1996,
          1995,
          1994,
          1993,
          1992
         ],
         "y": [
          231.030043764139,
          231.901446892935,
          235.583710825673,
          223.206885358881,
          218.139128103282,
          207.749513049444,
          193.343849912393,
          183.329441187338,
          175.536768321398,
          157.529599176477,
          150.394817419873,
          170.367740074701,
          154.56619902732,
          134.958268474771,
          119.327334223453,
          104.867951566727,
          98.8306106453945,
          97.1867162081839,
          79.1473138284342,
          63.394363404444,
          52.2518396218539,
          41.3138200581129,
          34.5582801517728,
          28.454399857753,
          22.9149299854698,
          20.0196946835335,
          17.51317997
         ]
        },
        {
         "mode": "lines",
         "name": "Switzerland",
         "type": "scatter",
         "x": [
          2018,
          2017,
          2016,
          2015,
          2014,
          2013,
          2012,
          2011,
          2010,
          2009,
          2008,
          2007,
          2006,
          2005,
          2004,
          2003,
          2002,
          2001,
          2000,
          1999,
          1998,
          1997,
          1996,
          1995,
          1994,
          1993,
          1992,
          1991,
          1990
         ],
         "y": [
          1524.04966346525,
          1504.25329276777,
          1480.4558230115,
          1507.5173835182,
          1468.95079871041,
          1432.16070647779,
          1453.07071234832,
          1380.05358665696,
          1308.24993521354,
          1272.05737432699,
          1274.66431771433,
          1252.74923194295,
          1159.58576225122,
          1047.96437354054,
          1009.61730345954,
          910.312446483901,
          826.577842345671,
          735.875458068719,
          635.959014618111,
          533.349499809722,
          456.05684004658,
          360.311737050726,
          295.94268611022,
          243.757181413437,
          80.1656299637883,
          32.538013978365,
          15.5519427612223,
          1.50874348170181,
          0.02478119072
         ]
        },
        {
         "mode": "lines",
         "name": "Latvia",
         "type": "scatter",
         "x": [
          2018,
          2017,
          2016,
          2015,
          2014,
          2013,
          2012,
          2011,
          2010,
          2009,
          2008,
          2007,
          2006,
          2005,
          2004,
          2003,
          2002,
          2001,
          2000,
          1999,
          1998,
          1997,
          1996,
          1995
         ],
         "y": [
          268.096403356418,
          268.405569869337,
          274.913539794908,
          254.481607499247,
          243.64586163794,
          229.526096581215,
          216.006334165525,
          215.855709492058,
          214.054993831287,
          188.596955952499,
          178.323143948921,
          154.485756582013,
          132.796340302914,
          105.196846424531,
          96.6860621515562,
          88.4605463398798,
          80.6842713740731,
          72.8639417143646,
          64.6003127647353,
          55.9292181918145,
          47.5904410237973,
          38.9432078421858,
          29.4255758396178,
          17.1275600942859
         ]
        },
        {
         "mode": "lines",
         "name": "Canada",
         "type": "scatter",
         "x": [
          2018,
          2017,
          2016,
          2015,
          2014,
          2013,
          2012,
          2011,
          2010,
          2009,
          2008,
          2007,
          2006,
          2005,
          2004,
          2003,
          2002,
          2001,
          2000,
          1999,
          1998,
          1997,
          1996,
          1995,
          1992,
          1991,
          1990
         ],
         "y": [
          12545.4337165272,
          11528.0861100581,
          11317.790993446,
          11042.4478057882,
          10951.0288846077,
          10075.6652234939,
          9083.74204115098,
          8592.44913664706,
          7729.05363577473,
          6909.97109869936,
          6135.67115116636,
          6077.57252813593,
          5391.07606666372,
          5107.03344257297,
          4584.77356780635,
          3979.85765304976,
          3607.06766099863,
          3159.2956287521,
          2754.84203983593,
          2160.36452105141,
          1620.11150727323,
          1122.30349100694,
          810.624954718478,
          460.505097239537,
          829.7768,
          1056.6608,
          970.540192
         ]
        },
        {
         "mode": "lines",
         "name": "Slovenia",
         "type": "scatter",
         "x": [
          2018,
          2017,
          2016,
          2015,
          2014,
          2013,
          2012,
          2011,
          2010,
          2009,
          2008,
          2007,
          2006,
          2005,
          2004,
          2003,
          2002,
          2001,
          2000,
          1999,
          1998,
          1997,
          1996,
          1995,
          1994,
          1993
         ],
         "y": [
          293.234118177498,
          339.143918038091,
          351.479501517519,
          343.751114003412,
          333.526977887146,
          316.167700681949,
          294.88274758004,
          270.306326383571,
          257.946041194655,
          243.914893347233,
          224.365807126318,
          195.90742977459,
          169.250727784298,
          145.638531175795,
          121.997064236559,
          99.2319480284955,
          78.610351011238,
          62.751532975362,
          46.1716593511427,
          31.4229657172963,
          31.0893559702615,
          34.4835345052929,
          29.8614609565635,
          32.8867312459443,
          31.65428552,
          31.41216364
         ]
        },
        {
         "mode": "lines",
         "name": "Japan",
         "type": "scatter",
         "x": [
          2018,
          2017,
          2016,
          2015,
          2014,
          2013,
          2012,
          2011,
          2010,
          2009,
          2008,
          2007,
          2006,
          2005,
          2004,
          2003,
          2002,
          2001,
          2000,
          1999,
          1998,
          1997,
          1996,
          1995,
          1994,
          1993,
          1992,
          1991,
          1990
         ],
         "y": [
          46987.6684711655,
          44891.0973333726,
          42574.7396324591,
          39262.7974595151,
          35783.4735347653,
          32103.8626828946,
          29360.7113786095,
          26104.8261937603,
          23315.0411118942,
          20934.0990890375,
          19293.1139179061,
          16712.6247665657,
          14630.0887280131,
          12784.0220325148,
          12422.5642065563,
          16229.2586234738,
          16236.3917975722,
          19462.5214071019,
          22851.9981070797,
          24368.2759035245,
          23742.1025001834,
          24436.7924313971,
          24598.1072568492,
          25213.191034391,
          21051.8952130351,
          18129.15828489,
          17767.2240356469,
          17349.6129448632,
          15932.3098610065
         ]
        },
        {
         "mode": "lines",
         "name": "Luxembourg",
         "type": "scatter",
         "x": [
          2018,
          2017,
          2016,
          2015,
          2014,
          2013,
          2012,
          2011,
          2010,
          2009,
          2008,
          2007,
          2006,
          2005,
          2004,
          2003,
          2002,
          2001,
          2000,
          1999,
          1998,
          1997,
          1996,
          1995,
          1994,
          1993,
          1992,
          1991,
          1990
         ],
         "y": [
          67.6398232389591,
          69.5822817213932,
          66.0448307376768,
          67.595732349376,
          66.8566853879407,
          62.45321195319,
          58.9115108824972,
          56.5502784130143,
          53.6732037072649,
          51.3992489553198,
          50.2451155503863,
          47.7565469662427,
          43.3682739650589,
          40.4696244280412,
          41.9294008175686,
          41.7469865930914,
          41.507337291225,
          38.2547909400934,
          31.0846712827688,
          26.2073602193058,
          22.9564786488496,
          20.0953729507634,
          17.3294044344262,
          15.1515755479527,
          14.1912062550659,
          12.937534866177,
          5.48607958179047,
          0.0011678141475,
          7.15e-05
         ]
        },
        {
         "mode": "lines",
         "name": "New Zealand",
         "type": "scatter",
         "x": [
          2018,
          2017,
          2016,
          2015,
          2014,
          2013,
          2012,
          2011,
          2010,
          2009,
          2008,
          2007,
          2006,
          2005,
          2004,
          2003,
          2002,
          2001,
          2000,
          1999,
          1998,
          1997,
          1996,
          1995,
          1994,
          1993,
          1992
         ],
         "y": [
          1816.14803966724,
          1658.6402204409,
          1558.34656608237,
          1421.32152263187,
          1303.78850044954,
          1284.62970555941,
          1223.08852605582,
          1171.20724625073,
          1046.03082198539,
          978.173293140093,
          987.665553621016,
          884.793079988599,
          766.941289123433,
          662.119687737073,
          548.019581132203,
          473.017987861591,
          375.433137894039,
          281.964588809878,
          216.654765509407,
          167.474016619996,
          113.444756494247,
          83.5362241110899,
          54.1104581295225,
          20.0094122466674,
          7.90576762697949,
          0.3575,
          0.286
         ]
        },
        {
         "mode": "lines",
         "name": "Poland",
         "type": "scatter",
         "x": [
          2018,
          2017,
          2016,
          2015,
          2014,
          2013,
          2012,
          2011,
          2010,
          2009,
          2008,
          2007,
          2006,
          2005,
          2004,
          2003,
          2002,
          2001,
          2000,
          1999,
          1998,
          1997,
          1996,
          1995
         ],
         "y": [
          4172.70696872142,
          6036.74864842156,
          5919.01387155294,
          8361.41118270713,
          8189.16199984944,
          7484.99799821817,
          7046.33329546462,
          6762.15189866875,
          6195.95861892424,
          4744.94680280043,
          5570.7935516967,
          5075.92153969069,
          4609.03885122286,
          3870.45036863957,
          3158.75093992967,
          2694.86339886092,
          2123.35756211182,
          1570.00795954762,
          1072.07525926723,
          616.35982755551,
          443.84543586437,
          369.77577709848,
          273.62181227978,
          171.96918704891
         ]
        },
        {
         "mode": "lines",
         "name": "Portugal",
         "type": "scatter",
         "x": [
          2018,
          2017,
          2016,
          2015,
          2014,
          2013,
          2012,
          2011,
          2010,
          2009,
          2008,
          2007,
          2006,
          2005,
          2004,
          2003,
          2002,
          2001,
          2000,
          1999,
          1998,
          1997,
          1996,
          1995
         ],
         "y": [
          3411.84159532833,
          3266.37987962983,
          3063.23211679658,
          2909.09823284843,
          2750.74974240779,
          2617.02071359047,
          2443.02715479238,
          2278.88383372942,
          2103.4226945343,
          1924.05892775479,
          1733.9958688419,
          1484.00899412307,
          1252.71925078723,
          1076.61564606418,
          909.650135269534,
          796.899053748152,
          664.814089999172,
          532.089241345267,
          425.587766780876,
          343.5867081259,
          260.422781651776,
          192.783135113014,
          132.614090998202,
          105.597086830228
         ]
        },
        {
         "mode": "lines",
         "name": "Australia",
         "type": "scatter",
         "x": [
          2018,
          2017,
          2016,
          2015,
          2014,
          2013,
          2012,
          2011,
          2010,
          2009,
          2008,
          2007,
          2006,
          2005,
          2004,
          2003,
          2002,
          2001,
          2000,
          1999,
          1998,
          1997,
          1996,
          1995,
          1994,
          1993,
          1992,
          1991,
          1990
         ],
         "y": [
          11982.082324172,
          11685.9360964034,
          11979.4620219494,
          11795.3249584448,
          10778.8523262396,
          9859.71257255419,
          9055.86893241829,
          9139.82146465507,
          8672.21185412461,
          8109.07325168487,
          6858.96362011689,
          6066.18586627096,
          5166.70568017775,
          5002.7622515446,
          4267.13653601783,
          3578.89689637269,
          2925.89829073234,
          2307.10807856309,
          1613.95320909026,
          1374.53997863768,
          998.289579795631,
          705.228318135053,
          414.17063782292,
          1004.03211082861,
          1027.34354927313,
          1829.872,
          1333.184,
          1424.68352,
          1424.68352
         ]
        },
        {
         "mode": "lines",
         "name": "Romania",
         "type": "scatter",
         "x": [
          2018,
          2017,
          2016,
          2015,
          2014,
          2013,
          2012,
          2011,
          2010,
          2009,
          2008,
          2007,
          2006,
          2005,
          2004,
          2003,
          2002,
          2001,
          2000,
          1999,
          1998,
          1997,
          1996,
          1995,
          1994,
          1993,
          1992,
          1991,
          1990
         ],
         "y": [
          2295.10877695675,
          2179.08579465174,
          1895.40582078562,
          1639.28421206524,
          1374.93038360901,
          1300.30742201206,
          1199.19539228247,
          1094.05410558517,
          984.4066145483,
          926.381660501528,
          948.83289952413,
          667.402457291848,
          486.449848456085,
          371.174057172974,
          296.099932974541,
          230.428380076938,
          169.40479364566,
          113.712251107691,
          71.4845699186572,
          40.2576333043805,
          24.2491798763935,
          10.6189805278188,
          4.90975378524326,
          2.65700078422256,
          1.27402880777119,
          0.75723491173243,
          0.44593471938154,
          0.28668813826203,
          0.18119293223939
         ]
        },
        {
         "mode": "lines",
         "name": "Bulgaria",
         "type": "scatter",
         "x": [
          2018,
          2017,
          2016,
          2015,
          2014,
          2013,
          2012,
          2011,
          2010,
          2009,
          2008,
          2007,
          2006,
          2005,
          2004,
          2003,
          2002,
          2001,
          2000,
          1999,
          1998,
          1997,
          1996,
          1995,
          1994,
          1993,
          1992,
          1991
         ],
         "y": [
          2252.52964131014,
          1816.63588002444,
          1399.3271114593,
          1222.07563885577,
          1107.95603788389,
          968.375035837374,
          823.142118615631,
          752.68182263632,
          663.046051551738,
          639.113284107228,
          625.89211168682,
          385.794825050179,
          297.105470434467,
          195.161822792268,
          119.921830332935,
          83.7448899466314,
          61.2998840883017,
          45.6749720819561,
          33.0239154018775,
          21.5942747737281,
          15.0698475767498,
          9.28261237252784,
          5.84327890930476,
          3.32842472977408,
          1.09677551311342,
          0.02303703221005,
          0.010681702317,
          0.003135561
         ]
        },
        {
         "mode": "lines",
         "name": "Austria",
         "type": "scatter",
         "x": [
          2018,
          2017,
          2016,
          2015,
          2014,
          2013,
          2012,
          2011,
          2010,
          2009,
          2008,
          2007,
          2006,
          2005,
          2004,
          2003,
          2002,
          2001,
          2000,
          1999,
          1998,
          1997,
          1996,
          1995,
          1994,
          1993,
          1992,
          1991,
          1990
         ],
         "y": [
          1834.75894715723,
          1750.56307493656,
          1642.98899484183,
          1623.43163848794,
          1587.86408410764,
          1520.3665513298,
          1492.35613238197,
          1413.92689794688,
          1485.66245409008,
          1310.44035565183,
          1249.71221818006,
          1198.41302699172,
          1155.23316080152,
          1148.3280217843,
          1160.21081066843,
          1073.40827085611,
          969.363617132006,
          863.101238986877,
          713.626554045867,
          700.924890690691,
          608.546964889657,
          498.139986694405,
          417.201579590825,
          353.45085312042,
          261.105590625578,
          235.26478656483,
          5.63648639172312,
          3.88944,
          2.43756
         ]
        },
        {
         "mode": "lines",
         "name": "Hungary",
         "type": "scatter",
         "x": [
          2018,
          2017,
          2016,
          2015,
          2014,
          2013,
          2012,
          2011,
          2010,
          2009,
          2008,
          2007,
          2006,
          2005,
          2004,
          2003,
          2002,
          2001,
          2000,
          1999,
          1998,
          1997,
          1996,
          1995,
          1994,
          1993,
          1992,
          1991
         ],
         "y": [
          1358.02178748445,
          1801.16140350325,
          1626.13365476489,
          2164.87069003265,
          1683.36391463212,
          1250.03830756363,
          1177.80418119922,
          1287.73117562089,
          1198.22780896011,
          1105.12986148221,
          1116.71280247321,
          1032.85585330462,
          897.915209298341,
          772.161761439648,
          669.09334982442,
          504.802154450921,
          424.851205704486,
          320.304433713985,
          283.989597563728,
          301.603510268666,
          147.407138979037,
          71.0858576094873,
          38.7857631728982,
          37.153756316521,
          32.4139529900747,
          27.39245679305,
          23.2377690735751,
          15.1310284125
         ]
        },
        {
         "mode": "lines",
         "name": "United Kingdom",
         "type": "scatter",
         "x": [
          2018,
          2017,
          2016,
          2015,
          2014,
          2013,
          2012,
          2011,
          2010,
          2009,
          2008,
          2007,
          2006,
          2005,
          2004,
          2003,
          2002,
          2001,
          2000,
          1999,
          1998,
          1997,
          1996,
          1995,
          1994,
          1993,
          1992,
          1991,
          1990
         ],
         "y": [
          13132.6980033585,
          14180.8811534915,
          15216.4503722804,
          15987.2296826286,
          16001.7640998961,
          15803.2732441725,
          15474.1618407422,
          14931.4706858906,
          16486.94673777,
          15626.3212783697,
          14994.6837526312,
          14495.8579843087,
          14046.3902615512,
          13132.230035756,
          11910.0884714553,
          12830.4791490199,
          11392.6080980576,
          10894.5604853433,
          9885.02475998783,
          11466.6600754927,
          20075.2130905682,
          23105.122875671,
          20249.6600251355,
          19096.2751805693,
          17593.527853379,
          16505.7207309102,
          15597.6407846988,
          14991.0521364908,
          14391.4266541955
         ]
        },
        {
         "mode": "lines",
         "name": "Netherlands",
         "type": "scatter",
         "x": [
          2018,
          2017,
          2016,
          2015,
          2014,
          2013,
          2012,
          2011,
          2010,
          2009,
          2008,
          2007,
          2006,
          2005,
          2004,
          2003,
          2002,
          2001,
          2000,
          1999,
          1998,
          1997,
          1996,
          1995,
          1994,
          1993,
          1992,
          1991,
          1990
         ],
         "y": [
          1641.64618283627,
          1558.44940883627,
          1617.75753883627,
          1801.17161440981,
          1622.99402840981,
          2040.65274731599,
          2395.19386694771,
          2435.95379281315,
          2660.91224675172,
          2350.17883600339,
          2242.69905102488,
          2130.62009813074,
          1990.38473593324,
          1734.15547757208,
          1911.11528172125,
          1817.12936227051,
          1813.00656899995,
          2069.60927900116,
          4765.18279600039,
          6012.70750500117,
          11568.7216350007,
          10198.4529199986,
          9593.31097500152,
          7570.52448100066,
          8159.226972,
          6311.61511,
          5621.292034,
          4366.074,
          5606.3288
         ]
        }
       ],
       "layout": {
        "autosize": false,
        "height": 500,
        "template": {
         "data": {
          "bar": [
           {
            "error_x": {
             "color": "#2a3f5f"
            },
            "error_y": {
             "color": "#2a3f5f"
            },
            "marker": {
             "line": {
              "color": "#E5ECF6",
              "width": 0.5
             },
             "pattern": {
              "fillmode": "overlay",
              "size": 10,
              "solidity": 0.2
             }
            },
            "type": "bar"
           }
          ],
          "barpolar": [
           {
            "marker": {
             "line": {
              "color": "#E5ECF6",
              "width": 0.5
             },
             "pattern": {
              "fillmode": "overlay",
              "size": 10,
              "solidity": 0.2
             }
            },
            "type": "barpolar"
           }
          ],
          "carpet": [
           {
            "aaxis": {
             "endlinecolor": "#2a3f5f",
             "gridcolor": "white",
             "linecolor": "white",
             "minorgridcolor": "white",
             "startlinecolor": "#2a3f5f"
            },
            "baxis": {
             "endlinecolor": "#2a3f5f",
             "gridcolor": "white",
             "linecolor": "white",
             "minorgridcolor": "white",
             "startlinecolor": "#2a3f5f"
            },
            "type": "carpet"
           }
          ],
          "choropleth": [
           {
            "colorbar": {
             "outlinewidth": 0,
             "ticks": ""
            },
            "type": "choropleth"
           }
          ],
          "contour": [
           {
            "colorbar": {
             "outlinewidth": 0,
             "ticks": ""
            },
            "colorscale": [
             [
              0,
              "#0d0887"
             ],
             [
              0.1111111111111111,
              "#46039f"
             ],
             [
              0.2222222222222222,
              "#7201a8"
             ],
             [
              0.3333333333333333,
              "#9c179e"
             ],
             [
              0.4444444444444444,
              "#bd3786"
             ],
             [
              0.5555555555555556,
              "#d8576b"
             ],
             [
              0.6666666666666666,
              "#ed7953"
             ],
             [
              0.7777777777777778,
              "#fb9f3a"
             ],
             [
              0.8888888888888888,
              "#fdca26"
             ],
             [
              1,
              "#f0f921"
             ]
            ],
            "type": "contour"
           }
          ],
          "contourcarpet": [
           {
            "colorbar": {
             "outlinewidth": 0,
             "ticks": ""
            },
            "type": "contourcarpet"
           }
          ],
          "heatmap": [
           {
            "colorbar": {
             "outlinewidth": 0,
             "ticks": ""
            },
            "colorscale": [
             [
              0,
              "#0d0887"
             ],
             [
              0.1111111111111111,
              "#46039f"
             ],
             [
              0.2222222222222222,
              "#7201a8"
             ],
             [
              0.3333333333333333,
              "#9c179e"
             ],
             [
              0.4444444444444444,
              "#bd3786"
             ],
             [
              0.5555555555555556,
              "#d8576b"
             ],
             [
              0.6666666666666666,
              "#ed7953"
             ],
             [
              0.7777777777777778,
              "#fb9f3a"
             ],
             [
              0.8888888888888888,
              "#fdca26"
             ],
             [
              1,
              "#f0f921"
             ]
            ],
            "type": "heatmap"
           }
          ],
          "heatmapgl": [
           {
            "colorbar": {
             "outlinewidth": 0,
             "ticks": ""
            },
            "colorscale": [
             [
              0,
              "#0d0887"
             ],
             [
              0.1111111111111111,
              "#46039f"
             ],
             [
              0.2222222222222222,
              "#7201a8"
             ],
             [
              0.3333333333333333,
              "#9c179e"
             ],
             [
              0.4444444444444444,
              "#bd3786"
             ],
             [
              0.5555555555555556,
              "#d8576b"
             ],
             [
              0.6666666666666666,
              "#ed7953"
             ],
             [
              0.7777777777777778,
              "#fb9f3a"
             ],
             [
              0.8888888888888888,
              "#fdca26"
             ],
             [
              1,
              "#f0f921"
             ]
            ],
            "type": "heatmapgl"
           }
          ],
          "histogram": [
           {
            "marker": {
             "pattern": {
              "fillmode": "overlay",
              "size": 10,
              "solidity": 0.2
             }
            },
            "type": "histogram"
           }
          ],
          "histogram2d": [
           {
            "colorbar": {
             "outlinewidth": 0,
             "ticks": ""
            },
            "colorscale": [
             [
              0,
              "#0d0887"
             ],
             [
              0.1111111111111111,
              "#46039f"
             ],
             [
              0.2222222222222222,
              "#7201a8"
             ],
             [
              0.3333333333333333,
              "#9c179e"
             ],
             [
              0.4444444444444444,
              "#bd3786"
             ],
             [
              0.5555555555555556,
              "#d8576b"
             ],
             [
              0.6666666666666666,
              "#ed7953"
             ],
             [
              0.7777777777777778,
              "#fb9f3a"
             ],
             [
              0.8888888888888888,
              "#fdca26"
             ],
             [
              1,
              "#f0f921"
             ]
            ],
            "type": "histogram2d"
           }
          ],
          "histogram2dcontour": [
           {
            "colorbar": {
             "outlinewidth": 0,
             "ticks": ""
            },
            "colorscale": [
             [
              0,
              "#0d0887"
             ],
             [
              0.1111111111111111,
              "#46039f"
             ],
             [
              0.2222222222222222,
              "#7201a8"
             ],
             [
              0.3333333333333333,
              "#9c179e"
             ],
             [
              0.4444444444444444,
              "#bd3786"
             ],
             [
              0.5555555555555556,
              "#d8576b"
             ],
             [
              0.6666666666666666,
              "#ed7953"
             ],
             [
              0.7777777777777778,
              "#fb9f3a"
             ],
             [
              0.8888888888888888,
              "#fdca26"
             ],
             [
              1,
              "#f0f921"
             ]
            ],
            "type": "histogram2dcontour"
           }
          ],
          "mesh3d": [
           {
            "colorbar": {
             "outlinewidth": 0,
             "ticks": ""
            },
            "type": "mesh3d"
           }
          ],
          "parcoords": [
           {
            "line": {
             "colorbar": {
              "outlinewidth": 0,
              "ticks": ""
             }
            },
            "type": "parcoords"
           }
          ],
          "pie": [
           {
            "automargin": true,
            "type": "pie"
           }
          ],
          "scatter": [
           {
            "marker": {
             "colorbar": {
              "outlinewidth": 0,
              "ticks": ""
             }
            },
            "type": "scatter"
           }
          ],
          "scatter3d": [
           {
            "line": {
             "colorbar": {
              "outlinewidth": 0,
              "ticks": ""
             }
            },
            "marker": {
             "colorbar": {
              "outlinewidth": 0,
              "ticks": ""
             }
            },
            "type": "scatter3d"
           }
          ],
          "scattercarpet": [
           {
            "marker": {
             "colorbar": {
              "outlinewidth": 0,
              "ticks": ""
             }
            },
            "type": "scattercarpet"
           }
          ],
          "scattergeo": [
           {
            "marker": {
             "colorbar": {
              "outlinewidth": 0,
              "ticks": ""
             }
            },
            "type": "scattergeo"
           }
          ],
          "scattergl": [
           {
            "marker": {
             "colorbar": {
              "outlinewidth": 0,
              "ticks": ""
             }
            },
            "type": "scattergl"
           }
          ],
          "scattermapbox": [
           {
            "marker": {
             "colorbar": {
              "outlinewidth": 0,
              "ticks": ""
             }
            },
            "type": "scattermapbox"
           }
          ],
          "scatterpolar": [
           {
            "marker": {
             "colorbar": {
              "outlinewidth": 0,
              "ticks": ""
             }
            },
            "type": "scatterpolar"
           }
          ],
          "scatterpolargl": [
           {
            "marker": {
             "colorbar": {
              "outlinewidth": 0,
              "ticks": ""
             }
            },
            "type": "scatterpolargl"
           }
          ],
          "scatterternary": [
           {
            "marker": {
             "colorbar": {
              "outlinewidth": 0,
              "ticks": ""
             }
            },
            "type": "scatterternary"
           }
          ],
          "surface": [
           {
            "colorbar": {
             "outlinewidth": 0,
             "ticks": ""
            },
            "colorscale": [
             [
              0,
              "#0d0887"
             ],
             [
              0.1111111111111111,
              "#46039f"
             ],
             [
              0.2222222222222222,
              "#7201a8"
             ],
             [
              0.3333333333333333,
              "#9c179e"
             ],
             [
              0.4444444444444444,
              "#bd3786"
             ],
             [
              0.5555555555555556,
              "#d8576b"
             ],
             [
              0.6666666666666666,
              "#ed7953"
             ],
             [
              0.7777777777777778,
              "#fb9f3a"
             ],
             [
              0.8888888888888888,
              "#fdca26"
             ],
             [
              1,
              "#f0f921"
             ]
            ],
            "type": "surface"
           }
          ],
          "table": [
           {
            "cells": {
             "fill": {
              "color": "#EBF0F8"
             },
             "line": {
              "color": "white"
             }
            },
            "header": {
             "fill": {
              "color": "#C8D4E3"
             },
             "line": {
              "color": "white"
             }
            },
            "type": "table"
           }
          ]
         },
         "layout": {
          "annotationdefaults": {
           "arrowcolor": "#2a3f5f",
           "arrowhead": 0,
           "arrowwidth": 1
          },
          "autotypenumbers": "strict",
          "coloraxis": {
           "colorbar": {
            "outlinewidth": 0,
            "ticks": ""
           }
          },
          "colorscale": {
           "diverging": [
            [
             0,
             "#8e0152"
            ],
            [
             0.1,
             "#c51b7d"
            ],
            [
             0.2,
             "#de77ae"
            ],
            [
             0.3,
             "#f1b6da"
            ],
            [
             0.4,
             "#fde0ef"
            ],
            [
             0.5,
             "#f7f7f7"
            ],
            [
             0.6,
             "#e6f5d0"
            ],
            [
             0.7,
             "#b8e186"
            ],
            [
             0.8,
             "#7fbc41"
            ],
            [
             0.9,
             "#4d9221"
            ],
            [
             1,
             "#276419"
            ]
           ],
           "sequential": [
            [
             0,
             "#0d0887"
            ],
            [
             0.1111111111111111,
             "#46039f"
            ],
            [
             0.2222222222222222,
             "#7201a8"
            ],
            [
             0.3333333333333333,
             "#9c179e"
            ],
            [
             0.4444444444444444,
             "#bd3786"
            ],
            [
             0.5555555555555556,
             "#d8576b"
            ],
            [
             0.6666666666666666,
             "#ed7953"
            ],
            [
             0.7777777777777778,
             "#fb9f3a"
            ],
            [
             0.8888888888888888,
             "#fdca26"
            ],
            [
             1,
             "#f0f921"
            ]
           ],
           "sequentialminus": [
            [
             0,
             "#0d0887"
            ],
            [
             0.1111111111111111,
             "#46039f"
            ],
            [
             0.2222222222222222,
             "#7201a8"
            ],
            [
             0.3333333333333333,
             "#9c179e"
            ],
            [
             0.4444444444444444,
             "#bd3786"
            ],
            [
             0.5555555555555556,
             "#d8576b"
            ],
            [
             0.6666666666666666,
             "#ed7953"
            ],
            [
             0.7777777777777778,
             "#fb9f3a"
            ],
            [
             0.8888888888888888,
             "#fdca26"
            ],
            [
             1,
             "#f0f921"
            ]
           ]
          },
          "colorway": [
           "#636efa",
           "#EF553B",
           "#00cc96",
           "#ab63fa",
           "#FFA15A",
           "#19d3f3",
           "#FF6692",
           "#B6E880",
           "#FF97FF",
           "#FECB52"
          ],
          "font": {
           "color": "#2a3f5f"
          },
          "geo": {
           "bgcolor": "white",
           "lakecolor": "white",
           "landcolor": "#E5ECF6",
           "showlakes": true,
           "showland": true,
           "subunitcolor": "white"
          },
          "hoverlabel": {
           "align": "left"
          },
          "hovermode": "closest",
          "mapbox": {
           "style": "light"
          },
          "paper_bgcolor": "white",
          "plot_bgcolor": "#E5ECF6",
          "polar": {
           "angularaxis": {
            "gridcolor": "white",
            "linecolor": "white",
            "ticks": ""
           },
           "bgcolor": "#E5ECF6",
           "radialaxis": {
            "gridcolor": "white",
            "linecolor": "white",
            "ticks": ""
           }
          },
          "scene": {
           "xaxis": {
            "backgroundcolor": "#E5ECF6",
            "gridcolor": "white",
            "gridwidth": 2,
            "linecolor": "white",
            "showbackground": true,
            "ticks": "",
            "zerolinecolor": "white"
           },
           "yaxis": {
            "backgroundcolor": "#E5ECF6",
            "gridcolor": "white",
            "gridwidth": 2,
            "linecolor": "white",
            "showbackground": true,
            "ticks": "",
            "zerolinecolor": "white"
           },
           "zaxis": {
            "backgroundcolor": "#E5ECF6",
            "gridcolor": "white",
            "gridwidth": 2,
            "linecolor": "white",
            "showbackground": true,
            "ticks": "",
            "zerolinecolor": "white"
           }
          },
          "shapedefaults": {
           "line": {
            "color": "#2a3f5f"
           }
          },
          "ternary": {
           "aaxis": {
            "gridcolor": "white",
            "linecolor": "white",
            "ticks": ""
           },
           "baxis": {
            "gridcolor": "white",
            "linecolor": "white",
            "ticks": ""
           },
           "bgcolor": "#E5ECF6",
           "caxis": {
            "gridcolor": "white",
            "linecolor": "white",
            "ticks": ""
           }
          },
          "title": {
           "x": 0.05
          },
          "xaxis": {
           "automargin": true,
           "gridcolor": "white",
           "linecolor": "white",
           "ticks": "",
           "title": {
            "standoff": 15
           },
           "zerolinecolor": "white",
           "zerolinewidth": 2
          },
          "yaxis": {
           "automargin": true,
           "gridcolor": "white",
           "linecolor": "white",
           "ticks": "",
           "title": {
            "standoff": 15
           },
           "zerolinecolor": "white",
           "zerolinewidth": 2
          }
         }
        },
        "title": {
         "text": "CO2 emissions by country and year"
        },
        "width": 1500,
        "xaxis": {
         "autorange": true,
         "range": [
          1990,
          2018
         ],
         "title": {
          "text": "Year"
         },
         "type": "linear"
        },
        "yaxis": {
         "autorange": true,
         "range": [
          -8702.057200683612,
          165339.08824298863
         ],
         "title": {
          "text": "CO2 Emissions"
         },
         "type": "linear"
        }
       }
      },
      "image/png": "[encoded data removed]",
      "text/html": [
       "<div>                            <div id=\"95bfb756-2bf4-412b-8356-4e212359eb11\" class=\"plotly-graph-div\" style=\"height:500px; width:1500px;\"></div>            <script type=\"text/javascript\">                require([\"plotly\"], function(Plotly) {                    window.PLOTLYENV=window.PLOTLYENV || {};                                    if (document.getElementById(\"95bfb756-2bf4-412b-8356-4e212359eb11\")) {                    Plotly.newPlot(                        \"95bfb756-2bf4-412b-8356-4e212359eb11\",                        [{\"mode\":\"lines\",\"name\":\"Sweden\",\"type\":\"scatter\",\"x\":[2018,2017,2016,2015,2014,2013,2012,2011,2010,2009,2008,2007,2006,2005,2004,2003,2002,2001,2000,1999,1998,1997,1996,1995,1994,1993,1992,1991,1990],\"y\":[1034.90083218439,1098.0517934649,1137.0011624531,1120.84513054125,1102.58079293083,1076.72709740585,1087.92404667023,1105.94271044214,1133.80797204996,1154.25036176679,1155.92954424814,1140.46751578497,1134.96409700484,1110.19836292297,1085.12898202862,1003.3728716246,934.620519264379,851.954948399246,769.640582996456,638.960188016772,483.443059106788,371.931294937894,226.857391963391,135.759832015858,73.2558452047319,30.1981102653253,12.8135741285902,11.1414994870086,6.48744322957573]},{\"mode\":\"lines\",\"name\":\"Turkey\",\"type\":\"scatter\",\"x\":[2018,2017,2016,2015,2014,2013,2012,2011,2010,2009,2008,2007,2006,2005,2004,2003,2002,2001,2000],\"y\":[5081.897244134,5159.2545201,5021.14576129344,4636.95594413297,4778.45244502115,4470.24390895984,4256.83450631063,3432.64059144341,3054.27585146971,2111.28034281378,1896.13812499598,1713.19300956487,1424.18969214271,1146.88282866124,909.371796254491,628.798307196726,417.186727909241,232.003643733401,115.656211508405]},{\"mode\":\"lines\",\"name\":\"Germany\",\"type\":\"scatter\",\"x\":[2018,2017,2016,2015,2014,2013,2012,2011,2010,2009,2008,2007,2006,2005,2004,2003,2002,2001,2000,1999,1998,1997,1996,1995,1994,1993,1992,1991,1990],\"y\":[10487.1155482491,11121.4521057048,11297.4579450531,11321.1530073275,11118.1473752841,10944.628990755,10943.4116916849,10760.5111839442,10343.9329256047,10007.0278237443,9753.21275952187,9803.71083581759,9377.48357905447,9007.62423932809,8751.9773828215,8301.74149785757,8090.59146968294,7453.03223291516,6030.20777647133,5198.88903873635,4868.69399701122,4157.79857638874,3407.90792275185,2614.4106806904,2687.86268163615,2495.76691223775,287.5644590521,45.9220062644,50.32]},{\"mode\":\"lines\",\"name\":\"France\",\"type\":\"scatter\",\"x\":[2018,2017,2016,2015,2014,2013,2012,2011,2010,2009,2008,2007,2006,2005,2004,2003,2002,2001,2000,1999,1998,1997,1996,1995,1994,1993,1992,1991,1990],\"y\":[15957.6031367676,17842.0098525281,19141.5235055961,19063.5896639954,18870.8158495852,18849.5143499525,18849.4830814373,18583.6605860072,17559.3973484194,16558.1884951718,16411.2631209101,15454.2432045664,14548.3141808404,13542.8312320069,12221.5231291791,10812.7877487608,9417.56728537132,8130.30959695107,6700.69434109876,5423.51450999383,4319.5592259153,4063.93892997737,3248.30054294207,1900.37261314266,1959.90332230422,2938.31346267631,4418.01135362189,5124.37681761492,4402.19994328629]},{\"mode\":\"lines\",\"name\":\"Greece\",\"type\":\"scatter\",\"x\":[2018,2017,2016,2015,2014,2013,2012,2011,2010,2009,2008,2007,2006,2005,2004,2003,2002,2001,2000,1999,1998,1997,1996,1995,1994,1993,1992,1991,1990],\"y\":[5907.58196408143,6177.93247151024,6223.8618694555,5999.84455389418,5842.95097014806,5741.47627757344,5153.9310515242,4747.22422242122,4467.7641233117,4036.0151927208,3712.34559194796,3246.63319696743,2723.62792706369,5078.02569564883,4928.26924985721,4733.64897000133,5090.33300671548,4781.51816000275,5261.86231892746,6721.12967716985,5767.51429514513,5166.48802785957,4820.16537150106,4157.37596992872,2712.11246316,2032.43915305,1149.072,1400.08,1182.816]},{\"mode\":\"lines\",\"name\":\"Slovakia\",\"type\":\"scatter\",\"x\":[2018,2017,2016,2015,2014,2013,2012,2011,2010,2009,2008,2007,2006,2005,2004,2003,2002,2001,2000,1999,1998,1997,1996,1995,1994],\"y\":[702.770756721768,739.057218901321,673.37041026847,734.884676865271,653.839424519085,646.877966244766,628.195416222163,605.026553290895,597.239829242173,516.926747188696,454.472172162138,388.26141549588,341.487325451568,292.991425109523,254.385018654279,213.51616991126,178.455332112864,138.783116311824,105.04465002763,77.2853264577755,54.6079028904907,41.2120600105767,28.3865836713273,13.3179138718725,0.1958936]},{\"mode\":\"lines\",\"name\":\"Belgium\",\"type\":\"scatter\",\"x\":[2018,2017,2016,2015,2014,2013,2012,2011,2010,2009,2008,2007,2006,2005,2004,2003,2002,2001,2000,1999,1998,1997,1996,1995,1994,1993,1992],\"y\":[4469.83725723507,4356.87922365054,4001.36738320696,4037.27725603104,3879.29065813118,3638.4385194506,3566.96103548522,3562.48461103344,3162.30542719384,2839.10864666153,2976.13981884555,3007.82891387692,2621.22452855217,2546.55572956118,1727.99299229106,1645.26195963978,1455.93944712819,1222.51998772962,1139.9568219343,940.970392643263,872.708294613772,711.587186846675,586.898209677834,491.416918273662,493.80632644369,481.14942939697,481.14942939697]},{\"mode\":\"lines\",\"name\":\"Finland\",\"type\":\"scatter\",\"x\":[2018,2017,2016,2015,2014,2013,2012,2011,2010,2009,2008,2007,2006,2005,2004,2003,2002,2001,2000,1999,1998,1997,1996,1995,1994,1993,1992,1991,1990],\"y\":[1178.05731223711,1212.63640665346,1275.36090182533,1327.54111485638,1366.19268136038,1380.9192193596,1382.14524264563,1355.27662774826,1362.56992134208,1381.43423668762,1383.2456034081,1345.34922770012,1312.23086804165,1157.40037787442,1082.05721543006,978.497729726382,880.580011133921,786.450119709676,715.466845566291,540.275917834763,442.448152449464,333.483437349146,233.43773451629,149.809616160777,81.238862214434,0.20379561,0.0456544,0.03298412,0.02094836]},{\"mode\":\"lines\",\"name\":\"Belarus\",\"type\":\"scatter\",\"x\":[],\"y\":[]},{\"mode\":\"lines\",\"name\":\"Malta\",\"type\":\"scatter\",\"x\":[2018,2017,2016,2015,2014,2013,2012,2011,2010,2009,2008,2007,2006,2005,2004,2003,2002,2001,2000,1999,1998,1997,1996,1995,1994],\"y\":[411.614375069252,369.160693133855,309.076697363925,292.394583582417,272.031410304992,252.384835150776,232.512173972749,195.586069357762,167.595292188936,151.060219227487,125.828271658939,106.055206761329,84.2239398491282,44.1813954774386,29.9044008460533,16.6029322956106,14.9850158447591,11.2578259923917,6.70083776315223,0.01127198139642,0.00751933941466,0.00470204555132,0.0028229142942,0.0018847686,0.0009438]},{\"mode\":\"lines\",\"name\":\"Croatia\",\"type\":\"scatter\",\"x\":[2018,2017,2016,2015,2014,2013,2012,2011,2010,2009,2008,2007,2006,2005,2004,2003,2002,2001,2000,1999,1998,1997,1996,1995],\"y\":[494.050358073391,488.998639670915,483.533987413175,482.495763070901,474.764968427948,469.186244065128,397.278784,396.195623,378.872252,341.3498735,338.0435281,326.7434916,292.5692587,265.803196,240.326632,212.229103,185.3357545,161.45912,147.900944,122.0819895,101.880601,71.933243,49.772275,29.319975]},{\"mode\":\"lines\",\"name\":\"Italy\",\"type\":\"scatter\",\"x\":[2018,2017,2016,2015,2014,2013,2012,2011,2010,2009,2008,2007,2006,2005,2004,2003,2002,2001,2000,1999,1998,1997,1996,1995,1994,1993,1992,1991,1990],\"y\":[16569.7435076847,16407.9083486214,15963.3819772683,15388.7755301647,14917.7743344425,14267.7723846002,13596.1298799706,12968.9296641931,12052.908370449,11203.255672995,10389.6585546155,9452.06408097136,8739.71345705019,7616.96842684931,6458.33652099588,5224.37160928023,4209.03955058908,3284.1848173166,2489.02540952606,1988.72632313811,1525.61644413539,1004.12740922102,668.402035490751,926.652550964668,664.064980301903,494.098536906839,471.905134358681,449.297351111111,444.0]},{\"mode\":\"lines\",\"name\":\"Lithuania\",\"type\":\"scatter\",\"x\":[2018,2017,2016,2015,2014,2013,2012,2011,2010,2009,2008,2007,2006,2005,2004,2003,2002,2001,2000,1999,1998,1997,1996,1995,1994,1993],\"y\":[571.220518564612,718.626509211081,722.288349253541,567.751675167943,459.756774149312,406.791798273614,350.362735848768,303.293849326575,256.760815104012,213.597319129979,191.802445390603,153.71706218884,118.252264077531,88.8371838868631,67.6263187375736,46.8384172222282,35.6298307514798,28.0794539162723,21.7982656688366,17.2669506635471,13.7099675463538,10.0748819047216,7.58423827604094,6.1664992281744,0.0927602556,0.0278729208]},{\"mode\":\"lines\",\"name\":\"Norway\",\"type\":\"scatter\",\"x\":[2018,2017,2016,2015,2014,2013,2012,2011,2010,2009,2008,2007,2006,2005,2004,2003,2002,2001,2000,1999,1998,1997,1996,1995,1994,1993,1992,1991,1990],\"y\":[846.488424037518,1386.0220544377,1376.06350033745,1240.56807278922,1242.38028144291,1156.10026794371,1142.55240085122,1106.83249915425,1065.8984536961,847.6390834731,798.215602905138,711.832501325915,675.486683453791,612.993431940646,596.213848008226,557.599416468094,578.215552111353,473.308401847872,383.274177323527,316.01530094786,244.065323269312,191.504034292849,129.482978881295,91.996754259294,49.883830248177,31.640982840283,19.949613557719,9.909711107315,0.043899012675]},{\"mode\":\"lines\",\"name\":\"Spain\",\"type\":\"scatter\",\"x\":[2018,2017,2016,2015,2014,2013,2012,2011,2010,2009,2008,2007,2006,2005,2004,2003,2002,2001,2000,1999,1998,1997,1996,1995,1994,1993,1992,1991,1990],\"y\":[4557.69399727197,6308.17699266288,8205.61731454015,8442.31468748012,15108.4563591872,15243.3305839843,15353.2886871325,15368.8209048297,16071.45149322,15587.9033235328,17016.9238568458,16052.7599876265,14046.1715074024,11470.6831991118,10187.8717162602,9871.02956955149,7734.91484151321,9047.15435066777,12253.5936775576,10553.8219973403,8595.49218669047,8283.22398386691,6869.56557577393,5867.6374894383,4373.4000052688,2856.4000047064,3494.5760016428,2756.3519989344,3039.9199969808]},{\"mode\":\"lines\",\"name\":\"Czechia\",\"type\":\"scatter\",\"x\":[2018,2017,2016,2015,2014,2013,2012,2011,2010,2009,2008,2007,2006,2005,2004,2003,2002,2001,2000,1999,1998,1997,1996,1995],\"y\":[3736.10500239336,3637.91408592445,3440.62746934718,3289.90047361897,3072.2171294122,2917.68522935475,2792.65224625751,2684.04319552564,2421.35491105113,2121.73900858889,2052.55893021287,1764.44916813943,1350.28825858127,1073.88806771283,952.499397902518,844.304880479108,699.315613441298,566.864303613666,418.109174941854,299.553267121251,242.456749409746,173.86083999292,70.8493454026681,13.8091216015199]},{\"mode\":\"lines\",\"name\":\"Denmark\",\"type\":\"scatter\",\"x\":[2018,2017,2016,2015,2014,2013,2012,2011,2010,2009,2008,2007,2006,2005,2004,2003,2002,2001,2000,1999,1998,1997,1996,1995,1994,1993,1992],\"y\":[584.946847479572,486.91735818461,580.638853257694,516.489884528514,663.950116341366,718.867704203962,779.158160107069,773.699908035691,850.549233294345,1010.9389366424,985.939146508916,986.007006181984,950.956059147517,928.187503098595,878.142024109507,819.800663714745,799.04739234152,775.285508285617,773.466921272426,678.051309909472,532.431068368882,398.714810664528,399.405750098365,257.891398809333,157.381333726275,110.032702235025,3.82974]},{\"mode\":\"lines\",\"name\":\"Russian Federation\",\"type\":\"scatter\",\"x\":[2018,2017,2016,2015,2014,2013,2012,2011,2010,2009,2008,2007,2006,2005,2004,2003,2002,2001,2000,1999,1998,1997,1996,1995,1994,1993,1992,1991,1990],\"y\":[42761.4742419486,34390.09512767,23660.6551096327,22346.1081883586,24815.9562169307,21783.1930702394,17834.4840861053,11315.1789908359,13425.4787895994,12526.8143939607,17920.2211080585,16820.7060471487,17992.9449669974,19814.6253792095,18406.3515044344,14608.5962798555,19300.748321353,25207.4242725282,26568.9557852768,22671.6196288061,21834.1479389713,18009.5363120096,13611.0681214464,15447.3144842258,15469.6355295884,18278.4100904389,28192.1402495568,34229.660541312,35937.158805248]},{\"mode\":\"lines\",\"name\":\"Ireland\",\"type\":\"scatter\",\"x\":[2018,2017,2016,2015,2014,2013,2012,2011,2010,2009,2008,2007,2006,2005,2004,2003,2002,2001,2000,1999,1998,1997,1996,1995,1994,1993,1992,1991,1990],\"y\":[1100.36448986394,1266.14219693628,1239.3484933689,1159.51170447247,1174.90054941375,1091.96923909322,1060.5303928132,1067.04040571063,1034.23023785377,1019.02097587644,991.42923566912,905.786967302624,900.100949309201,861.135907995486,684.657474456341,545.793781656935,394.409990473669,316.046492390518,270.335594588312,209.551611007948,201.470079394498,158.687748854548,90.8272643595499,45.2932295772493,29.0163026529275,14.415415631616,0.93536,0.76368,0.592]},{\"mode\":\"lines\",\"name\":\"Liechtenstein\",\"type\":\"scatter\",\"x\":[2018,2017,2016,2015,2014,2013,2012,2011,2010,2009,2008,2007,2006,2005,2004,2003,2002,2001,2000,1999,1998,1997,1996,1995,1994,1993,1992,1991,1990],\"y\":[9.94560266215005,10.6905531799461,10.5572003739534,10.4456046104537,10.6566773114019,10.6471033307759,10.3849408594816,9.9761482096543,9.71202118403452,9.13556598850467,9.13343677892693,8.49610758301638,7.83221839247537,7.37834097232704,7.06363386000227,6.21346756749955,5.48226677138867,4.94491379421937,4.11068778434166,3.34839681469098,2.7384370644666,2.14102257447704,1.73337013868764,1.36976767008685,0.51386465614569,0.20085558464699,0.08826940783708,0.00988358462015,0.00010446837893]},{\"mode\":\"lines\",\"name\":\"Monaco\",\"type\":\"scatter\",\"x\":[2018,2017,2016,2015,2014,2013,2012,2011,2010,2009,2008,2007,2006,2005,2004,2003,2002,2001,2000,1999,1998,1997,1996,1995,1994,1993,1992,1991],\"y\":[7.61499016510209,8.10682786606427,7.0057721095363,6.31662414372726,5.81752427011694,6.02155142682535,4.17441474997093,5.31490580028748,4.69545185674336,6.57882531640554,5.17124017692543,3.93891143856731,3.55095998606968,3.71792851715577,3.63476008344523,3.04820530789026,2.8955472479238,2.20428966296571,4.08494003777035,1.01926832866651,1.00288815602846,0.61379900185304,0.96143584828387,0.28636466045991,0.1544199386555,0.0518574593364,0.01518408177789,0.00392821685732]},{\"mode\":\"lines\",\"name\":\"European Union\",\"type\":\"scatter\",\"x\":[2018,2017,2016,2015,2014,2013,2012,2011,2010,2009,2008,2007,2006,2005,2004,2003,2002,2001,2000,1999,1998,1997,1996,1995,1994,1993,1992,1991,1990],\"y\":[98735.2405956507,105751.428919806,108011.986476278,110346.549377837,114161.972533945,111459.01914695,109013.698166611,106186.631009967,104367.161808978,97453.3894423871,97053.8412734826,91213.2026197168,83800.9583140789,77841.734335287,70094.6308663694,65654.0434468983,58075.2260699366,54273.7568614062,54628.4098040213,53155.9557823862,61383.9687386426,59608.5503762506,51618.7522056601,44146.5570767133,39471.7128405592,34715.1576711031,31715.2721163885,29258.500069376,29206.3309603618]},{\"mode\":\"lines\",\"name\":\"Ukraine\",\"type\":\"scatter\",\"x\":[2018,2017,2016,2015,2014,2013,2012,2011,2010,2009,2008,2007,2006,2005,2004,2003,2002,2001,2000,1999,1998,1997],\"y\":[1349.25761687292,1009.48431210098,887.300228378847,775.287558967009,847.824969166252,881.216653019987,840.734597301637,819.972397183174,743.833894952255,663.737536834602,647.210734163348,561.096689048497,402.250321116262,285.055803811308,187.230955976698,105.178736101076,64.2410527234231,29.0180001254357,15.7315887340818,14.1424997308824,13.0193475573529,6.430905]},{\"mode\":\"lines\",\"name\":\"Iceland\",\"type\":\"scatter\",\"x\":[2018,2017,2016,2015,2014,2013,2012,2011,2010,2009,2008,2007,2006,2005,2004,2003,2002,2001,2000,1999,1998,1997,1996,1995,1994,1993,1992,1991,1990],\"y\":[167.226140977755,190.908577487808,204.476970325488,179.667466521572,169.610032778288,163.376529221352,140.743195252109,130.455681488928,105.106334646931,73.1149792759743,60.4329135141041,50.8476481241325,57.3897007087037,55.557608015935,51.4599939815535,46.5514401008255,49.3194724696854,41.1027661198983,43.9639330793745,37.9798996646764,26.3168543500653,16.8888446665273,10.6524928920104,3.43154618257565,2.03134824691513,1.58037855053897,0.70436784591335,0.69534108057731,0.34503629049793]},{\"mode\":\"lines\",\"name\":\"United States of America\",\"type\":\"scatter\",\"x\":[2018,2017,2016,2015,2014,2013,2012,2011,2010,2009,2008,2007,2006,2005,2004,2003,2002,2001,2000,1999,1998,1997,1996,1995,1994,1993,1992,1991,1990],\"y\":[155375.640101711,156637.030970805,155559.606181813,156539.438851753,153850.348258044,149034.040656914,148996.59313768,150500.071148851,147374.332392542,139124.982377008,140379.668425082,136553.598946953,125330.413851356,121402.034884897,118922.22853817,109063.28338726,116272.997318391,109248.938431654,113573.214336193,108452.118928356,111313.263515012,91578.040427836,81465.1305121592,72513.8481246657,54342.2349242824,47588.8220309721,47436.5338001866,41618.7665320141,46289.0102637174]},{\"mode\":\"lines\",\"name\":\"Cyprus\",\"type\":\"scatter\",\"x\":[2018,2017,2016,2015,2014,2013,2012,2011,2010,2009,2008,2007,2006,2005,2004,2003,2002,2001,2000,1999,1998,1997,1996,1995,1994,1993,1992,1991,1990],\"y\":[297.140227779823,287.702328056833,276.931592908703,269.720392745148,260.179594455708,260.751258629699,266.495320358888,261.862981755795,275.83810971302,266.855098087203,253.808530140678,257.130152433716,227.158259075984,223.914586395267,215.15187851719,195.669016388169,188.848922298978,173.871702893208,169.117786434458,164.449150665883,149.681825979377,141.527759119988,135.71955405581,132.306469745727,127.487414913398,118.68589185347,124.203247398781,94.1282898699653,79.6003498774071]},{\"mode\":\"lines\",\"name\":\"Estonia\",\"type\":\"scatter\",\"x\":[2018,2017,2016,2015,2014,2013,2012,2011,2010,2009,2008,2007,2006,2005,2004,2003,2002,2001,2000,1999,1998,1997,1996,1995,1994,1993,1992],\"y\":[231.030043764139,231.901446892935,235.583710825673,223.206885358881,218.139128103282,207.749513049444,193.343849912393,183.329441187338,175.536768321398,157.529599176477,150.394817419873,170.367740074701,154.56619902732,134.958268474771,119.327334223453,104.867951566727,98.8306106453945,97.1867162081839,79.1473138284342,63.394363404444,52.2518396218539,41.3138200581129,34.5582801517728,28.454399857753,22.9149299854698,20.0196946835335,17.51317997]},{\"mode\":\"lines\",\"name\":\"Switzerland\",\"type\":\"scatter\",\"x\":[2018,2017,2016,2015,2014,2013,2012,2011,2010,2009,2008,2007,2006,2005,2004,2003,2002,2001,2000,1999,1998,1997,1996,1995,1994,1993,1992,1991,1990],\"y\":[1524.04966346525,1504.25329276777,1480.4558230115,1507.5173835182,1468.95079871041,1432.16070647779,1453.07071234832,1380.05358665696,1308.24993521354,1272.05737432699,1274.66431771433,1252.74923194295,1159.58576225122,1047.96437354054,1009.61730345954,910.312446483901,826.577842345671,735.875458068719,635.959014618111,533.349499809722,456.05684004658,360.311737050726,295.94268611022,243.757181413437,80.1656299637883,32.538013978365,15.5519427612223,1.50874348170181,0.02478119072]},{\"mode\":\"lines\",\"name\":\"Latvia\",\"type\":\"scatter\",\"x\":[2018,2017,2016,2015,2014,2013,2012,2011,2010,2009,2008,2007,2006,2005,2004,2003,2002,2001,2000,1999,1998,1997,1996,1995],\"y\":[268.096403356418,268.405569869337,274.913539794908,254.481607499247,243.64586163794,229.526096581215,216.006334165525,215.855709492058,214.054993831287,188.596955952499,178.323143948921,154.485756582013,132.796340302914,105.196846424531,96.6860621515562,88.4605463398798,80.6842713740731,72.8639417143646,64.6003127647353,55.9292181918145,47.5904410237973,38.9432078421858,29.4255758396178,17.1275600942859]},{\"mode\":\"lines\",\"name\":\"Canada\",\"type\":\"scatter\",\"x\":[2018,2017,2016,2015,2014,2013,2012,2011,2010,2009,2008,2007,2006,2005,2004,2003,2002,2001,2000,1999,1998,1997,1996,1995,1992,1991,1990],\"y\":[12545.4337165272,11528.0861100581,11317.790993446,11042.4478057882,10951.0288846077,10075.6652234939,9083.74204115098,8592.44913664706,7729.05363577473,6909.97109869936,6135.67115116636,6077.57252813593,5391.07606666372,5107.03344257297,4584.77356780635,3979.85765304976,3607.06766099863,3159.2956287521,2754.84203983593,2160.36452105141,1620.11150727323,1122.30349100694,810.624954718478,460.505097239537,829.7768,1056.6608,970.540192]},{\"mode\":\"lines\",\"name\":\"Slovenia\",\"type\":\"scatter\",\"x\":[2018,2017,2016,2015,2014,2013,2012,2011,2010,2009,2008,2007,2006,2005,2004,2003,2002,2001,2000,1999,1998,1997,1996,1995,1994,1993],\"y\":[293.234118177498,339.143918038091,351.479501517519,343.751114003412,333.526977887146,316.167700681949,294.88274758004,270.306326383571,257.946041194655,243.914893347233,224.365807126318,195.90742977459,169.250727784298,145.638531175795,121.997064236559,99.2319480284955,78.610351011238,62.751532975362,46.1716593511427,31.4229657172963,31.0893559702615,34.4835345052929,29.8614609565635,32.8867312459443,31.65428552,31.41216364]},{\"mode\":\"lines\",\"name\":\"Japan\",\"type\":\"scatter\",\"x\":[2018,2017,2016,2015,2014,2013,2012,2011,2010,2009,2008,2007,2006,2005,2004,2003,2002,2001,2000,1999,1998,1997,1996,1995,1994,1993,1992,1991,1990],\"y\":[46987.6684711655,44891.0973333726,42574.7396324591,39262.7974595151,35783.4735347653,32103.8626828946,29360.7113786095,26104.8261937603,23315.0411118942,20934.0990890375,19293.1139179061,16712.6247665657,14630.0887280131,12784.0220325148,12422.5642065563,16229.2586234738,16236.3917975722,19462.5214071019,22851.9981070797,24368.2759035245,23742.1025001834,24436.7924313971,24598.1072568492,25213.191034391,21051.8952130351,18129.15828489,17767.2240356469,17349.6129448632,15932.3098610065]},{\"mode\":\"lines\",\"name\":\"Luxembourg\",\"type\":\"scatter\",\"x\":[2018,2017,2016,2015,2014,2013,2012,2011,2010,2009,2008,2007,2006,2005,2004,2003,2002,2001,2000,1999,1998,1997,1996,1995,1994,1993,1992,1991,1990],\"y\":[67.6398232389591,69.5822817213932,66.0448307376768,67.595732349376,66.8566853879407,62.45321195319,58.9115108824972,56.5502784130143,53.6732037072649,51.3992489553198,50.2451155503863,47.7565469662427,43.3682739650589,40.4696244280412,41.9294008175686,41.7469865930914,41.507337291225,38.2547909400934,31.0846712827688,26.2073602193058,22.9564786488496,20.0953729507634,17.3294044344262,15.1515755479527,14.1912062550659,12.937534866177,5.48607958179047,0.0011678141475,7.15e-05]},{\"mode\":\"lines\",\"name\":\"New Zealand\",\"type\":\"scatter\",\"x\":[2018,2017,2016,2015,2014,2013,2012,2011,2010,2009,2008,2007,2006,2005,2004,2003,2002,2001,2000,1999,1998,1997,1996,1995,1994,1993,1992],\"y\":[1816.14803966724,1658.6402204409,1558.34656608237,1421.32152263187,1303.78850044954,1284.62970555941,1223.08852605582,1171.20724625073,1046.03082198539,978.173293140093,987.665553621016,884.793079988599,766.941289123433,662.119687737073,548.019581132203,473.017987861591,375.433137894039,281.964588809878,216.654765509407,167.474016619996,113.444756494247,83.5362241110899,54.1104581295225,20.0094122466674,7.90576762697949,0.3575,0.286]},{\"mode\":\"lines\",\"name\":\"Poland\",\"type\":\"scatter\",\"x\":[2018,2017,2016,2015,2014,2013,2012,2011,2010,2009,2008,2007,2006,2005,2004,2003,2002,2001,2000,1999,1998,1997,1996,1995],\"y\":[4172.70696872142,6036.74864842156,5919.01387155294,8361.41118270713,8189.16199984944,7484.99799821817,7046.33329546462,6762.15189866875,6195.95861892424,4744.94680280043,5570.7935516967,5075.92153969069,4609.03885122286,3870.45036863957,3158.75093992967,2694.86339886092,2123.35756211182,1570.00795954762,1072.07525926723,616.35982755551,443.84543586437,369.77577709848,273.62181227978,171.96918704891]},{\"mode\":\"lines\",\"name\":\"Portugal\",\"type\":\"scatter\",\"x\":[2018,2017,2016,2015,2014,2013,2012,2011,2010,2009,2008,2007,2006,2005,2004,2003,2002,2001,2000,1999,1998,1997,1996,1995],\"y\":[3411.84159532833,3266.37987962983,3063.23211679658,2909.09823284843,2750.74974240779,2617.02071359047,2443.02715479238,2278.88383372942,2103.4226945343,1924.05892775479,1733.9958688419,1484.00899412307,1252.71925078723,1076.61564606418,909.650135269534,796.899053748152,664.814089999172,532.089241345267,425.587766780876,343.5867081259,260.422781651776,192.783135113014,132.614090998202,105.597086830228]},{\"mode\":\"lines\",\"name\":\"Australia\",\"type\":\"scatter\",\"x\":[2018,2017,2016,2015,2014,2013,2012,2011,2010,2009,2008,2007,2006,2005,2004,2003,2002,2001,2000,1999,1998,1997,1996,1995,1994,1993,1992,1991,1990],\"y\":[11982.082324172,11685.9360964034,11979.4620219494,11795.3249584448,10778.8523262396,9859.71257255419,9055.86893241829,9139.82146465507,8672.21185412461,8109.07325168487,6858.96362011689,6066.18586627096,5166.70568017775,5002.7622515446,4267.13653601783,3578.89689637269,2925.89829073234,2307.10807856309,1613.95320909026,1374.53997863768,998.289579795631,705.228318135053,414.17063782292,1004.03211082861,1027.34354927313,1829.872,1333.184,1424.68352,1424.68352]},{\"mode\":\"lines\",\"name\":\"Romania\",\"type\":\"scatter\",\"x\":[2018,2017,2016,2015,2014,2013,2012,2011,2010,2009,2008,2007,2006,2005,2004,2003,2002,2001,2000,1999,1998,1997,1996,1995,1994,1993,1992,1991,1990],\"y\":[2295.10877695675,2179.08579465174,1895.40582078562,1639.28421206524,1374.93038360901,1300.30742201206,1199.19539228247,1094.05410558517,984.4066145483,926.381660501528,948.83289952413,667.402457291848,486.449848456085,371.174057172974,296.099932974541,230.428380076938,169.40479364566,113.712251107691,71.4845699186572,40.2576333043805,24.2491798763935,10.6189805278188,4.90975378524326,2.65700078422256,1.27402880777119,0.75723491173243,0.44593471938154,0.28668813826203,0.18119293223939]},{\"mode\":\"lines\",\"name\":\"Bulgaria\",\"type\":\"scatter\",\"x\":[2018,2017,2016,2015,2014,2013,2012,2011,2010,2009,2008,2007,2006,2005,2004,2003,2002,2001,2000,1999,1998,1997,1996,1995,1994,1993,1992,1991],\"y\":[2252.52964131014,1816.63588002444,1399.3271114593,1222.07563885577,1107.95603788389,968.375035837374,823.142118615631,752.68182263632,663.046051551738,639.113284107228,625.89211168682,385.794825050179,297.105470434467,195.161822792268,119.921830332935,83.7448899466314,61.2998840883017,45.6749720819561,33.0239154018775,21.5942747737281,15.0698475767498,9.28261237252784,5.84327890930476,3.32842472977408,1.09677551311342,0.02303703221005,0.010681702317,0.003135561]},{\"mode\":\"lines\",\"name\":\"Austria\",\"type\":\"scatter\",\"x\":[2018,2017,2016,2015,2014,2013,2012,2011,2010,2009,2008,2007,2006,2005,2004,2003,2002,2001,2000,1999,1998,1997,1996,1995,1994,1993,1992,1991,1990],\"y\":[1834.75894715723,1750.56307493656,1642.98899484183,1623.43163848794,1587.86408410764,1520.3665513298,1492.35613238197,1413.92689794688,1485.66245409008,1310.44035565183,1249.71221818006,1198.41302699172,1155.23316080152,1148.3280217843,1160.21081066843,1073.40827085611,969.363617132006,863.101238986877,713.626554045867,700.924890690691,608.546964889657,498.139986694405,417.201579590825,353.45085312042,261.105590625578,235.26478656483,5.63648639172312,3.88944,2.43756]},{\"mode\":\"lines\",\"name\":\"Hungary\",\"type\":\"scatter\",\"x\":[2018,2017,2016,2015,2014,2013,2012,2011,2010,2009,2008,2007,2006,2005,2004,2003,2002,2001,2000,1999,1998,1997,1996,1995,1994,1993,1992,1991],\"y\":[1358.02178748445,1801.16140350325,1626.13365476489,2164.87069003265,1683.36391463212,1250.03830756363,1177.80418119922,1287.73117562089,1198.22780896011,1105.12986148221,1116.71280247321,1032.85585330462,897.915209298341,772.161761439648,669.09334982442,504.802154450921,424.851205704486,320.304433713985,283.989597563728,301.603510268666,147.407138979037,71.0858576094873,38.7857631728982,37.153756316521,32.4139529900747,27.39245679305,23.2377690735751,15.1310284125]},{\"mode\":\"lines\",\"name\":\"United Kingdom\",\"type\":\"scatter\",\"x\":[2018,2017,2016,2015,2014,2013,2012,2011,2010,2009,2008,2007,2006,2005,2004,2003,2002,2001,2000,1999,1998,1997,1996,1995,1994,1993,1992,1991,1990],\"y\":[13132.6980033585,14180.8811534915,15216.4503722804,15987.2296826286,16001.7640998961,15803.2732441725,15474.1618407422,14931.4706858906,16486.94673777,15626.3212783697,14994.6837526312,14495.8579843087,14046.3902615512,13132.230035756,11910.0884714553,12830.4791490199,11392.6080980576,10894.5604853433,9885.02475998783,11466.6600754927,20075.2130905682,23105.122875671,20249.6600251355,19096.2751805693,17593.527853379,16505.7207309102,15597.6407846988,14991.0521364908,14391.4266541955]},{\"mode\":\"lines\",\"name\":\"Netherlands\",\"type\":\"scatter\",\"x\":[2018,2017,2016,2015,2014,2013,2012,2011,2010,2009,2008,2007,2006,2005,2004,2003,2002,2001,2000,1999,1998,1997,1996,1995,1994,1993,1992,1991,1990],\"y\":[1641.64618283627,1558.44940883627,1617.75753883627,1801.17161440981,1622.99402840981,2040.65274731599,2395.19386694771,2435.95379281315,2660.91224675172,2350.17883600339,2242.69905102488,2130.62009813074,1990.38473593324,1734.15547757208,1911.11528172125,1817.12936227051,1813.00656899995,2069.60927900116,4765.18279600039,6012.70750500117,11568.7216350007,10198.4529199986,9593.31097500152,7570.52448100066,8159.226972,6311.61511,5621.292034,4366.074,5606.3288]}],                        {\"autosize\":false,\"height\":500,\"template\":{\"data\":{\"bar\":[{\"error_x\":{\"color\":\"#2a3f5f\"},\"error_y\":{\"color\":\"#2a3f5f\"},\"marker\":{\"line\":{\"color\":\"#E5ECF6\",\"width\":0.5},\"pattern\":{\"fillmode\":\"overlay\",\"size\":10,\"solidity\":0.2}},\"type\":\"bar\"}],\"barpolar\":[{\"marker\":{\"line\":{\"color\":\"#E5ECF6\",\"width\":0.5},\"pattern\":{\"fillmode\":\"overlay\",\"size\":10,\"solidity\":0.2}},\"type\":\"barpolar\"}],\"carpet\":[{\"aaxis\":{\"endlinecolor\":\"#2a3f5f\",\"gridcolor\":\"white\",\"linecolor\":\"white\",\"minorgridcolor\":\"white\",\"startlinecolor\":\"#2a3f5f\"},\"baxis\":{\"endlinecolor\":\"#2a3f5f\",\"gridcolor\":\"white\",\"linecolor\":\"white\",\"minorgridcolor\":\"white\",\"startlinecolor\":\"#2a3f5f\"},\"type\":\"carpet\"}],\"choropleth\":[{\"colorbar\":{\"outlinewidth\":0,\"ticks\":\"\"},\"type\":\"choropleth\"}],\"contour\":[{\"colorbar\":{\"outlinewidth\":0,\"ticks\":\"\"},\"colorscale\":[[0.0,\"#0d0887\"],[0.1111111111111111,\"#46039f\"],[0.2222222222222222,\"#7201a8\"],[0.3333333333333333,\"#9c179e\"],[0.4444444444444444,\"#bd3786\"],[0.5555555555555556,\"#d8576b\"],[0.6666666666666666,\"#ed7953\"],[0.7777777777777778,\"#fb9f3a\"],[0.8888888888888888,\"#fdca26\"],[1.0,\"#f0f921\"]],\"type\":\"contour\"}],\"contourcarpet\":[{\"colorbar\":{\"outlinewidth\":0,\"ticks\":\"\"},\"type\":\"contourcarpet\"}],\"heatmap\":[{\"colorbar\":{\"outlinewidth\":0,\"ticks\":\"\"},\"colorscale\":[[0.0,\"#0d0887\"],[0.1111111111111111,\"#46039f\"],[0.2222222222222222,\"#7201a8\"],[0.3333333333333333,\"#9c179e\"],[0.4444444444444444,\"#bd3786\"],[0.5555555555555556,\"#d8576b\"],[0.6666666666666666,\"#ed7953\"],[0.7777777777777778,\"#fb9f3a\"],[0.8888888888888888,\"#fdca26\"],[1.0,\"#f0f921\"]],\"type\":\"heatmap\"}],\"heatmapgl\":[{\"colorbar\":{\"outlinewidth\":0,\"ticks\":\"\"},\"colorscale\":[[0.0,\"#0d0887\"],[0.1111111111111111,\"#46039f\"],[0.2222222222222222,\"#7201a8\"],[0.3333333333333333,\"#9c179e\"],[0.4444444444444444,\"#bd3786\"],[0.5555555555555556,\"#d8576b\"],[0.6666666666666666,\"#ed7953\"],[0.7777777777777778,\"#fb9f3a\"],[0.8888888888888888,\"#fdca26\"],[1.0,\"#f0f921\"]],\"type\":\"heatmapgl\"}],\"histogram\":[{\"marker\":{\"pattern\":{\"fillmode\":\"overlay\",\"size\":10,\"solidity\":0.2}},\"type\":\"histogram\"}],\"histogram2d\":[{\"colorbar\":{\"outlinewidth\":0,\"ticks\":\"\"},\"colorscale\":[[0.0,\"#0d0887\"],[0.1111111111111111,\"#46039f\"],[0.2222222222222222,\"#7201a8\"],[0.3333333333333333,\"#9c179e\"],[0.4444444444444444,\"#bd3786\"],[0.5555555555555556,\"#d8576b\"],[0.6666666666666666,\"#ed7953\"],[0.7777777777777778,\"#fb9f3a\"],[0.8888888888888888,\"#fdca26\"],[1.0,\"#f0f921\"]],\"type\":\"histogram2d\"}],\"histogram2dcontour\":[{\"colorbar\":{\"outlinewidth\":0,\"ticks\":\"\"},\"colorscale\":[[0.0,\"#0d0887\"],[0.1111111111111111,\"#46039f\"],[0.2222222222222222,\"#7201a8\"],[0.3333333333333333,\"#9c179e\"],[0.4444444444444444,\"#bd3786\"],[0.5555555555555556,\"#d8576b\"],[0.6666666666666666,\"#ed7953\"],[0.7777777777777778,\"#fb9f3a\"],[0.8888888888888888,\"#fdca26\"],[1.0,\"#f0f921\"]],\"type\":\"histogram2dcontour\"}],\"mesh3d\":[{\"colorbar\":{\"outlinewidth\":0,\"ticks\":\"\"},\"type\":\"mesh3d\"}],\"parcoords\":[{\"line\":{\"colorbar\":{\"outlinewidth\":0,\"ticks\":\"\"}},\"type\":\"parcoords\"}],\"pie\":[{\"automargin\":true,\"type\":\"pie\"}],\"scatter\":[{\"marker\":{\"colorbar\":{\"outlinewidth\":0,\"ticks\":\"\"}},\"type\":\"scatter\"}],\"scatter3d\":[{\"line\":{\"colorbar\":{\"outlinewidth\":0,\"ticks\":\"\"}},\"marker\":{\"colorbar\":{\"outlinewidth\":0,\"ticks\":\"\"}},\"type\":\"scatter3d\"}],\"scattercarpet\":[{\"marker\":{\"colorbar\":{\"outlinewidth\":0,\"ticks\":\"\"}},\"type\":\"scattercarpet\"}],\"scattergeo\":[{\"marker\":{\"colorbar\":{\"outlinewidth\":0,\"ticks\":\"\"}},\"type\":\"scattergeo\"}],\"scattergl\":[{\"marker\":{\"colorbar\":{\"outlinewidth\":0,\"ticks\":\"\"}},\"type\":\"scattergl\"}],\"scattermapbox\":[{\"marker\":{\"colorbar\":{\"outlinewidth\":0,\"ticks\":\"\"}},\"type\":\"scattermapbox\"}],\"scatterpolar\":[{\"marker\":{\"colorbar\":{\"outlinewidth\":0,\"ticks\":\"\"}},\"type\":\"scatterpolar\"}],\"scatterpolargl\":[{\"marker\":{\"colorbar\":{\"outlinewidth\":0,\"ticks\":\"\"}},\"type\":\"scatterpolargl\"}],\"scatterternary\":[{\"marker\":{\"colorbar\":{\"outlinewidth\":0,\"ticks\":\"\"}},\"type\":\"scatterternary\"}],\"surface\":[{\"colorbar\":{\"outlinewidth\":0,\"ticks\":\"\"},\"colorscale\":[[0.0,\"#0d0887\"],[0.1111111111111111,\"#46039f\"],[0.2222222222222222,\"#7201a8\"],[0.3333333333333333,\"#9c179e\"],[0.4444444444444444,\"#bd3786\"],[0.5555555555555556,\"#d8576b\"],[0.6666666666666666,\"#ed7953\"],[0.7777777777777778,\"#fb9f3a\"],[0.8888888888888888,\"#fdca26\"],[1.0,\"#f0f921\"]],\"type\":\"surface\"}],\"table\":[{\"cells\":{\"fill\":{\"color\":\"#EBF0F8\"},\"line\":{\"color\":\"white\"}},\"header\":{\"fill\":{\"color\":\"#C8D4E3\"},\"line\":{\"color\":\"white\"}},\"type\":\"table\"}]},\"layout\":{\"annotationdefaults\":{\"arrowcolor\":\"#2a3f5f\",\"arrowhead\":0,\"arrowwidth\":1},\"autotypenumbers\":\"strict\",\"coloraxis\":{\"colorbar\":{\"outlinewidth\":0,\"ticks\":\"\"}},\"colorscale\":{\"diverging\":[[0,\"#8e0152\"],[0.1,\"#c51b7d\"],[0.2,\"#de77ae\"],[0.3,\"#f1b6da\"],[0.4,\"#fde0ef\"],[0.5,\"#f7f7f7\"],[0.6,\"#e6f5d0\"],[0.7,\"#b8e186\"],[0.8,\"#7fbc41\"],[0.9,\"#4d9221\"],[1,\"#276419\"]],\"sequential\":[[0.0,\"#0d0887\"],[0.1111111111111111,\"#46039f\"],[0.2222222222222222,\"#7201a8\"],[0.3333333333333333,\"#9c179e\"],[0.4444444444444444,\"#bd3786\"],[0.5555555555555556,\"#d8576b\"],[0.6666666666666666,\"#ed7953\"],[0.7777777777777778,\"#fb9f3a\"],[0.8888888888888888,\"#fdca26\"],[1.0,\"#f0f921\"]],\"sequentialminus\":[[0.0,\"#0d0887\"],[0.1111111111111111,\"#46039f\"],[0.2222222222222222,\"#7201a8\"],[0.3333333333333333,\"#9c179e\"],[0.4444444444444444,\"#bd3786\"],[0.5555555555555556,\"#d8576b\"],[0.6666666666666666,\"#ed7953\"],[0.7777777777777778,\"#fb9f3a\"],[0.8888888888888888,\"#fdca26\"],[1.0,\"#f0f921\"]]},\"colorway\":[\"#636efa\",\"#EF553B\",\"#00cc96\",\"#ab63fa\",\"#FFA15A\",\"#19d3f3\",\"#FF6692\",\"#B6E880\",\"#FF97FF\",\"#FECB52\"],\"font\":{\"color\":\"#2a3f5f\"},\"geo\":{\"bgcolor\":\"white\",\"lakecolor\":\"white\",\"landcolor\":\"#E5ECF6\",\"showlakes\":true,\"showland\":true,\"subunitcolor\":\"white\"},\"hoverlabel\":{\"align\":\"left\"},\"hovermode\":\"closest\",\"mapbox\":{\"style\":\"light\"},\"paper_bgcolor\":\"white\",\"plot_bgcolor\":\"#E5ECF6\",\"polar\":{\"angularaxis\":{\"gridcolor\":\"white\",\"linecolor\":\"white\",\"ticks\":\"\"},\"bgcolor\":\"#E5ECF6\",\"radialaxis\":{\"gridcolor\":\"white\",\"linecolor\":\"white\",\"ticks\":\"\"}},\"scene\":{\"xaxis\":{\"backgroundcolor\":\"#E5ECF6\",\"gridcolor\":\"white\",\"gridwidth\":2,\"linecolor\":\"white\",\"showbackground\":true,\"ticks\":\"\",\"zerolinecolor\":\"white\"},\"yaxis\":{\"backgroundcolor\":\"#E5ECF6\",\"gridcolor\":\"white\",\"gridwidth\":2,\"linecolor\":\"white\",\"showbackground\":true,\"ticks\":\"\",\"zerolinecolor\":\"white\"},\"zaxis\":{\"backgroundcolor\":\"#E5ECF6\",\"gridcolor\":\"white\",\"gridwidth\":2,\"linecolor\":\"white\",\"showbackground\":true,\"ticks\":\"\",\"zerolinecolor\":\"white\"}},\"shapedefaults\":{\"line\":{\"color\":\"#2a3f5f\"}},\"ternary\":{\"aaxis\":{\"gridcolor\":\"white\",\"linecolor\":\"white\",\"ticks\":\"\"},\"baxis\":{\"gridcolor\":\"white\",\"linecolor\":\"white\",\"ticks\":\"\"},\"bgcolor\":\"#E5ECF6\",\"caxis\":{\"gridcolor\":\"white\",\"linecolor\":\"white\",\"ticks\":\"\"}},\"title\":{\"x\":0.05},\"xaxis\":{\"automargin\":true,\"gridcolor\":\"white\",\"linecolor\":\"white\",\"ticks\":\"\",\"title\":{\"standoff\":15},\"zerolinecolor\":\"white\",\"zerolinewidth\":2},\"yaxis\":{\"automargin\":true,\"gridcolor\":\"white\",\"linecolor\":\"white\",\"ticks\":\"\",\"title\":{\"standoff\":15},\"zerolinecolor\":\"white\",\"zerolinewidth\":2}}},\"title\":{\"text\":\"CO2 emissions by country and year\"},\"width\":1500,\"xaxis\":{\"title\":{\"text\":\"Year\"}},\"yaxis\":{\"title\":{\"text\":\"CO2 Emissions\"}}},                        {\"responsive\": true}                    ).then(function(){\n",
       "                            \n",
       "var gd = document.getElementById('95bfb756-2bf4-412b-8356-4e212359eb11');\n",
       "var x = new MutationObserver(function (mutations, observer) {{\n",
       "        var display = window.getComputedStyle(gd).display;\n",
       "        if (!display || display === 'none') {{\n",
       "            console.log([gd, 'removed!']);\n",
       "            Plotly.purge(gd);\n",
       "            observer.disconnect();\n",
       "        }}\n",
       "}});\n",
       "\n",
       "// Listen for the removal of the full notebook cells\n",
       "var notebookContainer = gd.closest('#notebook-container');\n",
       "if (notebookContainer) {{\n",
       "    x.observe(notebookContainer, {childList: true});\n",
       "}}\n",
       "\n",
       "// Listen for the clearing of the current output cell\n",
       "var outputEl = gd.closest('.output');\n",
       "if (outputEl) {{\n",
       "    x.observe(outputEl, {childList: true});\n",
       "}}\n",
       "\n",
       "                        })                };                });            </script>        </div>"
      ]
     },
     "metadata": {},
     "output_type": "display_data"
    }
   ],
   "source": [
    "fig = go.Figure()\n",
    "for country in CO2_countries:\n",
    "    country_data = HFC_df[HFC_df[\"Country or Area\"] == country] \n",
    "    fig.add_trace(go.Scatter(x = country_data[\"Year\"], y = country_data[\"Value\"], mode = \"lines\", name = country))\n",
    "\n",
    "fig.update_layout(autosize=False,\n",
    "    width=1500,\n",
    "    height=500,\n",
    "    title = \"CO2 emissions by country and year\", \n",
    "    xaxis_title = \"Year\", \n",
    "    yaxis_title = \"CO2 Emissions\")\n",
    "\n",
    "\n",
    "fig.show()"
   ]
  },
  {
   "cell_type": "code",
   "execution_count": null,
   "id": "ba769a6f-3ae0-4ab1-95cb-7f7d49f988a0",
   "metadata": {},
   "outputs": [],
   "source": []
  },
  {
   "cell_type": "markdown",
   "id": "7b0ef3e3-d78e-4e40-91e2-1eb09e1b83a1",
   "metadata": {},
   "source": [
    "### Globaltemp File"
   ]
  },
  {
   "cell_type": "code",
   "execution_count": 15,
   "id": "24148349-c405-4ba2-858b-72fc69748867",
   "metadata": {},
   "outputs": [
    {
     "name": "stderr",
     "output_type": "stream",
     "text": [
      "                                                                                \r"
     ]
    },
    {
     "name": "stdout",
     "output_type": "stream",
     "text": [
      "+----------+------------------+-----------------------------+-----+-------+--------+---------+\n",
      "|        dt|AverageTemperature|AverageTemperatureUncertainty| City|Country|Latitude|Longitude|\n",
      "+----------+------------------+-----------------------------+-----+-------+--------+---------+\n",
      "|1743-11-01|             6.068|           1.7369999999999999|Århus|Denmark|  57.05N|   10.33E|\n",
      "|1743-12-01|              null|                         null|Århus|Denmark|  57.05N|   10.33E|\n",
      "+----------+------------------+-----------------------------+-----+-------+--------+---------+\n",
      "only showing top 2 rows\n",
      "\n"
     ]
    }
   ],
   "source": [
    "spark_read_csv(globaltemps_paths[0]).show(2)"
   ]
  },
  {
   "cell_type": "code",
   "execution_count": 16,
   "id": "06313326-3ac5-4307-852c-882be55ce463",
   "metadata": {},
   "outputs": [
    {
     "name": "stderr",
     "output_type": "stream",
     "text": [
      "                                                                                \r"
     ]
    },
    {
     "data": {
      "text/plain": [
       "{'GlobalLandTemperaturesByCity': 8599212,\n",
       " 'GlobalLandTemperaturesByCountry': 577462,\n",
       " 'GlobalLandTemperaturesByMajorCity': 239177,\n",
       " 'GlobalLandTemperaturesByState': 645675,\n",
       " 'GlobalTemperatures': 3192}"
      ]
     },
     "execution_count": 16,
     "metadata": {},
     "output_type": "execute_result"
    }
   ],
   "source": [
    "globaltemps_count = {Path(file).stem:(spark_read_csv(file)).count() for file in globaltemps_paths}\n",
    "globaltemps_count"
   ]
  },
  {
   "cell_type": "code",
   "execution_count": 17,
   "id": "4ce4aba4-8fa6-4b24-bc94-2b30e702a17f",
   "metadata": {},
   "outputs": [
    {
     "name": "stderr",
     "output_type": "stream",
     "text": [
      "                                                                                \r"
     ]
    }
   ],
   "source": [
    "cities = spark_read_csv(globaltemps_paths[0])\n",
    "country = spark_read_csv(globaltemps_paths[1])\n",
    "majorcity = spark_read_csv(globaltemps_paths[2])\n",
    "state = spark_read_csv(globaltemps_paths[3])\n",
    "globaltemps = spark_read_csv(globaltemps_paths[4])\n",
    "\n",
    "temp_df_list = [cities,country,majorcity,state,globaltemps]"
   ]
  },
  {
   "cell_type": "code",
   "execution_count": 18,
   "id": "fdc67252-a0ca-4159-adca-4d35f7ffeab2",
   "metadata": {},
   "outputs": [
    {
     "name": "stdout",
     "output_type": "stream",
     "text": [
      "----------------------\n",
      "root\n",
      " |-- dt: string (nullable = true)\n",
      " |-- AverageTemperature: double (nullable = true)\n",
      " |-- AverageTemperatureUncertainty: double (nullable = true)\n",
      " |-- City: string (nullable = true)\n",
      " |-- Country: string (nullable = true)\n",
      " |-- Latitude: string (nullable = true)\n",
      " |-- Longitude: string (nullable = true)\n",
      "\n",
      "None\n"
     ]
    },
    {
     "name": "stderr",
     "output_type": "stream",
     "text": [
      "                                                                                \r"
     ]
    },
    {
     "name": "stdout",
     "output_type": "stream",
     "text": [
      "There are 8599212 rows\n",
      "----------------------\n",
      "root\n",
      " |-- dt: string (nullable = true)\n",
      " |-- AverageTemperature: double (nullable = true)\n",
      " |-- AverageTemperatureUncertainty: double (nullable = true)\n",
      " |-- Country: string (nullable = true)\n",
      "\n",
      "None\n",
      "There are 577462 rows\n",
      "----------------------\n",
      "root\n",
      " |-- dt: string (nullable = true)\n",
      " |-- AverageTemperature: double (nullable = true)\n",
      " |-- AverageTemperatureUncertainty: double (nullable = true)\n",
      " |-- City: string (nullable = true)\n",
      " |-- Country: string (nullable = true)\n",
      " |-- Latitude: string (nullable = true)\n",
      " |-- Longitude: string (nullable = true)\n",
      "\n",
      "None\n",
      "There are 239177 rows\n",
      "----------------------\n",
      "root\n",
      " |-- dt: string (nullable = true)\n",
      " |-- AverageTemperature: double (nullable = true)\n",
      " |-- AverageTemperatureUncertainty: double (nullable = true)\n",
      " |-- State: string (nullable = true)\n",
      " |-- Country: string (nullable = true)\n",
      "\n",
      "None\n",
      "There are 645675 rows\n",
      "----------------------\n",
      "root\n",
      " |-- dt: string (nullable = true)\n",
      " |-- LandAverageTemperature: double (nullable = true)\n",
      " |-- LandAverageTemperatureUncertainty: double (nullable = true)\n",
      " |-- LandMaxTemperature: double (nullable = true)\n",
      " |-- LandMaxTemperatureUncertainty: double (nullable = true)\n",
      " |-- LandMinTemperature: double (nullable = true)\n",
      " |-- LandMinTemperatureUncertainty: double (nullable = true)\n",
      " |-- LandAndOceanAverageTemperature: double (nullable = true)\n",
      " |-- LandAndOceanAverageTemperatureUncertainty: double (nullable = true)\n",
      "\n",
      "None\n",
      "There are 3192 rows\n"
     ]
    },
    {
     "data": {
      "text/plain": [
       "[None, None, None, None, None]"
      ]
     },
     "execution_count": 18,
     "metadata": {},
     "output_type": "execute_result"
    }
   ],
   "source": [
    "[dataframe_summary(df) for df in temp_df_list]"
   ]
  },
  {
   "cell_type": "code",
   "execution_count": null,
   "id": "375badbf-b146-4bc0-a48a-2630abb5000e",
   "metadata": {},
   "outputs": [],
   "source": []
  },
  {
   "cell_type": "code",
   "execution_count": null,
   "id": "fee3f0ca-51db-4efa-b95c-13474d1c65ec",
   "metadata": {},
   "outputs": [],
   "source": []
  },
  {
   "cell_type": "code",
   "execution_count": null,
   "id": "b8b4fca5-1e7d-437f-9641-cee05c1972dd",
   "metadata": {},
   "outputs": [],
   "source": []
  },
  {
   "cell_type": "code",
   "execution_count": null,
   "id": "8769d39f-83b6-4a49-b877-fd54578c3198",
   "metadata": {},
   "outputs": [],
   "source": []
  },
  {
   "cell_type": "code",
   "execution_count": null,
   "id": "e77779fc-d84a-4b9a-867b-d9a478738438",
   "metadata": {},
   "outputs": [],
   "source": []
  }
 ],
 "metadata": {
  "kernelspec": {
   "display_name": "ml",
   "language": "python",
   "name": "ml"
  },
  "language_info": {
   "codemirror_mode": {
    "name": "ipython",
    "version": 3
   },
   "file_extension": ".py",
   "mimetype": "text/x-python",
   "name": "python",
   "nbconvert_exporter": "python",
   "pygments_lexer": "ipython3",
   "version": "3.9.7"
  }
 },
 "nbformat": 4,
 "nbformat_minor": 5
}
